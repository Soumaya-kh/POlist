{
 "cells": [
  {
   "cell_type": "code",
   "execution_count": 1,
   "id": "c4a7fb9d",
   "metadata": {
    "collapsed": true
   },
   "outputs": [
    {
     "name": "stdout",
     "output_type": "stream",
     "text": [
      "Requirement already satisfied: nb_black in /home/soumaya/anaconda3/envs/openclassrooms/lib/python3.8/site-packages (1.0.7)\n",
      "Requirement already satisfied: ipython in /home/soumaya/anaconda3/envs/openclassrooms/lib/python3.8/site-packages (from nb_black) (7.22.0)\n",
      "Requirement already satisfied: black>='19.3' in /home/soumaya/anaconda3/envs/openclassrooms/lib/python3.8/site-packages (from nb_black) (19.10b0)\n",
      "Requirement already satisfied: appdirs in /home/soumaya/anaconda3/envs/openclassrooms/lib/python3.8/site-packages (from black>='19.3'->nb_black) (1.4.4)\n",
      "Requirement already satisfied: regex in /home/soumaya/anaconda3/envs/openclassrooms/lib/python3.8/site-packages (from black>='19.3'->nb_black) (2021.4.4)\n",
      "Requirement already satisfied: toml>=0.9.4 in /home/soumaya/anaconda3/envs/openclassrooms/lib/python3.8/site-packages (from black>='19.3'->nb_black) (0.10.2)\n",
      "Requirement already satisfied: attrs>=18.1.0 in /home/soumaya/anaconda3/envs/openclassrooms/lib/python3.8/site-packages (from black>='19.3'->nb_black) (20.3.0)\n",
      "Requirement already satisfied: click>=6.5 in /home/soumaya/anaconda3/envs/openclassrooms/lib/python3.8/site-packages (from black>='19.3'->nb_black) (7.1.2)\n",
      "Requirement already satisfied: typed-ast>=1.4.0 in /home/soumaya/anaconda3/envs/openclassrooms/lib/python3.8/site-packages (from black>='19.3'->nb_black) (1.4.2)\n",
      "Requirement already satisfied: pathspec<1,>=0.6 in /home/soumaya/anaconda3/envs/openclassrooms/lib/python3.8/site-packages (from black>='19.3'->nb_black) (0.7.0)\n",
      "Requirement already satisfied: setuptools>=18.5 in /home/soumaya/anaconda3/envs/openclassrooms/lib/python3.8/site-packages (from ipython->nb_black) (52.0.0.post20210125)\n",
      "Requirement already satisfied: pygments in /home/soumaya/anaconda3/envs/openclassrooms/lib/python3.8/site-packages (from ipython->nb_black) (2.8.1)\n",
      "Requirement already satisfied: pickleshare in /home/soumaya/anaconda3/envs/openclassrooms/lib/python3.8/site-packages (from ipython->nb_black) (0.7.5)\n",
      "Requirement already satisfied: backcall in /home/soumaya/anaconda3/envs/openclassrooms/lib/python3.8/site-packages (from ipython->nb_black) (0.2.0)\n",
      "Requirement already satisfied: jedi>=0.16 in /home/soumaya/anaconda3/envs/openclassrooms/lib/python3.8/site-packages (from ipython->nb_black) (0.17.2)\n",
      "Requirement already satisfied: prompt-toolkit!=3.0.0,!=3.0.1,<3.1.0,>=2.0.0 in /home/soumaya/anaconda3/envs/openclassrooms/lib/python3.8/site-packages (from ipython->nb_black) (3.0.17)\n",
      "Requirement already satisfied: pexpect>4.3 in /home/soumaya/anaconda3/envs/openclassrooms/lib/python3.8/site-packages (from ipython->nb_black) (4.8.0)\n",
      "Requirement already satisfied: decorator in /home/soumaya/anaconda3/envs/openclassrooms/lib/python3.8/site-packages (from ipython->nb_black) (5.0.6)\n",
      "Requirement already satisfied: traitlets>=4.2 in /home/soumaya/anaconda3/envs/openclassrooms/lib/python3.8/site-packages (from ipython->nb_black) (5.0.5)\n",
      "Requirement already satisfied: parso<0.8.0,>=0.7.0 in /home/soumaya/anaconda3/envs/openclassrooms/lib/python3.8/site-packages (from jedi>=0.16->ipython->nb_black) (0.7.0)\n",
      "Requirement already satisfied: ptyprocess>=0.5 in /home/soumaya/anaconda3/envs/openclassrooms/lib/python3.8/site-packages (from pexpect>4.3->ipython->nb_black) (0.7.0)\n",
      "Requirement already satisfied: wcwidth in /home/soumaya/anaconda3/envs/openclassrooms/lib/python3.8/site-packages (from prompt-toolkit!=3.0.0,!=3.0.1,<3.1.0,>=2.0.0->ipython->nb_black) (0.2.5)\n",
      "Requirement already satisfied: ipython-genutils in /home/soumaya/anaconda3/envs/openclassrooms/lib/python3.8/site-packages (from traitlets>=4.2->ipython->nb_black) (0.2.0)\n",
      "Note: you may need to restart the kernel to use updated packages.\n"
     ]
    }
   ],
   "source": [
    "pip install nb_black"
   ]
  },
  {
   "cell_type": "code",
   "execution_count": 2,
   "id": "e2ad27a4",
   "metadata": {},
   "outputs": [
    {
     "data": {
      "application/javascript": [
       "\n",
       "            setTimeout(function() {\n",
       "                var nbb_cell_id = 2;\n",
       "                var nbb_unformatted_code = \"%load_ext nb_black\";\n",
       "                var nbb_formatted_code = \"%load_ext nb_black\";\n",
       "                var nbb_cells = Jupyter.notebook.get_cells();\n",
       "                for (var i = 0; i < nbb_cells.length; ++i) {\n",
       "                    if (nbb_cells[i].input_prompt_number == nbb_cell_id) {\n",
       "                        if (nbb_cells[i].get_text() == nbb_unformatted_code) {\n",
       "                             nbb_cells[i].set_text(nbb_formatted_code);\n",
       "                        }\n",
       "                        break;\n",
       "                    }\n",
       "                }\n",
       "            }, 500);\n",
       "            "
      ],
      "text/plain": [
       "<IPython.core.display.Javascript object>"
      ]
     },
     "metadata": {},
     "output_type": "display_data"
    }
   ],
   "source": [
    "%load_ext nb_black"
   ]
  },
  {
   "cell_type": "code",
   "execution_count": 3,
   "id": "80ac5c2f",
   "metadata": {},
   "outputs": [
    {
     "data": {
      "application/javascript": [
       "\n",
       "            setTimeout(function() {\n",
       "                var nbb_cell_id = 3;\n",
       "                var nbb_unformatted_code = \"import pandas as pd\\nimport numpy as np\\nimport matplotlib.pyplot as plt\\nimport my_module as my\\nimport seaborn as sns\\nfrom datetime import *\\nimport time\\nfrom datetime import timedelta, date\";\n",
       "                var nbb_formatted_code = \"import pandas as pd\\nimport numpy as np\\nimport matplotlib.pyplot as plt\\nimport my_module as my\\nimport seaborn as sns\\nfrom datetime import *\\nimport time\\nfrom datetime import timedelta, date\";\n",
       "                var nbb_cells = Jupyter.notebook.get_cells();\n",
       "                for (var i = 0; i < nbb_cells.length; ++i) {\n",
       "                    if (nbb_cells[i].input_prompt_number == nbb_cell_id) {\n",
       "                        if (nbb_cells[i].get_text() == nbb_unformatted_code) {\n",
       "                             nbb_cells[i].set_text(nbb_formatted_code);\n",
       "                        }\n",
       "                        break;\n",
       "                    }\n",
       "                }\n",
       "            }, 500);\n",
       "            "
      ],
      "text/plain": [
       "<IPython.core.display.Javascript object>"
      ]
     },
     "metadata": {},
     "output_type": "display_data"
    }
   ],
   "source": [
    "import pandas as pd\n",
    "import numpy as np\n",
    "import matplotlib.pyplot as plt\n",
    "import my_module as my\n",
    "import seaborn as sns\n",
    "from datetime import *\n",
    "import time\n",
    "from datetime import timedelta, date"
   ]
  },
  {
   "cell_type": "code",
   "execution_count": 4,
   "id": "bd8aa8e2",
   "metadata": {},
   "outputs": [
    {
     "data": {
      "application/javascript": [
       "\n",
       "            setTimeout(function() {\n",
       "                var nbb_cell_id = 4;\n",
       "                var nbb_unformatted_code = \"df = pd.read_csv('df.csv')\";\n",
       "                var nbb_formatted_code = \"df = pd.read_csv(\\\"df.csv\\\")\";\n",
       "                var nbb_cells = Jupyter.notebook.get_cells();\n",
       "                for (var i = 0; i < nbb_cells.length; ++i) {\n",
       "                    if (nbb_cells[i].input_prompt_number == nbb_cell_id) {\n",
       "                        if (nbb_cells[i].get_text() == nbb_unformatted_code) {\n",
       "                             nbb_cells[i].set_text(nbb_formatted_code);\n",
       "                        }\n",
       "                        break;\n",
       "                    }\n",
       "                }\n",
       "            }, 500);\n",
       "            "
      ],
      "text/plain": [
       "<IPython.core.display.Javascript object>"
      ]
     },
     "metadata": {},
     "output_type": "display_data"
    }
   ],
   "source": [
    "df = pd.read_csv(\"df.csv\")"
   ]
  },
  {
   "cell_type": "code",
   "execution_count": 5,
   "id": "d2820973",
   "metadata": {},
   "outputs": [
    {
     "data": {
      "text/plain": [
       "(118393, 21)"
      ]
     },
     "execution_count": 5,
     "metadata": {},
     "output_type": "execute_result"
    },
    {
     "data": {
      "application/javascript": [
       "\n",
       "            setTimeout(function() {\n",
       "                var nbb_cell_id = 5;\n",
       "                var nbb_unformatted_code = \"df.shape\";\n",
       "                var nbb_formatted_code = \"df.shape\";\n",
       "                var nbb_cells = Jupyter.notebook.get_cells();\n",
       "                for (var i = 0; i < nbb_cells.length; ++i) {\n",
       "                    if (nbb_cells[i].input_prompt_number == nbb_cell_id) {\n",
       "                        if (nbb_cells[i].get_text() == nbb_unformatted_code) {\n",
       "                             nbb_cells[i].set_text(nbb_formatted_code);\n",
       "                        }\n",
       "                        break;\n",
       "                    }\n",
       "                }\n",
       "            }, 500);\n",
       "            "
      ],
      "text/plain": [
       "<IPython.core.display.Javascript object>"
      ]
     },
     "metadata": {},
     "output_type": "display_data"
    }
   ],
   "source": [
    "df.shape"
   ]
  },
  {
   "cell_type": "code",
   "execution_count": 6,
   "id": "0751c6e5",
   "metadata": {},
   "outputs": [
    {
     "data": {
      "text/html": [
       "<div>\n",
       "<style scoped>\n",
       "    .dataframe tbody tr th:only-of-type {\n",
       "        vertical-align: middle;\n",
       "    }\n",
       "\n",
       "    .dataframe tbody tr th {\n",
       "        vertical-align: top;\n",
       "    }\n",
       "\n",
       "    .dataframe thead th {\n",
       "        text-align: right;\n",
       "    }\n",
       "</style>\n",
       "<table border=\"1\" class=\"dataframe\">\n",
       "  <thead>\n",
       "    <tr style=\"text-align: right;\">\n",
       "      <th></th>\n",
       "      <th>variable name</th>\n",
       "      <th>variable type</th>\n",
       "      <th>nbr of distinct values</th>\n",
       "      <th>percentage of NaNs</th>\n",
       "    </tr>\n",
       "  </thead>\n",
       "  <tbody>\n",
       "    <tr>\n",
       "      <th>0</th>\n",
       "      <td>Unnamed: 0</td>\n",
       "      <td>int64</td>\n",
       "      <td>118393</td>\n",
       "      <td>0.0 %</td>\n",
       "    </tr>\n",
       "    <tr>\n",
       "      <th>1</th>\n",
       "      <td>customer_id</td>\n",
       "      <td>object</td>\n",
       "      <td>98816</td>\n",
       "      <td>0.0 %</td>\n",
       "    </tr>\n",
       "    <tr>\n",
       "      <th>2</th>\n",
       "      <td>customer_unique_id</td>\n",
       "      <td>object</td>\n",
       "      <td>95560</td>\n",
       "      <td>0.0 %</td>\n",
       "    </tr>\n",
       "    <tr>\n",
       "      <th>3</th>\n",
       "      <td>order_id</td>\n",
       "      <td>object</td>\n",
       "      <td>98816</td>\n",
       "      <td>0.0 %</td>\n",
       "    </tr>\n",
       "    <tr>\n",
       "      <th>4</th>\n",
       "      <td>order_date</td>\n",
       "      <td>object</td>\n",
       "      <td>98257</td>\n",
       "      <td>0.0 %</td>\n",
       "    </tr>\n",
       "    <tr>\n",
       "      <th>5</th>\n",
       "      <td>review_score</td>\n",
       "      <td>float64</td>\n",
       "      <td>5</td>\n",
       "      <td>0.0 %</td>\n",
       "    </tr>\n",
       "    <tr>\n",
       "      <th>6</th>\n",
       "      <td>payment_sequential</td>\n",
       "      <td>float64</td>\n",
       "      <td>29</td>\n",
       "      <td>0.0 %</td>\n",
       "    </tr>\n",
       "    <tr>\n",
       "      <th>7</th>\n",
       "      <td>payment_type</td>\n",
       "      <td>object</td>\n",
       "      <td>4</td>\n",
       "      <td>0.0 %</td>\n",
       "    </tr>\n",
       "    <tr>\n",
       "      <th>8</th>\n",
       "      <td>payment_installments</td>\n",
       "      <td>float64</td>\n",
       "      <td>24</td>\n",
       "      <td>0.0 %</td>\n",
       "    </tr>\n",
       "    <tr>\n",
       "      <th>9</th>\n",
       "      <td>payment_value</td>\n",
       "      <td>float64</td>\n",
       "      <td>28961</td>\n",
       "      <td>0.0 %</td>\n",
       "    </tr>\n",
       "    <tr>\n",
       "      <th>10</th>\n",
       "      <td>freight_value</td>\n",
       "      <td>float64</td>\n",
       "      <td>6985</td>\n",
       "      <td>0.0 %</td>\n",
       "    </tr>\n",
       "    <tr>\n",
       "      <th>11</th>\n",
       "      <td>category_name</td>\n",
       "      <td>object</td>\n",
       "      <td>71</td>\n",
       "      <td>0.0 %</td>\n",
       "    </tr>\n",
       "    <tr>\n",
       "      <th>12</th>\n",
       "      <td>evaluateur</td>\n",
       "      <td>int64</td>\n",
       "      <td>19</td>\n",
       "      <td>0.0 %</td>\n",
       "    </tr>\n",
       "    <tr>\n",
       "      <th>13</th>\n",
       "      <td>reactivite</td>\n",
       "      <td>float64</td>\n",
       "      <td>214</td>\n",
       "      <td>0.0 %</td>\n",
       "    </tr>\n",
       "    <tr>\n",
       "      <th>14</th>\n",
       "      <td>distance_clientVendeur</td>\n",
       "      <td>float64</td>\n",
       "      <td>63596</td>\n",
       "      <td>0.0 %</td>\n",
       "    </tr>\n",
       "    <tr>\n",
       "      <th>15</th>\n",
       "      <td>order_hour</td>\n",
       "      <td>int64</td>\n",
       "      <td>24</td>\n",
       "      <td>0.0 %</td>\n",
       "    </tr>\n",
       "    <tr>\n",
       "      <th>16</th>\n",
       "      <td>order_day</td>\n",
       "      <td>int64</td>\n",
       "      <td>31</td>\n",
       "      <td>0.0 %</td>\n",
       "    </tr>\n",
       "    <tr>\n",
       "      <th>17</th>\n",
       "      <td>order_weekday</td>\n",
       "      <td>int64</td>\n",
       "      <td>7</td>\n",
       "      <td>0.0 %</td>\n",
       "    </tr>\n",
       "    <tr>\n",
       "      <th>18</th>\n",
       "      <td>order_month</td>\n",
       "      <td>int64</td>\n",
       "      <td>12</td>\n",
       "      <td>0.0 %</td>\n",
       "    </tr>\n",
       "    <tr>\n",
       "      <th>19</th>\n",
       "      <td>order_year</td>\n",
       "      <td>int64</td>\n",
       "      <td>3</td>\n",
       "      <td>0.0 %</td>\n",
       "    </tr>\n",
       "    <tr>\n",
       "      <th>20</th>\n",
       "      <td>purchase_weekend</td>\n",
       "      <td>int64</td>\n",
       "      <td>2</td>\n",
       "      <td>0.0 %</td>\n",
       "    </tr>\n",
       "  </tbody>\n",
       "</table>\n",
       "</div>"
      ],
      "text/plain": [
       "             variable name variable type nbr of distinct values  \\\n",
       "0               Unnamed: 0         int64                 118393   \n",
       "1              customer_id        object                  98816   \n",
       "2       customer_unique_id        object                  95560   \n",
       "3                 order_id        object                  98816   \n",
       "4               order_date        object                  98257   \n",
       "5             review_score       float64                      5   \n",
       "6       payment_sequential       float64                     29   \n",
       "7             payment_type        object                      4   \n",
       "8     payment_installments       float64                     24   \n",
       "9            payment_value       float64                  28961   \n",
       "10           freight_value       float64                   6985   \n",
       "11           category_name        object                     71   \n",
       "12              evaluateur         int64                     19   \n",
       "13              reactivite       float64                    214   \n",
       "14  distance_clientVendeur       float64                  63596   \n",
       "15              order_hour         int64                     24   \n",
       "16               order_day         int64                     31   \n",
       "17           order_weekday         int64                      7   \n",
       "18             order_month         int64                     12   \n",
       "19              order_year         int64                      3   \n",
       "20        purchase_weekend         int64                      2   \n",
       "\n",
       "   percentage of NaNs  \n",
       "0               0.0 %  \n",
       "1               0.0 %  \n",
       "2               0.0 %  \n",
       "3               0.0 %  \n",
       "4               0.0 %  \n",
       "5               0.0 %  \n",
       "6               0.0 %  \n",
       "7               0.0 %  \n",
       "8               0.0 %  \n",
       "9               0.0 %  \n",
       "10              0.0 %  \n",
       "11              0.0 %  \n",
       "12              0.0 %  \n",
       "13              0.0 %  \n",
       "14              0.0 %  \n",
       "15              0.0 %  \n",
       "16              0.0 %  \n",
       "17              0.0 %  \n",
       "18              0.0 %  \n",
       "19              0.0 %  \n",
       "20              0.0 %  "
      ]
     },
     "execution_count": 6,
     "metadata": {},
     "output_type": "execute_result"
    },
    {
     "data": {
      "application/javascript": [
       "\n",
       "            setTimeout(function() {\n",
       "                var nbb_cell_id = 6;\n",
       "                var nbb_unformatted_code = \"my.variable_survey(df)\";\n",
       "                var nbb_formatted_code = \"my.variable_survey(df)\";\n",
       "                var nbb_cells = Jupyter.notebook.get_cells();\n",
       "                for (var i = 0; i < nbb_cells.length; ++i) {\n",
       "                    if (nbb_cells[i].input_prompt_number == nbb_cell_id) {\n",
       "                        if (nbb_cells[i].get_text() == nbb_unformatted_code) {\n",
       "                             nbb_cells[i].set_text(nbb_formatted_code);\n",
       "                        }\n",
       "                        break;\n",
       "                    }\n",
       "                }\n",
       "            }, 500);\n",
       "            "
      ],
      "text/plain": [
       "<IPython.core.display.Javascript object>"
      ]
     },
     "metadata": {},
     "output_type": "display_data"
    }
   ],
   "source": [
    "my.variable_survey(df)"
   ]
  },
  {
   "cell_type": "code",
   "execution_count": 7,
   "id": "5dc0c3f7",
   "metadata": {},
   "outputs": [
    {
     "data": {
      "application/javascript": [
       "\n",
       "            setTimeout(function() {\n",
       "                var nbb_cell_id = 7;\n",
       "                var nbb_unformatted_code = \"df['order_date']= pd.to_datetime(df['order_date'])\";\n",
       "                var nbb_formatted_code = \"df[\\\"order_date\\\"] = pd.to_datetime(df[\\\"order_date\\\"])\";\n",
       "                var nbb_cells = Jupyter.notebook.get_cells();\n",
       "                for (var i = 0; i < nbb_cells.length; ++i) {\n",
       "                    if (nbb_cells[i].input_prompt_number == nbb_cell_id) {\n",
       "                        if (nbb_cells[i].get_text() == nbb_unformatted_code) {\n",
       "                             nbb_cells[i].set_text(nbb_formatted_code);\n",
       "                        }\n",
       "                        break;\n",
       "                    }\n",
       "                }\n",
       "            }, 500);\n",
       "            "
      ],
      "text/plain": [
       "<IPython.core.display.Javascript object>"
      ]
     },
     "metadata": {},
     "output_type": "display_data"
    }
   ],
   "source": [
    "df[\"order_date\"] = pd.to_datetime(df[\"order_date\"])"
   ]
  },
  {
   "cell_type": "code",
   "execution_count": 8,
   "id": "544c4d70",
   "metadata": {},
   "outputs": [
    {
     "name": "stdout",
     "output_type": "stream",
     "text": [
      "                     customer_unique_id  order_id\n",
      "0      0000366f3b9a7992bf8c76cfdf3221e2         1\n",
      "1      0000b849f77a49e4a4ce2b2a4ca5be3f         1\n",
      "2      0000f46a3911fa3c0805444483337064         1\n",
      "3      0000f6ccb0745a6a4b88665a16c9f078         1\n",
      "4      0004aac84e0df4da2b147fca70cf8255         1\n",
      "...                                 ...       ...\n",
      "95555  fffcf5a5ff07b0908bd4e2dbc735a684         1\n",
      "95556  fffea47cd6d3cc0a88bd621562a9d061         1\n",
      "95557  ffff371b4d645b6ecea244b27531430a         1\n",
      "95558  ffff5962728ec6157033ef9805bacc48         1\n",
      "95559  ffffd2657e2aad2907e67c3e9daecbeb         1\n",
      "\n",
      "[95560 rows x 2 columns]\n"
     ]
    },
    {
     "data": {
      "application/javascript": [
       "\n",
       "            setTimeout(function() {\n",
       "                var nbb_cell_id = 8;\n",
       "                var nbb_unformatted_code = \"grouped_df = df.groupby(\\\"customer_unique_id\\\")\\ngrouped_df = grouped_df.agg({\\\"order_id\\\": \\\"nunique\\\"})\\ngrouped_df = grouped_df.reset_index()\\nprint(grouped_df)\";\n",
       "                var nbb_formatted_code = \"grouped_df = df.groupby(\\\"customer_unique_id\\\")\\ngrouped_df = grouped_df.agg({\\\"order_id\\\": \\\"nunique\\\"})\\ngrouped_df = grouped_df.reset_index()\\nprint(grouped_df)\";\n",
       "                var nbb_cells = Jupyter.notebook.get_cells();\n",
       "                for (var i = 0; i < nbb_cells.length; ++i) {\n",
       "                    if (nbb_cells[i].input_prompt_number == nbb_cell_id) {\n",
       "                        if (nbb_cells[i].get_text() == nbb_unformatted_code) {\n",
       "                             nbb_cells[i].set_text(nbb_formatted_code);\n",
       "                        }\n",
       "                        break;\n",
       "                    }\n",
       "                }\n",
       "            }, 500);\n",
       "            "
      ],
      "text/plain": [
       "<IPython.core.display.Javascript object>"
      ]
     },
     "metadata": {},
     "output_type": "display_data"
    }
   ],
   "source": [
    "grouped_df = df.groupby(\"customer_unique_id\")\n",
    "grouped_df = grouped_df.agg({\"order_id\": \"nunique\"})\n",
    "grouped_df = grouped_df.reset_index()\n",
    "print(grouped_df)"
   ]
  },
  {
   "cell_type": "code",
   "execution_count": 9,
   "id": "618c6798",
   "metadata": {},
   "outputs": [
    {
     "data": {
      "text/plain": [
       "1     92636\n",
       "2      2688\n",
       "3       187\n",
       "4        30\n",
       "5         8\n",
       "6         6\n",
       "7         3\n",
       "9         1\n",
       "17        1\n",
       "Name: order_id, dtype: int64"
      ]
     },
     "execution_count": 9,
     "metadata": {},
     "output_type": "execute_result"
    },
    {
     "data": {
      "application/javascript": [
       "\n",
       "            setTimeout(function() {\n",
       "                var nbb_cell_id = 9;\n",
       "                var nbb_unformatted_code = \"grouped_df['order_id'].value_counts()\";\n",
       "                var nbb_formatted_code = \"grouped_df[\\\"order_id\\\"].value_counts()\";\n",
       "                var nbb_cells = Jupyter.notebook.get_cells();\n",
       "                for (var i = 0; i < nbb_cells.length; ++i) {\n",
       "                    if (nbb_cells[i].input_prompt_number == nbb_cell_id) {\n",
       "                        if (nbb_cells[i].get_text() == nbb_unformatted_code) {\n",
       "                             nbb_cells[i].set_text(nbb_formatted_code);\n",
       "                        }\n",
       "                        break;\n",
       "                    }\n",
       "                }\n",
       "            }, 500);\n",
       "            "
      ],
      "text/plain": [
       "<IPython.core.display.Javascript object>"
      ]
     },
     "metadata": {},
     "output_type": "display_data"
    }
   ],
   "source": [
    "grouped_df[\"order_id\"].value_counts()"
   ]
  },
  {
   "cell_type": "markdown",
   "id": "9f6ecfc6",
   "metadata": {},
   "source": [
    "--> Nous constatons donc que uniquement 3% des clients ont passé plus qu'une seule commande. Donc, dans le test de stabilité de classification des clients, nous décidons de tester cette catégorie de clients. Nous allons aussi rajouter un échantillon de 10% des clients qui ont passé une seule commande. "
   ]
  },
  {
   "cell_type": "code",
   "execution_count": 10,
   "id": "36b2c4a8",
   "metadata": {},
   "outputs": [
    {
     "data": {
      "text/plain": [
       "2924"
      ]
     },
     "execution_count": 10,
     "metadata": {},
     "output_type": "execute_result"
    },
    {
     "data": {
      "application/javascript": [
       "\n",
       "            setTimeout(function() {\n",
       "                var nbb_cell_id = 10;\n",
       "                var nbb_unformatted_code = \"# recuperer la liste des clients qui ont command\\u00e9 plusieurs fois\\ndf_test = grouped_df[grouped_df['order_id']>1]\\nlist_cliMultiCmnd = df_test['customer_unique_id'].to_list()\\nlen(list_cliMultiCmnd)\";\n",
       "                var nbb_formatted_code = \"# recuperer la liste des clients qui ont command\\u00e9 plusieurs fois\\ndf_test = grouped_df[grouped_df[\\\"order_id\\\"] > 1]\\nlist_cliMultiCmnd = df_test[\\\"customer_unique_id\\\"].to_list()\\nlen(list_cliMultiCmnd)\";\n",
       "                var nbb_cells = Jupyter.notebook.get_cells();\n",
       "                for (var i = 0; i < nbb_cells.length; ++i) {\n",
       "                    if (nbb_cells[i].input_prompt_number == nbb_cell_id) {\n",
       "                        if (nbb_cells[i].get_text() == nbb_unformatted_code) {\n",
       "                             nbb_cells[i].set_text(nbb_formatted_code);\n",
       "                        }\n",
       "                        break;\n",
       "                    }\n",
       "                }\n",
       "            }, 500);\n",
       "            "
      ],
      "text/plain": [
       "<IPython.core.display.Javascript object>"
      ]
     },
     "metadata": {},
     "output_type": "display_data"
    }
   ],
   "source": [
    "# recuperer la liste des clients qui ont commandé plusieurs fois\n",
    "df_test = grouped_df[grouped_df[\"order_id\"] > 1]\n",
    "list_cliMultiCmnd = df_test[\"customer_unique_id\"].to_list()\n",
    "len(list_cliMultiCmnd)"
   ]
  },
  {
   "cell_type": "code",
   "execution_count": 11,
   "id": "aabcbf6f",
   "metadata": {},
   "outputs": [
    {
     "data": {
      "text/plain": [
       "(8539, 21)"
      ]
     },
     "execution_count": 11,
     "metadata": {},
     "output_type": "execute_result"
    },
    {
     "data": {
      "application/javascript": [
       "\n",
       "            setTimeout(function() {\n",
       "                var nbb_cell_id = 11;\n",
       "                var nbb_unformatted_code = \"# df contenant uniquement les clients qui ont command\\u00e9 plusieurs fois\\ndf_simulation = df[df['customer_unique_id'].isin(list_cliMultiCmnd)]\\ndf_simulation.shape\";\n",
       "                var nbb_formatted_code = \"# df contenant uniquement les clients qui ont command\\u00e9 plusieurs fois\\ndf_simulation = df[df[\\\"customer_unique_id\\\"].isin(list_cliMultiCmnd)]\\ndf_simulation.shape\";\n",
       "                var nbb_cells = Jupyter.notebook.get_cells();\n",
       "                for (var i = 0; i < nbb_cells.length; ++i) {\n",
       "                    if (nbb_cells[i].input_prompt_number == nbb_cell_id) {\n",
       "                        if (nbb_cells[i].get_text() == nbb_unformatted_code) {\n",
       "                             nbb_cells[i].set_text(nbb_formatted_code);\n",
       "                        }\n",
       "                        break;\n",
       "                    }\n",
       "                }\n",
       "            }, 500);\n",
       "            "
      ],
      "text/plain": [
       "<IPython.core.display.Javascript object>"
      ]
     },
     "metadata": {},
     "output_type": "display_data"
    }
   ],
   "source": [
    "# df contenant uniquement les clients qui ont commandé plusieurs fois\n",
    "df_simulation = df[df[\"customer_unique_id\"].isin(list_cliMultiCmnd)]\n",
    "df_simulation.shape"
   ]
  },
  {
   "cell_type": "code",
   "execution_count": 12,
   "id": "67fe96f0",
   "metadata": {},
   "outputs": [
    {
     "data": {
      "text/plain": [
       "92636"
      ]
     },
     "execution_count": 12,
     "metadata": {},
     "output_type": "execute_result"
    },
    {
     "data": {
      "application/javascript": [
       "\n",
       "            setTimeout(function() {\n",
       "                var nbb_cell_id = 12;\n",
       "                var nbb_unformatted_code = \"# recuperer la liste des clients qui ont command\\u00e9 une seule fois\\ndf_test2 = grouped_df[grouped_df['order_id']==1]\\nlist_cliUneCmnd = df_test2['customer_unique_id'].to_list()\\nlen(list_cliUneCmnd)\";\n",
       "                var nbb_formatted_code = \"# recuperer la liste des clients qui ont command\\u00e9 une seule fois\\ndf_test2 = grouped_df[grouped_df[\\\"order_id\\\"] == 1]\\nlist_cliUneCmnd = df_test2[\\\"customer_unique_id\\\"].to_list()\\nlen(list_cliUneCmnd)\";\n",
       "                var nbb_cells = Jupyter.notebook.get_cells();\n",
       "                for (var i = 0; i < nbb_cells.length; ++i) {\n",
       "                    if (nbb_cells[i].input_prompt_number == nbb_cell_id) {\n",
       "                        if (nbb_cells[i].get_text() == nbb_unformatted_code) {\n",
       "                             nbb_cells[i].set_text(nbb_formatted_code);\n",
       "                        }\n",
       "                        break;\n",
       "                    }\n",
       "                }\n",
       "            }, 500);\n",
       "            "
      ],
      "text/plain": [
       "<IPython.core.display.Javascript object>"
      ]
     },
     "metadata": {},
     "output_type": "display_data"
    }
   ],
   "source": [
    "# recuperer la liste des clients qui ont commandé une seule fois\n",
    "df_test2 = grouped_df[grouped_df[\"order_id\"] == 1]\n",
    "list_cliUneCmnd = df_test2[\"customer_unique_id\"].to_list()\n",
    "len(list_cliUneCmnd)"
   ]
  },
  {
   "cell_type": "code",
   "execution_count": 13,
   "id": "34c2379b",
   "metadata": {},
   "outputs": [
    {
     "data": {
      "text/plain": [
       "(109854, 21)"
      ]
     },
     "execution_count": 13,
     "metadata": {},
     "output_type": "execute_result"
    },
    {
     "data": {
      "application/javascript": [
       "\n",
       "            setTimeout(function() {\n",
       "                var nbb_cell_id = 13;\n",
       "                var nbb_unformatted_code = \"# df des clientts qui ont command\\u00e9 une seule fois\\nall_cli_oneCmd = df[df['customer_unique_id'].isin(list_cliUneCmnd)]\\nall_cli_oneCmd.shape\";\n",
       "                var nbb_formatted_code = \"# df des clientts qui ont command\\u00e9 une seule fois\\nall_cli_oneCmd = df[df[\\\"customer_unique_id\\\"].isin(list_cliUneCmnd)]\\nall_cli_oneCmd.shape\";\n",
       "                var nbb_cells = Jupyter.notebook.get_cells();\n",
       "                for (var i = 0; i < nbb_cells.length; ++i) {\n",
       "                    if (nbb_cells[i].input_prompt_number == nbb_cell_id) {\n",
       "                        if (nbb_cells[i].get_text() == nbb_unformatted_code) {\n",
       "                             nbb_cells[i].set_text(nbb_formatted_code);\n",
       "                        }\n",
       "                        break;\n",
       "                    }\n",
       "                }\n",
       "            }, 500);\n",
       "            "
      ],
      "text/plain": [
       "<IPython.core.display.Javascript object>"
      ]
     },
     "metadata": {},
     "output_type": "display_data"
    }
   ],
   "source": [
    "# df des clientts qui ont commandé une seule fois\n",
    "all_cli_oneCmd = df[df[\"customer_unique_id\"].isin(list_cliUneCmnd)]\n",
    "all_cli_oneCmd.shape"
   ]
  },
  {
   "cell_type": "code",
   "execution_count": 14,
   "id": "d4307c10",
   "metadata": {},
   "outputs": [
    {
     "data": {
      "text/plain": [
       "(32956, 21)"
      ]
     },
     "execution_count": 14,
     "metadata": {},
     "output_type": "execute_result"
    },
    {
     "data": {
      "application/javascript": [
       "\n",
       "            setTimeout(function() {\n",
       "                var nbb_cell_id = 14;\n",
       "                var nbb_unformatted_code = \"#prendre un \\u00e9chantillon de 10% de all_cli_oneCmd\\nsample_cli_oneCmd = all_cli_oneCmd.sample(frac=0.3, random_state=10)\\nsample_cli_oneCmd.shape\";\n",
       "                var nbb_formatted_code = \"# prendre un \\u00e9chantillon de 10% de all_cli_oneCmd\\nsample_cli_oneCmd = all_cli_oneCmd.sample(frac=0.3, random_state=10)\\nsample_cli_oneCmd.shape\";\n",
       "                var nbb_cells = Jupyter.notebook.get_cells();\n",
       "                for (var i = 0; i < nbb_cells.length; ++i) {\n",
       "                    if (nbb_cells[i].input_prompt_number == nbb_cell_id) {\n",
       "                        if (nbb_cells[i].get_text() == nbb_unformatted_code) {\n",
       "                             nbb_cells[i].set_text(nbb_formatted_code);\n",
       "                        }\n",
       "                        break;\n",
       "                    }\n",
       "                }\n",
       "            }, 500);\n",
       "            "
      ],
      "text/plain": [
       "<IPython.core.display.Javascript object>"
      ]
     },
     "metadata": {},
     "output_type": "display_data"
    }
   ],
   "source": [
    "# prendre un échantillon de 10% de all_cli_oneCmd\n",
    "sample_cli_oneCmd = all_cli_oneCmd.sample(frac=0.3, random_state=10)\n",
    "sample_cli_oneCmd.shape"
   ]
  },
  {
   "cell_type": "code",
   "execution_count": 15,
   "id": "552f4e8a",
   "metadata": {},
   "outputs": [
    {
     "data": {
      "application/javascript": [
       "\n",
       "            setTimeout(function() {\n",
       "                var nbb_cell_id = 15;\n",
       "                var nbb_unformatted_code = \"#concatenate dataframes\\ndf_simulation_hetero = pd.concat([sample_cli_oneCmd, df_simulation], ignore_index=True)\";\n",
       "                var nbb_formatted_code = \"# concatenate dataframes\\ndf_simulation_hetero = pd.concat([sample_cli_oneCmd, df_simulation], ignore_index=True)\";\n",
       "                var nbb_cells = Jupyter.notebook.get_cells();\n",
       "                for (var i = 0; i < nbb_cells.length; ++i) {\n",
       "                    if (nbb_cells[i].input_prompt_number == nbb_cell_id) {\n",
       "                        if (nbb_cells[i].get_text() == nbb_unformatted_code) {\n",
       "                             nbb_cells[i].set_text(nbb_formatted_code);\n",
       "                        }\n",
       "                        break;\n",
       "                    }\n",
       "                }\n",
       "            }, 500);\n",
       "            "
      ],
      "text/plain": [
       "<IPython.core.display.Javascript object>"
      ]
     },
     "metadata": {},
     "output_type": "display_data"
    }
   ],
   "source": [
    "# concatenate dataframes\n",
    "df_simulation_hetero = pd.concat([sample_cli_oneCmd, df_simulation], ignore_index=True)"
   ]
  },
  {
   "cell_type": "code",
   "execution_count": 16,
   "id": "f260a26f",
   "metadata": {},
   "outputs": [
    {
     "data": {
      "text/plain": [
       "(41495, 21)"
      ]
     },
     "execution_count": 16,
     "metadata": {},
     "output_type": "execute_result"
    },
    {
     "data": {
      "application/javascript": [
       "\n",
       "            setTimeout(function() {\n",
       "                var nbb_cell_id = 16;\n",
       "                var nbb_unformatted_code = \"df_simulation_hetero.shape\";\n",
       "                var nbb_formatted_code = \"df_simulation_hetero.shape\";\n",
       "                var nbb_cells = Jupyter.notebook.get_cells();\n",
       "                for (var i = 0; i < nbb_cells.length; ++i) {\n",
       "                    if (nbb_cells[i].input_prompt_number == nbb_cell_id) {\n",
       "                        if (nbb_cells[i].get_text() == nbb_unformatted_code) {\n",
       "                             nbb_cells[i].set_text(nbb_formatted_code);\n",
       "                        }\n",
       "                        break;\n",
       "                    }\n",
       "                }\n",
       "            }, 500);\n",
       "            "
      ],
      "text/plain": [
       "<IPython.core.display.Javascript object>"
      ]
     },
     "metadata": {},
     "output_type": "display_data"
    }
   ],
   "source": [
    "df_simulation_hetero.shape"
   ]
  },
  {
   "cell_type": "markdown",
   "id": "dcb2f026",
   "metadata": {},
   "source": [
    "### Test de stabilité de clustering"
   ]
  },
  {
   "cell_type": "code",
   "execution_count": 15,
   "id": "978e8195",
   "metadata": {},
   "outputs": [],
   "source": [
    "# Option d'affichage\n",
    "#pd.set_option(\"display.max_rows\", 2000)\n",
    "#pd.set_option(\"display.max_columns\", 2000)"
   ]
  },
  {
   "cell_type": "code",
   "execution_count": 17,
   "id": "554524fa",
   "metadata": {},
   "outputs": [
    {
     "data": {
      "application/javascript": [
       "\n",
       "            setTimeout(function() {\n",
       "                var nbb_cell_id = 17;\n",
       "                var nbb_unformatted_code = \"#determiner le dataframe entre deux dates\\ndef create_df (df, t0, delta_t):\\n    '''\\n    fonction qui permet de cr\\u00e9er un nouveau dataframe \\u00e0 partir du date max de df_init. On rajoute n_jours.\\n    Les param\\u00e8tres: \\n    - df_init: le dataframe initial, \\u00e0 partir duquel on va extraire max_date\\n    - df : les donn\\u00e9es globales \\u00e0 partir desquelles on va extraire les n_jours\\n    - n_jours: nombre de jours dans timedelta\\n    La fonction retourne le nouveau dataframe \\u00e9tendu sur timedelta\\n    '''\\n    nb_days = t0 + delta_t\\n    \\n    min_date = min(df['order_date'])\\n    max_date = min_date + timedelta(days = nb_days)\\n\\n    mask = (df['order_date'] >= min_date) & (df['order_date'] <= pd.to_datetime(max_date))\\n    df_periodique = df.loc[mask]\\n    \\n    return df_periodique\";\n",
       "                var nbb_formatted_code = \"# determiner le dataframe entre deux dates\\ndef create_df(df, t0, delta_t):\\n    \\\"\\\"\\\"\\n    fonction qui permet de cr\\u00e9er un nouveau dataframe \\u00e0 partir du date max de df_init. On rajoute n_jours.\\n    Les param\\u00e8tres: \\n    - df_init: le dataframe initial, \\u00e0 partir duquel on va extraire max_date\\n    - df : les donn\\u00e9es globales \\u00e0 partir desquelles on va extraire les n_jours\\n    - n_jours: nombre de jours dans timedelta\\n    La fonction retourne le nouveau dataframe \\u00e9tendu sur timedelta\\n    \\\"\\\"\\\"\\n    nb_days = t0 + delta_t\\n\\n    min_date = min(df[\\\"order_date\\\"])\\n    max_date = min_date + timedelta(days=nb_days)\\n\\n    mask = (df[\\\"order_date\\\"] >= min_date) & (\\n        df[\\\"order_date\\\"] <= pd.to_datetime(max_date)\\n    )\\n    df_periodique = df.loc[mask]\\n\\n    return df_periodique\";\n",
       "                var nbb_cells = Jupyter.notebook.get_cells();\n",
       "                for (var i = 0; i < nbb_cells.length; ++i) {\n",
       "                    if (nbb_cells[i].input_prompt_number == nbb_cell_id) {\n",
       "                        if (nbb_cells[i].get_text() == nbb_unformatted_code) {\n",
       "                             nbb_cells[i].set_text(nbb_formatted_code);\n",
       "                        }\n",
       "                        break;\n",
       "                    }\n",
       "                }\n",
       "            }, 500);\n",
       "            "
      ],
      "text/plain": [
       "<IPython.core.display.Javascript object>"
      ]
     },
     "metadata": {},
     "output_type": "display_data"
    }
   ],
   "source": [
    "# determiner le dataframe entre deux dates\n",
    "def create_df(df, t0, delta_t):\n",
    "    \"\"\"\n",
    "    fonction qui permet de créer un nouveau dataframe à partir du date max de df_init. On rajoute n_jours.\n",
    "    Les paramètres: \n",
    "    - df_init: le dataframe initial, à partir duquel on va extraire max_date\n",
    "    - df : les données globales à partir desquelles on va extraire les n_jours\n",
    "    - n_jours: nombre de jours dans timedelta\n",
    "    La fonction retourne le nouveau dataframe étendu sur timedelta\n",
    "    \"\"\"\n",
    "    nb_days = t0 + delta_t\n",
    "\n",
    "    min_date = min(df[\"order_date\"])\n",
    "    max_date = min_date + timedelta(days=nb_days)\n",
    "\n",
    "    mask = (df[\"order_date\"] >= min_date) & (\n",
    "        df[\"order_date\"] <= pd.to_datetime(max_date)\n",
    "    )\n",
    "    df_periodique = df.loc[mask]\n",
    "\n",
    "    return df_periodique"
   ]
  },
  {
   "cell_type": "code",
   "execution_count": 18,
   "id": "8c409e9b",
   "metadata": {},
   "outputs": [
    {
     "data": {
      "application/javascript": [
       "\n",
       "            setTimeout(function() {\n",
       "                var nbb_cell_id = 18;\n",
       "                var nbb_unformatted_code = \"def clean_df(df_toclean):\\n    \\\"\\\"\\\"\\n    fonction qui calcule RFM , s\\u00e9lectionne les features utiles et regroupe les donn\\u00e9es\\n    arguments: un dataframe\\n    \\\"\\\"\\\"\\n        \\n    min_date = min(df_toclean['order_date'])\\n    max_date = max(df_toclean['order_date'])\\n    \\n    \\n     #calcul RFM\\n    rfm_results = my.calcul_rfm(df_toclean,min_date,max_date)\\n    \\n    #merge rfm_results avec df_initiale\\n    df_toclean = df_toclean.merge(rfm_results, how=\\\"left\\\", on ='customer_unique_id')\\n    \\n    #selectionner les features utiles \\n    df_toclean = df_toclean[['customer_unique_id','frequence','recence','montant','distance_clientVendeur','review_score']]\\n    \\n    #groupement des donn\\u00e9es\\n    df_toclean = df_toclean.groupby(['customer_unique_id'], as_index = False).agg({\\n                                                                        'review_score' : 'mean',\\n                                                                        'distance_clientVendeur' : 'mean',\\n                                                                        'frequence': 'mean',\\n                                                                        'recence': 'min',\\n                                                                        'montant': 'mean',                                                                           \\n                                                                  })\\n    #df_toclean.drop(columns=['customer_unique_id'], inplace=True)\\n    return df_toclean\";\n",
       "                var nbb_formatted_code = \"def clean_df(df_toclean):\\n    \\\"\\\"\\\"\\n    fonction qui calcule RFM , s\\u00e9lectionne les features utiles et regroupe les donn\\u00e9es\\n    arguments: un dataframe\\n    \\\"\\\"\\\"\\n\\n    min_date = min(df_toclean[\\\"order_date\\\"])\\n    max_date = max(df_toclean[\\\"order_date\\\"])\\n\\n    # calcul RFM\\n    rfm_results = my.calcul_rfm(df_toclean, min_date, max_date)\\n\\n    # merge rfm_results avec df_initiale\\n    df_toclean = df_toclean.merge(rfm_results, how=\\\"left\\\", on=\\\"customer_unique_id\\\")\\n\\n    # selectionner les features utiles\\n    df_toclean = df_toclean[\\n        [\\n            \\\"customer_unique_id\\\",\\n            \\\"frequence\\\",\\n            \\\"recence\\\",\\n            \\\"montant\\\",\\n            \\\"distance_clientVendeur\\\",\\n            \\\"review_score\\\",\\n        ]\\n    ]\\n\\n    # groupement des donn\\u00e9es\\n    df_toclean = df_toclean.groupby([\\\"customer_unique_id\\\"], as_index=False).agg(\\n        {\\n            \\\"review_score\\\": \\\"mean\\\",\\n            \\\"distance_clientVendeur\\\": \\\"mean\\\",\\n            \\\"frequence\\\": \\\"mean\\\",\\n            \\\"recence\\\": \\\"min\\\",\\n            \\\"montant\\\": \\\"mean\\\",\\n        }\\n    )\\n    # df_toclean.drop(columns=['customer_unique_id'], inplace=True)\\n    return df_toclean\";\n",
       "                var nbb_cells = Jupyter.notebook.get_cells();\n",
       "                for (var i = 0; i < nbb_cells.length; ++i) {\n",
       "                    if (nbb_cells[i].input_prompt_number == nbb_cell_id) {\n",
       "                        if (nbb_cells[i].get_text() == nbb_unformatted_code) {\n",
       "                             nbb_cells[i].set_text(nbb_formatted_code);\n",
       "                        }\n",
       "                        break;\n",
       "                    }\n",
       "                }\n",
       "            }, 500);\n",
       "            "
      ],
      "text/plain": [
       "<IPython.core.display.Javascript object>"
      ]
     },
     "metadata": {},
     "output_type": "display_data"
    }
   ],
   "source": [
    "def clean_df(df_toclean):\n",
    "    \"\"\"\n",
    "    fonction qui calcule RFM , sélectionne les features utiles et regroupe les données\n",
    "    arguments: un dataframe\n",
    "    \"\"\"\n",
    "\n",
    "    min_date = min(df_toclean[\"order_date\"])\n",
    "    max_date = max(df_toclean[\"order_date\"])\n",
    "\n",
    "    # calcul RFM\n",
    "    rfm_results = my.calcul_rfm(df_toclean, min_date, max_date)\n",
    "\n",
    "    # merge rfm_results avec df_initiale\n",
    "    df_toclean = df_toclean.merge(rfm_results, how=\"left\", on=\"customer_unique_id\")\n",
    "\n",
    "    # selectionner les features utiles\n",
    "    df_toclean = df_toclean[\n",
    "        [\n",
    "            \"customer_unique_id\",\n",
    "            \"frequence\",\n",
    "            \"recence\",\n",
    "            \"montant\",\n",
    "            \"distance_clientVendeur\",\n",
    "            \"review_score\",\n",
    "        ]\n",
    "    ]\n",
    "\n",
    "    # groupement des données\n",
    "    df_toclean = df_toclean.groupby([\"customer_unique_id\"], as_index=False).agg(\n",
    "        {\n",
    "            \"review_score\": \"mean\",\n",
    "            \"distance_clientVendeur\": \"mean\",\n",
    "            \"frequence\": \"mean\",\n",
    "            \"recence\": \"min\",\n",
    "            \"montant\": \"mean\",\n",
    "        }\n",
    "    )\n",
    "    # df_toclean.drop(columns=['customer_unique_id'], inplace=True)\n",
    "    return df_toclean"
   ]
  },
  {
   "cell_type": "code",
   "execution_count": 19,
   "id": "d0d5ea61",
   "metadata": {},
   "outputs": [
    {
     "data": {
      "application/javascript": [
       "\n",
       "            setTimeout(function() {\n",
       "                var nbb_cell_id = 19;\n",
       "                var nbb_unformatted_code = \"def kmeans_clustering (df_toSegment, nb_cluster, delta_t, predict=False, model_ref=None ):\\n    '''\\n    Fonction qui permet de standardiser les donn\\u00e9es et ensuite en appliquer la segmentation kmeans.\\n    Param\\u00e8tres: \\n    - df: dataframe \\u00e0 segmenter\\n    -nb_clusters: nombre de clusters \\u00e0 consid\\u00e9rer dans la segmentation kmeans\\n    La fonction retourne le dataframe ainsi que la classification de chaque client\\n    '''\\n    from sklearn.cluster import KMeans\\n    from sklearn.preprocessing import StandardScaler\\n    \\n    #standardisation\\n    \\n    df_toSegment_originale = df_toSegment.copy()\\n    df_toSegment = df_toSegment[['frequence','recence','montant','distance_clientVendeur','review_score']]\\n    scaler = StandardScaler()\\n    X_norm = scaler.fit_transform(df_toSegment)\\n    \\n    #segmentation\\n    \\n    if (delta_t == 0):\\n        model_ref = KMeans(n_clusters=nb_cluster)\\n        model_ref.fit(X_norm)\\n        #df_toSegment = df_toSegment.merge(df_toSegment_originale['customer_unique_id'], left_index=True, right_index=True)\\n        \\n        return model_ref\\n   \\n    else:\\n        model_periodique = KMeans(n_clusters=nb_cluster)\\n        model_periodique.fit(X_norm)\\n        labels_periodique = model_periodique.predict(X_norm)\\n        labels_ref = model_ref.predict(X_norm)\\n        \\n\\n        return labels_periodique, labels_ref\";\n",
       "                var nbb_formatted_code = \"def kmeans_clustering(df_toSegment, nb_cluster, delta_t, predict=False, model_ref=None):\\n    \\\"\\\"\\\"\\n    Fonction qui permet de standardiser les donn\\u00e9es et ensuite en appliquer la segmentation kmeans.\\n    Param\\u00e8tres: \\n    - df: dataframe \\u00e0 segmenter\\n    -nb_clusters: nombre de clusters \\u00e0 consid\\u00e9rer dans la segmentation kmeans\\n    La fonction retourne le dataframe ainsi que la classification de chaque client\\n    \\\"\\\"\\\"\\n    from sklearn.cluster import KMeans\\n    from sklearn.preprocessing import StandardScaler\\n\\n    # standardisation\\n\\n    df_toSegment_originale = df_toSegment.copy()\\n    df_toSegment = df_toSegment[\\n        [\\\"frequence\\\", \\\"recence\\\", \\\"montant\\\", \\\"distance_clientVendeur\\\", \\\"review_score\\\"]\\n    ]\\n    scaler = StandardScaler()\\n    X_norm = scaler.fit_transform(df_toSegment)\\n\\n    # segmentation\\n\\n    if delta_t == 0:\\n        model_ref = KMeans(n_clusters=nb_cluster)\\n        model_ref.fit(X_norm)\\n        # df_toSegment = df_toSegment.merge(df_toSegment_originale['customer_unique_id'], left_index=True, right_index=True)\\n\\n        return model_ref\\n\\n    else:\\n        model_periodique = KMeans(n_clusters=nb_cluster)\\n        model_periodique.fit(X_norm)\\n        labels_periodique = model_periodique.predict(X_norm)\\n        labels_ref = model_ref.predict(X_norm)\\n\\n        return labels_periodique, labels_ref\";\n",
       "                var nbb_cells = Jupyter.notebook.get_cells();\n",
       "                for (var i = 0; i < nbb_cells.length; ++i) {\n",
       "                    if (nbb_cells[i].input_prompt_number == nbb_cell_id) {\n",
       "                        if (nbb_cells[i].get_text() == nbb_unformatted_code) {\n",
       "                             nbb_cells[i].set_text(nbb_formatted_code);\n",
       "                        }\n",
       "                        break;\n",
       "                    }\n",
       "                }\n",
       "            }, 500);\n",
       "            "
      ],
      "text/plain": [
       "<IPython.core.display.Javascript object>"
      ]
     },
     "metadata": {},
     "output_type": "display_data"
    }
   ],
   "source": [
    "def kmeans_clustering(df_toSegment, nb_cluster, delta_t, predict=False, model_ref=None):\n",
    "    \"\"\"\n",
    "    Fonction qui permet de standardiser les données et ensuite en appliquer la segmentation kmeans.\n",
    "    Paramètres: \n",
    "    - df: dataframe à segmenter\n",
    "    -nb_clusters: nombre de clusters à considérer dans la segmentation kmeans\n",
    "    La fonction retourne le dataframe ainsi que la classification de chaque client\n",
    "    \"\"\"\n",
    "    from sklearn.cluster import KMeans\n",
    "    from sklearn.preprocessing import StandardScaler\n",
    "\n",
    "    # standardisation\n",
    "\n",
    "    df_toSegment_originale = df_toSegment.copy()\n",
    "    df_toSegment = df_toSegment[\n",
    "        [\"frequence\", \"recence\", \"montant\", \"distance_clientVendeur\", \"review_score\"]\n",
    "    ]\n",
    "    scaler = StandardScaler()\n",
    "    X_norm = scaler.fit_transform(df_toSegment)\n",
    "\n",
    "    # segmentation\n",
    "\n",
    "    if delta_t == 0:\n",
    "        model_ref = KMeans(n_clusters=nb_cluster)\n",
    "        model_ref.fit(X_norm)\n",
    "        # df_toSegment = df_toSegment.merge(df_toSegment_originale['customer_unique_id'], left_index=True, right_index=True)\n",
    "\n",
    "        return model_ref\n",
    "\n",
    "    else:\n",
    "        model_periodique = KMeans(n_clusters=nb_cluster)\n",
    "        model_periodique.fit(X_norm)\n",
    "        labels_periodique = model_periodique.predict(X_norm)\n",
    "        labels_ref = model_ref.predict(X_norm)\n",
    "\n",
    "        return labels_periodique, labels_ref"
   ]
  },
  {
   "cell_type": "code",
   "execution_count": 22,
   "id": "b5881bc9",
   "metadata": {},
   "outputs": [
    {
     "data": {
      "application/javascript": [
       "\n",
       "            setTimeout(function() {\n",
       "                var nbb_cell_id = 22;\n",
       "                var nbb_unformatted_code = \"# encapsulation de toutes les fonctions\\nfrom sklearn.metrics.cluster import adjusted_rand_score\\n\\n\\ndef processus(df, t0, nb_cluster):\\n    \\\"\\\"\\\"\\n    fonction qui calcule ARI\\n    retourne: courbe d'ARI\\\"\\n    \\\"\\\"\\\"\\n    delta_t = 0\\n    time_delta = (max(df[\\\"order_date\\\"]) - min(df[\\\"order_date\\\"])).days\\n    print(\\\"La p\\u00e9riode compl\\u00e8te des commandes porte sur {} jours.\\\".format(time_delta))\\n    dict_ARI = {}\\n\\n    if delta_t == 0:\\n        df_init = create_df(df, t0, delta_t)\\n        df_init = clean_df(df_init)\\n        model_ref = kmeans_clustering(df_init, nb_cluster, delta_t, False, None)\\n\\n    for delta_t in range(15, time_delta - t0, 15):\\n        df_periodique = create_df(df, t0, delta_t)\\n        df_periodique = clean_df(df_periodique)\\n        labels_periodique, labels_ref = kmeans_clustering(\\n            df_periodique, nb_cluster, delta_t, True, model_ref\\n        )\\n\\n        ari = adjusted_rand_score(labels_periodique, labels_ref)\\n        dict_ARI[delta_t] = ari\\n\\n    return dict_ARI\";\n",
       "                var nbb_formatted_code = \"# encapsulation de toutes les fonctions\\nfrom sklearn.metrics.cluster import adjusted_rand_score\\n\\n\\ndef processus(df, t0, nb_cluster):\\n    \\\"\\\"\\\"\\n    fonction qui calcule ARI\\n    retourne: courbe d'ARI\\\"\\n    \\\"\\\"\\\"\\n    delta_t = 0\\n    time_delta = (max(df[\\\"order_date\\\"]) - min(df[\\\"order_date\\\"])).days\\n    print(\\\"La p\\u00e9riode compl\\u00e8te des commandes porte sur {} jours.\\\".format(time_delta))\\n    dict_ARI = {}\\n\\n    if delta_t == 0:\\n        df_init = create_df(df, t0, delta_t)\\n        df_init = clean_df(df_init)\\n        model_ref = kmeans_clustering(df_init, nb_cluster, delta_t, False, None)\\n\\n    for delta_t in range(15, time_delta - t0, 15):\\n        df_periodique = create_df(df, t0, delta_t)\\n        df_periodique = clean_df(df_periodique)\\n        labels_periodique, labels_ref = kmeans_clustering(\\n            df_periodique, nb_cluster, delta_t, True, model_ref\\n        )\\n\\n        ari = adjusted_rand_score(labels_periodique, labels_ref)\\n        dict_ARI[delta_t] = ari\\n\\n    return dict_ARI\";\n",
       "                var nbb_cells = Jupyter.notebook.get_cells();\n",
       "                for (var i = 0; i < nbb_cells.length; ++i) {\n",
       "                    if (nbb_cells[i].input_prompt_number == nbb_cell_id) {\n",
       "                        if (nbb_cells[i].get_text() == nbb_unformatted_code) {\n",
       "                             nbb_cells[i].set_text(nbb_formatted_code);\n",
       "                        }\n",
       "                        break;\n",
       "                    }\n",
       "                }\n",
       "            }, 500);\n",
       "            "
      ],
      "text/plain": [
       "<IPython.core.display.Javascript object>"
      ]
     },
     "metadata": {},
     "output_type": "display_data"
    }
   ],
   "source": [
    "# encapsulation de toutes les fonctions\n",
    "from sklearn.metrics.cluster import adjusted_rand_score\n",
    "\n",
    "\n",
    "def processus(df, t0, nb_cluster):\n",
    "    \"\"\"\n",
    "    fonction qui calcule ARI\n",
    "    retourne: courbe d'ARI\"\n",
    "    \"\"\"\n",
    "    delta_t = 0\n",
    "    time_delta = (max(df[\"order_date\"]) - min(df[\"order_date\"])).days\n",
    "    print(\"La période complète des commandes porte sur {} jours.\".format(time_delta))\n",
    "    dict_ARI = {}\n",
    "\n",
    "    if delta_t == 0:\n",
    "        df_init = create_df(df, t0, delta_t)\n",
    "        df_init = clean_df(df_init)\n",
    "        model_ref = kmeans_clustering(df_init, nb_cluster, delta_t, False, None)\n",
    "\n",
    "    for delta_t in range(15, time_delta - t0, 15):\n",
    "        df_periodique = create_df(df, t0, delta_t)\n",
    "        df_periodique = clean_df(df_periodique)\n",
    "        labels_periodique, labels_ref = kmeans_clustering(\n",
    "            df_periodique, nb_cluster, delta_t, True, model_ref\n",
    "        )\n",
    "\n",
    "        ari = adjusted_rand_score(labels_periodique, labels_ref)\n",
    "        dict_ARI[delta_t] = ari\n",
    "\n",
    "    return dict_ARI"
   ]
  },
  {
   "cell_type": "code",
   "execution_count": 23,
   "id": "58d9868a",
   "metadata": {},
   "outputs": [
    {
     "name": "stdout",
     "output_type": "stream",
     "text": [
      "La période complète des commandes porte sur 728 jours.\n"
     ]
    },
    {
     "name": "stderr",
     "output_type": "stream",
     "text": [
      "/home/soumaya/anaconda3/envs/openclassrooms/lib/python3.8/site-packages/sklearn/metrics/cluster/_supervised.py:389: RuntimeWarning: overflow encountered in long_scalars\n",
      "  return 2. * (tp * tn - fn * fp) / ((tp + fn) * (fn + tn) +\n",
      "/home/soumaya/anaconda3/envs/openclassrooms/lib/python3.8/site-packages/sklearn/metrics/cluster/_supervised.py:389: RuntimeWarning: overflow encountered in long_scalars\n",
      "  return 2. * (tp * tn - fn * fp) / ((tp + fn) * (fn + tn) +\n",
      "/home/soumaya/anaconda3/envs/openclassrooms/lib/python3.8/site-packages/sklearn/metrics/cluster/_supervised.py:390: RuntimeWarning: overflow encountered in long_scalars\n",
      "  (tp + fp) * (fp + tn))\n",
      "/home/soumaya/anaconda3/envs/openclassrooms/lib/python3.8/site-packages/sklearn/metrics/cluster/_supervised.py:390: RuntimeWarning: overflow encountered in long_scalars\n",
      "  (tp + fp) * (fp + tn))\n",
      "/home/soumaya/anaconda3/envs/openclassrooms/lib/python3.8/site-packages/sklearn/metrics/cluster/_supervised.py:390: RuntimeWarning: overflow encountered in long_scalars\n",
      "  (tp + fp) * (fp + tn))\n",
      "/home/soumaya/anaconda3/envs/openclassrooms/lib/python3.8/site-packages/sklearn/metrics/cluster/_supervised.py:390: RuntimeWarning: overflow encountered in long_scalars\n",
      "  (tp + fp) * (fp + tn))\n",
      "/home/soumaya/anaconda3/envs/openclassrooms/lib/python3.8/site-packages/sklearn/metrics/cluster/_supervised.py:390: RuntimeWarning: overflow encountered in long_scalars\n",
      "  (tp + fp) * (fp + tn))\n",
      "/home/soumaya/anaconda3/envs/openclassrooms/lib/python3.8/site-packages/sklearn/metrics/cluster/_supervised.py:390: RuntimeWarning: overflow encountered in long_scalars\n",
      "  (tp + fp) * (fp + tn))\n",
      "/home/soumaya/anaconda3/envs/openclassrooms/lib/python3.8/site-packages/sklearn/metrics/cluster/_supervised.py:389: RuntimeWarning: overflow encountered in long_scalars\n",
      "  return 2. * (tp * tn - fn * fp) / ((tp + fn) * (fn + tn) +\n",
      "/home/soumaya/anaconda3/envs/openclassrooms/lib/python3.8/site-packages/sklearn/metrics/cluster/_supervised.py:389: RuntimeWarning: overflow encountered in long_scalars\n",
      "  return 2. * (tp * tn - fn * fp) / ((tp + fn) * (fn + tn) +\n",
      "/home/soumaya/anaconda3/envs/openclassrooms/lib/python3.8/site-packages/sklearn/metrics/cluster/_supervised.py:390: RuntimeWarning: overflow encountered in long_scalars\n",
      "  (tp + fp) * (fp + tn))\n",
      "/home/soumaya/anaconda3/envs/openclassrooms/lib/python3.8/site-packages/sklearn/metrics/cluster/_supervised.py:389: RuntimeWarning: overflow encountered in long_scalars\n",
      "  return 2. * (tp * tn - fn * fp) / ((tp + fn) * (fn + tn) +\n",
      "/home/soumaya/anaconda3/envs/openclassrooms/lib/python3.8/site-packages/sklearn/metrics/cluster/_supervised.py:390: RuntimeWarning: overflow encountered in long_scalars\n",
      "  (tp + fp) * (fp + tn))\n"
     ]
    },
    {
     "data": {
      "application/javascript": [
       "\n",
       "            setTimeout(function() {\n",
       "                var nbb_cell_id = 23;\n",
       "                var nbb_unformatted_code = \"dict_ari = processus (df, 60, 5)\";\n",
       "                var nbb_formatted_code = \"dict_ari = processus(df, 60, 5)\";\n",
       "                var nbb_cells = Jupyter.notebook.get_cells();\n",
       "                for (var i = 0; i < nbb_cells.length; ++i) {\n",
       "                    if (nbb_cells[i].input_prompt_number == nbb_cell_id) {\n",
       "                        if (nbb_cells[i].get_text() == nbb_unformatted_code) {\n",
       "                             nbb_cells[i].set_text(nbb_formatted_code);\n",
       "                        }\n",
       "                        break;\n",
       "                    }\n",
       "                }\n",
       "            }, 500);\n",
       "            "
      ],
      "text/plain": [
       "<IPython.core.display.Javascript object>"
      ]
     },
     "metadata": {},
     "output_type": "display_data"
    }
   ],
   "source": [
    "dict_ari = processus(df, 60, 5)"
   ]
  },
  {
   "cell_type": "code",
   "execution_count": 29,
   "id": "11687185",
   "metadata": {
    "scrolled": true
   },
   "outputs": [
    {
     "data": {
      "image/png": "[encoded data removed]",
      "text/plain": [
       "<Figure size 432x288 with 1 Axes>"
      ]
     },
     "metadata": {
      "needs_background": "light"
     },
     "output_type": "display_data"
    }
   ],
   "source": [
    "fig = plt.figure()\n",
    "ax = plt.axes()\n",
    "plt.plot(dict_ari.keys(), dict_ari.values())\n",
    "plt.show()"
   ]
  },
  {
   "cell_type": "code",
   "execution_count": 24,
   "id": "f50620d9",
   "metadata": {
    "scrolled": true
   },
   "outputs": [
    {
     "data": {
      "text/plain": [
       "{15: 0.9882933934052074,\n",
       " 30: 0.955702811530507,\n",
       " 45: 0.8963084109020982,\n",
       " 60: 0.8366943213232858,\n",
       " 75: 0.46318833857361597,\n",
       " 90: 0.48536870899329415,\n",
       " 105: 0.7339702112295279,\n",
       " 120: 0.7949159017102713,\n",
       " 135: 0.8541853440593207,\n",
       " 150: 0.9093566926377885,\n",
       " 165: 0.9178366948641153,\n",
       " 180: 0.9463589368333301,\n",
       " 195: 0.9503528785741141,\n",
       " 210: 0.9559255613773763,\n",
       " 225: 0.9571073458638399,\n",
       " 240: 0.9558709523739746,\n",
       " 255: 0.9586959282777254,\n",
       " 270: 0.9602368390634504,\n",
       " 285: 0.9614813923367493,\n",
       " 300: 0.47176771095149006,\n",
       " 315: 0.4666510044875282,\n",
       " 330: 0.31761615743303634,\n",
       " 345: 0.9679127991093747,\n",
       " 360: 0.9499839028336512,\n",
       " 375: 0.9508559330825549,\n",
       " 390: 0.42107834375229103,\n",
       " 405: 0.9306602911161999,\n",
       " 420: 0.4161713597368536,\n",
       " 435: 0.4125689312601468,\n",
       " 450: 0.4106581786518285,\n",
       " 465: 0.40871820316160984,\n",
       " 480: 0.40933815116152705,\n",
       " 495: 0.4058329039384702,\n",
       " 510: 0.411464598880043,\n",
       " 525: -0.4935159886392602,\n",
       " 540: -0.8203011523310486,\n",
       " 555: -1.8301309265539987,\n",
       " 570: -7.184630589994936,\n",
       " 585: 5.846396584451683,\n",
       " 600: 2.144307108442653,\n",
       " 615: 1.5224183187750726,\n",
       " 630: -2.0738178872967925,\n",
       " 645: -27.18717986439961,\n",
       " 660: 3.828455262304879}"
      ]
     },
     "execution_count": 24,
     "metadata": {},
     "output_type": "execute_result"
    },
    {
     "data": {
      "application/javascript": [
       "\n",
       "            setTimeout(function() {\n",
       "                var nbb_cell_id = 24;\n",
       "                var nbb_unformatted_code = \"dict_ari\";\n",
       "                var nbb_formatted_code = \"dict_ari\";\n",
       "                var nbb_cells = Jupyter.notebook.get_cells();\n",
       "                for (var i = 0; i < nbb_cells.length; ++i) {\n",
       "                    if (nbb_cells[i].input_prompt_number == nbb_cell_id) {\n",
       "                        if (nbb_cells[i].get_text() == nbb_unformatted_code) {\n",
       "                             nbb_cells[i].set_text(nbb_formatted_code);\n",
       "                        }\n",
       "                        break;\n",
       "                    }\n",
       "                }\n",
       "            }, 500);\n",
       "            "
      ],
      "text/plain": [
       "<IPython.core.display.Javascript object>"
      ]
     },
     "metadata": {},
     "output_type": "display_data"
    }
   ],
   "source": [
    "dict_ari"
   ]
  }
 ],
 "metadata": {
  "kernelspec": {
   "display_name": "Python 3",
   "language": "python",
   "name": "python3"
  },
  "language_info": {
   "codemirror_mode": {
    "name": "ipython",
    "version": 3
   },
   "file_extension": ".py",
   "mimetype": "text/x-python",
   "name": "python",
   "nbconvert_exporter": "python",
   "pygments_lexer": "ipython3",
   "version": "3.8.8"
  }
 },
 "nbformat": 4,
 "nbformat_minor": 5
}
