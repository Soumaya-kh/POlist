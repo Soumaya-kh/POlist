{
 "cells": [
  {
   "cell_type": "code",
   "execution_count": 1,
   "id": "0e815b0c",
   "metadata": {},
   "outputs": [],
   "source": [
    "import pandas as pd\n",
    "import numpy as np\n",
    "import matplotlib.pyplot as plt\n",
    "import my_module as my\n",
    "import seaborn as sns\n",
    "from datetime import *"
   ]
  },
  {
   "cell_type": "code",
   "execution_count": 2,
   "id": "6ccab158",
   "metadata": {},
   "outputs": [],
   "source": [
    "# Option d'affichage\n",
    "pd.set_option(\"display.max_rows\", 2000)\n",
    "pd.set_option(\"display.max_columns\", 2000)"
   ]
  },
  {
   "cell_type": "markdown",
   "id": "3feb43d3",
   "metadata": {},
   "source": [
    "#### Lecture des données"
   ]
  },
  {
   "cell_type": "code",
   "execution_count": 3,
   "id": "7b65f5e1",
   "metadata": {},
   "outputs": [],
   "source": [
    "\n",
    "geo = pd.read_csv('olist_geolocation_dataset.csv')\n",
    "orders = pd.read_csv('olist_orders_dataset.csv')\n",
    "products = pd.read_csv('olist_products_dataset.csv')\n",
    "sellers = pd.read_csv('olist_sellers_dataset.csv')\n",
    "reviews = pd.read_csv('olist_order_reviews_dataset.csv')\n",
    "items = pd.read_csv('olist_order_items_dataset.csv')\n",
    "customers = pd.read_csv('olist_customers_dataset.csv')\n",
    "payments = pd.read_csv('olist_order_payments_dataset.csv')\n",
    "category = pd.read_csv('product_category_name_translation.csv')"
   ]
  },
  {
   "cell_type": "markdown",
   "id": "04edbd6a",
   "metadata": {},
   "source": [
    "# 1. Analyse exploratoire  \n",
    "Dans cette partie, nous allons parcourir les datasets, un par un, et analyser leurs données afin de mieux les comprendre.    \n",
    "\n",
    "**Méthodologie :**  \n",
    "    Nous allons nettoyer les données qui peuvent principalement servir le but de ce projet et qui est la segmentation des clients. En plus, nous allons créer de nouvelles variables si nécessaire (feature engineering). Pour chaque dataset, nous allons mentionner une section qu'on nommera 'sélection des variables utiles\" où on va garder juste les variables que nous estimons utiles pour le merge avec les autres datasets et aussi pour l'analyse des comportements du client.  \n",
    "\n",
    "## 1.1. Geolocalisation  \n",
    "Ce jeu de données contient des informations sur les codes postaux brésiliens et leurs coordonnées latitude/longitude. Utile pour tracer des cartes et trouver des distances entre les vendeurs et les clients.  \n"
   ]
  },
  {
   "cell_type": "code",
   "execution_count": 4,
   "id": "7bf589f6",
   "metadata": {},
   "outputs": [
    {
     "data": {
      "text/html": [
       "<div>\n",
       "<style scoped>\n",
       "    .dataframe tbody tr th:only-of-type {\n",
       "        vertical-align: middle;\n",
       "    }\n",
       "\n",
       "    .dataframe tbody tr th {\n",
       "        vertical-align: top;\n",
       "    }\n",
       "\n",
       "    .dataframe thead th {\n",
       "        text-align: right;\n",
       "    }\n",
       "</style>\n",
       "<table border=\"1\" class=\"dataframe\">\n",
       "  <thead>\n",
       "    <tr style=\"text-align: right;\">\n",
       "      <th></th>\n",
       "      <th>geolocation_zip_code_prefix</th>\n",
       "      <th>geolocation_lat</th>\n",
       "      <th>geolocation_lng</th>\n",
       "      <th>geolocation_city</th>\n",
       "      <th>geolocation_state</th>\n",
       "    </tr>\n",
       "  </thead>\n",
       "  <tbody>\n",
       "    <tr>\n",
       "      <th>0</th>\n",
       "      <td>1037</td>\n",
       "      <td>-23.545621</td>\n",
       "      <td>-46.639292</td>\n",
       "      <td>sao paulo</td>\n",
       "      <td>SP</td>\n",
       "    </tr>\n",
       "    <tr>\n",
       "      <th>1</th>\n",
       "      <td>1046</td>\n",
       "      <td>-23.546081</td>\n",
       "      <td>-46.644820</td>\n",
       "      <td>sao paulo</td>\n",
       "      <td>SP</td>\n",
       "    </tr>\n",
       "    <tr>\n",
       "      <th>2</th>\n",
       "      <td>1046</td>\n",
       "      <td>-23.546129</td>\n",
       "      <td>-46.642951</td>\n",
       "      <td>sao paulo</td>\n",
       "      <td>SP</td>\n",
       "    </tr>\n",
       "    <tr>\n",
       "      <th>3</th>\n",
       "      <td>1041</td>\n",
       "      <td>-23.544392</td>\n",
       "      <td>-46.639499</td>\n",
       "      <td>sao paulo</td>\n",
       "      <td>SP</td>\n",
       "    </tr>\n",
       "    <tr>\n",
       "      <th>4</th>\n",
       "      <td>1035</td>\n",
       "      <td>-23.541578</td>\n",
       "      <td>-46.641607</td>\n",
       "      <td>sao paulo</td>\n",
       "      <td>SP</td>\n",
       "    </tr>\n",
       "  </tbody>\n",
       "</table>\n",
       "</div>"
      ],
      "text/plain": [
       "   geolocation_zip_code_prefix  geolocation_lat  geolocation_lng  \\\n",
       "0                         1037       -23.545621       -46.639292   \n",
       "1                         1046       -23.546081       -46.644820   \n",
       "2                         1046       -23.546129       -46.642951   \n",
       "3                         1041       -23.544392       -46.639499   \n",
       "4                         1035       -23.541578       -46.641607   \n",
       "\n",
       "  geolocation_city geolocation_state  \n",
       "0        sao paulo                SP  \n",
       "1        sao paulo                SP  \n",
       "2        sao paulo                SP  \n",
       "3        sao paulo                SP  \n",
       "4        sao paulo                SP  "
      ]
     },
     "execution_count": 4,
     "metadata": {},
     "output_type": "execute_result"
    }
   ],
   "source": [
    "#aperçu des données\n",
    "geo.head()"
   ]
  },
  {
   "cell_type": "code",
   "execution_count": 5,
   "id": "7ce3875d",
   "metadata": {},
   "outputs": [
    {
     "data": {
      "text/html": [
       "<div>\n",
       "<style scoped>\n",
       "    .dataframe tbody tr th:only-of-type {\n",
       "        vertical-align: middle;\n",
       "    }\n",
       "\n",
       "    .dataframe tbody tr th {\n",
       "        vertical-align: top;\n",
       "    }\n",
       "\n",
       "    .dataframe thead th {\n",
       "        text-align: right;\n",
       "    }\n",
       "</style>\n",
       "<table border=\"1\" class=\"dataframe\">\n",
       "  <thead>\n",
       "    <tr style=\"text-align: right;\">\n",
       "      <th></th>\n",
       "      <th>geolocation_zip_code_prefix</th>\n",
       "      <th>geolocation_lat</th>\n",
       "      <th>geolocation_lng</th>\n",
       "    </tr>\n",
       "  </thead>\n",
       "  <tbody>\n",
       "    <tr>\n",
       "      <th>count</th>\n",
       "      <td>1.000163e+06</td>\n",
       "      <td>1.000163e+06</td>\n",
       "      <td>1.000163e+06</td>\n",
       "    </tr>\n",
       "    <tr>\n",
       "      <th>mean</th>\n",
       "      <td>3.657417e+04</td>\n",
       "      <td>-2.117615e+01</td>\n",
       "      <td>-4.639054e+01</td>\n",
       "    </tr>\n",
       "    <tr>\n",
       "      <th>std</th>\n",
       "      <td>3.054934e+04</td>\n",
       "      <td>5.715866e+00</td>\n",
       "      <td>4.269748e+00</td>\n",
       "    </tr>\n",
       "    <tr>\n",
       "      <th>min</th>\n",
       "      <td>1.001000e+03</td>\n",
       "      <td>-3.660537e+01</td>\n",
       "      <td>-1.014668e+02</td>\n",
       "    </tr>\n",
       "    <tr>\n",
       "      <th>25%</th>\n",
       "      <td>1.107500e+04</td>\n",
       "      <td>-2.360355e+01</td>\n",
       "      <td>-4.857317e+01</td>\n",
       "    </tr>\n",
       "    <tr>\n",
       "      <th>50%</th>\n",
       "      <td>2.653000e+04</td>\n",
       "      <td>-2.291938e+01</td>\n",
       "      <td>-4.663788e+01</td>\n",
       "    </tr>\n",
       "    <tr>\n",
       "      <th>75%</th>\n",
       "      <td>6.350400e+04</td>\n",
       "      <td>-1.997962e+01</td>\n",
       "      <td>-4.376771e+01</td>\n",
       "    </tr>\n",
       "    <tr>\n",
       "      <th>max</th>\n",
       "      <td>9.999000e+04</td>\n",
       "      <td>4.506593e+01</td>\n",
       "      <td>1.211054e+02</td>\n",
       "    </tr>\n",
       "  </tbody>\n",
       "</table>\n",
       "</div>"
      ],
      "text/plain": [
       "       geolocation_zip_code_prefix  geolocation_lat  geolocation_lng\n",
       "count                 1.000163e+06     1.000163e+06     1.000163e+06\n",
       "mean                  3.657417e+04    -2.117615e+01    -4.639054e+01\n",
       "std                   3.054934e+04     5.715866e+00     4.269748e+00\n",
       "min                   1.001000e+03    -3.660537e+01    -1.014668e+02\n",
       "25%                   1.107500e+04    -2.360355e+01    -4.857317e+01\n",
       "50%                   2.653000e+04    -2.291938e+01    -4.663788e+01\n",
       "75%                   6.350400e+04    -1.997962e+01    -4.376771e+01\n",
       "max                   9.999000e+04     4.506593e+01     1.211054e+02"
      ]
     },
     "execution_count": 5,
     "metadata": {},
     "output_type": "execute_result"
    }
   ],
   "source": [
    "#description des données\n",
    "geo.describe()"
   ]
  },
  {
   "cell_type": "code",
   "execution_count": 6,
   "id": "6c0ea02b",
   "metadata": {},
   "outputs": [
    {
     "data": {
      "text/html": [
       "<div>\n",
       "<style scoped>\n",
       "    .dataframe tbody tr th:only-of-type {\n",
       "        vertical-align: middle;\n",
       "    }\n",
       "\n",
       "    .dataframe tbody tr th {\n",
       "        vertical-align: top;\n",
       "    }\n",
       "\n",
       "    .dataframe thead th {\n",
       "        text-align: right;\n",
       "    }\n",
       "</style>\n",
       "<table border=\"1\" class=\"dataframe\">\n",
       "  <thead>\n",
       "    <tr style=\"text-align: right;\">\n",
       "      <th></th>\n",
       "      <th>variable name</th>\n",
       "      <th>variable type</th>\n",
       "      <th>nbr of distinct values</th>\n",
       "      <th>percentage of NaNs</th>\n",
       "    </tr>\n",
       "  </thead>\n",
       "  <tbody>\n",
       "    <tr>\n",
       "      <th>0</th>\n",
       "      <td>geolocation_zip_code_prefix</td>\n",
       "      <td>int64</td>\n",
       "      <td>19015</td>\n",
       "      <td>0.0 %</td>\n",
       "    </tr>\n",
       "    <tr>\n",
       "      <th>1</th>\n",
       "      <td>geolocation_lat</td>\n",
       "      <td>float64</td>\n",
       "      <td>717360</td>\n",
       "      <td>0.0 %</td>\n",
       "    </tr>\n",
       "    <tr>\n",
       "      <th>2</th>\n",
       "      <td>geolocation_lng</td>\n",
       "      <td>float64</td>\n",
       "      <td>717613</td>\n",
       "      <td>0.0 %</td>\n",
       "    </tr>\n",
       "    <tr>\n",
       "      <th>3</th>\n",
       "      <td>geolocation_city</td>\n",
       "      <td>object</td>\n",
       "      <td>8011</td>\n",
       "      <td>0.0 %</td>\n",
       "    </tr>\n",
       "    <tr>\n",
       "      <th>4</th>\n",
       "      <td>geolocation_state</td>\n",
       "      <td>object</td>\n",
       "      <td>27</td>\n",
       "      <td>0.0 %</td>\n",
       "    </tr>\n",
       "  </tbody>\n",
       "</table>\n",
       "</div>"
      ],
      "text/plain": [
       "                 variable name variable type nbr of distinct values  \\\n",
       "0  geolocation_zip_code_prefix         int64                  19015   \n",
       "1              geolocation_lat       float64                 717360   \n",
       "2              geolocation_lng       float64                 717613   \n",
       "3             geolocation_city        object                   8011   \n",
       "4            geolocation_state        object                     27   \n",
       "\n",
       "  percentage of NaNs  \n",
       "0              0.0 %  \n",
       "1              0.0 %  \n",
       "2              0.0 %  \n",
       "3              0.0 %  \n",
       "4              0.0 %  "
      ]
     },
     "execution_count": 6,
     "metadata": {},
     "output_type": "execute_result"
    }
   ],
   "source": [
    "my.variable_survey(geo)"
   ]
  },
  {
   "cell_type": "code",
   "execution_count": 7,
   "id": "4e8d99a2",
   "metadata": {},
   "outputs": [
    {
     "data": {
      "text/html": [
       "<div>\n",
       "<style scoped>\n",
       "    .dataframe tbody tr th:only-of-type {\n",
       "        vertical-align: middle;\n",
       "    }\n",
       "\n",
       "    .dataframe tbody tr th {\n",
       "        vertical-align: top;\n",
       "    }\n",
       "\n",
       "    .dataframe thead th {\n",
       "        text-align: right;\n",
       "    }\n",
       "</style>\n",
       "<table border=\"1\" class=\"dataframe\">\n",
       "  <thead>\n",
       "    <tr style=\"text-align: right;\">\n",
       "      <th></th>\n",
       "      <th>dataframe</th>\n",
       "      <th>(rows, column)</th>\n",
       "      <th>Total number of nans</th>\n",
       "      <th>percentage of nans</th>\n",
       "      <th>number of duplicated rows</th>\n",
       "      <th>percentage of duplicated rows</th>\n",
       "    </tr>\n",
       "  </thead>\n",
       "  <tbody>\n",
       "    <tr>\n",
       "      <th>0</th>\n",
       "      <td>geo</td>\n",
       "      <td>(1000163,5)</td>\n",
       "      <td>0</td>\n",
       "      <td>0.0 %</td>\n",
       "      <td>261831</td>\n",
       "      <td>0.2617883285024541 %</td>\n",
       "    </tr>\n",
       "  </tbody>\n",
       "</table>\n",
       "</div>"
      ],
      "text/plain": [
       "  dataframe (rows, column) Total number of nans percentage of nans  \\\n",
       "0       geo    (1000163,5)                    0              0.0 %   \n",
       "\n",
       "  number of duplicated rows percentage of duplicated rows  \n",
       "0                    261831          0.2617883285024541 %  "
      ]
     },
     "execution_count": 7,
     "metadata": {},
     "output_type": "execute_result"
    }
   ],
   "source": [
    "geo_dict = {'geo': geo}\n",
    "my.dataframe_survey(geo_dict)"
   ]
  },
  {
   "cell_type": "markdown",
   "id": "73ba6a7a",
   "metadata": {},
   "source": [
    "### Remarque:  \n",
    "Nous remarquons qu'il y a des doublons dans ce dataset. Nous allons les supprimer"
   ]
  },
  {
   "cell_type": "code",
   "execution_count": 8,
   "id": "6d9bb894",
   "metadata": {},
   "outputs": [],
   "source": [
    "geo = geo.drop_duplicates()"
   ]
  },
  {
   "cell_type": "code",
   "execution_count": 9,
   "id": "b863e4e4",
   "metadata": {},
   "outputs": [
    {
     "data": {
      "text/plain": [
       "(738332, 5)"
      ]
     },
     "execution_count": 9,
     "metadata": {},
     "output_type": "execute_result"
    }
   ],
   "source": [
    "geo.shape"
   ]
  },
  {
   "cell_type": "code",
   "execution_count": 10,
   "id": "3cdcf9e8",
   "metadata": {},
   "outputs": [
    {
     "data": {
      "text/html": [
       "<div>\n",
       "<style scoped>\n",
       "    .dataframe tbody tr th:only-of-type {\n",
       "        vertical-align: middle;\n",
       "    }\n",
       "\n",
       "    .dataframe tbody tr th {\n",
       "        vertical-align: top;\n",
       "    }\n",
       "\n",
       "    .dataframe thead th {\n",
       "        text-align: right;\n",
       "    }\n",
       "</style>\n",
       "<table border=\"1\" class=\"dataframe\">\n",
       "  <thead>\n",
       "    <tr style=\"text-align: right;\">\n",
       "      <th></th>\n",
       "      <th>dataframe</th>\n",
       "      <th>(rows, column)</th>\n",
       "      <th>Total number of nans</th>\n",
       "      <th>percentage of nans</th>\n",
       "      <th>number of duplicated rows</th>\n",
       "      <th>percentage of duplicated rows</th>\n",
       "    </tr>\n",
       "  </thead>\n",
       "  <tbody>\n",
       "    <tr>\n",
       "      <th>0</th>\n",
       "      <td>geo</td>\n",
       "      <td>(738332,5)</td>\n",
       "      <td>0</td>\n",
       "      <td>0.0 %</td>\n",
       "      <td>0</td>\n",
       "      <td>0.0 %</td>\n",
       "    </tr>\n",
       "  </tbody>\n",
       "</table>\n",
       "</div>"
      ],
      "text/plain": [
       "  dataframe (rows, column) Total number of nans percentage of nans  \\\n",
       "0       geo     (738332,5)                    0              0.0 %   \n",
       "\n",
       "  number of duplicated rows percentage of duplicated rows  \n",
       "0                         0                         0.0 %  "
      ]
     },
     "execution_count": 10,
     "metadata": {},
     "output_type": "execute_result"
    }
   ],
   "source": [
    "geo_dict = {'geo': geo}\n",
    "my.dataframe_survey(geo_dict)"
   ]
  },
  {
   "cell_type": "code",
   "execution_count": 11,
   "id": "c93d52ab",
   "metadata": {},
   "outputs": [
    {
     "data": {
      "image/png": "[encoded data removed]",
      "text/plain": [
       "<Figure size 720x720 with 2 Axes>"
      ]
     },
     "metadata": {
      "needs_background": "light"
     },
     "output_type": "display_data"
    }
   ],
   "source": [
    "geo.plot(kind=\"scatter\", x=\"geolocation_lat\", y=\"geolocation_lng\",\n",
    "         alpha=0.4, c=\"geolocation_zip_code_prefix\",\n",
    "         cmap='nipy_spectral', colorbar=True, figsize=(10, 10))\n",
    "plt.show()"
   ]
  },
  {
   "cell_type": "markdown",
   "id": "6d61aa9c",
   "metadata": {},
   "source": [
    "### Remarque:  \n",
    "Nous remarquons d'après la représentation géographique des zip-codes la présence des valeurs aberrantes. Nous allons les supprimer. "
   ]
  },
  {
   "cell_type": "code",
   "execution_count": 12,
   "id": "39e1784a",
   "metadata": {},
   "outputs": [],
   "source": [
    "geo = geo[geo['geolocation_lat'].between(-35 , 5)]\n",
    "geo = geo[geo['geolocation_lng'].between(-75 , -33)]"
   ]
  },
  {
   "cell_type": "code",
   "execution_count": 13,
   "id": "df26dbdc",
   "metadata": {},
   "outputs": [
    {
     "data": {
      "image/png": "[encoded data removed]",
      "text/plain": [
       "<Figure size 720x720 with 2 Axes>"
      ]
     },
     "metadata": {
      "needs_background": "light"
     },
     "output_type": "display_data"
    }
   ],
   "source": [
    "geo.plot(kind=\"scatter\", x=\"geolocation_lat\", y=\"geolocation_lng\",\n",
    "         alpha=0.4, c=\"geolocation_zip_code_prefix\",\n",
    "         cmap='nipy_spectral', colorbar=True, figsize=(10, 10))\n",
    "plt.show()"
   ]
  },
  {
   "cell_type": "code",
   "execution_count": 14,
   "id": "fae8ba56",
   "metadata": {},
   "outputs": [
    {
     "data": {
      "text/plain": [
       "Index(['geolocation_zip_code_prefix', 'geolocation_lat', 'geolocation_lng',\n",
       "       'geolocation_city', 'geolocation_state'],\n",
       "      dtype='object')"
      ]
     },
     "execution_count": 14,
     "metadata": {},
     "output_type": "execute_result"
    }
   ],
   "source": [
    "geo.columns"
   ]
  },
  {
   "cell_type": "markdown",
   "id": "531be086",
   "metadata": {},
   "source": [
    "## **Sélection des variables utiles**  \n",
    "Nous allons sélectionner les variables 'geolocation_zip_code_prefix', 'geolocation_lat', 'geolocation_lng', nous en aurons besoin pour savoir la localisation des vendeurs ainsi que les clients et ensuite calculer les distances qui leurs séparent."
   ]
  },
  {
   "cell_type": "code",
   "execution_count": 15,
   "id": "d2a13d76",
   "metadata": {},
   "outputs": [],
   "source": [
    "geo = geo[['geolocation_zip_code_prefix', 'geolocation_lat', 'geolocation_lng']]\n"
   ]
  },
  {
   "cell_type": "code",
   "execution_count": 16,
   "id": "2ff8eb10",
   "metadata": {},
   "outputs": [
    {
     "data": {
      "text/plain": [
       "Index(['geolocation_zip_code_prefix', 'geolocation_lat', 'geolocation_lng'], dtype='object')"
      ]
     },
     "execution_count": 16,
     "metadata": {},
     "output_type": "execute_result"
    }
   ],
   "source": [
    "geo.columns"
   ]
  },
  {
   "cell_type": "markdown",
   "id": "9661ce05",
   "metadata": {},
   "source": [
    "## 1.2. Orders / Les commandes  \n"
   ]
  },
  {
   "cell_type": "code",
   "execution_count": 17,
   "id": "5c1bdf11",
   "metadata": {},
   "outputs": [
    {
     "data": {
      "text/html": [
       "<div>\n",
       "<style scoped>\n",
       "    .dataframe tbody tr th:only-of-type {\n",
       "        vertical-align: middle;\n",
       "    }\n",
       "\n",
       "    .dataframe tbody tr th {\n",
       "        vertical-align: top;\n",
       "    }\n",
       "\n",
       "    .dataframe thead th {\n",
       "        text-align: right;\n",
       "    }\n",
       "</style>\n",
       "<table border=\"1\" class=\"dataframe\">\n",
       "  <thead>\n",
       "    <tr style=\"text-align: right;\">\n",
       "      <th></th>\n",
       "      <th>order_id</th>\n",
       "      <th>customer_id</th>\n",
       "      <th>order_status</th>\n",
       "      <th>order_purchase_timestamp</th>\n",
       "      <th>order_approved_at</th>\n",
       "      <th>order_delivered_carrier_date</th>\n",
       "      <th>order_delivered_customer_date</th>\n",
       "      <th>order_estimated_delivery_date</th>\n",
       "    </tr>\n",
       "  </thead>\n",
       "  <tbody>\n",
       "    <tr>\n",
       "      <th>0</th>\n",
       "      <td>e481f51cbdc54678b7cc49136f2d6af7</td>\n",
       "      <td>9ef432eb6251297304e76186b10a928d</td>\n",
       "      <td>delivered</td>\n",
       "      <td>2017-10-02 10:56:33</td>\n",
       "      <td>2017-10-02 11:07:15</td>\n",
       "      <td>2017-10-04 19:55:00</td>\n",
       "      <td>2017-10-10 21:25:13</td>\n",
       "      <td>2017-10-18 00:00:00</td>\n",
       "    </tr>\n",
       "    <tr>\n",
       "      <th>1</th>\n",
       "      <td>53cdb2fc8bc7dce0b6741e2150273451</td>\n",
       "      <td>b0830fb4747a6c6d20dea0b8c802d7ef</td>\n",
       "      <td>delivered</td>\n",
       "      <td>2018-07-24 20:41:37</td>\n",
       "      <td>2018-07-26 03:24:27</td>\n",
       "      <td>2018-07-26 14:31:00</td>\n",
       "      <td>2018-08-07 15:27:45</td>\n",
       "      <td>2018-08-13 00:00:00</td>\n",
       "    </tr>\n",
       "    <tr>\n",
       "      <th>2</th>\n",
       "      <td>47770eb9100c2d0c44946d9cf07ec65d</td>\n",
       "      <td>41ce2a54c0b03bf3443c3d931a367089</td>\n",
       "      <td>delivered</td>\n",
       "      <td>2018-08-08 08:38:49</td>\n",
       "      <td>2018-08-08 08:55:23</td>\n",
       "      <td>2018-08-08 13:50:00</td>\n",
       "      <td>2018-08-17 18:06:29</td>\n",
       "      <td>2018-09-04 00:00:00</td>\n",
       "    </tr>\n",
       "    <tr>\n",
       "      <th>3</th>\n",
       "      <td>949d5b44dbf5de918fe9c16f97b45f8a</td>\n",
       "      <td>f88197465ea7920adcdbec7375364d82</td>\n",
       "      <td>delivered</td>\n",
       "      <td>2017-11-18 19:28:06</td>\n",
       "      <td>2017-11-18 19:45:59</td>\n",
       "      <td>2017-11-22 13:39:59</td>\n",
       "      <td>2017-12-02 00:28:42</td>\n",
       "      <td>2017-12-15 00:00:00</td>\n",
       "    </tr>\n",
       "    <tr>\n",
       "      <th>4</th>\n",
       "      <td>ad21c59c0840e6cb83a9ceb5573f8159</td>\n",
       "      <td>8ab97904e6daea8866dbdbc4fb7aad2c</td>\n",
       "      <td>delivered</td>\n",
       "      <td>2018-02-13 21:18:39</td>\n",
       "      <td>2018-02-13 22:20:29</td>\n",
       "      <td>2018-02-14 19:46:34</td>\n",
       "      <td>2018-02-16 18:17:02</td>\n",
       "      <td>2018-02-26 00:00:00</td>\n",
       "    </tr>\n",
       "  </tbody>\n",
       "</table>\n",
       "</div>"
      ],
      "text/plain": [
       "                           order_id                       customer_id  \\\n",
       "0  e481f51cbdc54678b7cc49136f2d6af7  9ef432eb6251297304e76186b10a928d   \n",
       "1  53cdb2fc8bc7dce0b6741e2150273451  b0830fb4747a6c6d20dea0b8c802d7ef   \n",
       "2  47770eb9100c2d0c44946d9cf07ec65d  41ce2a54c0b03bf3443c3d931a367089   \n",
       "3  949d5b44dbf5de918fe9c16f97b45f8a  f88197465ea7920adcdbec7375364d82   \n",
       "4  ad21c59c0840e6cb83a9ceb5573f8159  8ab97904e6daea8866dbdbc4fb7aad2c   \n",
       "\n",
       "  order_status order_purchase_timestamp    order_approved_at  \\\n",
       "0    delivered      2017-10-02 10:56:33  2017-10-02 11:07:15   \n",
       "1    delivered      2018-07-24 20:41:37  2018-07-26 03:24:27   \n",
       "2    delivered      2018-08-08 08:38:49  2018-08-08 08:55:23   \n",
       "3    delivered      2017-11-18 19:28:06  2017-11-18 19:45:59   \n",
       "4    delivered      2018-02-13 21:18:39  2018-02-13 22:20:29   \n",
       "\n",
       "  order_delivered_carrier_date order_delivered_customer_date  \\\n",
       "0          2017-10-04 19:55:00           2017-10-10 21:25:13   \n",
       "1          2018-07-26 14:31:00           2018-08-07 15:27:45   \n",
       "2          2018-08-08 13:50:00           2018-08-17 18:06:29   \n",
       "3          2017-11-22 13:39:59           2017-12-02 00:28:42   \n",
       "4          2018-02-14 19:46:34           2018-02-16 18:17:02   \n",
       "\n",
       "  order_estimated_delivery_date  \n",
       "0           2017-10-18 00:00:00  \n",
       "1           2018-08-13 00:00:00  \n",
       "2           2018-09-04 00:00:00  \n",
       "3           2017-12-15 00:00:00  \n",
       "4           2018-02-26 00:00:00  "
      ]
     },
     "execution_count": 17,
     "metadata": {},
     "output_type": "execute_result"
    }
   ],
   "source": [
    "orders.head()"
   ]
  },
  {
   "cell_type": "code",
   "execution_count": 18,
   "id": "aef4ba91",
   "metadata": {},
   "outputs": [
    {
     "data": {
      "text/html": [
       "<div>\n",
       "<style scoped>\n",
       "    .dataframe tbody tr th:only-of-type {\n",
       "        vertical-align: middle;\n",
       "    }\n",
       "\n",
       "    .dataframe tbody tr th {\n",
       "        vertical-align: top;\n",
       "    }\n",
       "\n",
       "    .dataframe thead th {\n",
       "        text-align: right;\n",
       "    }\n",
       "</style>\n",
       "<table border=\"1\" class=\"dataframe\">\n",
       "  <thead>\n",
       "    <tr style=\"text-align: right;\">\n",
       "      <th></th>\n",
       "      <th>order_id</th>\n",
       "      <th>customer_id</th>\n",
       "      <th>order_status</th>\n",
       "      <th>order_purchase_timestamp</th>\n",
       "      <th>order_approved_at</th>\n",
       "      <th>order_delivered_carrier_date</th>\n",
       "      <th>order_delivered_customer_date</th>\n",
       "      <th>order_estimated_delivery_date</th>\n",
       "    </tr>\n",
       "  </thead>\n",
       "  <tbody>\n",
       "    <tr>\n",
       "      <th>count</th>\n",
       "      <td>99441</td>\n",
       "      <td>99441</td>\n",
       "      <td>99441</td>\n",
       "      <td>99441</td>\n",
       "      <td>99281</td>\n",
       "      <td>97658</td>\n",
       "      <td>96476</td>\n",
       "      <td>99441</td>\n",
       "    </tr>\n",
       "    <tr>\n",
       "      <th>unique</th>\n",
       "      <td>99441</td>\n",
       "      <td>99441</td>\n",
       "      <td>8</td>\n",
       "      <td>98875</td>\n",
       "      <td>90733</td>\n",
       "      <td>81018</td>\n",
       "      <td>95664</td>\n",
       "      <td>459</td>\n",
       "    </tr>\n",
       "    <tr>\n",
       "      <th>top</th>\n",
       "      <td>1c49e3fd28c9c369b12fd84446e475ab</td>\n",
       "      <td>2b52fe2c8577aa99f7dadca0efbaafaa</td>\n",
       "      <td>delivered</td>\n",
       "      <td>2018-08-02 12:06:09</td>\n",
       "      <td>2018-02-27 04:31:10</td>\n",
       "      <td>2018-05-09 15:48:00</td>\n",
       "      <td>2016-10-27 17:32:07</td>\n",
       "      <td>2017-12-20 00:00:00</td>\n",
       "    </tr>\n",
       "    <tr>\n",
       "      <th>freq</th>\n",
       "      <td>1</td>\n",
       "      <td>1</td>\n",
       "      <td>96478</td>\n",
       "      <td>3</td>\n",
       "      <td>9</td>\n",
       "      <td>47</td>\n",
       "      <td>3</td>\n",
       "      <td>522</td>\n",
       "    </tr>\n",
       "  </tbody>\n",
       "</table>\n",
       "</div>"
      ],
      "text/plain": [
       "                                order_id                       customer_id  \\\n",
       "count                              99441                             99441   \n",
       "unique                             99441                             99441   \n",
       "top     1c49e3fd28c9c369b12fd84446e475ab  2b52fe2c8577aa99f7dadca0efbaafaa   \n",
       "freq                                   1                                 1   \n",
       "\n",
       "       order_status order_purchase_timestamp    order_approved_at  \\\n",
       "count         99441                    99441                99281   \n",
       "unique            8                    98875                90733   \n",
       "top       delivered      2018-08-02 12:06:09  2018-02-27 04:31:10   \n",
       "freq          96478                        3                    9   \n",
       "\n",
       "       order_delivered_carrier_date order_delivered_customer_date  \\\n",
       "count                         97658                         96476   \n",
       "unique                        81018                         95664   \n",
       "top             2018-05-09 15:48:00           2016-10-27 17:32:07   \n",
       "freq                             47                             3   \n",
       "\n",
       "       order_estimated_delivery_date  \n",
       "count                          99441  \n",
       "unique                           459  \n",
       "top              2017-12-20 00:00:00  \n",
       "freq                             522  "
      ]
     },
     "execution_count": 18,
     "metadata": {},
     "output_type": "execute_result"
    }
   ],
   "source": [
    "#description des données\n",
    "orders.describe()"
   ]
  },
  {
   "cell_type": "code",
   "execution_count": 19,
   "id": "1bc9bd48",
   "metadata": {},
   "outputs": [
    {
     "data": {
      "text/html": [
       "<div>\n",
       "<style scoped>\n",
       "    .dataframe tbody tr th:only-of-type {\n",
       "        vertical-align: middle;\n",
       "    }\n",
       "\n",
       "    .dataframe tbody tr th {\n",
       "        vertical-align: top;\n",
       "    }\n",
       "\n",
       "    .dataframe thead th {\n",
       "        text-align: right;\n",
       "    }\n",
       "</style>\n",
       "<table border=\"1\" class=\"dataframe\">\n",
       "  <thead>\n",
       "    <tr style=\"text-align: right;\">\n",
       "      <th></th>\n",
       "      <th>dataframe</th>\n",
       "      <th>(rows, column)</th>\n",
       "      <th>Total number of nans</th>\n",
       "      <th>percentage of nans</th>\n",
       "      <th>number of duplicated rows</th>\n",
       "      <th>percentage of duplicated rows</th>\n",
       "    </tr>\n",
       "  </thead>\n",
       "  <tbody>\n",
       "    <tr>\n",
       "      <th>0</th>\n",
       "      <td>orders</td>\n",
       "      <td>(99441,8)</td>\n",
       "      <td>4908</td>\n",
       "      <td>0.62 %</td>\n",
       "      <td>0</td>\n",
       "      <td>0.0 %</td>\n",
       "    </tr>\n",
       "  </tbody>\n",
       "</table>\n",
       "</div>"
      ],
      "text/plain": [
       "  dataframe (rows, column) Total number of nans percentage of nans  \\\n",
       "0    orders      (99441,8)                 4908             0.62 %   \n",
       "\n",
       "  number of duplicated rows percentage of duplicated rows  \n",
       "0                         0                         0.0 %  "
      ]
     },
     "execution_count": 19,
     "metadata": {},
     "output_type": "execute_result"
    }
   ],
   "source": [
    "orders_dict = {'orders' :orders}\n",
    "my.dataframe_survey(orders_dict)"
   ]
  },
  {
   "cell_type": "code",
   "execution_count": 20,
   "id": "3a0d3573",
   "metadata": {},
   "outputs": [
    {
     "data": {
      "text/html": [
       "<div>\n",
       "<style scoped>\n",
       "    .dataframe tbody tr th:only-of-type {\n",
       "        vertical-align: middle;\n",
       "    }\n",
       "\n",
       "    .dataframe tbody tr th {\n",
       "        vertical-align: top;\n",
       "    }\n",
       "\n",
       "    .dataframe thead th {\n",
       "        text-align: right;\n",
       "    }\n",
       "</style>\n",
       "<table border=\"1\" class=\"dataframe\">\n",
       "  <thead>\n",
       "    <tr style=\"text-align: right;\">\n",
       "      <th></th>\n",
       "      <th>variable name</th>\n",
       "      <th>variable type</th>\n",
       "      <th>nbr of distinct values</th>\n",
       "      <th>percentage of NaNs</th>\n",
       "    </tr>\n",
       "  </thead>\n",
       "  <tbody>\n",
       "    <tr>\n",
       "      <th>0</th>\n",
       "      <td>order_id</td>\n",
       "      <td>object</td>\n",
       "      <td>99441</td>\n",
       "      <td>0.0 %</td>\n",
       "    </tr>\n",
       "    <tr>\n",
       "      <th>1</th>\n",
       "      <td>customer_id</td>\n",
       "      <td>object</td>\n",
       "      <td>99441</td>\n",
       "      <td>0.0 %</td>\n",
       "    </tr>\n",
       "    <tr>\n",
       "      <th>2</th>\n",
       "      <td>order_status</td>\n",
       "      <td>object</td>\n",
       "      <td>8</td>\n",
       "      <td>0.0 %</td>\n",
       "    </tr>\n",
       "    <tr>\n",
       "      <th>3</th>\n",
       "      <td>order_purchase_timestamp</td>\n",
       "      <td>object</td>\n",
       "      <td>98875</td>\n",
       "      <td>0.0 %</td>\n",
       "    </tr>\n",
       "    <tr>\n",
       "      <th>4</th>\n",
       "      <td>order_approved_at</td>\n",
       "      <td>object</td>\n",
       "      <td>90733</td>\n",
       "      <td>0.16 %</td>\n",
       "    </tr>\n",
       "    <tr>\n",
       "      <th>5</th>\n",
       "      <td>order_delivered_carrier_date</td>\n",
       "      <td>object</td>\n",
       "      <td>81018</td>\n",
       "      <td>1.79 %</td>\n",
       "    </tr>\n",
       "    <tr>\n",
       "      <th>6</th>\n",
       "      <td>order_delivered_customer_date</td>\n",
       "      <td>object</td>\n",
       "      <td>95664</td>\n",
       "      <td>2.98 %</td>\n",
       "    </tr>\n",
       "    <tr>\n",
       "      <th>7</th>\n",
       "      <td>order_estimated_delivery_date</td>\n",
       "      <td>object</td>\n",
       "      <td>459</td>\n",
       "      <td>0.0 %</td>\n",
       "    </tr>\n",
       "  </tbody>\n",
       "</table>\n",
       "</div>"
      ],
      "text/plain": [
       "                   variable name variable type nbr of distinct values  \\\n",
       "0                       order_id        object                  99441   \n",
       "1                    customer_id        object                  99441   \n",
       "2                   order_status        object                      8   \n",
       "3       order_purchase_timestamp        object                  98875   \n",
       "4              order_approved_at        object                  90733   \n",
       "5   order_delivered_carrier_date        object                  81018   \n",
       "6  order_delivered_customer_date        object                  95664   \n",
       "7  order_estimated_delivery_date        object                    459   \n",
       "\n",
       "  percentage of NaNs  \n",
       "0              0.0 %  \n",
       "1              0.0 %  \n",
       "2              0.0 %  \n",
       "3              0.0 %  \n",
       "4             0.16 %  \n",
       "5             1.79 %  \n",
       "6             2.98 %  \n",
       "7              0.0 %  "
      ]
     },
     "execution_count": 20,
     "metadata": {},
     "output_type": "execute_result"
    }
   ],
   "source": [
    "my.variable_survey(orders)"
   ]
  },
  {
   "cell_type": "code",
   "execution_count": 21,
   "id": "6ff81094",
   "metadata": {},
   "outputs": [
    {
     "data": {
      "image/png": "[encoded data removed]",
      "text/plain": [
       "<Figure size 1440x432 with 1 Axes>"
      ]
     },
     "metadata": {
      "needs_background": "light"
     },
     "output_type": "display_data"
    }
   ],
   "source": [
    "my.nans_df(orders)"
   ]
  },
  {
   "cell_type": "markdown",
   "id": "bba6d201",
   "metadata": {},
   "source": [
    "Nous allons essayer de comprendre les données manquantes :  \n",
    "- Dans ce dataset, il y a toute information qui concerne la commande.\n",
    "- Il y a plusieurs données sur les dates:  \n",
    "   - order_purchase_timestamp: horodatage de l'achat de la commande\n",
    "   - order_estimated_delivery_date : date estimé pour la livraison\n",
    "   - order_approved_at : indique quand la commande est approuvée. Puisqu'il y a des données manquantes, nous mettons comme hypothèse que la commande est approuvée après peux de temps de la date d'achat. Si cette hypothèse est vérifiée, nous allons remplacer les valeurs manquantes par la order_purchase_timestamp.  \n",
    "   - order_delivered_carrier_date: date de livraison de la commande au partenaire logistique\n",
    "   - order_delivered_customer_date: date actuelle de livraison au client  \n",
    "   \n",
    "Ce qui nous interesse dans ces données, afin d'extraire le RFM, c'est orderID, custumerID, order_purchase_timestamp. "
   ]
  },
  {
   "cell_type": "code",
   "execution_count": 22,
   "id": "36443560",
   "metadata": {
    "scrolled": true
   },
   "outputs": [],
   "source": [
    "#conversion des données date de object vers datetime\n",
    "orders['order_purchase_timestamp'] = pd.to_datetime(orders['order_purchase_timestamp'])\n",
    "orders['order_approved_at'] = pd.to_datetime(orders['order_approved_at'])\n",
    "orders['order_delivered_carrier_date'] = pd.to_datetime(orders['order_delivered_carrier_date'])\n",
    "orders['order_delivered_customer_date'] = pd.to_datetime(orders['order_delivered_customer_date'])\n",
    "orders['order_estimated_delivery_date'] = pd.to_datetime(orders['order_estimated_delivery_date'])"
   ]
  },
  {
   "cell_type": "code",
   "execution_count": 23,
   "id": "fe516ac0",
   "metadata": {},
   "outputs": [
    {
     "data": {
      "text/plain": [
       "array(['delivered', 'invoiced', 'shipped', 'processing', 'unavailable',\n",
       "       'canceled', 'created', 'approved'], dtype=object)"
      ]
     },
     "execution_count": 23,
     "metadata": {},
     "output_type": "execute_result"
    }
   ],
   "source": [
    "#vérifions les différents status des commandes\n",
    "orders['order_status'].unique()"
   ]
  },
  {
   "cell_type": "code",
   "execution_count": 24,
   "id": "425269c7",
   "metadata": {},
   "outputs": [
    {
     "data": {
      "text/plain": [
       "delivered      0.970203\n",
       "shipped        0.011132\n",
       "canceled       0.006285\n",
       "unavailable    0.006124\n",
       "invoiced       0.003158\n",
       "processing     0.003027\n",
       "created        0.000050\n",
       "approved       0.000020\n",
       "Name: order_status, dtype: float64"
      ]
     },
     "execution_count": 24,
     "metadata": {},
     "output_type": "execute_result"
    }
   ],
   "source": [
    "orders['order_status'].value_counts(normalize=True)"
   ]
  },
  {
   "cell_type": "code",
   "execution_count": 25,
   "id": "81eae305",
   "metadata": {},
   "outputs": [
    {
     "data": {
      "text/plain": [
       "<AxesSubplot:ylabel='order_status'>"
      ]
     },
     "execution_count": 25,
     "metadata": {},
     "output_type": "execute_result"
    },
    {
     "data": {
      "image/png": "[encoded data removed]",
      "text/plain": [
       "<Figure size 864x720 with 1 Axes>"
      ]
     },
     "metadata": {},
     "output_type": "display_data"
    }
   ],
   "source": [
    "plt.figure(figsize=(12,10))\n",
    "orders['order_status'].value_counts(normalize=True).plot.pie(autopct=\"%1.1f%%\")"
   ]
  },
  {
   "cell_type": "code",
   "execution_count": 26,
   "id": "479b4f12",
   "metadata": {},
   "outputs": [],
   "source": [
    "#Nous allons supprimer les commandes annulées\n",
    "orders = orders[orders.order_status != 'canceled'] "
   ]
  },
  {
   "cell_type": "code",
   "execution_count": 27,
   "id": "e1c42c7c",
   "metadata": {},
   "outputs": [
    {
     "data": {
      "text/plain": [
       "delivered      0.976340\n",
       "shipped        0.011203\n",
       "unavailable    0.006163\n",
       "invoiced       0.003178\n",
       "processing     0.003046\n",
       "created        0.000051\n",
       "approved       0.000020\n",
       "Name: order_status, dtype: float64"
      ]
     },
     "execution_count": 27,
     "metadata": {},
     "output_type": "execute_result"
    }
   ],
   "source": [
    "#verifier qu'on a bien supprimé les commandes annulées\n",
    "orders['order_status'].value_counts(normalize=True)"
   ]
  },
  {
   "cell_type": "markdown",
   "id": "b1e77fa7",
   "metadata": {},
   "source": [
    "## **Sélection des variables utiles**    \n",
    "Pour ce dataframe, nous allons garder les variables orderID, custumerID, order_purchase_timestamp. Nous allons renommer la variable 'order_purchase_timestamp' afin de simplifier son appel. "
   ]
  },
  {
   "cell_type": "code",
   "execution_count": 28,
   "id": "5b084883",
   "metadata": {},
   "outputs": [
    {
     "data": {
      "text/plain": [
       "Index(['order_id', 'customer_id', 'order_purchase_timestamp'], dtype='object')"
      ]
     },
     "execution_count": 28,
     "metadata": {},
     "output_type": "execute_result"
    }
   ],
   "source": [
    "orders_df = orders[['order_id','customer_id', 'order_purchase_timestamp']]\n",
    "orders_df.columns"
   ]
  },
  {
   "cell_type": "code",
   "execution_count": 29,
   "id": "69dd72e3",
   "metadata": {},
   "outputs": [],
   "source": [
    "#renommer 'order_purchase_timestamp'\n",
    "orders_df = orders_df.rename(columns={\"order_purchase_timestamp\": \"order_date\"})"
   ]
  },
  {
   "cell_type": "markdown",
   "id": "951c6219",
   "metadata": {},
   "source": [
    "## 1.3. products/ produits"
   ]
  },
  {
   "cell_type": "code",
   "execution_count": 30,
   "id": "0bb62c22",
   "metadata": {},
   "outputs": [
    {
     "data": {
      "text/html": [
       "<div>\n",
       "<style scoped>\n",
       "    .dataframe tbody tr th:only-of-type {\n",
       "        vertical-align: middle;\n",
       "    }\n",
       "\n",
       "    .dataframe tbody tr th {\n",
       "        vertical-align: top;\n",
       "    }\n",
       "\n",
       "    .dataframe thead th {\n",
       "        text-align: right;\n",
       "    }\n",
       "</style>\n",
       "<table border=\"1\" class=\"dataframe\">\n",
       "  <thead>\n",
       "    <tr style=\"text-align: right;\">\n",
       "      <th></th>\n",
       "      <th>dataframe</th>\n",
       "      <th>(rows, column)</th>\n",
       "      <th>Total number of nans</th>\n",
       "      <th>percentage of nans</th>\n",
       "      <th>number of duplicated rows</th>\n",
       "      <th>percentage of duplicated rows</th>\n",
       "    </tr>\n",
       "  </thead>\n",
       "  <tbody>\n",
       "    <tr>\n",
       "      <th>0</th>\n",
       "      <td>products</td>\n",
       "      <td>(32951,9)</td>\n",
       "      <td>2448</td>\n",
       "      <td>0.83 %</td>\n",
       "      <td>0</td>\n",
       "      <td>0.0 %</td>\n",
       "    </tr>\n",
       "  </tbody>\n",
       "</table>\n",
       "</div>"
      ],
      "text/plain": [
       "  dataframe (rows, column) Total number of nans percentage of nans  \\\n",
       "0  products      (32951,9)                 2448             0.83 %   \n",
       "\n",
       "  number of duplicated rows percentage of duplicated rows  \n",
       "0                         0                         0.0 %  "
      ]
     },
     "execution_count": 30,
     "metadata": {},
     "output_type": "execute_result"
    }
   ],
   "source": [
    "product_dict = {'products': products}\n",
    "my.dataframe_survey(product_dict)"
   ]
  },
  {
   "cell_type": "markdown",
   "id": "fafaa1a5",
   "metadata": {},
   "source": [
    "--> Nous avons 32951 produits uniques"
   ]
  },
  {
   "cell_type": "code",
   "execution_count": 31,
   "id": "79d4229e",
   "metadata": {},
   "outputs": [
    {
     "data": {
      "text/html": [
       "<div>\n",
       "<style scoped>\n",
       "    .dataframe tbody tr th:only-of-type {\n",
       "        vertical-align: middle;\n",
       "    }\n",
       "\n",
       "    .dataframe tbody tr th {\n",
       "        vertical-align: top;\n",
       "    }\n",
       "\n",
       "    .dataframe thead th {\n",
       "        text-align: right;\n",
       "    }\n",
       "</style>\n",
       "<table border=\"1\" class=\"dataframe\">\n",
       "  <thead>\n",
       "    <tr style=\"text-align: right;\">\n",
       "      <th></th>\n",
       "      <th>variable name</th>\n",
       "      <th>variable type</th>\n",
       "      <th>nbr of distinct values</th>\n",
       "      <th>percentage of NaNs</th>\n",
       "    </tr>\n",
       "  </thead>\n",
       "  <tbody>\n",
       "    <tr>\n",
       "      <th>0</th>\n",
       "      <td>product_id</td>\n",
       "      <td>object</td>\n",
       "      <td>32951</td>\n",
       "      <td>0.0 %</td>\n",
       "    </tr>\n",
       "    <tr>\n",
       "      <th>1</th>\n",
       "      <td>product_category_name</td>\n",
       "      <td>object</td>\n",
       "      <td>73</td>\n",
       "      <td>1.85 %</td>\n",
       "    </tr>\n",
       "    <tr>\n",
       "      <th>2</th>\n",
       "      <td>product_name_lenght</td>\n",
       "      <td>float64</td>\n",
       "      <td>66</td>\n",
       "      <td>1.85 %</td>\n",
       "    </tr>\n",
       "    <tr>\n",
       "      <th>3</th>\n",
       "      <td>product_description_lenght</td>\n",
       "      <td>float64</td>\n",
       "      <td>2960</td>\n",
       "      <td>1.85 %</td>\n",
       "    </tr>\n",
       "    <tr>\n",
       "      <th>4</th>\n",
       "      <td>product_photos_qty</td>\n",
       "      <td>float64</td>\n",
       "      <td>19</td>\n",
       "      <td>1.85 %</td>\n",
       "    </tr>\n",
       "    <tr>\n",
       "      <th>5</th>\n",
       "      <td>product_weight_g</td>\n",
       "      <td>float64</td>\n",
       "      <td>2204</td>\n",
       "      <td>0.01 %</td>\n",
       "    </tr>\n",
       "    <tr>\n",
       "      <th>6</th>\n",
       "      <td>product_length_cm</td>\n",
       "      <td>float64</td>\n",
       "      <td>99</td>\n",
       "      <td>0.01 %</td>\n",
       "    </tr>\n",
       "    <tr>\n",
       "      <th>7</th>\n",
       "      <td>product_height_cm</td>\n",
       "      <td>float64</td>\n",
       "      <td>102</td>\n",
       "      <td>0.01 %</td>\n",
       "    </tr>\n",
       "    <tr>\n",
       "      <th>8</th>\n",
       "      <td>product_width_cm</td>\n",
       "      <td>float64</td>\n",
       "      <td>95</td>\n",
       "      <td>0.01 %</td>\n",
       "    </tr>\n",
       "  </tbody>\n",
       "</table>\n",
       "</div>"
      ],
      "text/plain": [
       "                variable name variable type nbr of distinct values  \\\n",
       "0                  product_id        object                  32951   \n",
       "1       product_category_name        object                     73   \n",
       "2         product_name_lenght       float64                     66   \n",
       "3  product_description_lenght       float64                   2960   \n",
       "4          product_photos_qty       float64                     19   \n",
       "5            product_weight_g       float64                   2204   \n",
       "6           product_length_cm       float64                     99   \n",
       "7           product_height_cm       float64                    102   \n",
       "8            product_width_cm       float64                     95   \n",
       "\n",
       "  percentage of NaNs  \n",
       "0              0.0 %  \n",
       "1             1.85 %  \n",
       "2             1.85 %  \n",
       "3             1.85 %  \n",
       "4             1.85 %  \n",
       "5             0.01 %  \n",
       "6             0.01 %  \n",
       "7             0.01 %  \n",
       "8             0.01 %  "
      ]
     },
     "execution_count": 31,
     "metadata": {},
     "output_type": "execute_result"
    }
   ],
   "source": [
    "my.variable_survey(products)"
   ]
  },
  {
   "cell_type": "code",
   "execution_count": 32,
   "id": "7bb57ff2",
   "metadata": {},
   "outputs": [
    {
     "data": {
      "text/html": [
       "<div>\n",
       "<style scoped>\n",
       "    .dataframe tbody tr th:only-of-type {\n",
       "        vertical-align: middle;\n",
       "    }\n",
       "\n",
       "    .dataframe tbody tr th {\n",
       "        vertical-align: top;\n",
       "    }\n",
       "\n",
       "    .dataframe thead th {\n",
       "        text-align: right;\n",
       "    }\n",
       "</style>\n",
       "<table border=\"1\" class=\"dataframe\">\n",
       "  <thead>\n",
       "    <tr style=\"text-align: right;\">\n",
       "      <th></th>\n",
       "      <th>product_id</th>\n",
       "      <th>product_category_name</th>\n",
       "      <th>product_name_lenght</th>\n",
       "      <th>product_description_lenght</th>\n",
       "      <th>product_photos_qty</th>\n",
       "      <th>product_weight_g</th>\n",
       "      <th>product_length_cm</th>\n",
       "      <th>product_height_cm</th>\n",
       "      <th>product_width_cm</th>\n",
       "    </tr>\n",
       "  </thead>\n",
       "  <tbody>\n",
       "    <tr>\n",
       "      <th>0</th>\n",
       "      <td>1e9e8ef04dbcff4541ed26657ea517e5</td>\n",
       "      <td>perfumaria</td>\n",
       "      <td>40.0</td>\n",
       "      <td>287.0</td>\n",
       "      <td>1.0</td>\n",
       "      <td>225.0</td>\n",
       "      <td>16.0</td>\n",
       "      <td>10.0</td>\n",
       "      <td>14.0</td>\n",
       "    </tr>\n",
       "    <tr>\n",
       "      <th>1</th>\n",
       "      <td>3aa071139cb16b67ca9e5dea641aaa2f</td>\n",
       "      <td>artes</td>\n",
       "      <td>44.0</td>\n",
       "      <td>276.0</td>\n",
       "      <td>1.0</td>\n",
       "      <td>1000.0</td>\n",
       "      <td>30.0</td>\n",
       "      <td>18.0</td>\n",
       "      <td>20.0</td>\n",
       "    </tr>\n",
       "    <tr>\n",
       "      <th>2</th>\n",
       "      <td>96bd76ec8810374ed1b65e291975717f</td>\n",
       "      <td>esporte_lazer</td>\n",
       "      <td>46.0</td>\n",
       "      <td>250.0</td>\n",
       "      <td>1.0</td>\n",
       "      <td>154.0</td>\n",
       "      <td>18.0</td>\n",
       "      <td>9.0</td>\n",
       "      <td>15.0</td>\n",
       "    </tr>\n",
       "    <tr>\n",
       "      <th>3</th>\n",
       "      <td>cef67bcfe19066a932b7673e239eb23d</td>\n",
       "      <td>bebes</td>\n",
       "      <td>27.0</td>\n",
       "      <td>261.0</td>\n",
       "      <td>1.0</td>\n",
       "      <td>371.0</td>\n",
       "      <td>26.0</td>\n",
       "      <td>4.0</td>\n",
       "      <td>26.0</td>\n",
       "    </tr>\n",
       "    <tr>\n",
       "      <th>4</th>\n",
       "      <td>9dc1a7de274444849c219cff195d0b71</td>\n",
       "      <td>utilidades_domesticas</td>\n",
       "      <td>37.0</td>\n",
       "      <td>402.0</td>\n",
       "      <td>4.0</td>\n",
       "      <td>625.0</td>\n",
       "      <td>20.0</td>\n",
       "      <td>17.0</td>\n",
       "      <td>13.0</td>\n",
       "    </tr>\n",
       "  </tbody>\n",
       "</table>\n",
       "</div>"
      ],
      "text/plain": [
       "                         product_id  product_category_name  \\\n",
       "0  1e9e8ef04dbcff4541ed26657ea517e5             perfumaria   \n",
       "1  3aa071139cb16b67ca9e5dea641aaa2f                  artes   \n",
       "2  96bd76ec8810374ed1b65e291975717f          esporte_lazer   \n",
       "3  cef67bcfe19066a932b7673e239eb23d                  bebes   \n",
       "4  9dc1a7de274444849c219cff195d0b71  utilidades_domesticas   \n",
       "\n",
       "   product_name_lenght  product_description_lenght  product_photos_qty  \\\n",
       "0                 40.0                       287.0                 1.0   \n",
       "1                 44.0                       276.0                 1.0   \n",
       "2                 46.0                       250.0                 1.0   \n",
       "3                 27.0                       261.0                 1.0   \n",
       "4                 37.0                       402.0                 4.0   \n",
       "\n",
       "   product_weight_g  product_length_cm  product_height_cm  product_width_cm  \n",
       "0             225.0               16.0               10.0              14.0  \n",
       "1            1000.0               30.0               18.0              20.0  \n",
       "2             154.0               18.0                9.0              15.0  \n",
       "3             371.0               26.0                4.0              26.0  \n",
       "4             625.0               20.0               17.0              13.0  "
      ]
     },
     "execution_count": 32,
     "metadata": {},
     "output_type": "execute_result"
    }
   ],
   "source": [
    "products.head()"
   ]
  },
  {
   "cell_type": "markdown",
   "id": "c8285f9c",
   "metadata": {},
   "source": [
    "La table olist_products_dataset contient les variables suivantes :\n",
    "\n",
    "    product_id: identifiant du produit\n",
    "    product_category_name: nom du categorie du produit\n",
    "    product_name_lenght: nombre de carectères du nom du produit\n",
    "    product_description_lenght: nombre de carectères dans la description du produit\n",
    "    product_photos_qty: nombre de photos publiées décrivant le produit\n",
    "    product_weight_g: le poids du produit en gramme\n",
    "    product_length_cm: longueur du produit en cm\n",
    "    product_height_cm: hauteur du produit en cm\n",
    "    product_width_cm: largeur du produit en cm."
   ]
  },
  {
   "cell_type": "code",
   "execution_count": 33,
   "id": "223aa2ed",
   "metadata": {},
   "outputs": [
    {
     "name": "stdout",
     "output_type": "stream",
     "text": [
      "Le nombre de catégories est : 73\n"
     ]
    }
   ],
   "source": [
    "#Nombre de produits uniques\n",
    "print(\"Le nombre de catégories est : {}\".format(products[\"product_category_name\"].nunique()))"
   ]
  },
  {
   "cell_type": "code",
   "execution_count": 34,
   "id": "992aaa89",
   "metadata": {},
   "outputs": [
    {
     "data": {
      "text/plain": [
       "array(['perfumaria', 'artes', 'esporte_lazer', 'bebes',\n",
       "       'utilidades_domesticas', 'instrumentos_musicais', 'cool_stuff',\n",
       "       'moveis_decoracao', 'eletrodomesticos', 'brinquedos',\n",
       "       'cama_mesa_banho', 'construcao_ferramentas_seguranca',\n",
       "       'informatica_acessorios', 'beleza_saude', 'malas_acessorios',\n",
       "       'ferramentas_jardim', 'moveis_escritorio', 'automotivo',\n",
       "       'eletronicos', 'fashion_calcados', 'telefonia', 'papelaria',\n",
       "       'fashion_bolsas_e_acessorios', 'pcs', 'casa_construcao',\n",
       "       'relogios_presentes', 'construcao_ferramentas_construcao',\n",
       "       'pet_shop', 'eletroportateis', 'agro_industria_e_comercio', nan,\n",
       "       'moveis_sala', 'sinalizacao_e_seguranca', 'climatizacao',\n",
       "       'consoles_games', 'livros_interesse_geral',\n",
       "       'construcao_ferramentas_ferramentas',\n",
       "       'fashion_underwear_e_moda_praia', 'fashion_roupa_masculina',\n",
       "       'moveis_cozinha_area_de_servico_jantar_e_jardim',\n",
       "       'industria_comercio_e_negocios', 'telefonia_fixa',\n",
       "       'construcao_ferramentas_iluminacao', 'livros_tecnicos',\n",
       "       'eletrodomesticos_2', 'artigos_de_festas', 'bebidas',\n",
       "       'market_place', 'la_cuisine', 'construcao_ferramentas_jardim',\n",
       "       'fashion_roupa_feminina', 'casa_conforto', 'audio',\n",
       "       'alimentos_bebidas', 'musica', 'alimentos',\n",
       "       'tablets_impressao_imagem', 'livros_importados',\n",
       "       'portateis_casa_forno_e_cafe', 'fashion_esporte',\n",
       "       'artigos_de_natal', 'fashion_roupa_infanto_juvenil',\n",
       "       'dvds_blu_ray', 'artes_e_artesanato', 'pc_gamer', 'moveis_quarto',\n",
       "       'cine_foto', 'fraldas_higiene', 'flores', 'casa_conforto_2',\n",
       "       'portateis_cozinha_e_preparadores_de_alimentos',\n",
       "       'seguros_e_servicos', 'moveis_colchao_e_estofado',\n",
       "       'cds_dvds_musicais'], dtype=object)"
      ]
     },
     "execution_count": 34,
     "metadata": {},
     "output_type": "execute_result"
    }
   ],
   "source": [
    "products[\"product_category_name\"].unique()"
   ]
  },
  {
   "cell_type": "markdown",
   "id": "a0d82245",
   "metadata": {},
   "source": [
    "Nous remarquons que le nom des catégories est en portugais. Nous allons voir si dans les autres dataframes il est mentionné ces nom en anglais ou en français. Ceci sera interessant afin de mieux les comprendre et créer des superclasses.  \n",
    "\n",
    "## **Sélection des variables utiles**     \n",
    "\n",
    "Pour le moment, nous allons garder, pour ce dataframe, les variables: product_id et product_category_name"
   ]
  },
  {
   "cell_type": "code",
   "execution_count": 35,
   "id": "8a8de9ea",
   "metadata": {},
   "outputs": [],
   "source": [
    "products_df = products[['product_id','product_category_name']]"
   ]
  },
  {
   "cell_type": "markdown",
   "id": "bde93755",
   "metadata": {},
   "source": [
    "## 1.4. Sellers/ les vendeurs"
   ]
  },
  {
   "cell_type": "code",
   "execution_count": 36,
   "id": "a1d3bfe3",
   "metadata": {},
   "outputs": [
    {
     "data": {
      "text/html": [
       "<div>\n",
       "<style scoped>\n",
       "    .dataframe tbody tr th:only-of-type {\n",
       "        vertical-align: middle;\n",
       "    }\n",
       "\n",
       "    .dataframe tbody tr th {\n",
       "        vertical-align: top;\n",
       "    }\n",
       "\n",
       "    .dataframe thead th {\n",
       "        text-align: right;\n",
       "    }\n",
       "</style>\n",
       "<table border=\"1\" class=\"dataframe\">\n",
       "  <thead>\n",
       "    <tr style=\"text-align: right;\">\n",
       "      <th></th>\n",
       "      <th>dataframe</th>\n",
       "      <th>(rows, column)</th>\n",
       "      <th>Total number of nans</th>\n",
       "      <th>percentage of nans</th>\n",
       "      <th>number of duplicated rows</th>\n",
       "      <th>percentage of duplicated rows</th>\n",
       "    </tr>\n",
       "  </thead>\n",
       "  <tbody>\n",
       "    <tr>\n",
       "      <th>0</th>\n",
       "      <td>sellers</td>\n",
       "      <td>(3095,4)</td>\n",
       "      <td>0</td>\n",
       "      <td>0.0 %</td>\n",
       "      <td>0</td>\n",
       "      <td>0.0 %</td>\n",
       "    </tr>\n",
       "  </tbody>\n",
       "</table>\n",
       "</div>"
      ],
      "text/plain": [
       "  dataframe (rows, column) Total number of nans percentage of nans  \\\n",
       "0   sellers       (3095,4)                    0              0.0 %   \n",
       "\n",
       "  number of duplicated rows percentage of duplicated rows  \n",
       "0                         0                         0.0 %  "
      ]
     },
     "execution_count": 36,
     "metadata": {},
     "output_type": "execute_result"
    }
   ],
   "source": [
    "sellers_dict = {'sellers':sellers}\n",
    "my.dataframe_survey(sellers_dict)"
   ]
  },
  {
   "cell_type": "markdown",
   "id": "047aa775",
   "metadata": {},
   "source": [
    "--> Nous avons 3095 vendeurs uniques"
   ]
  },
  {
   "cell_type": "code",
   "execution_count": 37,
   "id": "9eeed4db",
   "metadata": {},
   "outputs": [
    {
     "data": {
      "text/html": [
       "<div>\n",
       "<style scoped>\n",
       "    .dataframe tbody tr th:only-of-type {\n",
       "        vertical-align: middle;\n",
       "    }\n",
       "\n",
       "    .dataframe tbody tr th {\n",
       "        vertical-align: top;\n",
       "    }\n",
       "\n",
       "    .dataframe thead th {\n",
       "        text-align: right;\n",
       "    }\n",
       "</style>\n",
       "<table border=\"1\" class=\"dataframe\">\n",
       "  <thead>\n",
       "    <tr style=\"text-align: right;\">\n",
       "      <th></th>\n",
       "      <th>variable name</th>\n",
       "      <th>variable type</th>\n",
       "      <th>nbr of distinct values</th>\n",
       "      <th>percentage of NaNs</th>\n",
       "    </tr>\n",
       "  </thead>\n",
       "  <tbody>\n",
       "    <tr>\n",
       "      <th>0</th>\n",
       "      <td>seller_id</td>\n",
       "      <td>object</td>\n",
       "      <td>3095</td>\n",
       "      <td>0.0 %</td>\n",
       "    </tr>\n",
       "    <tr>\n",
       "      <th>1</th>\n",
       "      <td>seller_zip_code_prefix</td>\n",
       "      <td>int64</td>\n",
       "      <td>2246</td>\n",
       "      <td>0.0 %</td>\n",
       "    </tr>\n",
       "    <tr>\n",
       "      <th>2</th>\n",
       "      <td>seller_city</td>\n",
       "      <td>object</td>\n",
       "      <td>611</td>\n",
       "      <td>0.0 %</td>\n",
       "    </tr>\n",
       "    <tr>\n",
       "      <th>3</th>\n",
       "      <td>seller_state</td>\n",
       "      <td>object</td>\n",
       "      <td>23</td>\n",
       "      <td>0.0 %</td>\n",
       "    </tr>\n",
       "  </tbody>\n",
       "</table>\n",
       "</div>"
      ],
      "text/plain": [
       "            variable name variable type nbr of distinct values  \\\n",
       "0               seller_id        object                   3095   \n",
       "1  seller_zip_code_prefix         int64                   2246   \n",
       "2             seller_city        object                    611   \n",
       "3            seller_state        object                     23   \n",
       "\n",
       "  percentage of NaNs  \n",
       "0              0.0 %  \n",
       "1              0.0 %  \n",
       "2              0.0 %  \n",
       "3              0.0 %  "
      ]
     },
     "execution_count": 37,
     "metadata": {},
     "output_type": "execute_result"
    }
   ],
   "source": [
    "my.variable_survey(sellers)"
   ]
  },
  {
   "cell_type": "code",
   "execution_count": 38,
   "id": "8c303db7",
   "metadata": {},
   "outputs": [
    {
     "data": {
      "text/html": [
       "<div>\n",
       "<style scoped>\n",
       "    .dataframe tbody tr th:only-of-type {\n",
       "        vertical-align: middle;\n",
       "    }\n",
       "\n",
       "    .dataframe tbody tr th {\n",
       "        vertical-align: top;\n",
       "    }\n",
       "\n",
       "    .dataframe thead th {\n",
       "        text-align: right;\n",
       "    }\n",
       "</style>\n",
       "<table border=\"1\" class=\"dataframe\">\n",
       "  <thead>\n",
       "    <tr style=\"text-align: right;\">\n",
       "      <th></th>\n",
       "      <th>seller_id</th>\n",
       "      <th>seller_zip_code_prefix</th>\n",
       "      <th>seller_city</th>\n",
       "      <th>seller_state</th>\n",
       "    </tr>\n",
       "  </thead>\n",
       "  <tbody>\n",
       "    <tr>\n",
       "      <th>0</th>\n",
       "      <td>3442f8959a84dea7ee197c632cb2df15</td>\n",
       "      <td>13023</td>\n",
       "      <td>campinas</td>\n",
       "      <td>SP</td>\n",
       "    </tr>\n",
       "    <tr>\n",
       "      <th>1</th>\n",
       "      <td>d1b65fc7debc3361ea86b5f14c68d2e2</td>\n",
       "      <td>13844</td>\n",
       "      <td>mogi guacu</td>\n",
       "      <td>SP</td>\n",
       "    </tr>\n",
       "    <tr>\n",
       "      <th>2</th>\n",
       "      <td>ce3ad9de960102d0677a81f5d0bb7b2d</td>\n",
       "      <td>20031</td>\n",
       "      <td>rio de janeiro</td>\n",
       "      <td>RJ</td>\n",
       "    </tr>\n",
       "    <tr>\n",
       "      <th>3</th>\n",
       "      <td>c0f3eea2e14555b6faeea3dd58c1b1c3</td>\n",
       "      <td>4195</td>\n",
       "      <td>sao paulo</td>\n",
       "      <td>SP</td>\n",
       "    </tr>\n",
       "    <tr>\n",
       "      <th>4</th>\n",
       "      <td>51a04a8a6bdcb23deccc82b0b80742cf</td>\n",
       "      <td>12914</td>\n",
       "      <td>braganca paulista</td>\n",
       "      <td>SP</td>\n",
       "    </tr>\n",
       "  </tbody>\n",
       "</table>\n",
       "</div>"
      ],
      "text/plain": [
       "                          seller_id  seller_zip_code_prefix  \\\n",
       "0  3442f8959a84dea7ee197c632cb2df15                   13023   \n",
       "1  d1b65fc7debc3361ea86b5f14c68d2e2                   13844   \n",
       "2  ce3ad9de960102d0677a81f5d0bb7b2d                   20031   \n",
       "3  c0f3eea2e14555b6faeea3dd58c1b1c3                    4195   \n",
       "4  51a04a8a6bdcb23deccc82b0b80742cf                   12914   \n",
       "\n",
       "         seller_city seller_state  \n",
       "0           campinas           SP  \n",
       "1         mogi guacu           SP  \n",
       "2     rio de janeiro           RJ  \n",
       "3          sao paulo           SP  \n",
       "4  braganca paulista           SP  "
      ]
     },
     "execution_count": 38,
     "metadata": {},
     "output_type": "execute_result"
    }
   ],
   "source": [
    "sellers.head()"
   ]
  },
  {
   "cell_type": "markdown",
   "id": "1834cf28",
   "metadata": {},
   "source": [
    "\n",
    "La table olist_sellers_dataset contient les variables suivantes :\n",
    "\n",
    "    seller_id: identifiant unique du vendeur\n",
    "    seller_zip_code_prefix: code postal du vendeur\n",
    "    seller_city: nom du cité du vendeur\n",
    "    seller_state: statut du vendeur\n",
    "\n"
   ]
  },
  {
   "cell_type": "code",
   "execution_count": 39,
   "id": "7e0660ca",
   "metadata": {},
   "outputs": [
    {
     "data": {
      "text/plain": [
       "23"
      ]
     },
     "execution_count": 39,
     "metadata": {},
     "output_type": "execute_result"
    }
   ],
   "source": [
    "sellers['seller_state'].nunique()"
   ]
  },
  {
   "cell_type": "code",
   "execution_count": 40,
   "id": "791b2ef7",
   "metadata": {},
   "outputs": [
    {
     "data": {
      "text/plain": [
       "611"
      ]
     },
     "execution_count": 40,
     "metadata": {},
     "output_type": "execute_result"
    }
   ],
   "source": [
    "sellers['seller_city'].nunique()"
   ]
  },
  {
   "cell_type": "markdown",
   "id": "3bc28f39",
   "metadata": {},
   "source": [
    "### Remarques:  \n",
    "\n",
    "- On a 611 vendeurs ayant 23 status différents.\n",
    "- Après avoir classifier les cités selon l'ordre décroissant de leur fréquence, nous allons afficher les 15 premiers cités où les vendeurs sont citués. Pour ce faire, nous allons automatiser l'affichage des barplots présentant le pourcentage de fréquance de chaque variable."
   ]
  },
  {
   "cell_type": "code",
   "execution_count": 41,
   "id": "b423c5c6",
   "metadata": {},
   "outputs": [],
   "source": [
    "# fonction qui affiche (en tableau et barplots) le pourcentage de fréquence de chaque\\\n",
    "# valeur d'une variable qualitative\n",
    "\n",
    "def barplots_var_frequency(data, variable):\n",
    "    count = pd.DataFrame(data[variable].value_counts())\n",
    "    count['Pourcentage'] = count.apply(lambda row: round(row*100/sum(count[variable]),2))\n",
    "    \n",
    "    NA = data[variable].isna().sum()\n",
    "    pourc_na=round(NA/data.shape[0],2)*100\n",
    "    df = pd.DataFrame([NA, pourc_na]).T\n",
    "    df.rename(columns={0:variable, 1:'Pourcentage'}, index={0:'NaN'}, inplace=True)\n",
    "    \n",
    "    count = pd.concat([count, df])\n",
    "    count = count.iloc[:15]\n",
    "    \n",
    "    #afficher un barplots des pourcentages\n",
    "    plt.figure(figsize=(6, 4))\n",
    "    sns.barplot(x=\"Pourcentage\", y=count.index, data=count, color=\"b\")\n",
    "    plt.ylabel(variable)\n",
    "    plt.xlabel(\"Pourcentage\")\n",
    "    return count"
   ]
  },
  {
   "cell_type": "code",
   "execution_count": 42,
   "id": "3bb71284",
   "metadata": {},
   "outputs": [
    {
     "data": {
      "text/html": [
       "<div>\n",
       "<style scoped>\n",
       "    .dataframe tbody tr th:only-of-type {\n",
       "        vertical-align: middle;\n",
       "    }\n",
       "\n",
       "    .dataframe tbody tr th {\n",
       "        vertical-align: top;\n",
       "    }\n",
       "\n",
       "    .dataframe thead th {\n",
       "        text-align: right;\n",
       "    }\n",
       "</style>\n",
       "<table border=\"1\" class=\"dataframe\">\n",
       "  <thead>\n",
       "    <tr style=\"text-align: right;\">\n",
       "      <th></th>\n",
       "      <th>seller_zip_code_prefix</th>\n",
       "      <th>Pourcentage</th>\n",
       "    </tr>\n",
       "  </thead>\n",
       "  <tbody>\n",
       "    <tr>\n",
       "      <th>14940</th>\n",
       "      <td>49.0</td>\n",
       "      <td>1.58</td>\n",
       "    </tr>\n",
       "    <tr>\n",
       "      <th>13660</th>\n",
       "      <td>10.0</td>\n",
       "      <td>0.32</td>\n",
       "    </tr>\n",
       "    <tr>\n",
       "      <th>16200</th>\n",
       "      <td>9.0</td>\n",
       "      <td>0.29</td>\n",
       "    </tr>\n",
       "    <tr>\n",
       "      <th>13920</th>\n",
       "      <td>9.0</td>\n",
       "      <td>0.29</td>\n",
       "    </tr>\n",
       "    <tr>\n",
       "      <th>14020</th>\n",
       "      <td>8.0</td>\n",
       "      <td>0.26</td>\n",
       "    </tr>\n",
       "    <tr>\n",
       "      <th>87050</th>\n",
       "      <td>8.0</td>\n",
       "      <td>0.26</td>\n",
       "    </tr>\n",
       "    <tr>\n",
       "      <th>1026</th>\n",
       "      <td>8.0</td>\n",
       "      <td>0.26</td>\n",
       "    </tr>\n",
       "    <tr>\n",
       "      <th>37540</th>\n",
       "      <td>7.0</td>\n",
       "      <td>0.23</td>\n",
       "    </tr>\n",
       "    <tr>\n",
       "      <th>13481</th>\n",
       "      <td>7.0</td>\n",
       "      <td>0.23</td>\n",
       "    </tr>\n",
       "    <tr>\n",
       "      <th>87015</th>\n",
       "      <td>6.0</td>\n",
       "      <td>0.19</td>\n",
       "    </tr>\n",
       "    <tr>\n",
       "      <th>35530</th>\n",
       "      <td>6.0</td>\n",
       "      <td>0.19</td>\n",
       "    </tr>\n",
       "    <tr>\n",
       "      <th>18015</th>\n",
       "      <td>6.0</td>\n",
       "      <td>0.19</td>\n",
       "    </tr>\n",
       "    <tr>\n",
       "      <th>13560</th>\n",
       "      <td>5.0</td>\n",
       "      <td>0.16</td>\n",
       "    </tr>\n",
       "    <tr>\n",
       "      <th>14401</th>\n",
       "      <td>5.0</td>\n",
       "      <td>0.16</td>\n",
       "    </tr>\n",
       "    <tr>\n",
       "      <th>12940</th>\n",
       "      <td>5.0</td>\n",
       "      <td>0.16</td>\n",
       "    </tr>\n",
       "  </tbody>\n",
       "</table>\n",
       "</div>"
      ],
      "text/plain": [
       "       seller_zip_code_prefix  Pourcentage\n",
       "14940                    49.0         1.58\n",
       "13660                    10.0         0.32\n",
       "16200                     9.0         0.29\n",
       "13920                     9.0         0.29\n",
       "14020                     8.0         0.26\n",
       "87050                     8.0         0.26\n",
       "1026                      8.0         0.26\n",
       "37540                     7.0         0.23\n",
       "13481                     7.0         0.23\n",
       "87015                     6.0         0.19\n",
       "35530                     6.0         0.19\n",
       "18015                     6.0         0.19\n",
       "13560                     5.0         0.16\n",
       "14401                     5.0         0.16\n",
       "12940                     5.0         0.16"
      ]
     },
     "execution_count": 42,
     "metadata": {},
     "output_type": "execute_result"
    },
    {
     "data": {
      "image/png": "[encoded data removed]",
      "text/plain": [
       "<Figure size 432x288 with 1 Axes>"
      ]
     },
     "metadata": {
      "needs_background": "light"
     },
     "output_type": "display_data"
    }
   ],
   "source": [
    "barplots_var_frequency(sellers, 'seller_zip_code_prefix')"
   ]
  },
  {
   "cell_type": "code",
   "execution_count": 43,
   "id": "ce83e232",
   "metadata": {},
   "outputs": [
    {
     "data": {
      "text/html": [
       "<div>\n",
       "<style scoped>\n",
       "    .dataframe tbody tr th:only-of-type {\n",
       "        vertical-align: middle;\n",
       "    }\n",
       "\n",
       "    .dataframe tbody tr th {\n",
       "        vertical-align: top;\n",
       "    }\n",
       "\n",
       "    .dataframe thead th {\n",
       "        text-align: right;\n",
       "    }\n",
       "</style>\n",
       "<table border=\"1\" class=\"dataframe\">\n",
       "  <thead>\n",
       "    <tr style=\"text-align: right;\">\n",
       "      <th></th>\n",
       "      <th>seller_city</th>\n",
       "      <th>Pourcentage</th>\n",
       "    </tr>\n",
       "  </thead>\n",
       "  <tbody>\n",
       "    <tr>\n",
       "      <th>sao paulo</th>\n",
       "      <td>694.0</td>\n",
       "      <td>22.42</td>\n",
       "    </tr>\n",
       "    <tr>\n",
       "      <th>curitiba</th>\n",
       "      <td>127.0</td>\n",
       "      <td>4.10</td>\n",
       "    </tr>\n",
       "    <tr>\n",
       "      <th>rio de janeiro</th>\n",
       "      <td>96.0</td>\n",
       "      <td>3.10</td>\n",
       "    </tr>\n",
       "    <tr>\n",
       "      <th>belo horizonte</th>\n",
       "      <td>68.0</td>\n",
       "      <td>2.20</td>\n",
       "    </tr>\n",
       "    <tr>\n",
       "      <th>ribeirao preto</th>\n",
       "      <td>52.0</td>\n",
       "      <td>1.68</td>\n",
       "    </tr>\n",
       "    <tr>\n",
       "      <th>guarulhos</th>\n",
       "      <td>50.0</td>\n",
       "      <td>1.62</td>\n",
       "    </tr>\n",
       "    <tr>\n",
       "      <th>ibitinga</th>\n",
       "      <td>49.0</td>\n",
       "      <td>1.58</td>\n",
       "    </tr>\n",
       "    <tr>\n",
       "      <th>santo andre</th>\n",
       "      <td>45.0</td>\n",
       "      <td>1.45</td>\n",
       "    </tr>\n",
       "    <tr>\n",
       "      <th>campinas</th>\n",
       "      <td>41.0</td>\n",
       "      <td>1.32</td>\n",
       "    </tr>\n",
       "    <tr>\n",
       "      <th>maringa</th>\n",
       "      <td>40.0</td>\n",
       "      <td>1.29</td>\n",
       "    </tr>\n",
       "    <tr>\n",
       "      <th>sao jose do rio preto</th>\n",
       "      <td>33.0</td>\n",
       "      <td>1.07</td>\n",
       "    </tr>\n",
       "    <tr>\n",
       "      <th>osasco</th>\n",
       "      <td>32.0</td>\n",
       "      <td>1.03</td>\n",
       "    </tr>\n",
       "    <tr>\n",
       "      <th>sorocaba</th>\n",
       "      <td>32.0</td>\n",
       "      <td>1.03</td>\n",
       "    </tr>\n",
       "    <tr>\n",
       "      <th>sao bernardo do campo</th>\n",
       "      <td>32.0</td>\n",
       "      <td>1.03</td>\n",
       "    </tr>\n",
       "    <tr>\n",
       "      <th>porto alegre</th>\n",
       "      <td>28.0</td>\n",
       "      <td>0.90</td>\n",
       "    </tr>\n",
       "  </tbody>\n",
       "</table>\n",
       "</div>"
      ],
      "text/plain": [
       "                       seller_city  Pourcentage\n",
       "sao paulo                    694.0        22.42\n",
       "curitiba                     127.0         4.10\n",
       "rio de janeiro                96.0         3.10\n",
       "belo horizonte                68.0         2.20\n",
       "ribeirao preto                52.0         1.68\n",
       "guarulhos                     50.0         1.62\n",
       "ibitinga                      49.0         1.58\n",
       "santo andre                   45.0         1.45\n",
       "campinas                      41.0         1.32\n",
       "maringa                       40.0         1.29\n",
       "sao jose do rio preto         33.0         1.07\n",
       "osasco                        32.0         1.03\n",
       "sorocaba                      32.0         1.03\n",
       "sao bernardo do campo         32.0         1.03\n",
       "porto alegre                  28.0         0.90"
      ]
     },
     "execution_count": 43,
     "metadata": {},
     "output_type": "execute_result"
    },
    {
     "data": {
      "image/png": "[encoded data removed]",
      "text/plain": [
       "<Figure size 432x288 with 1 Axes>"
      ]
     },
     "metadata": {
      "needs_background": "light"
     },
     "output_type": "display_data"
    }
   ],
   "source": [
    "barplots_var_frequency(sellers, 'seller_city')"
   ]
  },
  {
   "cell_type": "markdown",
   "id": "3b04c31d",
   "metadata": {},
   "source": [
    "--> Nous remarquons que la majorité des vendeurs sont à Sao Paulo (22,4%)"
   ]
  },
  {
   "cell_type": "code",
   "execution_count": 44,
   "id": "eada3d1f",
   "metadata": {},
   "outputs": [
    {
     "data": {
      "text/plain": [
       "Index(['seller_id', 'seller_zip_code_prefix', 'seller_city', 'seller_state'], dtype='object')"
      ]
     },
     "execution_count": 44,
     "metadata": {},
     "output_type": "execute_result"
    }
   ],
   "source": [
    "sellers.columns"
   ]
  },
  {
   "cell_type": "markdown",
   "id": "3efe0635",
   "metadata": {},
   "source": [
    "## **Sélection des variables utiles**     \n",
    "\n",
    "Pour notre projet, nous allons garder toutes les variables du dataframe sellers. Nous pensons que ces informations sur le vendeur peuvent être utile pour savoir si le vendeur et l'acheteur son de la même cité. Ceci pourra être utile pour savoir si un acheteur préfère acheter des produits locaux ou non. "
   ]
  },
  {
   "cell_type": "markdown",
   "id": "468ae974",
   "metadata": {},
   "source": [
    "## 1.5. Reviews/ les commentaires  \n",
    "\n",
    "\n",
    "\n",
    "Le dataframe \"reviews\" contient les variables suivantes :\n",
    "\n",
    "    review_id: identifiant du commentaire\n",
    "    order_id: identifiant de la commande\n",
    "    review_score: score de satisfaction donnée par le client par rapport à la commande\n",
    "    review_comment_title: titre du commentaire donné par le client\n",
    "    review_comment_message: commentaire laissé par le client. \n",
    "    review_creation_date: la date à laquelle l'enquête de satisfaction a été envoyée au client.\n",
    "    review_answer_timestamp: Affiche l'horodatage des réponses à l'enquête de satisfaction.\n",
    "\n"
   ]
  },
  {
   "cell_type": "code",
   "execution_count": 45,
   "id": "43bc6185",
   "metadata": {},
   "outputs": [
    {
     "data": {
      "text/html": [
       "<div>\n",
       "<style scoped>\n",
       "    .dataframe tbody tr th:only-of-type {\n",
       "        vertical-align: middle;\n",
       "    }\n",
       "\n",
       "    .dataframe tbody tr th {\n",
       "        vertical-align: top;\n",
       "    }\n",
       "\n",
       "    .dataframe thead th {\n",
       "        text-align: right;\n",
       "    }\n",
       "</style>\n",
       "<table border=\"1\" class=\"dataframe\">\n",
       "  <thead>\n",
       "    <tr style=\"text-align: right;\">\n",
       "      <th></th>\n",
       "      <th>dataframe</th>\n",
       "      <th>(rows, column)</th>\n",
       "      <th>Total number of nans</th>\n",
       "      <th>percentage of nans</th>\n",
       "      <th>number of duplicated rows</th>\n",
       "      <th>percentage of duplicated rows</th>\n",
       "    </tr>\n",
       "  </thead>\n",
       "  <tbody>\n",
       "    <tr>\n",
       "      <th>0</th>\n",
       "      <td>reviews</td>\n",
       "      <td>(99224,7)</td>\n",
       "      <td>145903</td>\n",
       "      <td>21.01 %</td>\n",
       "      <td>0</td>\n",
       "      <td>0.0 %</td>\n",
       "    </tr>\n",
       "  </tbody>\n",
       "</table>\n",
       "</div>"
      ],
      "text/plain": [
       "  dataframe (rows, column) Total number of nans percentage of nans  \\\n",
       "0   reviews      (99224,7)               145903            21.01 %   \n",
       "\n",
       "  number of duplicated rows percentage of duplicated rows  \n",
       "0                         0                         0.0 %  "
      ]
     },
     "execution_count": 45,
     "metadata": {},
     "output_type": "execute_result"
    }
   ],
   "source": [
    "review_dict = {'reviews' : reviews}\n",
    "my.dataframe_survey(review_dict)"
   ]
  },
  {
   "cell_type": "code",
   "execution_count": 46,
   "id": "84ae29de",
   "metadata": {},
   "outputs": [
    {
     "data": {
      "text/html": [
       "<div>\n",
       "<style scoped>\n",
       "    .dataframe tbody tr th:only-of-type {\n",
       "        vertical-align: middle;\n",
       "    }\n",
       "\n",
       "    .dataframe tbody tr th {\n",
       "        vertical-align: top;\n",
       "    }\n",
       "\n",
       "    .dataframe thead th {\n",
       "        text-align: right;\n",
       "    }\n",
       "</style>\n",
       "<table border=\"1\" class=\"dataframe\">\n",
       "  <thead>\n",
       "    <tr style=\"text-align: right;\">\n",
       "      <th></th>\n",
       "      <th>variable name</th>\n",
       "      <th>variable type</th>\n",
       "      <th>nbr of distinct values</th>\n",
       "      <th>percentage of NaNs</th>\n",
       "    </tr>\n",
       "  </thead>\n",
       "  <tbody>\n",
       "    <tr>\n",
       "      <th>0</th>\n",
       "      <td>review_id</td>\n",
       "      <td>object</td>\n",
       "      <td>98410</td>\n",
       "      <td>0.0 %</td>\n",
       "    </tr>\n",
       "    <tr>\n",
       "      <th>1</th>\n",
       "      <td>order_id</td>\n",
       "      <td>object</td>\n",
       "      <td>98673</td>\n",
       "      <td>0.0 %</td>\n",
       "    </tr>\n",
       "    <tr>\n",
       "      <th>2</th>\n",
       "      <td>review_score</td>\n",
       "      <td>int64</td>\n",
       "      <td>5</td>\n",
       "      <td>0.0 %</td>\n",
       "    </tr>\n",
       "    <tr>\n",
       "      <th>3</th>\n",
       "      <td>review_comment_title</td>\n",
       "      <td>object</td>\n",
       "      <td>4527</td>\n",
       "      <td>88.34 %</td>\n",
       "    </tr>\n",
       "    <tr>\n",
       "      <th>4</th>\n",
       "      <td>review_comment_message</td>\n",
       "      <td>object</td>\n",
       "      <td>36159</td>\n",
       "      <td>58.7 %</td>\n",
       "    </tr>\n",
       "    <tr>\n",
       "      <th>5</th>\n",
       "      <td>review_creation_date</td>\n",
       "      <td>object</td>\n",
       "      <td>636</td>\n",
       "      <td>0.0 %</td>\n",
       "    </tr>\n",
       "    <tr>\n",
       "      <th>6</th>\n",
       "      <td>review_answer_timestamp</td>\n",
       "      <td>object</td>\n",
       "      <td>98248</td>\n",
       "      <td>0.0 %</td>\n",
       "    </tr>\n",
       "  </tbody>\n",
       "</table>\n",
       "</div>"
      ],
      "text/plain": [
       "             variable name variable type nbr of distinct values  \\\n",
       "0                review_id        object                  98410   \n",
       "1                 order_id        object                  98673   \n",
       "2             review_score         int64                      5   \n",
       "3     review_comment_title        object                   4527   \n",
       "4   review_comment_message        object                  36159   \n",
       "5     review_creation_date        object                    636   \n",
       "6  review_answer_timestamp        object                  98248   \n",
       "\n",
       "  percentage of NaNs  \n",
       "0              0.0 %  \n",
       "1              0.0 %  \n",
       "2              0.0 %  \n",
       "3            88.34 %  \n",
       "4             58.7 %  \n",
       "5              0.0 %  \n",
       "6              0.0 %  "
      ]
     },
     "execution_count": 46,
     "metadata": {},
     "output_type": "execute_result"
    }
   ],
   "source": [
    "my.variable_survey(reviews)"
   ]
  },
  {
   "cell_type": "code",
   "execution_count": 47,
   "id": "fce202dc",
   "metadata": {},
   "outputs": [
    {
     "data": {
      "text/html": [
       "<div>\n",
       "<style scoped>\n",
       "    .dataframe tbody tr th:only-of-type {\n",
       "        vertical-align: middle;\n",
       "    }\n",
       "\n",
       "    .dataframe tbody tr th {\n",
       "        vertical-align: top;\n",
       "    }\n",
       "\n",
       "    .dataframe thead th {\n",
       "        text-align: right;\n",
       "    }\n",
       "</style>\n",
       "<table border=\"1\" class=\"dataframe\">\n",
       "  <thead>\n",
       "    <tr style=\"text-align: right;\">\n",
       "      <th></th>\n",
       "      <th>review_id</th>\n",
       "      <th>order_id</th>\n",
       "      <th>review_score</th>\n",
       "      <th>review_comment_title</th>\n",
       "      <th>review_comment_message</th>\n",
       "      <th>review_creation_date</th>\n",
       "      <th>review_answer_timestamp</th>\n",
       "    </tr>\n",
       "  </thead>\n",
       "  <tbody>\n",
       "    <tr>\n",
       "      <th>0</th>\n",
       "      <td>7bc2406110b926393aa56f80a40eba40</td>\n",
       "      <td>73fc7af87114b39712e6da79b0a377eb</td>\n",
       "      <td>4</td>\n",
       "      <td>NaN</td>\n",
       "      <td>NaN</td>\n",
       "      <td>2018-01-18 00:00:00</td>\n",
       "      <td>2018-01-18 21:46:59</td>\n",
       "    </tr>\n",
       "    <tr>\n",
       "      <th>1</th>\n",
       "      <td>80e641a11e56f04c1ad469d5645fdfde</td>\n",
       "      <td>a548910a1c6147796b98fdf73dbeba33</td>\n",
       "      <td>5</td>\n",
       "      <td>NaN</td>\n",
       "      <td>NaN</td>\n",
       "      <td>2018-03-10 00:00:00</td>\n",
       "      <td>2018-03-11 03:05:13</td>\n",
       "    </tr>\n",
       "    <tr>\n",
       "      <th>2</th>\n",
       "      <td>228ce5500dc1d8e020d8d1322874b6f0</td>\n",
       "      <td>f9e4b658b201a9f2ecdecbb34bed034b</td>\n",
       "      <td>5</td>\n",
       "      <td>NaN</td>\n",
       "      <td>NaN</td>\n",
       "      <td>2018-02-17 00:00:00</td>\n",
       "      <td>2018-02-18 14:36:24</td>\n",
       "    </tr>\n",
       "    <tr>\n",
       "      <th>3</th>\n",
       "      <td>e64fb393e7b32834bb789ff8bb30750e</td>\n",
       "      <td>658677c97b385a9be170737859d3511b</td>\n",
       "      <td>5</td>\n",
       "      <td>NaN</td>\n",
       "      <td>Recebi bem antes do prazo estipulado.</td>\n",
       "      <td>2017-04-21 00:00:00</td>\n",
       "      <td>2017-04-21 22:02:06</td>\n",
       "    </tr>\n",
       "    <tr>\n",
       "      <th>4</th>\n",
       "      <td>f7c4243c7fe1938f181bec41a392bdeb</td>\n",
       "      <td>8e6bfb81e283fa7e4f11123a3fb894f1</td>\n",
       "      <td>5</td>\n",
       "      <td>NaN</td>\n",
       "      <td>Parabéns lojas lannister adorei comprar pela I...</td>\n",
       "      <td>2018-03-01 00:00:00</td>\n",
       "      <td>2018-03-02 10:26:53</td>\n",
       "    </tr>\n",
       "  </tbody>\n",
       "</table>\n",
       "</div>"
      ],
      "text/plain": [
       "                          review_id                          order_id  \\\n",
       "0  7bc2406110b926393aa56f80a40eba40  73fc7af87114b39712e6da79b0a377eb   \n",
       "1  80e641a11e56f04c1ad469d5645fdfde  a548910a1c6147796b98fdf73dbeba33   \n",
       "2  228ce5500dc1d8e020d8d1322874b6f0  f9e4b658b201a9f2ecdecbb34bed034b   \n",
       "3  e64fb393e7b32834bb789ff8bb30750e  658677c97b385a9be170737859d3511b   \n",
       "4  f7c4243c7fe1938f181bec41a392bdeb  8e6bfb81e283fa7e4f11123a3fb894f1   \n",
       "\n",
       "   review_score review_comment_title  \\\n",
       "0             4                  NaN   \n",
       "1             5                  NaN   \n",
       "2             5                  NaN   \n",
       "3             5                  NaN   \n",
       "4             5                  NaN   \n",
       "\n",
       "                              review_comment_message review_creation_date  \\\n",
       "0                                                NaN  2018-01-18 00:00:00   \n",
       "1                                                NaN  2018-03-10 00:00:00   \n",
       "2                                                NaN  2018-02-17 00:00:00   \n",
       "3              Recebi bem antes do prazo estipulado.  2017-04-21 00:00:00   \n",
       "4  Parabéns lojas lannister adorei comprar pela I...  2018-03-01 00:00:00   \n",
       "\n",
       "  review_answer_timestamp  \n",
       "0     2018-01-18 21:46:59  \n",
       "1     2018-03-11 03:05:13  \n",
       "2     2018-02-18 14:36:24  \n",
       "3     2017-04-21 22:02:06  \n",
       "4     2018-03-02 10:26:53  "
      ]
     },
     "execution_count": 47,
     "metadata": {},
     "output_type": "execute_result"
    }
   ],
   "source": [
    "reviews.head()"
   ]
  },
  {
   "cell_type": "code",
   "execution_count": 48,
   "id": "d881c2ef",
   "metadata": {},
   "outputs": [
    {
     "data": {
      "image/png": "[encoded data removed]",
      "text/plain": [
       "<Figure size 1440x432 with 1 Axes>"
      ]
     },
     "metadata": {
      "needs_background": "light"
     },
     "output_type": "display_data"
    }
   ],
   "source": [
    "my.nans_df(reviews)"
   ]
  },
  {
   "cell_type": "code",
   "execution_count": 49,
   "id": "99b04b93",
   "metadata": {},
   "outputs": [
    {
     "name": "stderr",
     "output_type": "stream",
     "text": [
      "/home/soumaya/anaconda3/envs/openclassrooms/lib/python3.8/site-packages/seaborn/distributions.py:2557: FutureWarning: `distplot` is a deprecated function and will be removed in a future version. Please adapt your code to use either `displot` (a figure-level function with similar flexibility) or `histplot` (an axes-level function for histograms).\n",
      "  warnings.warn(msg, FutureWarning)\n"
     ]
    },
    {
     "data": {
      "text/plain": [
       "<AxesSubplot:xlabel='review_score', ylabel='Density'>"
      ]
     },
     "execution_count": 49,
     "metadata": {},
     "output_type": "execute_result"
    },
    {
     "data": {
      "image/png": "[encoded data removed]",
      "text/plain": [
       "<Figure size 432x288 with 1 Axes>"
      ]
     },
     "metadata": {
      "needs_background": "light"
     },
     "output_type": "display_data"
    }
   ],
   "source": [
    "sns.distplot(reviews['review_score'])"
   ]
  },
  {
   "cell_type": "markdown",
   "id": "19e70ed7",
   "metadata": {},
   "source": [
    "### Remarques:  \n",
    "- Les données dans la variables \"review_comment_title\" sont presque tous manquantes (presque 90% de Nans)  \n",
    "- Le client évalue sa commande passé par un commentaire et un score. Les scores sont entre 1 et 5. Le score le plus attribué dans ces données est 5. "
   ]
  },
  {
   "cell_type": "code",
   "execution_count": 50,
   "id": "fbc92fa1",
   "metadata": {},
   "outputs": [
    {
     "data": {
      "text/plain": [
       "Index(['review_id', 'order_id', 'review_score', 'review_comment_title',\n",
       "       'review_comment_message', 'review_creation_date',\n",
       "       'review_answer_timestamp'],\n",
       "      dtype='object')"
      ]
     },
     "execution_count": 50,
     "metadata": {},
     "output_type": "execute_result"
    }
   ],
   "source": [
    "reviews.columns"
   ]
  },
  {
   "cell_type": "markdown",
   "id": "03bc03de",
   "metadata": {},
   "source": [
    "## Sélection des variables utiles:  \n",
    "Pour notre projet, je pense que savoir si un client est satisfait ou non, ou bien avoir une idée sur son niveau de satisfaction n'est pas très utile pour la segmentation RFM des clients. Mai peut etre qu'on en aura besoin pour tester d'autres approches. Je vais donc garder les variables 'review_id', 'order_id', 'review_score'. Je vais aussi garder les deux variables 'review_answer_timestamp' et 'review_comment_message' et on décidera après de quelle variable on se basera pour voir si un client est actif ou non. "
   ]
  },
  {
   "cell_type": "code",
   "execution_count": 51,
   "id": "9bc22ea4",
   "metadata": {},
   "outputs": [
    {
     "data": {
      "text/plain": [
       "Index(['review_id', 'order_id', 'review_score', 'review_creation_date',\n",
       "       'review_answer_timestamp', 'review_comment_message'],\n",
       "      dtype='object')"
      ]
     },
     "execution_count": 51,
     "metadata": {},
     "output_type": "execute_result"
    }
   ],
   "source": [
    "reviews_df = reviews[['review_id', 'order_id', 'review_score', 'review_creation_date','review_answer_timestamp','review_comment_message']]\n",
    "reviews_df.columns"
   ]
  },
  {
   "cell_type": "markdown",
   "id": "6b6358dd",
   "metadata": {},
   "source": [
    "## 1.6. Items   \n",
    "\n",
    "\n",
    "\n",
    "Le dataframe \"items\" contient les variables suivantes :\n",
    "\n",
    "    - order_id: identifiant de la commande\n",
    "    - order_item_id: numéro séquentiel identifiant le nombre d'articles inclus dans le même ordre.\n",
    "    - product_id: identifiant du produit\n",
    "    - seller_id: identifiant du vendeur\n",
    "    - shipping_limit_date: la date limite dans laquelle le vendeur expédie la commande au partenaire logistique.\n",
    "    - price: le prix de l'article\n",
    "    - freight_value: frais de transport des articles (si une commande a plus d'un article, le frais de transport est répartie entre les articles)\n",
    "\n"
   ]
  },
  {
   "cell_type": "code",
   "execution_count": 52,
   "id": "31ade9ae",
   "metadata": {},
   "outputs": [
    {
     "data": {
      "text/html": [
       "<div>\n",
       "<style scoped>\n",
       "    .dataframe tbody tr th:only-of-type {\n",
       "        vertical-align: middle;\n",
       "    }\n",
       "\n",
       "    .dataframe tbody tr th {\n",
       "        vertical-align: top;\n",
       "    }\n",
       "\n",
       "    .dataframe thead th {\n",
       "        text-align: right;\n",
       "    }\n",
       "</style>\n",
       "<table border=\"1\" class=\"dataframe\">\n",
       "  <thead>\n",
       "    <tr style=\"text-align: right;\">\n",
       "      <th></th>\n",
       "      <th>dataframe</th>\n",
       "      <th>(rows, column)</th>\n",
       "      <th>Total number of nans</th>\n",
       "      <th>percentage of nans</th>\n",
       "      <th>number of duplicated rows</th>\n",
       "      <th>percentage of duplicated rows</th>\n",
       "    </tr>\n",
       "  </thead>\n",
       "  <tbody>\n",
       "    <tr>\n",
       "      <th>0</th>\n",
       "      <td>items</td>\n",
       "      <td>(112650,7)</td>\n",
       "      <td>0</td>\n",
       "      <td>0.0 %</td>\n",
       "      <td>0</td>\n",
       "      <td>0.0 %</td>\n",
       "    </tr>\n",
       "  </tbody>\n",
       "</table>\n",
       "</div>"
      ],
      "text/plain": [
       "  dataframe (rows, column) Total number of nans percentage of nans  \\\n",
       "0     items     (112650,7)                    0              0.0 %   \n",
       "\n",
       "  number of duplicated rows percentage of duplicated rows  \n",
       "0                         0                         0.0 %  "
      ]
     },
     "execution_count": 52,
     "metadata": {},
     "output_type": "execute_result"
    }
   ],
   "source": [
    "items_dict = {'items': items}\n",
    "my.dataframe_survey(items_dict)"
   ]
  },
  {
   "cell_type": "markdown",
   "id": "aa1ed9e2",
   "metadata": {},
   "source": [
    "Dans ce dataframe, il n'y a ni des doublons ni des valeurs manquantes."
   ]
  },
  {
   "cell_type": "code",
   "execution_count": 53,
   "id": "3575fb35",
   "metadata": {},
   "outputs": [
    {
     "data": {
      "text/html": [
       "<div>\n",
       "<style scoped>\n",
       "    .dataframe tbody tr th:only-of-type {\n",
       "        vertical-align: middle;\n",
       "    }\n",
       "\n",
       "    .dataframe tbody tr th {\n",
       "        vertical-align: top;\n",
       "    }\n",
       "\n",
       "    .dataframe thead th {\n",
       "        text-align: right;\n",
       "    }\n",
       "</style>\n",
       "<table border=\"1\" class=\"dataframe\">\n",
       "  <thead>\n",
       "    <tr style=\"text-align: right;\">\n",
       "      <th></th>\n",
       "      <th>variable name</th>\n",
       "      <th>variable type</th>\n",
       "      <th>nbr of distinct values</th>\n",
       "      <th>percentage of NaNs</th>\n",
       "    </tr>\n",
       "  </thead>\n",
       "  <tbody>\n",
       "    <tr>\n",
       "      <th>0</th>\n",
       "      <td>order_id</td>\n",
       "      <td>object</td>\n",
       "      <td>98666</td>\n",
       "      <td>0.0 %</td>\n",
       "    </tr>\n",
       "    <tr>\n",
       "      <th>1</th>\n",
       "      <td>order_item_id</td>\n",
       "      <td>int64</td>\n",
       "      <td>21</td>\n",
       "      <td>0.0 %</td>\n",
       "    </tr>\n",
       "    <tr>\n",
       "      <th>2</th>\n",
       "      <td>product_id</td>\n",
       "      <td>object</td>\n",
       "      <td>32951</td>\n",
       "      <td>0.0 %</td>\n",
       "    </tr>\n",
       "    <tr>\n",
       "      <th>3</th>\n",
       "      <td>seller_id</td>\n",
       "      <td>object</td>\n",
       "      <td>3095</td>\n",
       "      <td>0.0 %</td>\n",
       "    </tr>\n",
       "    <tr>\n",
       "      <th>4</th>\n",
       "      <td>shipping_limit_date</td>\n",
       "      <td>object</td>\n",
       "      <td>93318</td>\n",
       "      <td>0.0 %</td>\n",
       "    </tr>\n",
       "    <tr>\n",
       "      <th>5</th>\n",
       "      <td>price</td>\n",
       "      <td>float64</td>\n",
       "      <td>5968</td>\n",
       "      <td>0.0 %</td>\n",
       "    </tr>\n",
       "    <tr>\n",
       "      <th>6</th>\n",
       "      <td>freight_value</td>\n",
       "      <td>float64</td>\n",
       "      <td>6999</td>\n",
       "      <td>0.0 %</td>\n",
       "    </tr>\n",
       "  </tbody>\n",
       "</table>\n",
       "</div>"
      ],
      "text/plain": [
       "         variable name variable type nbr of distinct values percentage of NaNs\n",
       "0             order_id        object                  98666              0.0 %\n",
       "1        order_item_id         int64                     21              0.0 %\n",
       "2           product_id        object                  32951              0.0 %\n",
       "3            seller_id        object                   3095              0.0 %\n",
       "4  shipping_limit_date        object                  93318              0.0 %\n",
       "5                price       float64                   5968              0.0 %\n",
       "6        freight_value       float64                   6999              0.0 %"
      ]
     },
     "execution_count": 53,
     "metadata": {},
     "output_type": "execute_result"
    }
   ],
   "source": [
    "my.variable_survey(items)"
   ]
  },
  {
   "cell_type": "code",
   "execution_count": 54,
   "id": "d658ee11",
   "metadata": {},
   "outputs": [
    {
     "data": {
      "text/html": [
       "<div>\n",
       "<style scoped>\n",
       "    .dataframe tbody tr th:only-of-type {\n",
       "        vertical-align: middle;\n",
       "    }\n",
       "\n",
       "    .dataframe tbody tr th {\n",
       "        vertical-align: top;\n",
       "    }\n",
       "\n",
       "    .dataframe thead th {\n",
       "        text-align: right;\n",
       "    }\n",
       "</style>\n",
       "<table border=\"1\" class=\"dataframe\">\n",
       "  <thead>\n",
       "    <tr style=\"text-align: right;\">\n",
       "      <th></th>\n",
       "      <th>order_id</th>\n",
       "      <th>order_item_id</th>\n",
       "      <th>product_id</th>\n",
       "      <th>seller_id</th>\n",
       "      <th>shipping_limit_date</th>\n",
       "      <th>price</th>\n",
       "      <th>freight_value</th>\n",
       "    </tr>\n",
       "  </thead>\n",
       "  <tbody>\n",
       "    <tr>\n",
       "      <th>0</th>\n",
       "      <td>00010242fe8c5a6d1ba2dd792cb16214</td>\n",
       "      <td>1</td>\n",
       "      <td>4244733e06e7ecb4970a6e2683c13e61</td>\n",
       "      <td>48436dade18ac8b2bce089ec2a041202</td>\n",
       "      <td>2017-09-19 09:45:35</td>\n",
       "      <td>58.90</td>\n",
       "      <td>13.29</td>\n",
       "    </tr>\n",
       "    <tr>\n",
       "      <th>1</th>\n",
       "      <td>00018f77f2f0320c557190d7a144bdd3</td>\n",
       "      <td>1</td>\n",
       "      <td>e5f2d52b802189ee658865ca93d83a8f</td>\n",
       "      <td>dd7ddc04e1b6c2c614352b383efe2d36</td>\n",
       "      <td>2017-05-03 11:05:13</td>\n",
       "      <td>239.90</td>\n",
       "      <td>19.93</td>\n",
       "    </tr>\n",
       "    <tr>\n",
       "      <th>2</th>\n",
       "      <td>000229ec398224ef6ca0657da4fc703e</td>\n",
       "      <td>1</td>\n",
       "      <td>c777355d18b72b67abbeef9df44fd0fd</td>\n",
       "      <td>5b51032eddd242adc84c38acab88f23d</td>\n",
       "      <td>2018-01-18 14:48:30</td>\n",
       "      <td>199.00</td>\n",
       "      <td>17.87</td>\n",
       "    </tr>\n",
       "    <tr>\n",
       "      <th>3</th>\n",
       "      <td>00024acbcdf0a6daa1e931b038114c75</td>\n",
       "      <td>1</td>\n",
       "      <td>7634da152a4610f1595efa32f14722fc</td>\n",
       "      <td>9d7a1d34a5052409006425275ba1c2b4</td>\n",
       "      <td>2018-08-15 10:10:18</td>\n",
       "      <td>12.99</td>\n",
       "      <td>12.79</td>\n",
       "    </tr>\n",
       "    <tr>\n",
       "      <th>4</th>\n",
       "      <td>00042b26cf59d7ce69dfabb4e55b4fd9</td>\n",
       "      <td>1</td>\n",
       "      <td>ac6c3623068f30de03045865e4e10089</td>\n",
       "      <td>df560393f3a51e74553ab94004ba5c87</td>\n",
       "      <td>2017-02-13 13:57:51</td>\n",
       "      <td>199.90</td>\n",
       "      <td>18.14</td>\n",
       "    </tr>\n",
       "  </tbody>\n",
       "</table>\n",
       "</div>"
      ],
      "text/plain": [
       "                           order_id  order_item_id  \\\n",
       "0  00010242fe8c5a6d1ba2dd792cb16214              1   \n",
       "1  00018f77f2f0320c557190d7a144bdd3              1   \n",
       "2  000229ec398224ef6ca0657da4fc703e              1   \n",
       "3  00024acbcdf0a6daa1e931b038114c75              1   \n",
       "4  00042b26cf59d7ce69dfabb4e55b4fd9              1   \n",
       "\n",
       "                         product_id                         seller_id  \\\n",
       "0  4244733e06e7ecb4970a6e2683c13e61  48436dade18ac8b2bce089ec2a041202   \n",
       "1  e5f2d52b802189ee658865ca93d83a8f  dd7ddc04e1b6c2c614352b383efe2d36   \n",
       "2  c777355d18b72b67abbeef9df44fd0fd  5b51032eddd242adc84c38acab88f23d   \n",
       "3  7634da152a4610f1595efa32f14722fc  9d7a1d34a5052409006425275ba1c2b4   \n",
       "4  ac6c3623068f30de03045865e4e10089  df560393f3a51e74553ab94004ba5c87   \n",
       "\n",
       "   shipping_limit_date   price  freight_value  \n",
       "0  2017-09-19 09:45:35   58.90          13.29  \n",
       "1  2017-05-03 11:05:13  239.90          19.93  \n",
       "2  2018-01-18 14:48:30  199.00          17.87  \n",
       "3  2018-08-15 10:10:18   12.99          12.79  \n",
       "4  2017-02-13 13:57:51  199.90          18.14  "
      ]
     },
     "execution_count": 54,
     "metadata": {},
     "output_type": "execute_result"
    }
   ],
   "source": [
    "items.head()"
   ]
  },
  {
   "cell_type": "code",
   "execution_count": 55,
   "id": "0572db81",
   "metadata": {},
   "outputs": [
    {
     "data": {
      "text/plain": [
       "98666"
      ]
     },
     "execution_count": 55,
     "metadata": {},
     "output_type": "execute_result"
    }
   ],
   "source": [
    "items['order_id'].nunique()"
   ]
  },
  {
   "cell_type": "code",
   "execution_count": 56,
   "id": "b3076150",
   "metadata": {},
   "outputs": [
    {
     "data": {
      "text/plain": [
       "13984"
      ]
     },
     "execution_count": 56,
     "metadata": {},
     "output_type": "execute_result"
    }
   ],
   "source": [
    "sum(items.duplicated('order_id'))"
   ]
  },
  {
   "cell_type": "markdown",
   "id": "cb17de13",
   "metadata": {},
   "source": [
    "--> Dans ce dataframe, il y on a 98666 commandes avec un seul article et 13984 avec plus qu'un article. "
   ]
  },
  {
   "cell_type": "code",
   "execution_count": 57,
   "id": "60848c7d",
   "metadata": {},
   "outputs": [
    {
     "data": {
      "text/html": [
       "<div>\n",
       "<style scoped>\n",
       "    .dataframe tbody tr th:only-of-type {\n",
       "        vertical-align: middle;\n",
       "    }\n",
       "\n",
       "    .dataframe tbody tr th {\n",
       "        vertical-align: top;\n",
       "    }\n",
       "\n",
       "    .dataframe thead th {\n",
       "        text-align: right;\n",
       "    }\n",
       "</style>\n",
       "<table border=\"1\" class=\"dataframe\">\n",
       "  <thead>\n",
       "    <tr style=\"text-align: right;\">\n",
       "      <th></th>\n",
       "      <th>order_item_id</th>\n",
       "      <th>Pourcentage</th>\n",
       "    </tr>\n",
       "  </thead>\n",
       "  <tbody>\n",
       "    <tr>\n",
       "      <th>1</th>\n",
       "      <td>98666.0</td>\n",
       "      <td>87.59</td>\n",
       "    </tr>\n",
       "    <tr>\n",
       "      <th>2</th>\n",
       "      <td>9803.0</td>\n",
       "      <td>8.70</td>\n",
       "    </tr>\n",
       "    <tr>\n",
       "      <th>3</th>\n",
       "      <td>2287.0</td>\n",
       "      <td>2.03</td>\n",
       "    </tr>\n",
       "    <tr>\n",
       "      <th>4</th>\n",
       "      <td>965.0</td>\n",
       "      <td>0.86</td>\n",
       "    </tr>\n",
       "    <tr>\n",
       "      <th>5</th>\n",
       "      <td>460.0</td>\n",
       "      <td>0.41</td>\n",
       "    </tr>\n",
       "    <tr>\n",
       "      <th>6</th>\n",
       "      <td>256.0</td>\n",
       "      <td>0.23</td>\n",
       "    </tr>\n",
       "    <tr>\n",
       "      <th>7</th>\n",
       "      <td>58.0</td>\n",
       "      <td>0.05</td>\n",
       "    </tr>\n",
       "    <tr>\n",
       "      <th>8</th>\n",
       "      <td>36.0</td>\n",
       "      <td>0.03</td>\n",
       "    </tr>\n",
       "    <tr>\n",
       "      <th>9</th>\n",
       "      <td>28.0</td>\n",
       "      <td>0.02</td>\n",
       "    </tr>\n",
       "    <tr>\n",
       "      <th>10</th>\n",
       "      <td>25.0</td>\n",
       "      <td>0.02</td>\n",
       "    </tr>\n",
       "    <tr>\n",
       "      <th>11</th>\n",
       "      <td>17.0</td>\n",
       "      <td>0.02</td>\n",
       "    </tr>\n",
       "    <tr>\n",
       "      <th>12</th>\n",
       "      <td>13.0</td>\n",
       "      <td>0.01</td>\n",
       "    </tr>\n",
       "    <tr>\n",
       "      <th>13</th>\n",
       "      <td>8.0</td>\n",
       "      <td>0.01</td>\n",
       "    </tr>\n",
       "    <tr>\n",
       "      <th>14</th>\n",
       "      <td>7.0</td>\n",
       "      <td>0.01</td>\n",
       "    </tr>\n",
       "    <tr>\n",
       "      <th>15</th>\n",
       "      <td>5.0</td>\n",
       "      <td>0.00</td>\n",
       "    </tr>\n",
       "  </tbody>\n",
       "</table>\n",
       "</div>"
      ],
      "text/plain": [
       "    order_item_id  Pourcentage\n",
       "1         98666.0        87.59\n",
       "2          9803.0         8.70\n",
       "3          2287.0         2.03\n",
       "4           965.0         0.86\n",
       "5           460.0         0.41\n",
       "6           256.0         0.23\n",
       "7            58.0         0.05\n",
       "8            36.0         0.03\n",
       "9            28.0         0.02\n",
       "10           25.0         0.02\n",
       "11           17.0         0.02\n",
       "12           13.0         0.01\n",
       "13            8.0         0.01\n",
       "14            7.0         0.01\n",
       "15            5.0         0.00"
      ]
     },
     "execution_count": 57,
     "metadata": {},
     "output_type": "execute_result"
    },
    {
     "data": {
      "image/png": "[encoded data removed]",
      "text/plain": [
       "<Figure size 432x288 with 1 Axes>"
      ]
     },
     "metadata": {
      "needs_background": "light"
     },
     "output_type": "display_data"
    }
   ],
   "source": [
    "#verifions la fréquence des commandes par rapport aux nombre d'articles commandés\n",
    "barplots_var_frequency(items, 'order_item_id')"
   ]
  },
  {
   "cell_type": "code",
   "execution_count": 58,
   "id": "4ca4b340",
   "metadata": {},
   "outputs": [
    {
     "data": {
      "text/plain": [
       "count    112650.000000\n",
       "mean          1.197834\n",
       "std           0.705124\n",
       "min           1.000000\n",
       "25%           1.000000\n",
       "50%           1.000000\n",
       "75%           1.000000\n",
       "max          21.000000\n",
       "Name: order_item_id, dtype: float64"
      ]
     },
     "execution_count": 58,
     "metadata": {},
     "output_type": "execute_result"
    }
   ],
   "source": [
    "items['order_item_id'].describe()"
   ]
  },
  {
   "cell_type": "markdown",
   "id": "1d5b8ae8",
   "metadata": {},
   "source": [
    "--> Nous remarquons que 87,59% des commandes contiennent 1 seul article. Le nombre maximal d'articles dans une commande est 21. "
   ]
  },
  {
   "cell_type": "code",
   "execution_count": 59,
   "id": "2d7f846a",
   "metadata": {},
   "outputs": [],
   "source": [
    "#nous allons modifier le type de \"shipping_limit_date\" / date maximale d'expédition en date\n",
    "items['shipping_limit_date']= pd.to_datetime(items['shipping_limit_date'])"
   ]
  },
  {
   "cell_type": "code",
   "execution_count": 60,
   "id": "0da3f9ac",
   "metadata": {
    "scrolled": true
   },
   "outputs": [
    {
     "data": {
      "text/plain": [
       "<AxesSubplot:xlabel='price', ylabel='Density'>"
      ]
     },
     "execution_count": 60,
     "metadata": {},
     "output_type": "execute_result"
    },
    {
     "data": {
      "image/png": "[encoded data removed]",
      "text/plain": [
       "<Figure size 432x288 with 1 Axes>"
      ]
     },
     "metadata": {
      "needs_background": "light"
     },
     "output_type": "display_data"
    }
   ],
   "source": [
    "#verifions maintenant la variation des prix des commandes\n",
    "plt.hist(items['price'], alpha=0.3,  bins=200, density=True)\n",
    "sns.kdeplot(items['price'])"
   ]
  },
  {
   "cell_type": "code",
   "execution_count": 61,
   "id": "04bfc580",
   "metadata": {},
   "outputs": [
    {
     "data": {
      "text/plain": [
       "(0.0, 1000.0)"
      ]
     },
     "execution_count": 61,
     "metadata": {},
     "output_type": "execute_result"
    },
    {
     "data": {
      "image/png": "[encoded data removed]",
      "text/plain": [
       "<Figure size 432x288 with 1 Axes>"
      ]
     },
     "metadata": {
      "needs_background": "light"
     },
     "output_type": "display_data"
    }
   ],
   "source": [
    "#nous faisons un zoom sur l'intervalle des prix [0, 1000]\n",
    "plt.hist(items['price'], alpha=0.3, range=(0, 1000),  bins=200, density=True)\n",
    "sns.kdeplot(items['price'])\n",
    "plt.xlim(0, 1000)"
   ]
  },
  {
   "cell_type": "markdown",
   "id": "7a71a80e",
   "metadata": {},
   "source": [
    "--> Nous remarquons que la grande majorité des commandes valent 100 réaux. "
   ]
  },
  {
   "cell_type": "code",
   "execution_count": 62,
   "id": "57f36037",
   "metadata": {},
   "outputs": [
    {
     "data": {
      "text/plain": [
       "Index(['order_id', 'order_item_id', 'product_id', 'seller_id',\n",
       "       'shipping_limit_date', 'price', 'freight_value'],\n",
       "      dtype='object')"
      ]
     },
     "execution_count": 62,
     "metadata": {},
     "output_type": "execute_result"
    }
   ],
   "source": [
    "items.columns"
   ]
  },
  {
   "cell_type": "markdown",
   "id": "0ee5b3d7",
   "metadata": {},
   "source": [
    "## Sélection des variables utiles  \n",
    "\n",
    "Pour notre projet, nous allons sélectionner toutes les variables "
   ]
  },
  {
   "cell_type": "markdown",
   "id": "b2ea6784",
   "metadata": {},
   "source": [
    "## 1.7. Customers / Client   \n",
    "\n",
    "\n",
    "La table customers contient les variables suivantes :\n",
    "\n",
    "    customer_id: identifiant de la commande. Chaque commande a un custumer_id. \n",
    "    customer_unique_id: identifiant du client.\n",
    "    customer_zip_code_prefix: zip code du client\n",
    "    customer_city: nom du cité de l'acheteur\n",
    "    customer_state: état du client\n"
   ]
  },
  {
   "cell_type": "code",
   "execution_count": 63,
   "id": "f8fc11af",
   "metadata": {},
   "outputs": [
    {
     "data": {
      "text/html": [
       "<div>\n",
       "<style scoped>\n",
       "    .dataframe tbody tr th:only-of-type {\n",
       "        vertical-align: middle;\n",
       "    }\n",
       "\n",
       "    .dataframe tbody tr th {\n",
       "        vertical-align: top;\n",
       "    }\n",
       "\n",
       "    .dataframe thead th {\n",
       "        text-align: right;\n",
       "    }\n",
       "</style>\n",
       "<table border=\"1\" class=\"dataframe\">\n",
       "  <thead>\n",
       "    <tr style=\"text-align: right;\">\n",
       "      <th></th>\n",
       "      <th>dataframe</th>\n",
       "      <th>(rows, column)</th>\n",
       "      <th>Total number of nans</th>\n",
       "      <th>percentage of nans</th>\n",
       "      <th>number of duplicated rows</th>\n",
       "      <th>percentage of duplicated rows</th>\n",
       "    </tr>\n",
       "  </thead>\n",
       "  <tbody>\n",
       "    <tr>\n",
       "      <th>0</th>\n",
       "      <td>customers</td>\n",
       "      <td>(99441,5)</td>\n",
       "      <td>0</td>\n",
       "      <td>0.0 %</td>\n",
       "      <td>0</td>\n",
       "      <td>0.0 %</td>\n",
       "    </tr>\n",
       "  </tbody>\n",
       "</table>\n",
       "</div>"
      ],
      "text/plain": [
       "   dataframe (rows, column) Total number of nans percentage of nans  \\\n",
       "0  customers      (99441,5)                    0              0.0 %   \n",
       "\n",
       "  number of duplicated rows percentage of duplicated rows  \n",
       "0                         0                         0.0 %  "
      ]
     },
     "execution_count": 63,
     "metadata": {},
     "output_type": "execute_result"
    }
   ],
   "source": [
    "customers_dict ={'customers': customers}\n",
    "my.dataframe_survey(customers_dict)"
   ]
  },
  {
   "cell_type": "markdown",
   "id": "c9276cd0",
   "metadata": {},
   "source": [
    "Nous remarquons qu'il n'y a pas ni doublons ni valeurs manquantes dans ce dataframe."
   ]
  },
  {
   "cell_type": "code",
   "execution_count": 64,
   "id": "abdcd764",
   "metadata": {},
   "outputs": [
    {
     "data": {
      "text/html": [
       "<div>\n",
       "<style scoped>\n",
       "    .dataframe tbody tr th:only-of-type {\n",
       "        vertical-align: middle;\n",
       "    }\n",
       "\n",
       "    .dataframe tbody tr th {\n",
       "        vertical-align: top;\n",
       "    }\n",
       "\n",
       "    .dataframe thead th {\n",
       "        text-align: right;\n",
       "    }\n",
       "</style>\n",
       "<table border=\"1\" class=\"dataframe\">\n",
       "  <thead>\n",
       "    <tr style=\"text-align: right;\">\n",
       "      <th></th>\n",
       "      <th>variable name</th>\n",
       "      <th>variable type</th>\n",
       "      <th>nbr of distinct values</th>\n",
       "      <th>percentage of NaNs</th>\n",
       "    </tr>\n",
       "  </thead>\n",
       "  <tbody>\n",
       "    <tr>\n",
       "      <th>0</th>\n",
       "      <td>customer_id</td>\n",
       "      <td>object</td>\n",
       "      <td>99441</td>\n",
       "      <td>0.0 %</td>\n",
       "    </tr>\n",
       "    <tr>\n",
       "      <th>1</th>\n",
       "      <td>customer_unique_id</td>\n",
       "      <td>object</td>\n",
       "      <td>96096</td>\n",
       "      <td>0.0 %</td>\n",
       "    </tr>\n",
       "    <tr>\n",
       "      <th>2</th>\n",
       "      <td>customer_zip_code_prefix</td>\n",
       "      <td>int64</td>\n",
       "      <td>14994</td>\n",
       "      <td>0.0 %</td>\n",
       "    </tr>\n",
       "    <tr>\n",
       "      <th>3</th>\n",
       "      <td>customer_city</td>\n",
       "      <td>object</td>\n",
       "      <td>4119</td>\n",
       "      <td>0.0 %</td>\n",
       "    </tr>\n",
       "    <tr>\n",
       "      <th>4</th>\n",
       "      <td>customer_state</td>\n",
       "      <td>object</td>\n",
       "      <td>27</td>\n",
       "      <td>0.0 %</td>\n",
       "    </tr>\n",
       "  </tbody>\n",
       "</table>\n",
       "</div>"
      ],
      "text/plain": [
       "              variable name variable type nbr of distinct values  \\\n",
       "0               customer_id        object                  99441   \n",
       "1        customer_unique_id        object                  96096   \n",
       "2  customer_zip_code_prefix         int64                  14994   \n",
       "3             customer_city        object                   4119   \n",
       "4            customer_state        object                     27   \n",
       "\n",
       "  percentage of NaNs  \n",
       "0              0.0 %  \n",
       "1              0.0 %  \n",
       "2              0.0 %  \n",
       "3              0.0 %  \n",
       "4              0.0 %  "
      ]
     },
     "execution_count": 64,
     "metadata": {},
     "output_type": "execute_result"
    }
   ],
   "source": [
    "my.variable_survey(customers)"
   ]
  },
  {
   "cell_type": "markdown",
   "id": "1b313f50",
   "metadata": {},
   "source": [
    "Puisque le nombre de valeur distinctes de customer_id est égale au nombre de lignes du dataframe customers(99441), Nous allons le considérer dans le reste du projet comme identifiant unique des clients. Nous allons supprimer la variable 'customer_unique_id'. "
   ]
  },
  {
   "cell_type": "code",
   "execution_count": 65,
   "id": "d59dca72",
   "metadata": {},
   "outputs": [
    {
     "name": "stdout",
     "output_type": "stream",
     "text": [
      "Le nombre de villes est : 4119\n",
      "Le nombre d'états est : 27\n",
      "Le nombre de clients est : 96096\n"
     ]
    }
   ],
   "source": [
    "# Nombre de villes\n",
    "nbre_city = customers[\"customer_city\"].nunique()\n",
    "# Nombre d'Etats\n",
    "nbre_states = customers[\"customer_state\"].nunique()\n",
    "# Nombre de consommateurs\n",
    "nbre_customers = customers[\"customer_unique_id\"].nunique()\n",
    "\n",
    "print(\"Le nombre de villes est : {}\".format(nbre_city))\n",
    "print(\"Le nombre d'états est : {}\".format(nbre_states))\n",
    "print(\"Le nombre de clients est : {}\".format(nbre_customers))\n",
    "\n"
   ]
  },
  {
   "cell_type": "code",
   "execution_count": 66,
   "id": "6c283843",
   "metadata": {},
   "outputs": [
    {
     "data": {
      "text/html": [
       "<div>\n",
       "<style scoped>\n",
       "    .dataframe tbody tr th:only-of-type {\n",
       "        vertical-align: middle;\n",
       "    }\n",
       "\n",
       "    .dataframe tbody tr th {\n",
       "        vertical-align: top;\n",
       "    }\n",
       "\n",
       "    .dataframe thead th {\n",
       "        text-align: right;\n",
       "    }\n",
       "</style>\n",
       "<table border=\"1\" class=\"dataframe\">\n",
       "  <thead>\n",
       "    <tr style=\"text-align: right;\">\n",
       "      <th></th>\n",
       "      <th>customer_city</th>\n",
       "      <th>Pourcentage</th>\n",
       "    </tr>\n",
       "  </thead>\n",
       "  <tbody>\n",
       "    <tr>\n",
       "      <th>sao paulo</th>\n",
       "      <td>15540.0</td>\n",
       "      <td>15.63</td>\n",
       "    </tr>\n",
       "    <tr>\n",
       "      <th>rio de janeiro</th>\n",
       "      <td>6882.0</td>\n",
       "      <td>6.92</td>\n",
       "    </tr>\n",
       "    <tr>\n",
       "      <th>belo horizonte</th>\n",
       "      <td>2773.0</td>\n",
       "      <td>2.79</td>\n",
       "    </tr>\n",
       "    <tr>\n",
       "      <th>brasilia</th>\n",
       "      <td>2131.0</td>\n",
       "      <td>2.14</td>\n",
       "    </tr>\n",
       "    <tr>\n",
       "      <th>curitiba</th>\n",
       "      <td>1521.0</td>\n",
       "      <td>1.53</td>\n",
       "    </tr>\n",
       "    <tr>\n",
       "      <th>campinas</th>\n",
       "      <td>1444.0</td>\n",
       "      <td>1.45</td>\n",
       "    </tr>\n",
       "    <tr>\n",
       "      <th>porto alegre</th>\n",
       "      <td>1379.0</td>\n",
       "      <td>1.39</td>\n",
       "    </tr>\n",
       "    <tr>\n",
       "      <th>salvador</th>\n",
       "      <td>1245.0</td>\n",
       "      <td>1.25</td>\n",
       "    </tr>\n",
       "    <tr>\n",
       "      <th>guarulhos</th>\n",
       "      <td>1189.0</td>\n",
       "      <td>1.20</td>\n",
       "    </tr>\n",
       "    <tr>\n",
       "      <th>sao bernardo do campo</th>\n",
       "      <td>938.0</td>\n",
       "      <td>0.94</td>\n",
       "    </tr>\n",
       "    <tr>\n",
       "      <th>niteroi</th>\n",
       "      <td>849.0</td>\n",
       "      <td>0.85</td>\n",
       "    </tr>\n",
       "    <tr>\n",
       "      <th>santo andre</th>\n",
       "      <td>797.0</td>\n",
       "      <td>0.80</td>\n",
       "    </tr>\n",
       "    <tr>\n",
       "      <th>osasco</th>\n",
       "      <td>746.0</td>\n",
       "      <td>0.75</td>\n",
       "    </tr>\n",
       "    <tr>\n",
       "      <th>santos</th>\n",
       "      <td>713.0</td>\n",
       "      <td>0.72</td>\n",
       "    </tr>\n",
       "    <tr>\n",
       "      <th>goiania</th>\n",
       "      <td>692.0</td>\n",
       "      <td>0.70</td>\n",
       "    </tr>\n",
       "  </tbody>\n",
       "</table>\n",
       "</div>"
      ],
      "text/plain": [
       "                       customer_city  Pourcentage\n",
       "sao paulo                    15540.0        15.63\n",
       "rio de janeiro                6882.0         6.92\n",
       "belo horizonte                2773.0         2.79\n",
       "brasilia                      2131.0         2.14\n",
       "curitiba                      1521.0         1.53\n",
       "campinas                      1444.0         1.45\n",
       "porto alegre                  1379.0         1.39\n",
       "salvador                      1245.0         1.25\n",
       "guarulhos                     1189.0         1.20\n",
       "sao bernardo do campo          938.0         0.94\n",
       "niteroi                        849.0         0.85\n",
       "santo andre                    797.0         0.80\n",
       "osasco                         746.0         0.75\n",
       "santos                         713.0         0.72\n",
       "goiania                        692.0         0.70"
      ]
     },
     "execution_count": 66,
     "metadata": {},
     "output_type": "execute_result"
    },
    {
     "data": {
      "image/png": "[encoded data removed]",
      "text/plain": [
       "<Figure size 432x288 with 1 Axes>"
      ]
     },
     "metadata": {
      "needs_background": "light"
     },
     "output_type": "display_data"
    }
   ],
   "source": [
    "#vérifions la distribution des clients par villes\n",
    "barplots_var_frequency(customers, 'customer_city')"
   ]
  },
  {
   "cell_type": "markdown",
   "id": "4018f2d2",
   "metadata": {},
   "source": [
    "--> on remarque que la majorité des clients (15,63 %) habitent à Sao Paulo. "
   ]
  },
  {
   "cell_type": "code",
   "execution_count": 67,
   "id": "93bcca09",
   "metadata": {},
   "outputs": [
    {
     "data": {
      "text/html": [
       "<div>\n",
       "<style scoped>\n",
       "    .dataframe tbody tr th:only-of-type {\n",
       "        vertical-align: middle;\n",
       "    }\n",
       "\n",
       "    .dataframe tbody tr th {\n",
       "        vertical-align: top;\n",
       "    }\n",
       "\n",
       "    .dataframe thead th {\n",
       "        text-align: right;\n",
       "    }\n",
       "</style>\n",
       "<table border=\"1\" class=\"dataframe\">\n",
       "  <thead>\n",
       "    <tr style=\"text-align: right;\">\n",
       "      <th></th>\n",
       "      <th>customer_state</th>\n",
       "      <th>Pourcentage</th>\n",
       "    </tr>\n",
       "  </thead>\n",
       "  <tbody>\n",
       "    <tr>\n",
       "      <th>SP</th>\n",
       "      <td>41746.0</td>\n",
       "      <td>41.98</td>\n",
       "    </tr>\n",
       "    <tr>\n",
       "      <th>RJ</th>\n",
       "      <td>12852.0</td>\n",
       "      <td>12.92</td>\n",
       "    </tr>\n",
       "    <tr>\n",
       "      <th>MG</th>\n",
       "      <td>11635.0</td>\n",
       "      <td>11.70</td>\n",
       "    </tr>\n",
       "    <tr>\n",
       "      <th>RS</th>\n",
       "      <td>5466.0</td>\n",
       "      <td>5.50</td>\n",
       "    </tr>\n",
       "    <tr>\n",
       "      <th>PR</th>\n",
       "      <td>5045.0</td>\n",
       "      <td>5.07</td>\n",
       "    </tr>\n",
       "    <tr>\n",
       "      <th>SC</th>\n",
       "      <td>3637.0</td>\n",
       "      <td>3.66</td>\n",
       "    </tr>\n",
       "    <tr>\n",
       "      <th>BA</th>\n",
       "      <td>3380.0</td>\n",
       "      <td>3.40</td>\n",
       "    </tr>\n",
       "    <tr>\n",
       "      <th>DF</th>\n",
       "      <td>2140.0</td>\n",
       "      <td>2.15</td>\n",
       "    </tr>\n",
       "    <tr>\n",
       "      <th>ES</th>\n",
       "      <td>2033.0</td>\n",
       "      <td>2.04</td>\n",
       "    </tr>\n",
       "    <tr>\n",
       "      <th>GO</th>\n",
       "      <td>2020.0</td>\n",
       "      <td>2.03</td>\n",
       "    </tr>\n",
       "    <tr>\n",
       "      <th>PE</th>\n",
       "      <td>1652.0</td>\n",
       "      <td>1.66</td>\n",
       "    </tr>\n",
       "    <tr>\n",
       "      <th>CE</th>\n",
       "      <td>1336.0</td>\n",
       "      <td>1.34</td>\n",
       "    </tr>\n",
       "    <tr>\n",
       "      <th>PA</th>\n",
       "      <td>975.0</td>\n",
       "      <td>0.98</td>\n",
       "    </tr>\n",
       "    <tr>\n",
       "      <th>MT</th>\n",
       "      <td>907.0</td>\n",
       "      <td>0.91</td>\n",
       "    </tr>\n",
       "    <tr>\n",
       "      <th>MA</th>\n",
       "      <td>747.0</td>\n",
       "      <td>0.75</td>\n",
       "    </tr>\n",
       "  </tbody>\n",
       "</table>\n",
       "</div>"
      ],
      "text/plain": [
       "    customer_state  Pourcentage\n",
       "SP         41746.0        41.98\n",
       "RJ         12852.0        12.92\n",
       "MG         11635.0        11.70\n",
       "RS          5466.0         5.50\n",
       "PR          5045.0         5.07\n",
       "SC          3637.0         3.66\n",
       "BA          3380.0         3.40\n",
       "DF          2140.0         2.15\n",
       "ES          2033.0         2.04\n",
       "GO          2020.0         2.03\n",
       "PE          1652.0         1.66\n",
       "CE          1336.0         1.34\n",
       "PA           975.0         0.98\n",
       "MT           907.0         0.91\n",
       "MA           747.0         0.75"
      ]
     },
     "execution_count": 67,
     "metadata": {},
     "output_type": "execute_result"
    },
    {
     "data": {
      "image/png": "[encoded data removed]",
      "text/plain": [
       "<Figure size 432x288 with 1 Axes>"
      ]
     },
     "metadata": {
      "needs_background": "light"
     },
     "output_type": "display_data"
    }
   ],
   "source": [
    "barplots_var_frequency(customers, 'customer_state')"
   ]
  },
  {
   "cell_type": "code",
   "execution_count": 68,
   "id": "ed81e30e",
   "metadata": {},
   "outputs": [
    {
     "data": {
      "text/plain": [
       "Index(['customer_id', 'customer_unique_id', 'customer_zip_code_prefix',\n",
       "       'customer_city', 'customer_state'],\n",
       "      dtype='object')"
      ]
     },
     "execution_count": 68,
     "metadata": {},
     "output_type": "execute_result"
    }
   ],
   "source": [
    "customers.columns"
   ]
  },
  {
   "cell_type": "markdown",
   "id": "df8b01b7",
   "metadata": {},
   "source": [
    "--> On remarque que 41.98 % des états présents dans le dataframe sont SP.   \n",
    "### Sélection des variables utiles  \n"
   ]
  },
  {
   "cell_type": "code",
   "execution_count": 69,
   "id": "ee4f28b8",
   "metadata": {},
   "outputs": [],
   "source": [
    "customers = customers[['customer_id','customer_unique_id', 'customer_zip_code_prefix','customer_city', 'customer_state']]"
   ]
  },
  {
   "cell_type": "markdown",
   "id": "7487286d",
   "metadata": {},
   "source": [
    "## 1.8. Payments /Payement  \n",
    "\n",
    "\n",
    "\n",
    "Le dataframe \"payments\" contient les variables suivantes :\n",
    "\n",
    "    order_id: identifiant d'une commande.\n",
    "    payment_sequential: Le client peut payer une commande avec plusieurs moyens. S'il le fait, une séquence sera créée pour accueillir tous les paiements.\n",
    "    payment_type: méthode de payment utilisée.\n",
    "    payment_installments: nombre de versements choisi par le client.\n",
    "    payment_value: montant payé.\n",
    "\n"
   ]
  },
  {
   "cell_type": "code",
   "execution_count": 70,
   "id": "f78507ad",
   "metadata": {},
   "outputs": [
    {
     "data": {
      "text/html": [
       "<div>\n",
       "<style scoped>\n",
       "    .dataframe tbody tr th:only-of-type {\n",
       "        vertical-align: middle;\n",
       "    }\n",
       "\n",
       "    .dataframe tbody tr th {\n",
       "        vertical-align: top;\n",
       "    }\n",
       "\n",
       "    .dataframe thead th {\n",
       "        text-align: right;\n",
       "    }\n",
       "</style>\n",
       "<table border=\"1\" class=\"dataframe\">\n",
       "  <thead>\n",
       "    <tr style=\"text-align: right;\">\n",
       "      <th></th>\n",
       "      <th>dataframe</th>\n",
       "      <th>(rows, column)</th>\n",
       "      <th>Total number of nans</th>\n",
       "      <th>percentage of nans</th>\n",
       "      <th>number of duplicated rows</th>\n",
       "      <th>percentage of duplicated rows</th>\n",
       "    </tr>\n",
       "  </thead>\n",
       "  <tbody>\n",
       "    <tr>\n",
       "      <th>0</th>\n",
       "      <td>payments</td>\n",
       "      <td>(103886,5)</td>\n",
       "      <td>0</td>\n",
       "      <td>0.0 %</td>\n",
       "      <td>0</td>\n",
       "      <td>0.0 %</td>\n",
       "    </tr>\n",
       "  </tbody>\n",
       "</table>\n",
       "</div>"
      ],
      "text/plain": [
       "  dataframe (rows, column) Total number of nans percentage of nans  \\\n",
       "0  payments     (103886,5)                    0              0.0 %   \n",
       "\n",
       "  number of duplicated rows percentage of duplicated rows  \n",
       "0                         0                         0.0 %  "
      ]
     },
     "execution_count": 70,
     "metadata": {},
     "output_type": "execute_result"
    }
   ],
   "source": [
    "payment_dict = {'payments': payments}\n",
    "my.dataframe_survey(payment_dict)"
   ]
  },
  {
   "cell_type": "markdown",
   "id": "575758a4",
   "metadata": {},
   "source": [
    "Ce dataframe ne contient ni des valeurs manquantes ni des doublons"
   ]
  },
  {
   "cell_type": "code",
   "execution_count": 71,
   "id": "ecfc96e2",
   "metadata": {},
   "outputs": [
    {
     "data": {
      "text/html": [
       "<div>\n",
       "<style scoped>\n",
       "    .dataframe tbody tr th:only-of-type {\n",
       "        vertical-align: middle;\n",
       "    }\n",
       "\n",
       "    .dataframe tbody tr th {\n",
       "        vertical-align: top;\n",
       "    }\n",
       "\n",
       "    .dataframe thead th {\n",
       "        text-align: right;\n",
       "    }\n",
       "</style>\n",
       "<table border=\"1\" class=\"dataframe\">\n",
       "  <thead>\n",
       "    <tr style=\"text-align: right;\">\n",
       "      <th></th>\n",
       "      <th>order_id</th>\n",
       "      <th>payment_sequential</th>\n",
       "      <th>payment_type</th>\n",
       "      <th>payment_installments</th>\n",
       "      <th>payment_value</th>\n",
       "    </tr>\n",
       "  </thead>\n",
       "  <tbody>\n",
       "    <tr>\n",
       "      <th>0</th>\n",
       "      <td>b81ef226f3fe1789b1e8b2acac839d17</td>\n",
       "      <td>1</td>\n",
       "      <td>credit_card</td>\n",
       "      <td>8</td>\n",
       "      <td>99.33</td>\n",
       "    </tr>\n",
       "    <tr>\n",
       "      <th>1</th>\n",
       "      <td>a9810da82917af2d9aefd1278f1dcfa0</td>\n",
       "      <td>1</td>\n",
       "      <td>credit_card</td>\n",
       "      <td>1</td>\n",
       "      <td>24.39</td>\n",
       "    </tr>\n",
       "    <tr>\n",
       "      <th>2</th>\n",
       "      <td>25e8ea4e93396b6fa0d3dd708e76c1bd</td>\n",
       "      <td>1</td>\n",
       "      <td>credit_card</td>\n",
       "      <td>1</td>\n",
       "      <td>65.71</td>\n",
       "    </tr>\n",
       "    <tr>\n",
       "      <th>3</th>\n",
       "      <td>ba78997921bbcdc1373bb41e913ab953</td>\n",
       "      <td>1</td>\n",
       "      <td>credit_card</td>\n",
       "      <td>8</td>\n",
       "      <td>107.78</td>\n",
       "    </tr>\n",
       "    <tr>\n",
       "      <th>4</th>\n",
       "      <td>42fdf880ba16b47b59251dd489d4441a</td>\n",
       "      <td>1</td>\n",
       "      <td>credit_card</td>\n",
       "      <td>2</td>\n",
       "      <td>128.45</td>\n",
       "    </tr>\n",
       "  </tbody>\n",
       "</table>\n",
       "</div>"
      ],
      "text/plain": [
       "                           order_id  payment_sequential payment_type  \\\n",
       "0  b81ef226f3fe1789b1e8b2acac839d17                   1  credit_card   \n",
       "1  a9810da82917af2d9aefd1278f1dcfa0                   1  credit_card   \n",
       "2  25e8ea4e93396b6fa0d3dd708e76c1bd                   1  credit_card   \n",
       "3  ba78997921bbcdc1373bb41e913ab953                   1  credit_card   \n",
       "4  42fdf880ba16b47b59251dd489d4441a                   1  credit_card   \n",
       "\n",
       "   payment_installments  payment_value  \n",
       "0                     8          99.33  \n",
       "1                     1          24.39  \n",
       "2                     1          65.71  \n",
       "3                     8         107.78  \n",
       "4                     2         128.45  "
      ]
     },
     "execution_count": 71,
     "metadata": {},
     "output_type": "execute_result"
    }
   ],
   "source": [
    "payments.head()"
   ]
  },
  {
   "cell_type": "code",
   "execution_count": 72,
   "id": "aa7cf111",
   "metadata": {},
   "outputs": [
    {
     "data": {
      "text/html": [
       "<div>\n",
       "<style scoped>\n",
       "    .dataframe tbody tr th:only-of-type {\n",
       "        vertical-align: middle;\n",
       "    }\n",
       "\n",
       "    .dataframe tbody tr th {\n",
       "        vertical-align: top;\n",
       "    }\n",
       "\n",
       "    .dataframe thead th {\n",
       "        text-align: right;\n",
       "    }\n",
       "</style>\n",
       "<table border=\"1\" class=\"dataframe\">\n",
       "  <thead>\n",
       "    <tr style=\"text-align: right;\">\n",
       "      <th></th>\n",
       "      <th>variable name</th>\n",
       "      <th>variable type</th>\n",
       "      <th>nbr of distinct values</th>\n",
       "      <th>percentage of NaNs</th>\n",
       "    </tr>\n",
       "  </thead>\n",
       "  <tbody>\n",
       "    <tr>\n",
       "      <th>0</th>\n",
       "      <td>order_id</td>\n",
       "      <td>object</td>\n",
       "      <td>99440</td>\n",
       "      <td>0.0 %</td>\n",
       "    </tr>\n",
       "    <tr>\n",
       "      <th>1</th>\n",
       "      <td>payment_sequential</td>\n",
       "      <td>int64</td>\n",
       "      <td>29</td>\n",
       "      <td>0.0 %</td>\n",
       "    </tr>\n",
       "    <tr>\n",
       "      <th>2</th>\n",
       "      <td>payment_type</td>\n",
       "      <td>object</td>\n",
       "      <td>5</td>\n",
       "      <td>0.0 %</td>\n",
       "    </tr>\n",
       "    <tr>\n",
       "      <th>3</th>\n",
       "      <td>payment_installments</td>\n",
       "      <td>int64</td>\n",
       "      <td>24</td>\n",
       "      <td>0.0 %</td>\n",
       "    </tr>\n",
       "    <tr>\n",
       "      <th>4</th>\n",
       "      <td>payment_value</td>\n",
       "      <td>float64</td>\n",
       "      <td>29077</td>\n",
       "      <td>0.0 %</td>\n",
       "    </tr>\n",
       "  </tbody>\n",
       "</table>\n",
       "</div>"
      ],
      "text/plain": [
       "          variable name variable type nbr of distinct values  \\\n",
       "0              order_id        object                  99440   \n",
       "1    payment_sequential         int64                     29   \n",
       "2          payment_type        object                      5   \n",
       "3  payment_installments         int64                     24   \n",
       "4         payment_value       float64                  29077   \n",
       "\n",
       "  percentage of NaNs  \n",
       "0              0.0 %  \n",
       "1              0.0 %  \n",
       "2              0.0 %  \n",
       "3              0.0 %  \n",
       "4              0.0 %  "
      ]
     },
     "execution_count": 72,
     "metadata": {},
     "output_type": "execute_result"
    }
   ],
   "source": [
    "my.variable_survey(payments)"
   ]
  },
  {
   "cell_type": "markdown",
   "id": "0e20eff7",
   "metadata": {},
   "source": [
    "Nous remarquons que le nombre de lignes totales est 103886, alors que le nombre de commandes passées (selon ses identifiants) est 99440 --> Il y a donc des commandes dupliquées. Nous allons essayer de mieux comprendre ces commandes."
   ]
  },
  {
   "cell_type": "code",
   "execution_count": 73,
   "id": "45b28a89",
   "metadata": {},
   "outputs": [
    {
     "data": {
      "text/html": [
       "<div>\n",
       "<style scoped>\n",
       "    .dataframe tbody tr th:only-of-type {\n",
       "        vertical-align: middle;\n",
       "    }\n",
       "\n",
       "    .dataframe tbody tr th {\n",
       "        vertical-align: top;\n",
       "    }\n",
       "\n",
       "    .dataframe thead th {\n",
       "        text-align: right;\n",
       "    }\n",
       "</style>\n",
       "<table border=\"1\" class=\"dataframe\">\n",
       "  <thead>\n",
       "    <tr style=\"text-align: right;\">\n",
       "      <th></th>\n",
       "      <th>order_id</th>\n",
       "      <th>payment_sequential</th>\n",
       "      <th>payment_type</th>\n",
       "      <th>payment_installments</th>\n",
       "      <th>payment_value</th>\n",
       "    </tr>\n",
       "  </thead>\n",
       "  <tbody>\n",
       "    <tr>\n",
       "      <th>1456</th>\n",
       "      <td>683bf306149bb869980b68d48a1bd6ab</td>\n",
       "      <td>1</td>\n",
       "      <td>credit_card</td>\n",
       "      <td>1</td>\n",
       "      <td>8.58</td>\n",
       "    </tr>\n",
       "    <tr>\n",
       "      <th>2324</th>\n",
       "      <td>e6a66a8350bb88497954d37688ab123e</td>\n",
       "      <td>2</td>\n",
       "      <td>voucher</td>\n",
       "      <td>1</td>\n",
       "      <td>10.51</td>\n",
       "    </tr>\n",
       "    <tr>\n",
       "      <th>2393</th>\n",
       "      <td>8e5148bee82a7e42c5f9ba76161dc51a</td>\n",
       "      <td>1</td>\n",
       "      <td>credit_card</td>\n",
       "      <td>1</td>\n",
       "      <td>0.67</td>\n",
       "    </tr>\n",
       "    <tr>\n",
       "      <th>2414</th>\n",
       "      <td>816ccd9d21435796e8ffa9802b2a782f</td>\n",
       "      <td>1</td>\n",
       "      <td>credit_card</td>\n",
       "      <td>1</td>\n",
       "      <td>5.65</td>\n",
       "    </tr>\n",
       "    <tr>\n",
       "      <th>2497</th>\n",
       "      <td>2cbcb371aee438c59b722a21d83597e0</td>\n",
       "      <td>2</td>\n",
       "      <td>voucher</td>\n",
       "      <td>1</td>\n",
       "      <td>7.80</td>\n",
       "    </tr>\n",
       "    <tr>\n",
       "      <th>...</th>\n",
       "      <td>...</td>\n",
       "      <td>...</td>\n",
       "      <td>...</td>\n",
       "      <td>...</td>\n",
       "      <td>...</td>\n",
       "    </tr>\n",
       "    <tr>\n",
       "      <th>103778</th>\n",
       "      <td>fd86c80924b4be8fb7f58c4ecc680dae</td>\n",
       "      <td>1</td>\n",
       "      <td>credit_card</td>\n",
       "      <td>1</td>\n",
       "      <td>76.10</td>\n",
       "    </tr>\n",
       "    <tr>\n",
       "      <th>103817</th>\n",
       "      <td>6d4616de4341417e17978fe57aec1c46</td>\n",
       "      <td>1</td>\n",
       "      <td>credit_card</td>\n",
       "      <td>1</td>\n",
       "      <td>19.18</td>\n",
       "    </tr>\n",
       "    <tr>\n",
       "      <th>103860</th>\n",
       "      <td>31bc09fdbd701a7a4f9b55b5955b8687</td>\n",
       "      <td>6</td>\n",
       "      <td>voucher</td>\n",
       "      <td>1</td>\n",
       "      <td>77.99</td>\n",
       "    </tr>\n",
       "    <tr>\n",
       "      <th>103869</th>\n",
       "      <td>c9b01bef18eb84888f0fd071b8413b38</td>\n",
       "      <td>1</td>\n",
       "      <td>credit_card</td>\n",
       "      <td>6</td>\n",
       "      <td>238.16</td>\n",
       "    </tr>\n",
       "    <tr>\n",
       "      <th>103874</th>\n",
       "      <td>d41f1036712e18ee525939d08b7a1c98</td>\n",
       "      <td>1</td>\n",
       "      <td>credit_card</td>\n",
       "      <td>1</td>\n",
       "      <td>3.57</td>\n",
       "    </tr>\n",
       "  </tbody>\n",
       "</table>\n",
       "<p>4446 rows × 5 columns</p>\n",
       "</div>"
      ],
      "text/plain": [
       "                                order_id  payment_sequential payment_type  \\\n",
       "1456    683bf306149bb869980b68d48a1bd6ab                   1  credit_card   \n",
       "2324    e6a66a8350bb88497954d37688ab123e                   2      voucher   \n",
       "2393    8e5148bee82a7e42c5f9ba76161dc51a                   1  credit_card   \n",
       "2414    816ccd9d21435796e8ffa9802b2a782f                   1  credit_card   \n",
       "2497    2cbcb371aee438c59b722a21d83597e0                   2      voucher   \n",
       "...                                  ...                 ...          ...   \n",
       "103778  fd86c80924b4be8fb7f58c4ecc680dae                   1  credit_card   \n",
       "103817  6d4616de4341417e17978fe57aec1c46                   1  credit_card   \n",
       "103860  31bc09fdbd701a7a4f9b55b5955b8687                   6      voucher   \n",
       "103869  c9b01bef18eb84888f0fd071b8413b38                   1  credit_card   \n",
       "103874  d41f1036712e18ee525939d08b7a1c98                   1  credit_card   \n",
       "\n",
       "        payment_installments  payment_value  \n",
       "1456                       1           8.58  \n",
       "2324                       1          10.51  \n",
       "2393                       1           0.67  \n",
       "2414                       1           5.65  \n",
       "2497                       1           7.80  \n",
       "...                      ...            ...  \n",
       "103778                     1          76.10  \n",
       "103817                     1          19.18  \n",
       "103860                     1          77.99  \n",
       "103869                     6         238.16  \n",
       "103874                     1           3.57  \n",
       "\n",
       "[4446 rows x 5 columns]"
      ]
     },
     "execution_count": 73,
     "metadata": {},
     "output_type": "execute_result"
    }
   ],
   "source": [
    "duplicated_cmd = payments[payments['order_id'].duplicated()]\n",
    "duplicated_cmd"
   ]
  },
  {
   "cell_type": "markdown",
   "id": "de6a6731",
   "metadata": {},
   "source": [
    "Je vais prendre un exemple d'une commande parmi celles dupliquées et qui a été payée par plusieurs moyens pour mieux analyser."
   ]
  },
  {
   "cell_type": "code",
   "execution_count": 74,
   "id": "3f2a5df8",
   "metadata": {},
   "outputs": [
    {
     "data": {
      "text/html": [
       "<div>\n",
       "<style scoped>\n",
       "    .dataframe tbody tr th:only-of-type {\n",
       "        vertical-align: middle;\n",
       "    }\n",
       "\n",
       "    .dataframe tbody tr th {\n",
       "        vertical-align: top;\n",
       "    }\n",
       "\n",
       "    .dataframe thead th {\n",
       "        text-align: right;\n",
       "    }\n",
       "</style>\n",
       "<table border=\"1\" class=\"dataframe\">\n",
       "  <thead>\n",
       "    <tr style=\"text-align: right;\">\n",
       "      <th></th>\n",
       "      <th>order_id</th>\n",
       "      <th>payment_sequential</th>\n",
       "      <th>payment_type</th>\n",
       "      <th>payment_installments</th>\n",
       "      <th>payment_value</th>\n",
       "    </tr>\n",
       "  </thead>\n",
       "  <tbody>\n",
       "    <tr>\n",
       "      <th>826</th>\n",
       "      <td>e6a66a8350bb88497954d37688ab123e</td>\n",
       "      <td>4</td>\n",
       "      <td>voucher</td>\n",
       "      <td>1</td>\n",
       "      <td>8.24</td>\n",
       "    </tr>\n",
       "    <tr>\n",
       "      <th>2324</th>\n",
       "      <td>e6a66a8350bb88497954d37688ab123e</td>\n",
       "      <td>2</td>\n",
       "      <td>voucher</td>\n",
       "      <td>1</td>\n",
       "      <td>10.51</td>\n",
       "    </tr>\n",
       "    <tr>\n",
       "      <th>16289</th>\n",
       "      <td>e6a66a8350bb88497954d37688ab123e</td>\n",
       "      <td>6</td>\n",
       "      <td>voucher</td>\n",
       "      <td>1</td>\n",
       "      <td>17.30</td>\n",
       "    </tr>\n",
       "    <tr>\n",
       "      <th>39743</th>\n",
       "      <td>e6a66a8350bb88497954d37688ab123e</td>\n",
       "      <td>1</td>\n",
       "      <td>voucher</td>\n",
       "      <td>1</td>\n",
       "      <td>4.95</td>\n",
       "    </tr>\n",
       "    <tr>\n",
       "      <th>42000</th>\n",
       "      <td>e6a66a8350bb88497954d37688ab123e</td>\n",
       "      <td>3</td>\n",
       "      <td>voucher</td>\n",
       "      <td>1</td>\n",
       "      <td>5.75</td>\n",
       "    </tr>\n",
       "    <tr>\n",
       "      <th>45326</th>\n",
       "      <td>e6a66a8350bb88497954d37688ab123e</td>\n",
       "      <td>7</td>\n",
       "      <td>voucher</td>\n",
       "      <td>1</td>\n",
       "      <td>16.11</td>\n",
       "    </tr>\n",
       "    <tr>\n",
       "      <th>71825</th>\n",
       "      <td>e6a66a8350bb88497954d37688ab123e</td>\n",
       "      <td>5</td>\n",
       "      <td>voucher</td>\n",
       "      <td>1</td>\n",
       "      <td>19.16</td>\n",
       "    </tr>\n",
       "    <tr>\n",
       "      <th>96318</th>\n",
       "      <td>e6a66a8350bb88497954d37688ab123e</td>\n",
       "      <td>8</td>\n",
       "      <td>voucher</td>\n",
       "      <td>1</td>\n",
       "      <td>9.83</td>\n",
       "    </tr>\n",
       "  </tbody>\n",
       "</table>\n",
       "</div>"
      ],
      "text/plain": [
       "                               order_id  payment_sequential payment_type  \\\n",
       "826    e6a66a8350bb88497954d37688ab123e                   4      voucher   \n",
       "2324   e6a66a8350bb88497954d37688ab123e                   2      voucher   \n",
       "16289  e6a66a8350bb88497954d37688ab123e                   6      voucher   \n",
       "39743  e6a66a8350bb88497954d37688ab123e                   1      voucher   \n",
       "42000  e6a66a8350bb88497954d37688ab123e                   3      voucher   \n",
       "45326  e6a66a8350bb88497954d37688ab123e                   7      voucher   \n",
       "71825  e6a66a8350bb88497954d37688ab123e                   5      voucher   \n",
       "96318  e6a66a8350bb88497954d37688ab123e                   8      voucher   \n",
       "\n",
       "       payment_installments  payment_value  \n",
       "826                       1           8.24  \n",
       "2324                      1          10.51  \n",
       "16289                     1          17.30  \n",
       "39743                     1           4.95  \n",
       "42000                     1           5.75  \n",
       "45326                     1          16.11  \n",
       "71825                     1          19.16  \n",
       "96318                     1           9.83  "
      ]
     },
     "execution_count": 74,
     "metadata": {},
     "output_type": "execute_result"
    }
   ],
   "source": [
    "payments[payments['order_id']== 'e6a66a8350bb88497954d37688ab123e']"
   ]
  },
  {
   "cell_type": "code",
   "execution_count": 75,
   "id": "a032c19a",
   "metadata": {},
   "outputs": [
    {
     "data": {
      "text/html": [
       "<div>\n",
       "<style scoped>\n",
       "    .dataframe tbody tr th:only-of-type {\n",
       "        vertical-align: middle;\n",
       "    }\n",
       "\n",
       "    .dataframe tbody tr th {\n",
       "        vertical-align: top;\n",
       "    }\n",
       "\n",
       "    .dataframe thead th {\n",
       "        text-align: right;\n",
       "    }\n",
       "</style>\n",
       "<table border=\"1\" class=\"dataframe\">\n",
       "  <thead>\n",
       "    <tr style=\"text-align: right;\">\n",
       "      <th></th>\n",
       "      <th>order_id</th>\n",
       "      <th>order_item_id</th>\n",
       "      <th>product_id</th>\n",
       "      <th>seller_id</th>\n",
       "      <th>shipping_limit_date</th>\n",
       "      <th>price</th>\n",
       "      <th>freight_value</th>\n",
       "    </tr>\n",
       "  </thead>\n",
       "  <tbody>\n",
       "    <tr>\n",
       "      <th>101653</th>\n",
       "      <td>e6a66a8350bb88497954d37688ab123e</td>\n",
       "      <td>1</td>\n",
       "      <td>19239f99ecca2c266c57cdce121a6727</td>\n",
       "      <td>57c764b4a836300be881e2ff86e449f9</td>\n",
       "      <td>2017-04-10 19:15:11</td>\n",
       "      <td>79.9</td>\n",
       "      <td>11.95</td>\n",
       "    </tr>\n",
       "  </tbody>\n",
       "</table>\n",
       "</div>"
      ],
      "text/plain": [
       "                                order_id  order_item_id  \\\n",
       "101653  e6a66a8350bb88497954d37688ab123e              1   \n",
       "\n",
       "                              product_id                         seller_id  \\\n",
       "101653  19239f99ecca2c266c57cdce121a6727  57c764b4a836300be881e2ff86e449f9   \n",
       "\n",
       "       shipping_limit_date  price  freight_value  \n",
       "101653 2017-04-10 19:15:11   79.9          11.95  "
      ]
     },
     "execution_count": 75,
     "metadata": {},
     "output_type": "execute_result"
    }
   ],
   "source": [
    "items[items['order_id']== 'e6a66a8350bb88497954d37688ab123e']"
   ]
  },
  {
   "cell_type": "markdown",
   "id": "a01e85ed",
   "metadata": {},
   "source": [
    "Nous constatons alors que la somme de 'payment_value\" est égale au montant payé (price), plus le frais de transport (freight_value). Nous concluons donc que la variable \"payment_sequential\" n'est qu'une suite séquentielles des opérations des payments effectuées. "
   ]
  },
  {
   "cell_type": "code",
   "execution_count": 76,
   "id": "2c3ec873",
   "metadata": {},
   "outputs": [
    {
     "data": {
      "text/html": [
       "<div>\n",
       "<style scoped>\n",
       "    .dataframe tbody tr th:only-of-type {\n",
       "        vertical-align: middle;\n",
       "    }\n",
       "\n",
       "    .dataframe tbody tr th {\n",
       "        vertical-align: top;\n",
       "    }\n",
       "\n",
       "    .dataframe thead th {\n",
       "        text-align: right;\n",
       "    }\n",
       "</style>\n",
       "<table border=\"1\" class=\"dataframe\">\n",
       "  <thead>\n",
       "    <tr style=\"text-align: right;\">\n",
       "      <th></th>\n",
       "      <th>payment_type</th>\n",
       "      <th>Pourcentage</th>\n",
       "    </tr>\n",
       "  </thead>\n",
       "  <tbody>\n",
       "    <tr>\n",
       "      <th>credit_card</th>\n",
       "      <td>76795.0</td>\n",
       "      <td>73.92</td>\n",
       "    </tr>\n",
       "    <tr>\n",
       "      <th>boleto</th>\n",
       "      <td>19784.0</td>\n",
       "      <td>19.04</td>\n",
       "    </tr>\n",
       "    <tr>\n",
       "      <th>voucher</th>\n",
       "      <td>5775.0</td>\n",
       "      <td>5.56</td>\n",
       "    </tr>\n",
       "    <tr>\n",
       "      <th>debit_card</th>\n",
       "      <td>1529.0</td>\n",
       "      <td>1.47</td>\n",
       "    </tr>\n",
       "    <tr>\n",
       "      <th>not_defined</th>\n",
       "      <td>3.0</td>\n",
       "      <td>0.00</td>\n",
       "    </tr>\n",
       "    <tr>\n",
       "      <th>NaN</th>\n",
       "      <td>0.0</td>\n",
       "      <td>0.00</td>\n",
       "    </tr>\n",
       "  </tbody>\n",
       "</table>\n",
       "</div>"
      ],
      "text/plain": [
       "             payment_type  Pourcentage\n",
       "credit_card       76795.0        73.92\n",
       "boleto            19784.0        19.04\n",
       "voucher            5775.0         5.56\n",
       "debit_card         1529.0         1.47\n",
       "not_defined           3.0         0.00\n",
       "NaN                   0.0         0.00"
      ]
     },
     "execution_count": 76,
     "metadata": {},
     "output_type": "execute_result"
    },
    {
     "data": {
      "image/png": "[encoded data removed]",
      "text/plain": [
       "<Figure size 432x288 with 1 Axes>"
      ]
     },
     "metadata": {
      "needs_background": "light"
     },
     "output_type": "display_data"
    }
   ],
   "source": [
    "#vérifions les cinq modes de payments utilisés\n",
    "barplots_var_frequency(payments, 'payment_type')"
   ]
  },
  {
   "cell_type": "markdown",
   "id": "4352e82c",
   "metadata": {},
   "source": [
    "- Le type de payment \"boleto\" veux dire billets. C'est le payment en espèces. \n",
    "- Nous remarquons que le moyen de payment le plus utilisé est la carte crédit avec un pourcentage de 73,92%. \n",
    "- Nous allons supprimer les commandes dont le type de payment est \"not_defined\""
   ]
  },
  {
   "cell_type": "code",
   "execution_count": 77,
   "id": "fc0a44b1",
   "metadata": {},
   "outputs": [],
   "source": [
    "# On supprime les paiements de type \"not_defined\"\n",
    "payment_type = [\"credit_card\", \"boleto\", \"voucher\", \"debit_card\"]\n",
    "payments = payments[payments[\"payment_type\"].isin(payment_type)]"
   ]
  },
  {
   "cell_type": "code",
   "execution_count": 78,
   "id": "41fe2154",
   "metadata": {},
   "outputs": [
    {
     "data": {
      "text/plain": [
       "array(['credit_card', 'boleto', 'voucher', 'debit_card'], dtype=object)"
      ]
     },
     "execution_count": 78,
     "metadata": {},
     "output_type": "execute_result"
    }
   ],
   "source": [
    "#verifier que les types de payment restant\n",
    "payments['payment_type'].unique()"
   ]
  },
  {
   "cell_type": "markdown",
   "id": "15d5d33e",
   "metadata": {},
   "source": [
    "Nous allons voir les montants payés en fonction de type de payment"
   ]
  },
  {
   "cell_type": "code",
   "execution_count": 79,
   "id": "3f49a05c",
   "metadata": {},
   "outputs": [
    {
     "data": {
      "image/png": "[encoded data removed]",
      "text/plain": [
       "<Figure size 432x288 with 1 Axes>"
      ]
     },
     "metadata": {
      "needs_background": "light"
     },
     "output_type": "display_data"
    }
   ],
   "source": [
    "# Boxplot pour chaque type de paiement\n",
    "plt.title(\"Montant du payement\")\n",
    "sns.boxplot(data=payments, y=\"payment_value\",\n",
    "            x=\"payment_type\")\n",
    "plt.show()"
   ]
  },
  {
   "cell_type": "markdown",
   "id": "043c3f35",
   "metadata": {},
   "source": [
    "A cause des outliers, l'affichage des boxplots n'est pas clair. Nous allons pas supprimer ces outliers puisque c'est tout à fait normal qu'une commande soit très chère par rapport aux autres. Afin d'améliorer l'affichage, nous allons utiliser le paramètre \"showfliers=False\" qui permet de cacher les outliers dans l'affichage des boxplots. "
   ]
  },
  {
   "cell_type": "code",
   "execution_count": 80,
   "id": "51a0dec6",
   "metadata": {},
   "outputs": [
    {
     "data": {
      "image/png": "[encoded data removed]",
      "text/plain": [
       "<Figure size 432x288 with 1 Axes>"
      ]
     },
     "metadata": {
      "needs_background": "light"
     },
     "output_type": "display_data"
    }
   ],
   "source": [
    "# Boxplot pour chaque type de paiement\n",
    "plt.title(\"Montant du payement\")\n",
    "sns.boxplot(data=payments, y=\"payment_value\",\n",
    "            x=\"payment_type\", showfliers=False)\n",
    "plt.show()"
   ]
  },
  {
   "cell_type": "markdown",
   "id": "fba325d2",
   "metadata": {},
   "source": [
    "Nous remarquons que les montants les plus élevés sont payés par credit_card. Par contre, les montants les plus faibles sont payés par les voucher (bon de commande). "
   ]
  },
  {
   "cell_type": "markdown",
   "id": "1124c2af",
   "metadata": {},
   "source": [
    "## Selection des variables utiles:  \n",
    "Nous allons garder toutes les variables de ce dataframe. "
   ]
  },
  {
   "cell_type": "markdown",
   "id": "71eb0e55",
   "metadata": {},
   "source": [
    "## 1.9. Category / Les catégories\n",
    "  Dans ce dataframe, les variables sont:\n",
    "  \n",
    "        product_category_name: nom de la category du produit\n",
    "        product_category_name_english: nom de la category du produit en anglais\n"
   ]
  },
  {
   "cell_type": "code",
   "execution_count": 81,
   "id": "220a773b",
   "metadata": {},
   "outputs": [
    {
     "data": {
      "text/html": [
       "<div>\n",
       "<style scoped>\n",
       "    .dataframe tbody tr th:only-of-type {\n",
       "        vertical-align: middle;\n",
       "    }\n",
       "\n",
       "    .dataframe tbody tr th {\n",
       "        vertical-align: top;\n",
       "    }\n",
       "\n",
       "    .dataframe thead th {\n",
       "        text-align: right;\n",
       "    }\n",
       "</style>\n",
       "<table border=\"1\" class=\"dataframe\">\n",
       "  <thead>\n",
       "    <tr style=\"text-align: right;\">\n",
       "      <th></th>\n",
       "      <th>dataframe</th>\n",
       "      <th>(rows, column)</th>\n",
       "      <th>Total number of nans</th>\n",
       "      <th>percentage of nans</th>\n",
       "      <th>number of duplicated rows</th>\n",
       "      <th>percentage of duplicated rows</th>\n",
       "    </tr>\n",
       "  </thead>\n",
       "  <tbody>\n",
       "    <tr>\n",
       "      <th>0</th>\n",
       "      <td>category</td>\n",
       "      <td>(71,2)</td>\n",
       "      <td>0</td>\n",
       "      <td>0.0 %</td>\n",
       "      <td>0</td>\n",
       "      <td>0.0 %</td>\n",
       "    </tr>\n",
       "  </tbody>\n",
       "</table>\n",
       "</div>"
      ],
      "text/plain": [
       "  dataframe (rows, column) Total number of nans percentage of nans  \\\n",
       "0  category         (71,2)                    0              0.0 %   \n",
       "\n",
       "  number of duplicated rows percentage of duplicated rows  \n",
       "0                         0                         0.0 %  "
      ]
     },
     "execution_count": 81,
     "metadata": {},
     "output_type": "execute_result"
    }
   ],
   "source": [
    "category_dict = {'category': category}\n",
    "my.dataframe_survey(category_dict)"
   ]
  },
  {
   "cell_type": "markdown",
   "id": "de0661ac",
   "metadata": {},
   "source": [
    "Dans ce dataframe, il n'y a ni des doublons ni des NaN."
   ]
  },
  {
   "cell_type": "code",
   "execution_count": 82,
   "id": "2d0ffe60",
   "metadata": {},
   "outputs": [
    {
     "data": {
      "text/html": [
       "<div>\n",
       "<style scoped>\n",
       "    .dataframe tbody tr th:only-of-type {\n",
       "        vertical-align: middle;\n",
       "    }\n",
       "\n",
       "    .dataframe tbody tr th {\n",
       "        vertical-align: top;\n",
       "    }\n",
       "\n",
       "    .dataframe thead th {\n",
       "        text-align: right;\n",
       "    }\n",
       "</style>\n",
       "<table border=\"1\" class=\"dataframe\">\n",
       "  <thead>\n",
       "    <tr style=\"text-align: right;\">\n",
       "      <th></th>\n",
       "      <th>variable name</th>\n",
       "      <th>variable type</th>\n",
       "      <th>nbr of distinct values</th>\n",
       "      <th>percentage of NaNs</th>\n",
       "    </tr>\n",
       "  </thead>\n",
       "  <tbody>\n",
       "    <tr>\n",
       "      <th>0</th>\n",
       "      <td>product_category_name</td>\n",
       "      <td>object</td>\n",
       "      <td>71</td>\n",
       "      <td>0.0 %</td>\n",
       "    </tr>\n",
       "    <tr>\n",
       "      <th>1</th>\n",
       "      <td>product_category_name_english</td>\n",
       "      <td>object</td>\n",
       "      <td>71</td>\n",
       "      <td>0.0 %</td>\n",
       "    </tr>\n",
       "  </tbody>\n",
       "</table>\n",
       "</div>"
      ],
      "text/plain": [
       "                   variable name variable type nbr of distinct values  \\\n",
       "0          product_category_name        object                     71   \n",
       "1  product_category_name_english        object                     71   \n",
       "\n",
       "  percentage of NaNs  \n",
       "0              0.0 %  \n",
       "1              0.0 %  "
      ]
     },
     "execution_count": 82,
     "metadata": {},
     "output_type": "execute_result"
    }
   ],
   "source": [
    "my.variable_survey(category)"
   ]
  },
  {
   "cell_type": "code",
   "execution_count": 83,
   "id": "f32eb2fa",
   "metadata": {},
   "outputs": [
    {
     "data": {
      "text/html": [
       "<div>\n",
       "<style scoped>\n",
       "    .dataframe tbody tr th:only-of-type {\n",
       "        vertical-align: middle;\n",
       "    }\n",
       "\n",
       "    .dataframe tbody tr th {\n",
       "        vertical-align: top;\n",
       "    }\n",
       "\n",
       "    .dataframe thead th {\n",
       "        text-align: right;\n",
       "    }\n",
       "</style>\n",
       "<table border=\"1\" class=\"dataframe\">\n",
       "  <thead>\n",
       "    <tr style=\"text-align: right;\">\n",
       "      <th></th>\n",
       "      <th>product_category_name</th>\n",
       "      <th>product_category_name_english</th>\n",
       "    </tr>\n",
       "  </thead>\n",
       "  <tbody>\n",
       "    <tr>\n",
       "      <th>0</th>\n",
       "      <td>beleza_saude</td>\n",
       "      <td>health_beauty</td>\n",
       "    </tr>\n",
       "    <tr>\n",
       "      <th>1</th>\n",
       "      <td>informatica_acessorios</td>\n",
       "      <td>computers_accessories</td>\n",
       "    </tr>\n",
       "    <tr>\n",
       "      <th>2</th>\n",
       "      <td>automotivo</td>\n",
       "      <td>auto</td>\n",
       "    </tr>\n",
       "    <tr>\n",
       "      <th>3</th>\n",
       "      <td>cama_mesa_banho</td>\n",
       "      <td>bed_bath_table</td>\n",
       "    </tr>\n",
       "    <tr>\n",
       "      <th>4</th>\n",
       "      <td>moveis_decoracao</td>\n",
       "      <td>furniture_decor</td>\n",
       "    </tr>\n",
       "  </tbody>\n",
       "</table>\n",
       "</div>"
      ],
      "text/plain": [
       "    product_category_name product_category_name_english\n",
       "0            beleza_saude                 health_beauty\n",
       "1  informatica_acessorios         computers_accessories\n",
       "2              automotivo                          auto\n",
       "3         cama_mesa_banho                bed_bath_table\n",
       "4        moveis_decoracao               furniture_decor"
      ]
     },
     "execution_count": 83,
     "metadata": {},
     "output_type": "execute_result"
    }
   ],
   "source": [
    "category.head()"
   ]
  },
  {
   "cell_type": "code",
   "execution_count": 84,
   "id": "5036aa97",
   "metadata": {},
   "outputs": [
    {
     "name": "stdout",
     "output_type": "stream",
     "text": [
      "Le nombre de catégories est : 71\n"
     ]
    }
   ],
   "source": [
    "print(\"Le nombre de catégories est : {}\".format(category['product_category_name'].nunique()))"
   ]
  },
  {
   "cell_type": "markdown",
   "id": "301033bf",
   "metadata": {},
   "source": [
    "Nous allons se servir de ce dataframe pour récupérer les nom des catégories en anglais. Nous allons donc merger le dataframe \"category\" avec \"products\" "
   ]
  },
  {
   "cell_type": "code",
   "execution_count": 85,
   "id": "ba1da97e",
   "metadata": {},
   "outputs": [],
   "source": [
    "#merge products et category\n",
    "products_df = products_df.merge(category, on='product_category_name', how='left')"
   ]
  },
  {
   "cell_type": "code",
   "execution_count": 86,
   "id": "89662c7c",
   "metadata": {},
   "outputs": [
    {
     "data": {
      "text/html": [
       "<div>\n",
       "<style scoped>\n",
       "    .dataframe tbody tr th:only-of-type {\n",
       "        vertical-align: middle;\n",
       "    }\n",
       "\n",
       "    .dataframe tbody tr th {\n",
       "        vertical-align: top;\n",
       "    }\n",
       "\n",
       "    .dataframe thead th {\n",
       "        text-align: right;\n",
       "    }\n",
       "</style>\n",
       "<table border=\"1\" class=\"dataframe\">\n",
       "  <thead>\n",
       "    <tr style=\"text-align: right;\">\n",
       "      <th></th>\n",
       "      <th>product_id</th>\n",
       "      <th>product_category_name</th>\n",
       "      <th>product_category_name_english</th>\n",
       "    </tr>\n",
       "  </thead>\n",
       "  <tbody>\n",
       "    <tr>\n",
       "      <th>0</th>\n",
       "      <td>1e9e8ef04dbcff4541ed26657ea517e5</td>\n",
       "      <td>perfumaria</td>\n",
       "      <td>perfumery</td>\n",
       "    </tr>\n",
       "    <tr>\n",
       "      <th>1</th>\n",
       "      <td>3aa071139cb16b67ca9e5dea641aaa2f</td>\n",
       "      <td>artes</td>\n",
       "      <td>art</td>\n",
       "    </tr>\n",
       "    <tr>\n",
       "      <th>2</th>\n",
       "      <td>96bd76ec8810374ed1b65e291975717f</td>\n",
       "      <td>esporte_lazer</td>\n",
       "      <td>sports_leisure</td>\n",
       "    </tr>\n",
       "    <tr>\n",
       "      <th>3</th>\n",
       "      <td>cef67bcfe19066a932b7673e239eb23d</td>\n",
       "      <td>bebes</td>\n",
       "      <td>baby</td>\n",
       "    </tr>\n",
       "    <tr>\n",
       "      <th>4</th>\n",
       "      <td>9dc1a7de274444849c219cff195d0b71</td>\n",
       "      <td>utilidades_domesticas</td>\n",
       "      <td>housewares</td>\n",
       "    </tr>\n",
       "  </tbody>\n",
       "</table>\n",
       "</div>"
      ],
      "text/plain": [
       "                         product_id  product_category_name  \\\n",
       "0  1e9e8ef04dbcff4541ed26657ea517e5             perfumaria   \n",
       "1  3aa071139cb16b67ca9e5dea641aaa2f                  artes   \n",
       "2  96bd76ec8810374ed1b65e291975717f          esporte_lazer   \n",
       "3  cef67bcfe19066a932b7673e239eb23d                  bebes   \n",
       "4  9dc1a7de274444849c219cff195d0b71  utilidades_domesticas   \n",
       "\n",
       "  product_category_name_english  \n",
       "0                     perfumery  \n",
       "1                           art  \n",
       "2                sports_leisure  \n",
       "3                          baby  \n",
       "4                    housewares  "
      ]
     },
     "execution_count": 86,
     "metadata": {},
     "output_type": "execute_result"
    }
   ],
   "source": [
    "products_df.head()"
   ]
  },
  {
   "cell_type": "code",
   "execution_count": 87,
   "id": "57441b29",
   "metadata": {},
   "outputs": [],
   "source": [
    "#garder juste product_id et product_category_name_english\n",
    "products_df = products_df[['product_id', 'product_category_name_english']]"
   ]
  },
  {
   "cell_type": "code",
   "execution_count": 88,
   "id": "3887f6c8",
   "metadata": {},
   "outputs": [],
   "source": [
    "#simplifier la nomination de la variable 'product_category_name_english'\n",
    "products_df = products_df.rename(columns={\"product_category_name_english\": \"category_name\"})"
   ]
  },
  {
   "cell_type": "code",
   "execution_count": 89,
   "id": "15a779eb",
   "metadata": {},
   "outputs": [
    {
     "data": {
      "text/plain": [
       "Index(['product_id', 'category_name'], dtype='object')"
      ]
     },
     "execution_count": 89,
     "metadata": {},
     "output_type": "execute_result"
    }
   ],
   "source": [
    "products_df.columns"
   ]
  },
  {
   "attachments": {
    "image.png": {
     "image/png": "[encoded data removed]"
    }
   },
   "cell_type": "markdown",
   "id": "5b0d22dc",
   "metadata": {},
   "source": [
    "## 2. Concaténation des dataframes  et nettoyage\n",
    "\n",
    "## 2.1. Concaténation des données\n",
    "\n",
    "Tout les dataframes sont liés par une clée pour faire la jointure. Ce shémas décrit tout les liens: \n",
    "![image.png](attachment:image.png)\n"
   ]
  },
  {
   "cell_type": "markdown",
   "id": "0ae77720",
   "metadata": {},
   "source": [
    "Merger les autres dataframe qui ont dejà des clées en commun"
   ]
  },
  {
   "cell_type": "code",
   "execution_count": 90,
   "id": "b7de9f13",
   "metadata": {},
   "outputs": [],
   "source": [
    "df = customers.merge(orders_df, how='left', on='customer_id')\n"
   ]
  },
  {
   "cell_type": "code",
   "execution_count": 91,
   "id": "d63ac788",
   "metadata": {},
   "outputs": [],
   "source": [
    "df = df.merge(reviews_df, how='left', on='order_id')"
   ]
  },
  {
   "cell_type": "code",
   "execution_count": 92,
   "id": "ee5f9a53",
   "metadata": {},
   "outputs": [],
   "source": [
    "df = df.merge(payments, how='left', on='order_id')"
   ]
  },
  {
   "cell_type": "code",
   "execution_count": 93,
   "id": "bfa9f85a",
   "metadata": {},
   "outputs": [],
   "source": [
    "df = df.merge(items, how='left', on='order_id')"
   ]
  },
  {
   "cell_type": "code",
   "execution_count": 94,
   "id": "9e81c0b8",
   "metadata": {},
   "outputs": [],
   "source": [
    "df = df.merge(products_df, how='left', on='product_id')"
   ]
  },
  {
   "cell_type": "code",
   "execution_count": 95,
   "id": "ccdb4c84",
   "metadata": {},
   "outputs": [],
   "source": [
    "df = df.merge(sellers, how='left', on='seller_id')"
   ]
  },
  {
   "cell_type": "code",
   "execution_count": 96,
   "id": "436bc331",
   "metadata": {},
   "outputs": [
    {
     "data": {
      "text/plain": [
       "Index(['customer_id', 'customer_unique_id', 'customer_zip_code_prefix',\n",
       "       'customer_city', 'customer_state', 'order_id', 'order_date',\n",
       "       'review_id', 'review_score', 'review_creation_date',\n",
       "       'review_answer_timestamp', 'review_comment_message',\n",
       "       'payment_sequential', 'payment_type', 'payment_installments',\n",
       "       'payment_value', 'order_item_id', 'product_id', 'seller_id',\n",
       "       'shipping_limit_date', 'price', 'freight_value', 'category_name',\n",
       "       'seller_zip_code_prefix', 'seller_city', 'seller_state'],\n",
       "      dtype='object')"
      ]
     },
     "execution_count": 96,
     "metadata": {},
     "output_type": "execute_result"
    }
   ],
   "source": [
    "df.columns"
   ]
  },
  {
   "cell_type": "markdown",
   "id": "153b0dc5",
   "metadata": {},
   "source": [
    "Merger le dataframe df avec geo pour récupérer seller_lat et seller_long"
   ]
  },
  {
   "cell_type": "code",
   "execution_count": 102,
   "id": "f1cf6690",
   "metadata": {},
   "outputs": [
    {
     "data": {
      "text/plain": [
       "Index(['customer_id', 'customer_unique_id', 'customer_zip_code_prefix',\n",
       "       'customer_city', 'customer_state', 'order_id', 'order_date',\n",
       "       'review_id', 'review_score', 'review_creation_date',\n",
       "       'review_answer_timestamp', 'review_comment_message',\n",
       "       'payment_sequential', 'payment_type', 'payment_installments',\n",
       "       'payment_value', 'order_item_id', 'product_id', 'seller_id',\n",
       "       'shipping_limit_date', 'price', 'freight_value', 'category_name',\n",
       "       'seller_zip_code_prefix', 'seller_city', 'seller_state',\n",
       "       'geolocation_zip_code_prefix', 'seller_lat', 'seller_lng'],\n",
       "      dtype='object')"
      ]
     },
     "execution_count": 102,
     "metadata": {},
     "output_type": "execute_result"
    }
   ],
   "source": [
    "df.columns"
   ]
  },
  {
   "cell_type": "code",
   "execution_count": 101,
   "id": "7b37267a",
   "metadata": {},
   "outputs": [],
   "source": [
    "#creer une nouvelle variable dans df contenant le même identifiant que dans geo (geolocation_zip_code_prefix)\n",
    "df['geolocation_zip_code_prefix'] = df['seller_zip_code_prefix']\n",
    "#merger les deux df\n",
    "df = df.merge(geo, how='left', on='geolocation_zip_code_prefix')\n",
    "#renommer les coordonnées du seller\n",
    "df.rename(columns={'geolocation_lat': 'seller_lat','geolocation_lng': 'seller_lng' }, inplace=True)\n",
    "#supprimer les variables 'geolocation_zip_code_prefix' et 'seller_zip_code_prefix'\n",
    "df.drop(columns=[\"geolocation_zip_code_prefix\", \"seller_zip_code_prefix\"], inplace=True)"
   ]
  },
  {
   "cell_type": "code",
   "execution_count": 104,
   "id": "871f1660",
   "metadata": {},
   "outputs": [
    {
     "data": {
      "text/plain": [
       "Index(['customer_id', 'customer_unique_id', 'customer_zip_code_prefix',\n",
       "       'customer_city', 'customer_state', 'order_id', 'order_date',\n",
       "       'review_id', 'review_score', 'review_creation_date',\n",
       "       'review_answer_timestamp', 'review_comment_message',\n",
       "       'payment_sequential', 'payment_type', 'payment_installments',\n",
       "       'payment_value', 'order_item_id', 'product_id', 'seller_id',\n",
       "       'shipping_limit_date', 'price', 'freight_value', 'category_name',\n",
       "       'seller_city', 'seller_state', 'seller_lat', 'seller_lng'],\n",
       "      dtype='object')"
      ]
     },
     "execution_count": 104,
     "metadata": {},
     "output_type": "execute_result"
    }
   ],
   "source": [
    "#verifier les colonnes dans df\n",
    "df.columns"
   ]
  },
  {
   "cell_type": "markdown",
   "id": "9558e5b2",
   "metadata": {},
   "source": [
    "Merger le dataframe df avec geo pour récupérer customer_lat et customer_long"
   ]
  },
  {
   "cell_type": "code",
   "execution_count": null,
   "id": "494086c7",
   "metadata": {},
   "outputs": [],
   "source": [
    "#creer une nouvelle variable dans df contenant le même identifiant que dans geo (geolocation_zip_code_prefix)\n",
    "df['geolocation_zip_code_prefix'] = df['customer_zip_code_prefix']\n",
    "#merger les deux df\n",
    "df = df.merge(geo, how='left', on='geolocation_zip_code_prefix')\n",
    "#renommer les coordonnées du seller\n",
    "df.rename(columns={'geolocation_lat': 'customer_lat','geolocation_lng': 'customer_lng' }, inplace=True)\n",
    "#supprimer les variables 'geolocation_zip_code_prefix' et 'seller_zip_code_prefix'\n",
    "df.drop(columns=[\"geolocation_zip_code_prefix\", \"customer_zip_code_prefix\"], inplace=True)"
   ]
  },
  {
   "cell_type": "code",
   "execution_count": null,
   "id": "645426f9",
   "metadata": {},
   "outputs": [],
   "source": [
    "#merge le dataframe. "
   ]
  },
  {
   "cell_type": "code",
   "execution_count": null,
   "id": "fbf67ccc",
   "metadata": {},
   "outputs": [],
   "source": [
    "stop"
   ]
  },
  {
   "cell_type": "code",
   "execution_count": null,
   "id": "1c021329",
   "metadata": {},
   "outputs": [],
   "source": [
    "df.columns"
   ]
  },
  {
   "cell_type": "code",
   "execution_count": null,
   "id": "9f0dc531",
   "metadata": {},
   "outputs": [],
   "source": [
    "df.shape"
   ]
  },
  {
   "cell_type": "markdown",
   "id": "4fa677bd",
   "metadata": {},
   "source": [
    "## 2.2. Feature engineering  \n",
    "\n",
    "Dans cette section nous allons créer de nouvelles variables à partir de celles déjà existantes. "
   ]
  },
  {
   "cell_type": "markdown",
   "id": "11fb8681",
   "metadata": {},
   "source": [
    "### Préférence d'achat du local   \n",
    "Determiner si le client achete local ou non, 1 si oui, 0 sinon"
   ]
  },
  {
   "cell_type": "code",
   "execution_count": null,
   "id": "5cce26a3",
   "metadata": {},
   "outputs": [],
   "source": [
    "df['achete_local'] = np.where((df['customer_city'] == df['seller_city']), 1, 0)"
   ]
  },
  {
   "cell_type": "markdown",
   "id": "4188be2c",
   "metadata": {},
   "source": [
    "### Client actif/ passif\n",
    "Determiner si le client est actif ou non selon le nombre de commentaire qu'il écrit"
   ]
  },
  {
   "cell_type": "code",
   "execution_count": null,
   "id": "1404b19d",
   "metadata": {},
   "outputs": [],
   "source": [
    "df['isActivite']= np.where((df['review_comment_message'].isnull()), 0,1)\n",
    "#df['activite']= df.groupby('customer_id')['review_comment_message'].agg(['count'])"
   ]
  },
  {
   "cell_type": "code",
   "execution_count": null,
   "id": "2005e8a0",
   "metadata": {},
   "outputs": [],
   "source": [
    "df['activite']= df.groupby('customer_id')['isActivite'].transform('sum')"
   ]
  },
  {
   "cell_type": "code",
   "execution_count": null,
   "id": "083f74bb",
   "metadata": {},
   "outputs": [],
   "source": [
    "df['activite'].unique()"
   ]
  },
  {
   "cell_type": "code",
   "execution_count": null,
   "id": "ad7d0a24",
   "metadata": {},
   "outputs": [],
   "source": [
    "df.head()"
   ]
  },
  {
   "cell_type": "markdown",
   "id": "f854587b",
   "metadata": {},
   "source": [
    "### Réactivité du client  \n",
    "#determiner le degré de réactivité d'un client en calculant le nombre de jour entre 'review_creation_date' et \"review_answer_timestamp\""
   ]
  },
  {
   "cell_type": "code",
   "execution_count": null,
   "id": "04aa3090",
   "metadata": {},
   "outputs": [],
   "source": [
    "#convertir en tupe date\n",
    "df['review_answer_timestamp']= pd.to_datetime(df['review_answer_timestamp'])\n",
    "df['review_creation_date']= pd.to_datetime(df['review_creation_date'])\n",
    "#calcul reactivite\n",
    "df['reactivite'] = (df['review_answer_timestamp']-df['review_creation_date']).dt.days"
   ]
  },
  {
   "cell_type": "code",
   "execution_count": null,
   "id": "cd7854fe",
   "metadata": {},
   "outputs": [],
   "source": [
    "df.head()"
   ]
  },
  {
   "cell_type": "markdown",
   "id": "bf1214bc",
   "metadata": {},
   "source": [
    "## 2.2. Imputation des valeurs manquantes   \n",
    "\n",
    "Dans cette section, nous allons imputer les NaN.\n"
   ]
  },
  {
   "cell_type": "code",
   "execution_count": null,
   "id": "356688da",
   "metadata": {},
   "outputs": [],
   "source": [
    "#affichage des barplots des valeurs manquantes\n",
    "my.nans_df(df)"
   ]
  },
  {
   "cell_type": "markdown",
   "id": "29a55f69",
   "metadata": {},
   "source": [
    "On remarque que le pourcentage le plus élevé des valeurs manquantes est égale à 25% et c'est pour la variable \"category_name\". Nous allons imputer les valeurs manquantes."
   ]
  },
  {
   "cell_type": "code",
   "execution_count": null,
   "id": "b970cef6",
   "metadata": {},
   "outputs": [],
   "source": [
    "df.head()"
   ]
  },
  {
   "cell_type": "code",
   "execution_count": null,
   "id": "a7eafdb0",
   "metadata": {},
   "outputs": [],
   "source": [
    "my.variable_survey(df)"
   ]
  },
  {
   "cell_type": "code",
   "execution_count": null,
   "id": "5fa5f9bd",
   "metadata": {},
   "outputs": [],
   "source": [
    "#afficher toutes les variables contenant des NaN\n",
    "df.columns[df.isna().any()].tolist()"
   ]
  },
  {
   "cell_type": "markdown",
   "id": "5a908327",
   "metadata": {},
   "source": [
    "En se basant sur la sémantique des variables, nous allons imputer toutes les variables sauf \"payment_value\" par la valeur la plus fréquente.  \n",
    "Pour la variable \"payment_value\", nous allons l'imputer par la moyenne. "
   ]
  },
  {
   "cell_type": "markdown",
   "id": "8091ea5f",
   "metadata": {},
   "source": [
    "## a. Imputation des variables numériques  \n",
    "Nous allons utiliser l'imputer KnnImputer qui permet de chercher les données semblables à l'échantillon dans lequel il nous manque une information. Il va par la suite remplacer la valeur manquante par la valeur des K échantillons les plus semblables. "
   ]
  },
  {
   "cell_type": "code",
   "execution_count": null,
   "id": "0d7cc256",
   "metadata": {},
   "outputs": [],
   "source": [
    "#liste des variables numeriques/quantitatives ayant des nan\n",
    "numeric_vars_toImpute = [ 'review_score','payment_sequential','payment_installments','payment_value'\\\n",
    "                         ,'customer_zip_code_prefix']"
   ]
  },
  {
   "cell_type": "code",
   "execution_count": null,
   "id": "cc6f5ba3",
   "metadata": {},
   "outputs": [],
   "source": [
    "#appliquer KNNImputer sur les variables quantitatives\n",
    "from sklearn.impute import KNNImputer\n",
    "num_imputer = KNNImputer(n_neighbors = 1)\n",
    "df[numeric_vars_toImpute] = num_imputer.fit_transform(df[numeric_vars_toImpute])\n",
    "\n",
    "#dff = SimpleImputer(strategy='mean').fit_transform(dff['payment_value'])"
   ]
  },
  {
   "cell_type": "code",
   "execution_count": null,
   "id": "1a5f8061",
   "metadata": {},
   "outputs": [],
   "source": [
    "#reverifier la presence des nans\n",
    "my.nans_df(df)"
   ]
  },
  {
   "cell_type": "markdown",
   "id": "b6a34096",
   "metadata": {},
   "source": [
    "## b. Imputation des variables qualitatives  \n",
    "Nous allons imputer les NaN des variables qualitatives par la valeur la plus fréquente en utilisant SimpleImputer."
   ]
  },
  {
   "cell_type": "code",
   "execution_count": null,
   "id": "469e8ecd",
   "metadata": {},
   "outputs": [],
   "source": [
    "#recuperer les variables qui contiennet encore des nans\n",
    "quali_vars_toImpute = df.columns[df.isna().any()].tolist()\n",
    "quali_vars_toImpute "
   ]
  },
  {
   "cell_type": "code",
   "execution_count": null,
   "id": "4087d627",
   "metadata": {},
   "outputs": [],
   "source": [
    "#appliquer simpleImputer sur les données qualitatives\n",
    "from sklearn.impute import SimpleImputer\n",
    "quali_imputer = SimpleImputer(strategy='most_frequent')\n",
    "df[quali_vars_toImpute] = quali_imputer.fit_transform(df[quali_vars_toImpute])"
   ]
  },
  {
   "cell_type": "code",
   "execution_count": null,
   "id": "b5f8d3ac",
   "metadata": {
    "scrolled": true
   },
   "outputs": [],
   "source": [
    "#reverifier les nans\n",
    "my.nans_df(df)"
   ]
  },
  {
   "cell_type": "markdown",
   "id": "f7a36a31",
   "metadata": {},
   "source": [
    "## 3. Analyses bivariée des données  \n",
    "\n",
    "    Nous allons baser nos données sur le critère de temps. Pour celà, nous allons créer de nouvelles variables tout en décompactant la variable \"order_date\", rappelons qu'elle indique la date dans laquelle les commandes sont effectuées. Nous allons donc extraire l'heure, le jour, le jour de la semaine (valeur numérique entre [0 ,6], le mois, l'année, et nous allons aussi créer une autre variable booléenne (purchase_weekend) qui permet d'indiquer si oui ou non l'achat a été effectué pendant le weekend."
   ]
  },
  {
   "cell_type": "code",
   "execution_count": null,
   "id": "ce3898a1",
   "metadata": {},
   "outputs": [],
   "source": [
    "df['order_date']"
   ]
  },
  {
   "cell_type": "code",
   "execution_count": null,
   "id": "b06dbd48",
   "metadata": {},
   "outputs": [],
   "source": [
    "#recuperer l'heure\n",
    "df['order_hour'] = df['order_date'].map(lambda d: d.hour)\n",
    "#recuperer le jour\n",
    "df['order_day'] = df['order_date'].map(lambda d: d.day)\n",
    "#recuperer le jour du weekend\n",
    "df['order_weekday'] = df['order_date'].map(lambda d: d.dayofweek)\n",
    "#\n",
    "df['order_month'] = df['order_date'].map(lambda d: d.month)\n",
    "df['order_year'] = df['order_date'].map(lambda d: d.year)\n",
    "\n"
   ]
  },
  {
   "cell_type": "code",
   "execution_count": null,
   "id": "005e0f76",
   "metadata": {},
   "outputs": [],
   "source": [
    "df['purchase_weekend'] = np.where(df['order_weekday'].isin([5,6]), 1, 0)\n",
    "df['purchase_weekend']"
   ]
  },
  {
   "cell_type": "code",
   "execution_count": null,
   "id": "ea99ca46",
   "metadata": {},
   "outputs": [],
   "source": [
    "#verifier le contenu des colonnes\n",
    "cols= ['order_date','order_hour', 'order_day', 'order_weekday', 'order_month','order_year','purchase_weekend']\n",
    "df[cols]"
   ]
  },
  {
   "cell_type": "markdown",
   "id": "e310221d",
   "metadata": {},
   "source": [
    "## 3.1. Commandes par semaine"
   ]
  },
  {
   "cell_type": "markdown",
   "id": "1f61375e",
   "metadata": {},
   "source": [
    "### valeurs des commandes par jours de la semaine"
   ]
  },
  {
   "cell_type": "code",
   "execution_count": null,
   "id": "94acbaa2",
   "metadata": {},
   "outputs": [],
   "source": [
    "# Jours de la semaine\n",
    "jr_semaine = [\"Lundi\", \"Mardi\", \"Mercredi\",\"Jeudi\", \"Vendredi\", \"Samedi\", \"Dimanche\"]\n",
    "\n",
    "# Les données sont groupés par la variable 'order_weekday' et moyennés\n",
    "payment_value_weekday = df.groupby(\"order_weekday\")[\"payment_value\"].mean().sort_values(ascending=False).reset_index()\n",
    "#afficher la moyenne des montants des commandes pendant chaque jour de la semaine\n",
    "fig = plt.figure(figsize=(10, 8))\n",
    "sns.barplot(data=payment_value_weekday, x=\"order_weekday\",y=\"payment_value\")\n",
    "plt.title(\"moyenne des valeurs des transactions par jours de la semaine\")\n",
    "plt.xticks(np.arange(7), jr_semaine, rotation=45)"
   ]
  },
  {
   "cell_type": "markdown",
   "id": "4f46973a",
   "metadata": {},
   "source": [
    "--> Nous remarquons que c'est en vendredi que les commandes de valeurs les plus élevées s'effectuent.   \n",
    "\n",
    "### Nombre de commandes par jours de la semaine"
   ]
  },
  {
   "cell_type": "code",
   "execution_count": null,
   "id": "05f12bd7",
   "metadata": {},
   "outputs": [],
   "source": [
    "#calculons le nombre de commande par jour de semaine\n",
    "order_in_a_weekday = df[\"order_weekday\"].value_counts().sort_index()\n",
    "order_in_a_weekday"
   ]
  },
  {
   "cell_type": "code",
   "execution_count": null,
   "id": "6ecc2ab0",
   "metadata": {},
   "outputs": [],
   "source": [
    "#affichons un barplots des nombres de commandes par jour de semaine\n",
    "fig = plt.figure(figsize=(10, 8))\n",
    "sns.barplot(x=order_in_a_weekday.index,y=order_in_a_weekday.values)\n",
    "plt.title(\"Nombre de commande par jours de la semaine\")\n",
    "plt.xticks(np.arange(7), jr_semaine, rotation=45)"
   ]
  },
  {
   "cell_type": "markdown",
   "id": "b3625fde",
   "metadata": {},
   "source": [
    "--> Nous remarquons qu'il y a moins de commandes effectuées pendant le weekend."
   ]
  },
  {
   "cell_type": "markdown",
   "id": "e797d61d",
   "metadata": {},
   "source": [
    "## 3.2. Commandes par mois\n",
    "### Valeurs des commandes par mois"
   ]
  },
  {
   "cell_type": "code",
   "execution_count": null,
   "id": "45882f12",
   "metadata": {},
   "outputs": [],
   "source": [
    "# Mois de l'année\n",
    "mois = [\"Janvier\", \"Fevrier\", \"Mars\", \"Avril\",\n",
    "          \"Mai\", \"Juin\", \"Juillet\", \"Aout\",\n",
    "          \"Septembre\", \"Octobre\", \"Novembre\", \"Decembre\"]"
   ]
  },
  {
   "cell_type": "code",
   "execution_count": null,
   "id": "63cc0bd3",
   "metadata": {},
   "outputs": [],
   "source": [
    "# Les données sont groupées par la variable 'order_month' et moyennés\n",
    "payment_value_per_month = df.groupby(\"order_month\")[\"payment_value\"].mean().sort_values(ascending=False).reset_index()\n",
    "#afficher la moyenne des montants des commandes pendant chaque mois\n",
    "fig = plt.figure(figsize=(10, 8))\n",
    "sns.barplot(data=payment_value_per_month, x=\"order_month\",y=\"payment_value\")\n",
    "plt.title(\"moyenne des valeurs des transactions par mois\")\n",
    "plt.xticks(np.arange(12), mois, rotation=45)"
   ]
  },
  {
   "cell_type": "markdown",
   "id": "3332a644",
   "metadata": {},
   "source": [
    "--> Nous remarquons que c'est dans le mois de Septembre que les commandes de valeurs les plus élevées sont faites.  \n",
    "\n",
    "### Nombre de commandes par mois"
   ]
  },
  {
   "cell_type": "code",
   "execution_count": null,
   "id": "f3b5f581",
   "metadata": {},
   "outputs": [],
   "source": [
    "#calculons le nombre de commande par mois\n",
    "order_in_a_month = df[\"order_month\"].value_counts().sort_index()\n",
    "order_in_a_month"
   ]
  },
  {
   "cell_type": "code",
   "execution_count": null,
   "id": "1b498295",
   "metadata": {},
   "outputs": [],
   "source": [
    "#affichons un barplots des nombres de commandes par mois\n",
    "fig = plt.figure(figsize=(10, 8))\n",
    "sns.barplot(x=order_in_a_month.index, y=order_in_a_month.values)\n",
    "plt.title(\"Nombre de commande par mois\")\n",
    "plt.xticks(np.arange(12), mois, rotation=45)"
   ]
  },
  {
   "cell_type": "markdown",
   "id": "66d894d1",
   "metadata": {},
   "source": [
    "--> Nous remarquons que le nombre de commandes est plus bas est en mois de septembre malgrès que dans ce même mois sont aussi effectuées les commandes les plus chères. "
   ]
  },
  {
   "cell_type": "markdown",
   "id": "e2482529",
   "metadata": {},
   "source": [
    "## 3.3. Commandes par années\n",
    "### Valeurs des commandes par années"
   ]
  },
  {
   "cell_type": "code",
   "execution_count": null,
   "id": "e2272b9c",
   "metadata": {},
   "outputs": [],
   "source": [
    "# Les données sont groupées par la variable 'order_year' et moyennées\n",
    "payment_value_per_year = df.groupby(\"order_year\")[\"payment_value\"].mean().sort_values(ascending=False).reset_index()\n",
    "#afficher la moyenne des montants des commandes pendant chaque année\n",
    "fig = plt.figure(figsize=(6, 10))\n",
    "sns.barplot(data=payment_value_per_year, x=\"order_year\",y=\"payment_value\")\n",
    "plt.title(\"moyenne des valeurs des transactions par mois\")"
   ]
  },
  {
   "cell_type": "markdown",
   "id": "e7c7dad8",
   "metadata": {},
   "source": [
    "--> C'est en 2016 qui sont effectuées les commandes de valeurs les plus élevées"
   ]
  },
  {
   "cell_type": "code",
   "execution_count": null,
   "id": "2a1c1291",
   "metadata": {},
   "outputs": [],
   "source": [
    "#calculons le nombre de commande par année\n",
    "order_in_a_year = df[\"order_year\"].value_counts().sort_index()\n",
    "#affichons un barplots des nombres de commandes par année\n",
    "fig = plt.figure(figsize=(10, 8))\n",
    "sns.barplot(x=order_in_a_year.index, y=order_in_a_year.values)\n",
    "plt.title(\"Nombre de commande par année\")"
   ]
  },
  {
   "cell_type": "markdown",
   "id": "0d4e12f1",
   "metadata": {},
   "source": [
    "--> Pareil pour les mois que pour les années, nous remarquons que le nombre de commandes le plus faibles coincides dans la même période avec les valeurs de commandes les plus élevées.  \n",
    "- Nous remarquons qu'en 2016 sont effectuées très peu de commandes, en les comparant par 2017 et 2018. Peut etre que ceci est dû que les vendeurs n'étaient pas encore très connus en 2016. \n",
    "- Le nombre de commandes incrémente au cour des années. "
   ]
  },
  {
   "cell_type": "markdown",
   "id": "9cdf629d",
   "metadata": {},
   "source": [
    "## 3.4. Commande par catégories  \n",
    "### Valeurs de commandes par catégorie"
   ]
  },
  {
   "cell_type": "code",
   "execution_count": null,
   "id": "2b6f3e3f",
   "metadata": {},
   "outputs": [],
   "source": [
    "df.columns"
   ]
  },
  {
   "cell_type": "code",
   "execution_count": null,
   "id": "365d53d1",
   "metadata": {},
   "outputs": [],
   "source": [
    "# les données sont regroupées par nom de catégorie\n",
    "products_value = df.groupby(\"category_name\")[\"payment_value\"].mean().sort_values(ascending=False).reset_index()\n",
    "# Payement moyen par catégorie \n",
    "fig = plt.figure(figsize=(15,15))\n",
    "sns.barplot(data = products_value, x= 'payment_value', y= 'category_name')\n",
    "plt.title(\"valeurs de commandes par catégorie\")\n"
   ]
  },
  {
   "cell_type": "code",
   "execution_count": null,
   "id": "d520ee38",
   "metadata": {},
   "outputs": [],
   "source": []
  },
  {
   "cell_type": "markdown",
   "id": "25dad9a7",
   "metadata": {},
   "source": [
    "--> Nous remarquons que les commandes les plus chères étaient en achetant des ordinateurs, ce qui est très logique. Par contre, les commandes les moins chères sont pour acheter des articles pour le confort de la maison.  \n",
    "\n",
    "### Nombre de commandes par catégorie"
   ]
  },
  {
   "cell_type": "code",
   "execution_count": null,
   "id": "405ecdab",
   "metadata": {},
   "outputs": [],
   "source": [
    "products_count = df['category_name'].value_counts()\n",
    "fig = plt.figure(figsize=(15,15))\n",
    "sns.barplot(x= products_count.values, y = products_count.index)\n",
    "plt.title('Nombre de commandes par catégories')"
   ]
  },
  {
   "cell_type": "markdown",
   "id": "9fb3e61a",
   "metadata": {},
   "source": [
    "--> Nous remarquons que la categorie des produits les plus commandées est \"bed-bath-table\" et en deuxième lieu c'est \"health beauty\".   \n",
    "- Nous allons maintenant voir les catégories achetées en 2016 afin d'expliquer le montant élevé par rapport au nombre de commandes très faibles pendant cette année. "
   ]
  },
  {
   "cell_type": "code",
   "execution_count": null,
   "id": "5f4d1aba",
   "metadata": {},
   "outputs": [],
   "source": [
    "#analyser les catégories des produits les plus achetés en 2016\n",
    "df_2016 = df[df['order_year']==2016]\n",
    "products_count = df_2016['category_name'].value_counts()\n",
    "fig = plt.figure(figsize=(10,10))\n",
    "sns.barplot(x= products_count.values, y = products_count.index)\n",
    "plt.title('Nombre de commandes en 2016 par catégories')"
   ]
  },
  {
   "cell_type": "code",
   "execution_count": null,
   "id": "0cc25778",
   "metadata": {},
   "outputs": [],
   "source": [
    "# les données sont regroupées par nom de catégorie\n",
    "products_value = df_2016.groupby(\"category_name\")[\"payment_value\"].mean().sort_values(ascending=False).reset_index()\n",
    "# Payement moyen par catégorie \n",
    "fig = plt.figure(figsize=(10,10))\n",
    "sns.barplot(data = products_value, x= 'payment_value', y= 'category_name')\n",
    "plt.title(\"valeurs de commandes en 2016 par catégorie\")"
   ]
  },
  {
   "cell_type": "markdown",
   "id": "1487f80a",
   "metadata": {},
   "source": [
    "--> Les deux graphe ci-dessus expliquent bien les valeurs assez élevées pendant 2016. Ainsi, nous remarquons que les produits les plus commandées"
   ]
  },
  {
   "cell_type": "markdown",
   "id": "1cf9641f",
   "metadata": {},
   "source": [
    "## 4. Analyses multivariée\n",
    "\n",
    "### 4.1. Matrice de corrélation  \n",
    "\n",
    "Les variables numériques que je vais garder pour analyser la corrélation entre eux sont: \n"
   ]
  },
  {
   "cell_type": "code",
   "execution_count": null,
   "id": "17fc0c89",
   "metadata": {},
   "outputs": [],
   "source": [
    "numeric_vars = ['review_score','payment_sequential', 'payment_installments','payment_value',\\\n",
    "               'price', 'freight_value', 'achete_local', 'activite', 'reactivite']"
   ]
  },
  {
   "cell_type": "code",
   "execution_count": null,
   "id": "94975898",
   "metadata": {},
   "outputs": [],
   "source": [
    "df_toAnalyse = df[numeric_vars]\n",
    "df_toAnalyse.columns"
   ]
  },
  {
   "cell_type": "code",
   "execution_count": null,
   "id": "bd60ad0b",
   "metadata": {},
   "outputs": [],
   "source": [
    "# corrélation entre toutes les variables quantitatives\n",
    "corr_df = df_toAnalyse.corr(method='pearson')\n",
    "plt.figure(figsize=(12, 12))\n",
    "sns.heatmap(corr_df, annot=True,square=True,linewidths=.5)\n",
    "plt.title(\"Matrice de corrélation entre les variables quantitatives\")\n",
    "#plt.show()"
   ]
  },
  {
   "cell_type": "markdown",
   "id": "56dcd8b5",
   "metadata": {},
   "source": [
    "--> selon la matrice, nous ne remarquons pas la présence de corrélation entre les variables. la corrélation la plus élevée est entre 'price' et payment_value (0.73). Ce qui est tout à fait normal. "
   ]
  },
  {
   "cell_type": "markdown",
   "id": "21efc4d2",
   "metadata": {},
   "source": [
    "## 5. Segmentation RFM  \n",
    "\n",
    "Dans cette partie, nous allons essayer de segmenter les clients. Pour ce faire, nous allons calculer pour chaque client:  \n",
    "  - R --> Récence: La proximité du dernier achat, comme par exemple, la durée depuis le dernier achat.  \n",
    "  - F --> Fréquence: Récurrence des achats sur une période, comme par exemple le nombre d'achat sur la dernière année.  \n",
    "  - M --> Montant: Dépenses des clients sur une période, comme par exemple la somme de tout les montants payés pendant la dernière année.  \n",
    "  \n",
    "### 5.1. Calcul RFM\n",
    "  Afin d'automatiser le calcul de RFM sur différentes périodes, nous allons créer une fonction pour ce faire."
   ]
  },
  {
   "cell_type": "code",
   "execution_count": null,
   "id": "7483f7f0",
   "metadata": {},
   "outputs": [],
   "source": [
    "df.columns"
   ]
  },
  {
   "cell_type": "code",
   "execution_count": null,
   "id": "f8a3e9de",
   "metadata": {},
   "outputs": [],
   "source": [
    "print(\"le nombre de valeurs uniques pour la date d'une commande est: \", df['order_date'].nunique())\n",
    "print(\"le nombre de valeurs uniques pour l'identifiant d'une commande est: \",df['order_id'].nunique())"
   ]
  },
  {
   "cell_type": "markdown",
   "id": "8f78b56b",
   "metadata": {},
   "source": [
    "**Remarque**:  nous remarquons que le nombre de valeurs uniques pour order_id est superieur au nombre de valeurs uniques de order_date. Ceci est parceque (comme on a déjà analysé ci-dessus) une même commande peut être payé par plusieurs moyens et pour chaque moyen, c'est une nouvelle ligne qui s'ajoute au dataframe avec un order_id dupliqué. Pour cette cause, nous allons considérer dans la suite, que l'identifiant d'une commande c'est sa date (order_date)"
   ]
  },
  {
   "cell_type": "code",
   "execution_count": null,
   "id": "a7ba0d24",
   "metadata": {},
   "outputs": [],
   "source": [
    "#definir une fonction  pour calculer RFM\n",
    "def calcul_rfm(df, date_debut , date_fin):\n",
    "    #Les paramètres sont:\n",
    "    # -data: le dataframe qui contient obligatoirement 'customer_id','order_date', et ''payment_value'\n",
    "    # date_debut: debut de la période pour calculer RFM\n",
    "    # - date_fin: fin de la periode pour calculer RFM\n",
    "    #valeur de retour : dataframe contenant les valeurs de RFM\n",
    "    \n",
    "    #recuperer uniquement la partie de df dont la date de la commande est dans la période fixée\n",
    "    test_df = df[df['order_date'].between(date_debut , date_fin)]\n",
    "    \n",
    "    #calculer récence\n",
    "    \n",
    "    #rajouter une nouvelle variable qui calcule le nombre de jour entre date de commande et date_fin\n",
    "    test_df['recence_jours'] = test_df['order_date'].map(lambda d: (date_fin - d).days) \n",
    "    \n",
    "    #recuperer le nombre minimal de jours pour avoir la commande la plus récente\n",
    "    df_recence = test_df[['customer_id', 'recence_jours']]\n",
    "    df_recence = df_recence.groupby('customer_id')['recence_jours'].agg(['min'])\n",
    "    \n",
    "    #calculer frequence\n",
    "    \n",
    "    #calculons le nombre de order_date pour chaque client\n",
    "    df_frequence = test_df[['customer_id', 'order_date']]\n",
    "    df_frequence =  df_frequence.groupby('customer_id')['order_date'].agg(['count'])\n",
    "    \n",
    "    #calculer montant\n",
    "    \n",
    "    #calculons le montant total de toutes les commandes effectuées par chaque client\n",
    "    df_montant = test_df[['customer_id', 'payment_value']]\n",
    "    df_montant = df_montant.groupby('customer_id')['payment_value'].agg(['sum'])\n",
    "    \n",
    "    #merger les trois df contenant les RFM\n",
    "    df_recence = df_recence.merge(df_frequence, on='customer_id', how='left')\n",
    "    df_recence = df_recence.merge(df_montant, on='customer_id', how='left')\n",
    "    \n",
    "    #renommer les colonnes\n",
    "    df_RFM = df_recence\n",
    "    df_RFM.rename(columns={\"min\": \"recence\", \"count\": \"frequence\", \"sum\": \"montant\"}, inplace=True)\n",
    "    return df_RFM\n",
    "    \n",
    "    "
   ]
  },
  {
   "cell_type": "code",
   "execution_count": null,
   "id": "4d5986e0",
   "metadata": {},
   "outputs": [],
   "source": [
    "df['order_month']"
   ]
  },
  {
   "cell_type": "code",
   "execution_count": null,
   "id": "c49b5630",
   "metadata": {},
   "outputs": [],
   "source": [
    "#definir l'intervalle de la periode dans laquelle on veut calculer RFM\n",
    "import datetime\n",
    "date_debut = datetime.datetime(2016, 1, 1)\n",
    "date_fin =  datetime.datetime(2018, 12, 31)\n",
    "\n",
    "#calculer RFM\n",
    "rfm_results = calcul_rfm(df, date_debut , date_fin)\n",
    "rfm_results.head(10)"
   ]
  },
  {
   "cell_type": "markdown",
   "id": "e07d65ff",
   "metadata": {},
   "source": [
    "### 5.2. Analyses graphique de RFM"
   ]
  },
  {
   "cell_type": "code",
   "execution_count": null,
   "id": "9313d810",
   "metadata": {},
   "outputs": [],
   "source": [
    "rfm_results.describe()"
   ]
  },
  {
   "cell_type": "code",
   "execution_count": null,
   "id": "b5e3654e",
   "metadata": {},
   "outputs": [],
   "source": [
    "#histogramme de RFM\n",
    "plt.figure(1, figsize= (12,10))\n",
    "\n",
    "for i, col in enumerate(rfm_results):\n",
    "    plt.subplot(len(rfm_results.columns), 1, i + 1)\n",
    "    plt.hist(rfm_results[col], bins = int(1 + np.log2(len(rfm_results))))\n",
    "    plt.ylabel(\"Nombre de clients\")\n",
    "    plt.xlabel(col)\n",
    "    plt.legend()\n",
    "plt.show()"
   ]
  },
  {
   "cell_type": "code",
   "execution_count": null,
   "id": "d91177a9",
   "metadata": {},
   "outputs": [],
   "source": [
    "#boxplots\n",
    "fig = plt.figure(1, figsize=(15, 4))\n",
    "\n",
    "# Boxplot de la variable Recence\n",
    "plt.subplot(131)\n",
    "sns.boxplot(rfm_results[\"recence\"], orient=\"vertical\")\n",
    "\n",
    "# Boxplot de la variable Frequence\n",
    "plt.subplot(132)\n",
    "sns.boxplot(rfm_results[\"frequence\"], orient=\"vertical\")\n",
    "\n",
    "# Boxplot de la variable Monetary\n",
    "plt.subplot(133)\n",
    "sns.boxplot(rfm_results[\"montant\"], orient=\"vertical\")\n",
    "plt.show()"
   ]
  },
  {
   "cell_type": "markdown",
   "id": "337c36de",
   "metadata": {},
   "source": [
    "D'après l'histogramme et les boxplots , nous remarquons la présence des outliers; Nous allons pas les supprimer parce que nous penseon que c'est tout à fait normal d'avoir un déphasage entre fréquence d'achat et montants à payer par chaque client. Dans le but d'améliorer la visibilité de toutes les données, nous allons appliquer le passage en log pour les variables frequence et montant."
   ]
  },
  {
   "cell_type": "code",
   "execution_count": null,
   "id": "2364d922",
   "metadata": {},
   "outputs": [],
   "source": [
    "#passage en log\n",
    "rfm_results[['frequence', 'montant']] = rfm_results[['frequence', 'montant']].apply(lambda x: np.log(1+x))"
   ]
  },
  {
   "cell_type": "code",
   "execution_count": null,
   "id": "cd3bd108",
   "metadata": {
    "scrolled": true
   },
   "outputs": [],
   "source": [
    "#re-afficher les boxplots apres passage en log\n",
    "fig = plt.figure(1, figsize=(15, 4))\n",
    "plt.suptitle(\"Les variables Frequency et Monetary sont logarithmés\")\n",
    "\n",
    "# Boxplot de la variable Recence\n",
    "plt.subplot(131)\n",
    "sns.boxplot(rfm_results[\"recence\"], orient=\"vertical\")\n",
    "\n",
    "# Boxplot de la variable Frequence\n",
    "plt.subplot(132)\n",
    "sns.boxplot(rfm_results[\"frequence\"], orient=\"vertical\")\n",
    "\n",
    "# Boxplot de la variable Monetary\n",
    "plt.subplot(133)\n",
    "sns.boxplot(rfm_results[\"montant\"], orient=\"vertical\")\n",
    "plt.show()"
   ]
  },
  {
   "cell_type": "code",
   "execution_count": null,
   "id": "2f0e35fd",
   "metadata": {},
   "outputs": [],
   "source": [
    "#histogramme de RFM\n",
    "plt.figure(1, figsize= (12,10))\n",
    "\n",
    "for i, col in enumerate(rfm_results):\n",
    "    plt.subplot(len(rfm_results.columns), 1, i + 1)\n",
    "    plt.hist(rfm_results[col], bins = int(1 + np.log2(len(rfm_results))))\n",
    "    plt.ylabel(\"Nombre de clients\")\n",
    "    plt.xlabel(col)\n",
    "    plt.legend()\n",
    "plt.show()"
   ]
  },
  {
   "cell_type": "markdown",
   "id": "f3191d51",
   "metadata": {},
   "source": [
    "Remarques:  \n",
    "- La majorité des clients passe une seule commande (fréquence).\n",
    "- en moyenne, les valeurs de commandes sont égales à 207. Cette variable suit une distribution normale après le passage en log. \n",
    "- La période de récence varie entre 118 et 847 jours\n"
   ]
  },
  {
   "cell_type": "markdown",
   "id": "52645cbe",
   "metadata": {},
   "source": [
    "### 5.3. Attribution des notes aux clients  \n",
    " Dans cette partie, nous allons attribuer une note à chaque client et pour chaque composante de RFM. cette note varie de 1 à 4. Puisque recence, frequence et montant sont des variables à maximiser, alors plus R ou F ou M est élevée, plus la note est élevée , et vice-versa. Nous allons attribuer une note à chaque quartile de l'intervalle d'une variable:  \n",
    "   - note =1 pour le premier quartile\n",
    "   - note =2 pour le deuxième quartile\n",
    "   - note =3 pour le troisième quartile\n",
    "   - note =4 pour le quatrième quartile"
   ]
  },
  {
   "cell_type": "code",
   "execution_count": null,
   "id": "94193321",
   "metadata": {},
   "outputs": [],
   "source": [
    "rfm_results.describe()"
   ]
  },
  {
   "cell_type": "code",
   "execution_count": null,
   "id": "b8ae5f82",
   "metadata": {},
   "outputs": [],
   "source": [
    "rfm_results['montant'].quantile(0.2)"
   ]
  },
  {
   "cell_type": "code",
   "execution_count": null,
   "id": "11890abe",
   "metadata": {},
   "outputs": [],
   "source": [
    "def r_score(x, quintiles):\n",
    "    \"\"\"\n",
    "    Attribut une note entre 1 et 4 suivant l'emplacement de x par\n",
    "    rapport aux quartiles. Plus la 'recence' est faible, plus la note\n",
    "    est élevé\n",
    "    x(float): valeur\n",
    "    \"\"\"\n",
    "\n",
    "    if x <= quintiles['recence'][.25]:\n",
    "        return 4\n",
    "    elif x <= quintiles['recence'][.5]:\n",
    "        return 3\n",
    "    elif x <= quintiles['recence'][.75]:\n",
    "        return 2\n",
    "    else:\n",
    "        return 1"
   ]
  },
  {
   "cell_type": "code",
   "execution_count": null,
   "id": "f0dc720e",
   "metadata": {},
   "outputs": [],
   "source": [
    "def fm_score(x, quintiles, c):\n",
    "    \"\"\"\n",
    "     Attribut une note entre 1 et 4 suivant l'emplacement de x par\n",
    "    rapport aux quartiles. Plus la 'frequence' ou montant est élevé, plus la note\n",
    "    est élevée\n",
    "    x(float): valeur\n",
    "    \"\"\"\n",
    "\n",
    "    if x <= quintiles[c][.25]:\n",
    "        return 1\n",
    "    elif x <= quintiles[c][.5]:\n",
    "        return 2\n",
    "    elif x <= quintiles[c][.75]:\n",
    "        return 3\n",
    "    else:\n",
    "        return 4"
   ]
  },
  {
   "cell_type": "code",
   "execution_count": null,
   "id": "1c1b7a9f",
   "metadata": {},
   "outputs": [],
   "source": [
    "def calculate_quantile(rfm_results):\n",
    "    \"\"\"\n",
    "    Calcul des quantiles pour chaque variable Recence, Frequence et Montant\n",
    "    puis attribut un score (fm_score et r_score) suivant la valeur\n",
    "    des variables de chaque individu\n",
    "    rfm_results(pd.DataFrame): présente les colonnes Recence, Frequence et Montant\n",
    "    \"\"\"\n",
    "    quintiles = rfm_results[['recence',\n",
    "                     'frequence',\n",
    "                     'montant']].quantile([.25, .5, .75]).to_dict()\n",
    "\n",
    "    rfm_results['R'] = rfm_results['recence'].apply(lambda x:\n",
    "                                    r_score(x, quintiles))\n",
    "    rfm_results['F'] = rfm_results['frequence'].apply(lambda x:\n",
    "                                      fm_score(x, quintiles, 'frequence'))\n",
    "    rfm_results['M'] = rfm_results['montant'].apply(lambda x:\n",
    "                                     fm_score(x, quintiles, 'montant'))\n",
    "    return rfm_results\n"
   ]
  },
  {
   "cell_type": "code",
   "execution_count": null,
   "id": "09a37fb2",
   "metadata": {},
   "outputs": [],
   "source": [
    "calculate_quantile(rfm_results)"
   ]
  },
  {
   "cell_type": "markdown",
   "id": "233ec26b",
   "metadata": {},
   "source": [
    "### 5.4. Segmentation des clients  et visualisation graphique\n",
    "Nous allons créer 7 segments de clients selon RFM."
   ]
  },
  {
   "cell_type": "code",
   "execution_count": null,
   "id": "766f5377",
   "metadata": {},
   "outputs": [],
   "source": [
    "def segmentation_clients(rfm_results):\n",
    "    \"\"\"\n",
    "    Retourne le segment associé au client en fonction de son score pour les\n",
    "    variables R, F et M\n",
    "\n",
    "    Paramètres:\n",
    "    rfm_results(pd.DataFrame): doit contenir les colonnes R, F et M\n",
    "\n",
    "    Return:\n",
    "    str: Nom du segment\n",
    "    \"\"\"\n",
    "\n",
    "    if 3 <= rfm_results[\"R\"] <= 4 and 3 <= rfm_results[\"F\"] <= 4 and 3 <= rfm_results[\"M\"] <= 4:\n",
    "        return \"Client GOLD\"\n",
    "\n",
    "    elif 3 <= rfm_results[\"R\"] <= 4 and 1 <= rfm_results[\"F\"] <= 3 and 1 <= rfm_results[\"M\"] <= 3:\n",
    "        return \"Client potentiel\"\n",
    "\n",
    "    elif 3 <= rfm_results[\"R\"] <= 4 and rfm_results[\"F\"] <= 1 and rfm_results[\"M\"] <= 1:\n",
    "        return \"Client prometteur\"\n",
    "\n",
    "    elif rfm_results[\"R\"] <= 1 and 3 <= rfm_results[\"F\"] <= 4 and 3 <= rfm_results[\"M\"] <= 4:\n",
    "        return \"Client important\"\n",
    "\n",
    "    elif rfm_results[\"R\"] <= 1 and 2 <= rfm_results[\"F\"] <= 4 and 2 <= rfm_results[\"M\"] <= 4:\n",
    "        return \"Clien en risque\"\n",
    "\n",
    "    elif rfm_results[\"R\"] <= 1 and rfm_results[\"F\"] <= 2 and rfm_results[\"M\"] <= 2:\n",
    "        return \"Client perdu\"\n",
    "\n",
    "    else:\n",
    "        return \"Others\""
   ]
  },
  {
   "cell_type": "code",
   "execution_count": null,
   "id": "7e26c990",
   "metadata": {},
   "outputs": [],
   "source": [
    "#attribution des classes de clients\n",
    "rfm_results['categorie'] = rfm_results.apply(segmentation_clients, axis=1)"
   ]
  },
  {
   "cell_type": "code",
   "execution_count": null,
   "id": "347fefe2",
   "metadata": {},
   "outputs": [],
   "source": [
    "rfm_results.head()"
   ]
  },
  {
   "cell_type": "code",
   "execution_count": null,
   "id": "39b2ede0",
   "metadata": {},
   "outputs": [],
   "source": [
    "#visualisation 3D\n",
    "def projection_3d_segments(rfm_results, label_categorie) :\n",
    "    \"\"\"\n",
    "    Graphique montrant les différents clients associés à leur segment/cluster respectif\n",
    "    rfm_results(pd.DataFrame): Table de résultats\n",
    "    label_categorie(str): nom du segment\n",
    "    colors(list): liste de couleurs\n",
    "\n",
    "    \"\"\"\n",
    "    fig = plt.figure(1, figsize=(20, 10))\n",
    "\n",
    "    dx = fig.add_subplot(111, projection='3d')\n",
    "    # Pour chaque segment, scatter plot des individus avec code couleur\n",
    "    for i, segment in enumerate(rfm_results[label_categorie].unique()):\n",
    "        dx.scatter(rfm_results[rfm_results[label_categorie] == segment].recence,\n",
    "                   rfm_results[rfm_results[label_categorie] == segment].frequence,\n",
    "                   rfm_results[rfm_results[label_categorie] == segment].montant,\n",
    "                   label=segment,\n",
    "                   s=50)\n",
    "    # Titre des axes et titre graphique\n",
    "    dx.set_xlabel(\"Recence\")\n",
    "    dx.set_ylabel(\"Frequence\")\n",
    "    dx.set_zlabel(\"Montant\")\n",
    "    plt.title(\"Représentation 3D des différents individus dans chaque segment\")\n",
    "\n",
    "    plt.legend()\n",
    "    plt.show()"
   ]
  },
  {
   "cell_type": "code",
   "execution_count": null,
   "id": "e41ed9e9",
   "metadata": {},
   "outputs": [],
   "source": [
    "# Graphique 3D (x, y, z) = (Recence, Frequence, Montant)\n",
    "projection_3d_segments(rfm_results, 'categorie')"
   ]
  },
  {
   "cell_type": "markdown",
   "id": "b3f1b172",
   "metadata": {},
   "source": [
    "Dans la partie suivante, nous allons segmenter les clients en utilisant les modèles de classification non supervisée. Pour ce faire nous devons tout d'abord préparer nos données:  \n",
    "  1- Encodage des variables qualitatives  \n",
    "  2- Standardisation des variables  \n",
    "  3- ACP"
   ]
  },
  {
   "cell_type": "markdown",
   "id": "0ecd54ec",
   "metadata": {},
   "source": [
    "# 6. Segmentation non supervisée des clients  \n",
    "\n",
    "## 6. 1. Prétraitement des données  \n",
    "Dans cette partie, les variables qu'on va utiliser pour le machine learning sont: \n",
    "['customer_id', 'customer_state', 'review_score','payment_sequential', 'payment_type', 'payment_installments', 'payment_value', 'price', 'freight_value', 'category_name', 'seller_state', 'achete_local', 'activite', 'reactivite']"
   ]
  },
  {
   "cell_type": "code",
   "execution_count": null,
   "id": "f4a5808c",
   "metadata": {},
   "outputs": [],
   "source": [
    "df.columns"
   ]
  },
  {
   "cell_type": "code",
   "execution_count": null,
   "id": "cd84a141",
   "metadata": {},
   "outputs": [],
   "source": [
    "finaldf = df[['customer_id', 'customer_unique_id','review_score','payment_sequential', 'payment_installments', \\\n",
    "              'payment_value','price', 'freight_value', 'achete_local', 'activite', 'reactivite', \\\n",
    "              'customer_state', 'payment_type', 'category_name','seller_state']]"
   ]
  },
  {
   "cell_type": "code",
   "execution_count": null,
   "id": "b7a9c853",
   "metadata": {
    "scrolled": true
   },
   "outputs": [],
   "source": [
    "finaldf.shape"
   ]
  },
  {
   "cell_type": "code",
   "execution_count": null,
   "id": "fcca6ab7",
   "metadata": {},
   "outputs": [],
   "source": [
    "#merger finaldf avec rfm_results pour recuperer RFM\n",
    "finaldf = finaldf.merge(rfm_results, how=\"left\", on ='customer_id')"
   ]
  },
  {
   "cell_type": "code",
   "execution_count": null,
   "id": "a6f7d56d",
   "metadata": {},
   "outputs": [],
   "source": [
    "finaldf = finaldf.drop(columns=['R', 'F', 'M'])"
   ]
  },
  {
   "cell_type": "code",
   "execution_count": null,
   "id": "d53787ed",
   "metadata": {},
   "outputs": [],
   "source": [
    "finaldf.columns"
   ]
  },
  {
   "cell_type": "code",
   "execution_count": null,
   "id": "17a5fc64",
   "metadata": {},
   "outputs": [],
   "source": [
    "numeric_features = ['customer_unique_id','review_score','payment_sequential', \\\n",
    "                    'payment_installments', 'payment_value','frequence','recence','montant'\\\n",
    "                    'price', 'freight_value', 'achete_local', 'activite', 'reactivite']"
   ]
  },
  {
   "cell_type": "code",
   "execution_count": null,
   "id": "85217ee5",
   "metadata": {},
   "outputs": [],
   "source": [
    "quali_features = ['customer_state', 'payment_type', 'category_name','seller_state']"
   ]
  },
  {
   "cell_type": "markdown",
   "id": "d401140b",
   "metadata": {},
   "source": [
    "### a. Encodage des variables qualitatives  \n",
    "\n",
    "Pour encoder les variables qualitatives, nous allons utiliser l'encodeur OnehotEncoder"
   ]
  },
  {
   "cell_type": "code",
   "execution_count": null,
   "id": "de9efae6",
   "metadata": {},
   "outputs": [],
   "source": [
    "#encodage de customer_state\n",
    "finaldf = pd.concat([finaldf,pd.get_dummies(finaldf['customer_state'], prefix='customer')],axis=1)\n",
    "# now drop the original 'customer_state' column (you don't need it anymore)\n",
    "df.drop(['customer_state'],axis=1, inplace=True)\n",
    "\n",
    "#encodage de seller_state\n",
    "finaldf = pd.concat([finaldf,pd.get_dummies(finaldf['seller_state'], prefix='seller')],axis=1)\n",
    "# now drop the original 'seller_state' column (you don't need it anymore)\n",
    "df.drop(['seller_state'],axis=1, inplace=True)\n",
    "\n",
    "#encodage de payment_type\n",
    "finaldf = pd.concat([finaldf,pd.get_dummies(finaldf['payment_type'], prefix='pay')],axis=1)\n",
    "# now drop the original 'payment_type' column (you don't need it anymore)\n",
    "df.drop(['payment_type'],axis=1, inplace=True)\n",
    "\n",
    "finaldf.head()"
   ]
  },
  {
   "cell_type": "code",
   "execution_count": null,
   "id": "975980cb",
   "metadata": {},
   "outputs": [],
   "source": [
    "finaldf.shape"
   ]
  },
  {
   "cell_type": "code",
   "execution_count": null,
   "id": "e4b88802",
   "metadata": {},
   "outputs": [],
   "source": [
    "categorie_maison', 'categorie_mode', 'categorie_bureau', 'categorie_techno', 'categorie_outils', 'categorie_sport', 'categorie_loisir', 'categorie_diver', 'categorie_nourriture', 'categorie_service'"
   ]
  },
  {
   "cell_type": "code",
   "execution_count": null,
   "id": "1af9227a",
   "metadata": {},
   "outputs": [],
   "source": [
    "#creer un dictionnaire pour regrouper les différentes catégories des produits sous des sub-classes\n",
    "subclass_dict={'HOTEL': ['RESIDENCE HALL','RESIDENCE HALL/DORMITORY','HOTEL','OTHER - LODGING/RESIDENTIAL'],\\\n",
    "              'EDUCATION': ['MULTIFAMILY HOUSING','VOCATIONAL SCHOOL','UNIVERSITY','SPS-DISTRICT K-12','PRE-SCHOOL/DAYCARE','ADULT EDUCATION', 'COLLEGE/UNIVERSITY','K-12 SCHOOL','OTHER - EDUCATION'],\\\n",
    "              'RESTAURANT': ['RESTAURANT\\n','RESTAURANT','BAR/NIGHTCLUB','FAST FOOD RESTAURANT','FOOD SALES','FOOD SERVICE','OTHER - RESTAURANT/BAR'],\\\n",
    "              'STORE':['AUTOMOBILE DEALERSHIP','WHOLESALE CLUB/SUPERCENTER','SUPERMARKET/GROCERY STORE','SUPERMARKET / GROCERY STORE','RETAIL STORE','CONVENIENCE STORE WITHOUT GAS STATION','MIXED USE PROPERTY'],\\\n",
    "              'PUBLIC_SERVICE': ['DATA CENTER','NAN','FIRE STATION','WORSHIP FACILITY','SENIOR CARE COMMUNITY','REPAIR SERVICES (VEHICLE, SHOE, LOCKSMITH, ETC)','PRISON/INCARCERATION','POLICE STATION','PARKING','OTHER - UTILITY','BANK BRANCH','CONVENTION CENTER','COURTHOUSE','OTHER - PUBLIC SERVICES','OTHER - SERVICES','OTHER - TECHNOLOGY/SCIENCE'],\\\n",
    "              'ENTERTAINMENT': ['SWIMMING POOL','SOCIAL/MEETING HALL','PERFORMING ARTS','LIBRARY','MOVIE THEATER','MUSEUM','OTHER - ENTERTAINMENT/PUBLIC ASSEMBLY','OTHER - RECREATION'],\\\n",
    "              'WAREHOUSE':['WAREHOUSE','SELF-STORAGE FACILITY\\n','SELF-STORAGE FACILITY','DISTRIBUTION CENTER','DISTRIBUTION CENTER\\n','NON-REFRIGERATED WAREHOUSE'],\\\n",
    "              'MALL':['ENCLOSED MALL','OTHER - MALL','STRIP MALL'],\\\n",
    "              'OFFICE':['OTHER','SMALL- AND MID-SIZED OFFICE','FINANCIAL OFFICE','LARGE OFFICE','MEDICAL OFFICE','OFFICE'],\\\n",
    "              'LIFESTYLE_SERVICE':['RESIDENTIAL CARE FACILITY','PERSONAL SERVICES (HEALTH/BEAUTY, DRY CLEANING, ETC)','FITNESS CENTER/HEALTH CLUB/GYM','LIFESTYLE CENTER'],\\\n",
    "              'HOSPITAL':['URGENT CARE/CLINIC/OTHER OUTPATIENT','OUTPATIENT REHABILITATION/PHYSICAL THERAPY','OTHER/SPECIALTY HOSPITAL','HOSPITAL','HOSPITAL (GENERAL MEDICAL & SURGICAL)','LABORATORY'],\\\n",
    "              'INDUSTRY':['MANUFACTURING/INDUSTRIAL PLANT','REFRIGERATED WAREHOUSE']}"
   ]
  },
  {
   "cell_type": "code",
   "execution_count": null,
   "id": "e87fa217",
   "metadata": {},
   "outputs": [],
   "source": [
    "#preparer le dictionnaire de subclasses des categories\n",
    "categories = {'outils': {'PUBLIC_SERVICE': 1, 'OFFICE': 2, 'RESTAURANT':3,'EDUCATION':4, 'WAREHOUSE':5, 'STORE':6,'ENTERTAINMENT':7,'HOTEL':8,'HOSPITAL':9,'LIFESTYLE_SERVICE':10, 'INDUSTRY':11, 'MALL':12 },\n",
    "             'sport':       {'PUBLIC_SERVICE': 1, 'OFFICE': 2, 'RESTAURANT':3,'EDUCATION':4, 'WAREHOUSE':5, 'STORE':6,'ENTERTAINMENT':7,'HOTEL':8,'HOSPITAL':9,'LIFESTYLE_SERVICE':10, 'INDUSTRY':11, 'MALL':12 },\n",
    "             'loisirs':          {'PUBLIC_SERVICE': 1, 'OFFICE': 2, 'RESTAURANT':3,'EDUCATION':4, 'WAREHOUSE':5, 'STORE':6,'ENTERTAINMENT':7,'HOTEL':8,'HOSPITAL':9,'LIFESTYLE_SERVICE':10, 'INDUSTRY':11, 'MALL':12 },\n",
    "            'divers':  {'PUBLIC_SERVICE': 1, 'OFFICE': 2, 'RESTAURANT':3,'EDUCATION':4, 'WAREHOUSE':5, 'STORE':6,'ENTERTAINMENT':7,'HOTEL':8,'HOSPITAL':9,'LIFESTYLE_SERVICE':10, 'INDUSTRY':11, 'MALL':12 }\n",
    "             'nourriture': {},\n",
    "             'service': {},\n",
    "             'techno': {},\n",
    "             'bureau': {},\n",
    "             'mode': {},\n",
    "             'maison': {}}"
   ]
  },
  {
   "cell_type": "code",
   "execution_count": null,
   "id": "27e8c809",
   "metadata": {},
   "outputs": [],
   "source": [
    "finaldf.shape"
   ]
  },
  {
   "cell_type": "code",
   "execution_count": null,
   "id": "fe795500",
   "metadata": {},
   "outputs": [],
   "source": [
    "finaldf['customer_id'].nunique()"
   ]
  },
  {
   "cell_type": "markdown",
   "id": "e6bc511f",
   "metadata": {},
   "source": [
    "Puisque customer_id est dupliqué (nbre de ligne = 119018 et valeurs unique de custumer_id = 99441), nous allons regrouper par l'identifiant unique du client et agréger toutes les autres features."
   ]
  },
  {
   "cell_type": "code",
   "execution_count": null,
   "id": "60b8f9d3",
   "metadata": {},
   "outputs": [],
   "source": [
    "df_agg = finaldf.groupby(['customer_unique_id'], as_index = False).agg({'frequence': 'mean',\n",
    "                                                                   'recence': 'mean',\n",
    "                                                                   'montant': 'mean',\n",
    "                                                                   'price': 'mean',\n",
    "                                                                   'payment_sequential' : 'mean',\n",
    "                                                                   'freight_value' : 'mean',\n",
    "                                                                   'review_score' : 'mean',\n",
    "                                                                   'payment_installments' : 'mean',\n",
    "                                                                   'payment_value' : 'mean',\n",
    "                                                                   'payment_type' : list,\n",
    "                                                                   'categorie' : list,\n",
    "                                                                   'achete_local' : 'mean',\n",
    "                                                                   'activite' : 'mean',\n",
    "                                                                   'reactivite' : 'mean',\n",
    "                                                                   'customer_state' : list,\n",
    "                                                                   'seller_state' : list\n",
    "                                                                  })"
   ]
  },
  {
   "cell_type": "code",
   "execution_count": null,
   "id": "d8c20840",
   "metadata": {},
   "outputs": [],
   "source": [
    "df_agg.head()"
   ]
  },
  {
   "cell_type": "markdown",
   "id": "5aa33596",
   "metadata": {},
   "source": [
    "**Séparer les données qualitatives des données quantitatives/numérique**"
   ]
  }
 ],
 "metadata": {
  "kernelspec": {
   "display_name": "Python 3",
   "language": "python",
   "name": "python3"
  },
  "language_info": {
   "codemirror_mode": {
    "name": "ipython",
    "version": 3
   },
   "file_extension": ".py",
   "mimetype": "text/x-python",
   "name": "python",
   "nbconvert_exporter": "python",
   "pygments_lexer": "ipython3",
   "version": "3.8.8"
  }
 },
 "nbformat": 4,
 "nbformat_minor": 5
}
