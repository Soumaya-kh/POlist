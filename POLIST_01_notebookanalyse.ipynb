{
 "cells": [
  {
   "cell_type": "code",
   "execution_count": 1,
   "id": "0e815b0c",
   "metadata": {},
   "outputs": [],
   "source": [
    "import pandas as pd\n",
    "import numpy as np\n",
    "import matplotlib.pyplot as plt\n",
    "import my_module as my\n",
    "import seaborn as sns\n",
    "from datetime import *"
   ]
  },
  {
   "cell_type": "markdown",
   "id": "3feb43d3",
   "metadata": {},
   "source": [
    "#### Lecture des données"
   ]
  },
  {
   "cell_type": "code",
   "execution_count": 2,
   "id": "7b65f5e1",
   "metadata": {},
   "outputs": [],
   "source": [
    "\n",
    "geo = pd.read_csv('olist_geolocation_dataset.csv')\n",
    "orders = pd.read_csv('olist_orders_dataset.csv')\n",
    "products = pd.read_csv('olist_products_dataset.csv')\n",
    "sellers = pd.read_csv('olist_sellers_dataset.csv')\n",
    "reviews = pd.read_csv('olist_order_reviews_dataset.csv')\n",
    "items = pd.read_csv('olist_order_items_dataset.csv')\n",
    "customers = pd.read_csv('olist_customers_dataset.csv')\n",
    "payments = pd.read_csv('olist_order_payments_dataset.csv')\n",
    "category = pd.read_csv('product_category_name_translation.csv')"
   ]
  },
  {
   "cell_type": "markdown",
   "id": "04edbd6a",
   "metadata": {},
   "source": [
    "# 1. Analyse exploratoire  \n",
    "Dans cette partie, nous allons parcourir les datasets, un par un, et analyser leurs données afin de mieux les comprendre.    \n",
    "\n",
    "**Méthodologie :**  \n",
    "    Nous allons nettoyer les données qui peuvent principalement servir le but de ce projet et qui est la segmentation des clients. En plus, nous allons créer de nouvelles variables si nécessaire (feature engineering). Pour chaque dataset, nous allons mentionner une section qu'on nommera 'sélection des variables utiles\" où on va garder juste les variables que nous estimons utiles pour le merge avec les autres datasets et aussi pour l'analyse des comportements du client.  \n",
    "\n",
    "## 1.1. Geolocalisation  \n",
    "Ce jeu de données contient des informations sur les codes postaux brésiliens et leurs coordonnées latitude/longitude. Utile pour tracer des cartes et trouver des distances entre les vendeurs et les clients.  \n"
   ]
  },
  {
   "cell_type": "code",
   "execution_count": 3,
   "id": "7bf589f6",
   "metadata": {},
   "outputs": [
    {
     "data": {
      "text/html": [
       "<div>\n",
       "<style scoped>\n",
       "    .dataframe tbody tr th:only-of-type {\n",
       "        vertical-align: middle;\n",
       "    }\n",
       "\n",
       "    .dataframe tbody tr th {\n",
       "        vertical-align: top;\n",
       "    }\n",
       "\n",
       "    .dataframe thead th {\n",
       "        text-align: right;\n",
       "    }\n",
       "</style>\n",
       "<table border=\"1\" class=\"dataframe\">\n",
       "  <thead>\n",
       "    <tr style=\"text-align: right;\">\n",
       "      <th></th>\n",
       "      <th>geolocation_zip_code_prefix</th>\n",
       "      <th>geolocation_lat</th>\n",
       "      <th>geolocation_lng</th>\n",
       "      <th>geolocation_city</th>\n",
       "      <th>geolocation_state</th>\n",
       "    </tr>\n",
       "  </thead>\n",
       "  <tbody>\n",
       "    <tr>\n",
       "      <th>0</th>\n",
       "      <td>1037</td>\n",
       "      <td>-23.545621</td>\n",
       "      <td>-46.639292</td>\n",
       "      <td>sao paulo</td>\n",
       "      <td>SP</td>\n",
       "    </tr>\n",
       "    <tr>\n",
       "      <th>1</th>\n",
       "      <td>1046</td>\n",
       "      <td>-23.546081</td>\n",
       "      <td>-46.644820</td>\n",
       "      <td>sao paulo</td>\n",
       "      <td>SP</td>\n",
       "    </tr>\n",
       "    <tr>\n",
       "      <th>2</th>\n",
       "      <td>1046</td>\n",
       "      <td>-23.546129</td>\n",
       "      <td>-46.642951</td>\n",
       "      <td>sao paulo</td>\n",
       "      <td>SP</td>\n",
       "    </tr>\n",
       "    <tr>\n",
       "      <th>3</th>\n",
       "      <td>1041</td>\n",
       "      <td>-23.544392</td>\n",
       "      <td>-46.639499</td>\n",
       "      <td>sao paulo</td>\n",
       "      <td>SP</td>\n",
       "    </tr>\n",
       "    <tr>\n",
       "      <th>4</th>\n",
       "      <td>1035</td>\n",
       "      <td>-23.541578</td>\n",
       "      <td>-46.641607</td>\n",
       "      <td>sao paulo</td>\n",
       "      <td>SP</td>\n",
       "    </tr>\n",
       "  </tbody>\n",
       "</table>\n",
       "</div>"
      ],
      "text/plain": [
       "   geolocation_zip_code_prefix  geolocation_lat  geolocation_lng  \\\n",
       "0                         1037       -23.545621       -46.639292   \n",
       "1                         1046       -23.546081       -46.644820   \n",
       "2                         1046       -23.546129       -46.642951   \n",
       "3                         1041       -23.544392       -46.639499   \n",
       "4                         1035       -23.541578       -46.641607   \n",
       "\n",
       "  geolocation_city geolocation_state  \n",
       "0        sao paulo                SP  \n",
       "1        sao paulo                SP  \n",
       "2        sao paulo                SP  \n",
       "3        sao paulo                SP  \n",
       "4        sao paulo                SP  "
      ]
     },
     "execution_count": 3,
     "metadata": {},
     "output_type": "execute_result"
    }
   ],
   "source": [
    "#aperçu des données\n",
    "geo.head()"
   ]
  },
  {
   "cell_type": "code",
   "execution_count": 4,
   "id": "7ce3875d",
   "metadata": {},
   "outputs": [
    {
     "data": {
      "text/html": [
       "<div>\n",
       "<style scoped>\n",
       "    .dataframe tbody tr th:only-of-type {\n",
       "        vertical-align: middle;\n",
       "    }\n",
       "\n",
       "    .dataframe tbody tr th {\n",
       "        vertical-align: top;\n",
       "    }\n",
       "\n",
       "    .dataframe thead th {\n",
       "        text-align: right;\n",
       "    }\n",
       "</style>\n",
       "<table border=\"1\" class=\"dataframe\">\n",
       "  <thead>\n",
       "    <tr style=\"text-align: right;\">\n",
       "      <th></th>\n",
       "      <th>geolocation_zip_code_prefix</th>\n",
       "      <th>geolocation_lat</th>\n",
       "      <th>geolocation_lng</th>\n",
       "    </tr>\n",
       "  </thead>\n",
       "  <tbody>\n",
       "    <tr>\n",
       "      <th>count</th>\n",
       "      <td>1.000163e+06</td>\n",
       "      <td>1.000163e+06</td>\n",
       "      <td>1.000163e+06</td>\n",
       "    </tr>\n",
       "    <tr>\n",
       "      <th>mean</th>\n",
       "      <td>3.657417e+04</td>\n",
       "      <td>-2.117615e+01</td>\n",
       "      <td>-4.639054e+01</td>\n",
       "    </tr>\n",
       "    <tr>\n",
       "      <th>std</th>\n",
       "      <td>3.054934e+04</td>\n",
       "      <td>5.715866e+00</td>\n",
       "      <td>4.269748e+00</td>\n",
       "    </tr>\n",
       "    <tr>\n",
       "      <th>min</th>\n",
       "      <td>1.001000e+03</td>\n",
       "      <td>-3.660537e+01</td>\n",
       "      <td>-1.014668e+02</td>\n",
       "    </tr>\n",
       "    <tr>\n",
       "      <th>25%</th>\n",
       "      <td>1.107500e+04</td>\n",
       "      <td>-2.360355e+01</td>\n",
       "      <td>-4.857317e+01</td>\n",
       "    </tr>\n",
       "    <tr>\n",
       "      <th>50%</th>\n",
       "      <td>2.653000e+04</td>\n",
       "      <td>-2.291938e+01</td>\n",
       "      <td>-4.663788e+01</td>\n",
       "    </tr>\n",
       "    <tr>\n",
       "      <th>75%</th>\n",
       "      <td>6.350400e+04</td>\n",
       "      <td>-1.997962e+01</td>\n",
       "      <td>-4.376771e+01</td>\n",
       "    </tr>\n",
       "    <tr>\n",
       "      <th>max</th>\n",
       "      <td>9.999000e+04</td>\n",
       "      <td>4.506593e+01</td>\n",
       "      <td>1.211054e+02</td>\n",
       "    </tr>\n",
       "  </tbody>\n",
       "</table>\n",
       "</div>"
      ],
      "text/plain": [
       "       geolocation_zip_code_prefix  geolocation_lat  geolocation_lng\n",
       "count                 1.000163e+06     1.000163e+06     1.000163e+06\n",
       "mean                  3.657417e+04    -2.117615e+01    -4.639054e+01\n",
       "std                   3.054934e+04     5.715866e+00     4.269748e+00\n",
       "min                   1.001000e+03    -3.660537e+01    -1.014668e+02\n",
       "25%                   1.107500e+04    -2.360355e+01    -4.857317e+01\n",
       "50%                   2.653000e+04    -2.291938e+01    -4.663788e+01\n",
       "75%                   6.350400e+04    -1.997962e+01    -4.376771e+01\n",
       "max                   9.999000e+04     4.506593e+01     1.211054e+02"
      ]
     },
     "execution_count": 4,
     "metadata": {},
     "output_type": "execute_result"
    }
   ],
   "source": [
    "#description des données\n",
    "geo.describe()"
   ]
  },
  {
   "cell_type": "code",
   "execution_count": 5,
   "id": "6c0ea02b",
   "metadata": {},
   "outputs": [
    {
     "data": {
      "text/html": [
       "<div>\n",
       "<style scoped>\n",
       "    .dataframe tbody tr th:only-of-type {\n",
       "        vertical-align: middle;\n",
       "    }\n",
       "\n",
       "    .dataframe tbody tr th {\n",
       "        vertical-align: top;\n",
       "    }\n",
       "\n",
       "    .dataframe thead th {\n",
       "        text-align: right;\n",
       "    }\n",
       "</style>\n",
       "<table border=\"1\" class=\"dataframe\">\n",
       "  <thead>\n",
       "    <tr style=\"text-align: right;\">\n",
       "      <th></th>\n",
       "      <th>variable name</th>\n",
       "      <th>variable type</th>\n",
       "      <th>nbr of distinct values</th>\n",
       "      <th>percentage of NaNs</th>\n",
       "    </tr>\n",
       "  </thead>\n",
       "  <tbody>\n",
       "    <tr>\n",
       "      <th>0</th>\n",
       "      <td>geolocation_zip_code_prefix</td>\n",
       "      <td>int64</td>\n",
       "      <td>19015</td>\n",
       "      <td>0.0 %</td>\n",
       "    </tr>\n",
       "    <tr>\n",
       "      <th>1</th>\n",
       "      <td>geolocation_lat</td>\n",
       "      <td>float64</td>\n",
       "      <td>717360</td>\n",
       "      <td>0.0 %</td>\n",
       "    </tr>\n",
       "    <tr>\n",
       "      <th>2</th>\n",
       "      <td>geolocation_lng</td>\n",
       "      <td>float64</td>\n",
       "      <td>717613</td>\n",
       "      <td>0.0 %</td>\n",
       "    </tr>\n",
       "    <tr>\n",
       "      <th>3</th>\n",
       "      <td>geolocation_city</td>\n",
       "      <td>object</td>\n",
       "      <td>8011</td>\n",
       "      <td>0.0 %</td>\n",
       "    </tr>\n",
       "    <tr>\n",
       "      <th>4</th>\n",
       "      <td>geolocation_state</td>\n",
       "      <td>object</td>\n",
       "      <td>27</td>\n",
       "      <td>0.0 %</td>\n",
       "    </tr>\n",
       "  </tbody>\n",
       "</table>\n",
       "</div>"
      ],
      "text/plain": [
       "                 variable name variable type nbr of distinct values  \\\n",
       "0  geolocation_zip_code_prefix         int64                  19015   \n",
       "1              geolocation_lat       float64                 717360   \n",
       "2              geolocation_lng       float64                 717613   \n",
       "3             geolocation_city        object                   8011   \n",
       "4            geolocation_state        object                     27   \n",
       "\n",
       "  percentage of NaNs  \n",
       "0              0.0 %  \n",
       "1              0.0 %  \n",
       "2              0.0 %  \n",
       "3              0.0 %  \n",
       "4              0.0 %  "
      ]
     },
     "execution_count": 5,
     "metadata": {},
     "output_type": "execute_result"
    }
   ],
   "source": [
    "my.variable_survey(geo)"
   ]
  },
  {
   "cell_type": "code",
   "execution_count": 6,
   "id": "4e8d99a2",
   "metadata": {},
   "outputs": [
    {
     "data": {
      "text/html": [
       "<div>\n",
       "<style scoped>\n",
       "    .dataframe tbody tr th:only-of-type {\n",
       "        vertical-align: middle;\n",
       "    }\n",
       "\n",
       "    .dataframe tbody tr th {\n",
       "        vertical-align: top;\n",
       "    }\n",
       "\n",
       "    .dataframe thead th {\n",
       "        text-align: right;\n",
       "    }\n",
       "</style>\n",
       "<table border=\"1\" class=\"dataframe\">\n",
       "  <thead>\n",
       "    <tr style=\"text-align: right;\">\n",
       "      <th></th>\n",
       "      <th>dataframe</th>\n",
       "      <th>(rows, column)</th>\n",
       "      <th>Total number of nans</th>\n",
       "      <th>percentage of nans</th>\n",
       "      <th>number of duplicated rows</th>\n",
       "      <th>percentage of duplicated rows</th>\n",
       "    </tr>\n",
       "  </thead>\n",
       "  <tbody>\n",
       "    <tr>\n",
       "      <th>0</th>\n",
       "      <td>geo</td>\n",
       "      <td>(1000163,5)</td>\n",
       "      <td>0</td>\n",
       "      <td>0.0 %</td>\n",
       "      <td>261831</td>\n",
       "      <td>0.2617883285024541 %</td>\n",
       "    </tr>\n",
       "  </tbody>\n",
       "</table>\n",
       "</div>"
      ],
      "text/plain": [
       "  dataframe (rows, column) Total number of nans percentage of nans  \\\n",
       "0       geo    (1000163,5)                    0              0.0 %   \n",
       "\n",
       "  number of duplicated rows percentage of duplicated rows  \n",
       "0                    261831          0.2617883285024541 %  "
      ]
     },
     "execution_count": 6,
     "metadata": {},
     "output_type": "execute_result"
    }
   ],
   "source": [
    "geo_dict = {'geo': geo}\n",
    "my.dataframe_survey(geo_dict)"
   ]
  },
  {
   "cell_type": "markdown",
   "id": "73ba6a7a",
   "metadata": {},
   "source": [
    "### Remarque:  \n",
    "Nous remarquons qu'il y a des doublons dans ce dataset. Nous allons les supprimer"
   ]
  },
  {
   "cell_type": "code",
   "execution_count": 7,
   "id": "6d9bb894",
   "metadata": {},
   "outputs": [],
   "source": [
    "geo = geo.drop_duplicates()"
   ]
  },
  {
   "cell_type": "code",
   "execution_count": 8,
   "id": "b863e4e4",
   "metadata": {},
   "outputs": [
    {
     "data": {
      "text/plain": [
       "(738332, 5)"
      ]
     },
     "execution_count": 8,
     "metadata": {},
     "output_type": "execute_result"
    }
   ],
   "source": [
    "geo.shape"
   ]
  },
  {
   "cell_type": "code",
   "execution_count": 9,
   "id": "3cdcf9e8",
   "metadata": {},
   "outputs": [
    {
     "data": {
      "text/html": [
       "<div>\n",
       "<style scoped>\n",
       "    .dataframe tbody tr th:only-of-type {\n",
       "        vertical-align: middle;\n",
       "    }\n",
       "\n",
       "    .dataframe tbody tr th {\n",
       "        vertical-align: top;\n",
       "    }\n",
       "\n",
       "    .dataframe thead th {\n",
       "        text-align: right;\n",
       "    }\n",
       "</style>\n",
       "<table border=\"1\" class=\"dataframe\">\n",
       "  <thead>\n",
       "    <tr style=\"text-align: right;\">\n",
       "      <th></th>\n",
       "      <th>dataframe</th>\n",
       "      <th>(rows, column)</th>\n",
       "      <th>Total number of nans</th>\n",
       "      <th>percentage of nans</th>\n",
       "      <th>number of duplicated rows</th>\n",
       "      <th>percentage of duplicated rows</th>\n",
       "    </tr>\n",
       "  </thead>\n",
       "  <tbody>\n",
       "    <tr>\n",
       "      <th>0</th>\n",
       "      <td>geo</td>\n",
       "      <td>(738332,5)</td>\n",
       "      <td>0</td>\n",
       "      <td>0.0 %</td>\n",
       "      <td>0</td>\n",
       "      <td>0.0 %</td>\n",
       "    </tr>\n",
       "  </tbody>\n",
       "</table>\n",
       "</div>"
      ],
      "text/plain": [
       "  dataframe (rows, column) Total number of nans percentage of nans  \\\n",
       "0       geo     (738332,5)                    0              0.0 %   \n",
       "\n",
       "  number of duplicated rows percentage of duplicated rows  \n",
       "0                         0                         0.0 %  "
      ]
     },
     "execution_count": 9,
     "metadata": {},
     "output_type": "execute_result"
    }
   ],
   "source": [
    "geo_dict = {'geo': geo}\n",
    "my.dataframe_survey(geo_dict)"
   ]
  },
  {
   "cell_type": "code",
   "execution_count": 10,
   "id": "c93d52ab",
   "metadata": {},
   "outputs": [
    {
     "data": {
      "image/png": "[encoded data removed]",
      "text/plain": [
       "<Figure size 720x720 with 2 Axes>"
      ]
     },
     "metadata": {
      "needs_background": "light"
     },
     "output_type": "display_data"
    }
   ],
   "source": [
    "geo.plot(kind=\"scatter\", x=\"geolocation_lat\", y=\"geolocation_lng\",\n",
    "         alpha=0.4, c=\"geolocation_zip_code_prefix\",\n",
    "         cmap='nipy_spectral', colorbar=True, figsize=(10, 10))\n",
    "plt.show()"
   ]
  },
  {
   "cell_type": "markdown",
   "id": "6d61aa9c",
   "metadata": {},
   "source": [
    "### Remarque:  \n",
    "Nous remarquons d'après la représentation géographique des zip-codes la présence des valeurs aberrantes. Nous allons les supprimer. "
   ]
  },
  {
   "cell_type": "code",
   "execution_count": 11,
   "id": "39e1784a",
   "metadata": {},
   "outputs": [],
   "source": [
    "geo = geo[geo['geolocation_lat'].between(-35 , 5)]\n",
    "geo = geo[geo['geolocation_lng'].between(-75 , -33)]"
   ]
  },
  {
   "cell_type": "code",
   "execution_count": 12,
   "id": "df26dbdc",
   "metadata": {},
   "outputs": [
    {
     "data": {
      "image/png": "[encoded data removed]",
      "text/plain": [
       "<Figure size 720x720 with 2 Axes>"
      ]
     },
     "metadata": {
      "needs_background": "light"
     },
     "output_type": "display_data"
    }
   ],
   "source": [
    "geo.plot(kind=\"scatter\", x=\"geolocation_lat\", y=\"geolocation_lng\",\n",
    "         alpha=0.4, c=\"geolocation_zip_code_prefix\",\n",
    "         cmap='nipy_spectral', colorbar=True, figsize=(10, 10))\n",
    "plt.show()"
   ]
  },
  {
   "cell_type": "markdown",
   "id": "531be086",
   "metadata": {},
   "source": [
    "## **Sélection des variables utiles**  \n",
    "Je pense qu'il n'y a pas de données utiles par rapport à l'objectif du projet puisque le dataframe \"geo\" décrit principalement les codes postaux brasiliens. Nous décidons donc de ne pas sélectionner ce dataframe pour la suite et donc nous allons pas poursuivre le nettoyage de ses données. "
   ]
  },
  {
   "cell_type": "markdown",
   "id": "9661ce05",
   "metadata": {},
   "source": [
    "## 1.2. Orders / Les commandes  \n"
   ]
  },
  {
   "cell_type": "code",
   "execution_count": 13,
   "id": "5c1bdf11",
   "metadata": {},
   "outputs": [
    {
     "data": {
      "text/html": [
       "<div>\n",
       "<style scoped>\n",
       "    .dataframe tbody tr th:only-of-type {\n",
       "        vertical-align: middle;\n",
       "    }\n",
       "\n",
       "    .dataframe tbody tr th {\n",
       "        vertical-align: top;\n",
       "    }\n",
       "\n",
       "    .dataframe thead th {\n",
       "        text-align: right;\n",
       "    }\n",
       "</style>\n",
       "<table border=\"1\" class=\"dataframe\">\n",
       "  <thead>\n",
       "    <tr style=\"text-align: right;\">\n",
       "      <th></th>\n",
       "      <th>order_id</th>\n",
       "      <th>customer_id</th>\n",
       "      <th>order_status</th>\n",
       "      <th>order_purchase_timestamp</th>\n",
       "      <th>order_approved_at</th>\n",
       "      <th>order_delivered_carrier_date</th>\n",
       "      <th>order_delivered_customer_date</th>\n",
       "      <th>order_estimated_delivery_date</th>\n",
       "    </tr>\n",
       "  </thead>\n",
       "  <tbody>\n",
       "    <tr>\n",
       "      <th>0</th>\n",
       "      <td>e481f51cbdc54678b7cc49136f2d6af7</td>\n",
       "      <td>9ef432eb6251297304e76186b10a928d</td>\n",
       "      <td>delivered</td>\n",
       "      <td>2017-10-02 10:56:33</td>\n",
       "      <td>2017-10-02 11:07:15</td>\n",
       "      <td>2017-10-04 19:55:00</td>\n",
       "      <td>2017-10-10 21:25:13</td>\n",
       "      <td>2017-10-18 00:00:00</td>\n",
       "    </tr>\n",
       "    <tr>\n",
       "      <th>1</th>\n",
       "      <td>53cdb2fc8bc7dce0b6741e2150273451</td>\n",
       "      <td>b0830fb4747a6c6d20dea0b8c802d7ef</td>\n",
       "      <td>delivered</td>\n",
       "      <td>2018-07-24 20:41:37</td>\n",
       "      <td>2018-07-26 03:24:27</td>\n",
       "      <td>2018-07-26 14:31:00</td>\n",
       "      <td>2018-08-07 15:27:45</td>\n",
       "      <td>2018-08-13 00:00:00</td>\n",
       "    </tr>\n",
       "    <tr>\n",
       "      <th>2</th>\n",
       "      <td>47770eb9100c2d0c44946d9cf07ec65d</td>\n",
       "      <td>41ce2a54c0b03bf3443c3d931a367089</td>\n",
       "      <td>delivered</td>\n",
       "      <td>2018-08-08 08:38:49</td>\n",
       "      <td>2018-08-08 08:55:23</td>\n",
       "      <td>2018-08-08 13:50:00</td>\n",
       "      <td>2018-08-17 18:06:29</td>\n",
       "      <td>2018-09-04 00:00:00</td>\n",
       "    </tr>\n",
       "    <tr>\n",
       "      <th>3</th>\n",
       "      <td>949d5b44dbf5de918fe9c16f97b45f8a</td>\n",
       "      <td>f88197465ea7920adcdbec7375364d82</td>\n",
       "      <td>delivered</td>\n",
       "      <td>2017-11-18 19:28:06</td>\n",
       "      <td>2017-11-18 19:45:59</td>\n",
       "      <td>2017-11-22 13:39:59</td>\n",
       "      <td>2017-12-02 00:28:42</td>\n",
       "      <td>2017-12-15 00:00:00</td>\n",
       "    </tr>\n",
       "    <tr>\n",
       "      <th>4</th>\n",
       "      <td>ad21c59c0840e6cb83a9ceb5573f8159</td>\n",
       "      <td>8ab97904e6daea8866dbdbc4fb7aad2c</td>\n",
       "      <td>delivered</td>\n",
       "      <td>2018-02-13 21:18:39</td>\n",
       "      <td>2018-02-13 22:20:29</td>\n",
       "      <td>2018-02-14 19:46:34</td>\n",
       "      <td>2018-02-16 18:17:02</td>\n",
       "      <td>2018-02-26 00:00:00</td>\n",
       "    </tr>\n",
       "  </tbody>\n",
       "</table>\n",
       "</div>"
      ],
      "text/plain": [
       "                           order_id                       customer_id  \\\n",
       "0  e481f51cbdc54678b7cc49136f2d6af7  9ef432eb6251297304e76186b10a928d   \n",
       "1  53cdb2fc8bc7dce0b6741e2150273451  b0830fb4747a6c6d20dea0b8c802d7ef   \n",
       "2  47770eb9100c2d0c44946d9cf07ec65d  41ce2a54c0b03bf3443c3d931a367089   \n",
       "3  949d5b44dbf5de918fe9c16f97b45f8a  f88197465ea7920adcdbec7375364d82   \n",
       "4  ad21c59c0840e6cb83a9ceb5573f8159  8ab97904e6daea8866dbdbc4fb7aad2c   \n",
       "\n",
       "  order_status order_purchase_timestamp    order_approved_at  \\\n",
       "0    delivered      2017-10-02 10:56:33  2017-10-02 11:07:15   \n",
       "1    delivered      2018-07-24 20:41:37  2018-07-26 03:24:27   \n",
       "2    delivered      2018-08-08 08:38:49  2018-08-08 08:55:23   \n",
       "3    delivered      2017-11-18 19:28:06  2017-11-18 19:45:59   \n",
       "4    delivered      2018-02-13 21:18:39  2018-02-13 22:20:29   \n",
       "\n",
       "  order_delivered_carrier_date order_delivered_customer_date  \\\n",
       "0          2017-10-04 19:55:00           2017-10-10 21:25:13   \n",
       "1          2018-07-26 14:31:00           2018-08-07 15:27:45   \n",
       "2          2018-08-08 13:50:00           2018-08-17 18:06:29   \n",
       "3          2017-11-22 13:39:59           2017-12-02 00:28:42   \n",
       "4          2018-02-14 19:46:34           2018-02-16 18:17:02   \n",
       "\n",
       "  order_estimated_delivery_date  \n",
       "0           2017-10-18 00:00:00  \n",
       "1           2018-08-13 00:00:00  \n",
       "2           2018-09-04 00:00:00  \n",
       "3           2017-12-15 00:00:00  \n",
       "4           2018-02-26 00:00:00  "
      ]
     },
     "execution_count": 13,
     "metadata": {},
     "output_type": "execute_result"
    }
   ],
   "source": [
    "orders.head()"
   ]
  },
  {
   "cell_type": "code",
   "execution_count": 14,
   "id": "aef4ba91",
   "metadata": {},
   "outputs": [
    {
     "data": {
      "text/html": [
       "<div>\n",
       "<style scoped>\n",
       "    .dataframe tbody tr th:only-of-type {\n",
       "        vertical-align: middle;\n",
       "    }\n",
       "\n",
       "    .dataframe tbody tr th {\n",
       "        vertical-align: top;\n",
       "    }\n",
       "\n",
       "    .dataframe thead th {\n",
       "        text-align: right;\n",
       "    }\n",
       "</style>\n",
       "<table border=\"1\" class=\"dataframe\">\n",
       "  <thead>\n",
       "    <tr style=\"text-align: right;\">\n",
       "      <th></th>\n",
       "      <th>order_id</th>\n",
       "      <th>customer_id</th>\n",
       "      <th>order_status</th>\n",
       "      <th>order_purchase_timestamp</th>\n",
       "      <th>order_approved_at</th>\n",
       "      <th>order_delivered_carrier_date</th>\n",
       "      <th>order_delivered_customer_date</th>\n",
       "      <th>order_estimated_delivery_date</th>\n",
       "    </tr>\n",
       "  </thead>\n",
       "  <tbody>\n",
       "    <tr>\n",
       "      <th>count</th>\n",
       "      <td>99441</td>\n",
       "      <td>99441</td>\n",
       "      <td>99441</td>\n",
       "      <td>99441</td>\n",
       "      <td>99281</td>\n",
       "      <td>97658</td>\n",
       "      <td>96476</td>\n",
       "      <td>99441</td>\n",
       "    </tr>\n",
       "    <tr>\n",
       "      <th>unique</th>\n",
       "      <td>99441</td>\n",
       "      <td>99441</td>\n",
       "      <td>8</td>\n",
       "      <td>98875</td>\n",
       "      <td>90733</td>\n",
       "      <td>81018</td>\n",
       "      <td>95664</td>\n",
       "      <td>459</td>\n",
       "    </tr>\n",
       "    <tr>\n",
       "      <th>top</th>\n",
       "      <td>91de6d82a66a52cbc3286556438b4705</td>\n",
       "      <td>d26479e3d4ae4515761df4f01cc3cf5b</td>\n",
       "      <td>delivered</td>\n",
       "      <td>2018-06-01 13:39:44</td>\n",
       "      <td>2018-02-27 04:31:10</td>\n",
       "      <td>2018-05-09 15:48:00</td>\n",
       "      <td>2018-05-08 23:38:46</td>\n",
       "      <td>2017-12-20 00:00:00</td>\n",
       "    </tr>\n",
       "    <tr>\n",
       "      <th>freq</th>\n",
       "      <td>1</td>\n",
       "      <td>1</td>\n",
       "      <td>96478</td>\n",
       "      <td>3</td>\n",
       "      <td>9</td>\n",
       "      <td>47</td>\n",
       "      <td>3</td>\n",
       "      <td>522</td>\n",
       "    </tr>\n",
       "  </tbody>\n",
       "</table>\n",
       "</div>"
      ],
      "text/plain": [
       "                                order_id                       customer_id  \\\n",
       "count                              99441                             99441   \n",
       "unique                             99441                             99441   \n",
       "top     91de6d82a66a52cbc3286556438b4705  d26479e3d4ae4515761df4f01cc3cf5b   \n",
       "freq                                   1                                 1   \n",
       "\n",
       "       order_status order_purchase_timestamp    order_approved_at  \\\n",
       "count         99441                    99441                99281   \n",
       "unique            8                    98875                90733   \n",
       "top       delivered      2018-06-01 13:39:44  2018-02-27 04:31:10   \n",
       "freq          96478                        3                    9   \n",
       "\n",
       "       order_delivered_carrier_date order_delivered_customer_date  \\\n",
       "count                         97658                         96476   \n",
       "unique                        81018                         95664   \n",
       "top             2018-05-09 15:48:00           2018-05-08 23:38:46   \n",
       "freq                             47                             3   \n",
       "\n",
       "       order_estimated_delivery_date  \n",
       "count                          99441  \n",
       "unique                           459  \n",
       "top              2017-12-20 00:00:00  \n",
       "freq                             522  "
      ]
     },
     "execution_count": 14,
     "metadata": {},
     "output_type": "execute_result"
    }
   ],
   "source": [
    "#description des données\n",
    "orders.describe()"
   ]
  },
  {
   "cell_type": "code",
   "execution_count": 15,
   "id": "1bc9bd48",
   "metadata": {},
   "outputs": [
    {
     "data": {
      "text/html": [
       "<div>\n",
       "<style scoped>\n",
       "    .dataframe tbody tr th:only-of-type {\n",
       "        vertical-align: middle;\n",
       "    }\n",
       "\n",
       "    .dataframe tbody tr th {\n",
       "        vertical-align: top;\n",
       "    }\n",
       "\n",
       "    .dataframe thead th {\n",
       "        text-align: right;\n",
       "    }\n",
       "</style>\n",
       "<table border=\"1\" class=\"dataframe\">\n",
       "  <thead>\n",
       "    <tr style=\"text-align: right;\">\n",
       "      <th></th>\n",
       "      <th>dataframe</th>\n",
       "      <th>(rows, column)</th>\n",
       "      <th>Total number of nans</th>\n",
       "      <th>percentage of nans</th>\n",
       "      <th>number of duplicated rows</th>\n",
       "      <th>percentage of duplicated rows</th>\n",
       "    </tr>\n",
       "  </thead>\n",
       "  <tbody>\n",
       "    <tr>\n",
       "      <th>0</th>\n",
       "      <td>orders</td>\n",
       "      <td>(99441,8)</td>\n",
       "      <td>4908</td>\n",
       "      <td>0.62 %</td>\n",
       "      <td>0</td>\n",
       "      <td>0.0 %</td>\n",
       "    </tr>\n",
       "  </tbody>\n",
       "</table>\n",
       "</div>"
      ],
      "text/plain": [
       "  dataframe (rows, column) Total number of nans percentage of nans  \\\n",
       "0    orders      (99441,8)                 4908             0.62 %   \n",
       "\n",
       "  number of duplicated rows percentage of duplicated rows  \n",
       "0                         0                         0.0 %  "
      ]
     },
     "execution_count": 15,
     "metadata": {},
     "output_type": "execute_result"
    }
   ],
   "source": [
    "orders_dict = {'orders' :orders}\n",
    "my.dataframe_survey(orders_dict)"
   ]
  },
  {
   "cell_type": "code",
   "execution_count": 16,
   "id": "3a0d3573",
   "metadata": {},
   "outputs": [
    {
     "data": {
      "text/html": [
       "<div>\n",
       "<style scoped>\n",
       "    .dataframe tbody tr th:only-of-type {\n",
       "        vertical-align: middle;\n",
       "    }\n",
       "\n",
       "    .dataframe tbody tr th {\n",
       "        vertical-align: top;\n",
       "    }\n",
       "\n",
       "    .dataframe thead th {\n",
       "        text-align: right;\n",
       "    }\n",
       "</style>\n",
       "<table border=\"1\" class=\"dataframe\">\n",
       "  <thead>\n",
       "    <tr style=\"text-align: right;\">\n",
       "      <th></th>\n",
       "      <th>variable name</th>\n",
       "      <th>variable type</th>\n",
       "      <th>nbr of distinct values</th>\n",
       "      <th>percentage of NaNs</th>\n",
       "    </tr>\n",
       "  </thead>\n",
       "  <tbody>\n",
       "    <tr>\n",
       "      <th>0</th>\n",
       "      <td>order_id</td>\n",
       "      <td>object</td>\n",
       "      <td>99441</td>\n",
       "      <td>0.0 %</td>\n",
       "    </tr>\n",
       "    <tr>\n",
       "      <th>1</th>\n",
       "      <td>customer_id</td>\n",
       "      <td>object</td>\n",
       "      <td>99441</td>\n",
       "      <td>0.0 %</td>\n",
       "    </tr>\n",
       "    <tr>\n",
       "      <th>2</th>\n",
       "      <td>order_status</td>\n",
       "      <td>object</td>\n",
       "      <td>8</td>\n",
       "      <td>0.0 %</td>\n",
       "    </tr>\n",
       "    <tr>\n",
       "      <th>3</th>\n",
       "      <td>order_purchase_timestamp</td>\n",
       "      <td>object</td>\n",
       "      <td>98875</td>\n",
       "      <td>0.0 %</td>\n",
       "    </tr>\n",
       "    <tr>\n",
       "      <th>4</th>\n",
       "      <td>order_approved_at</td>\n",
       "      <td>object</td>\n",
       "      <td>90733</td>\n",
       "      <td>0.16 %</td>\n",
       "    </tr>\n",
       "    <tr>\n",
       "      <th>5</th>\n",
       "      <td>order_delivered_carrier_date</td>\n",
       "      <td>object</td>\n",
       "      <td>81018</td>\n",
       "      <td>1.79 %</td>\n",
       "    </tr>\n",
       "    <tr>\n",
       "      <th>6</th>\n",
       "      <td>order_delivered_customer_date</td>\n",
       "      <td>object</td>\n",
       "      <td>95664</td>\n",
       "      <td>2.98 %</td>\n",
       "    </tr>\n",
       "    <tr>\n",
       "      <th>7</th>\n",
       "      <td>order_estimated_delivery_date</td>\n",
       "      <td>object</td>\n",
       "      <td>459</td>\n",
       "      <td>0.0 %</td>\n",
       "    </tr>\n",
       "  </tbody>\n",
       "</table>\n",
       "</div>"
      ],
      "text/plain": [
       "                   variable name variable type nbr of distinct values  \\\n",
       "0                       order_id        object                  99441   \n",
       "1                    customer_id        object                  99441   \n",
       "2                   order_status        object                      8   \n",
       "3       order_purchase_timestamp        object                  98875   \n",
       "4              order_approved_at        object                  90733   \n",
       "5   order_delivered_carrier_date        object                  81018   \n",
       "6  order_delivered_customer_date        object                  95664   \n",
       "7  order_estimated_delivery_date        object                    459   \n",
       "\n",
       "  percentage of NaNs  \n",
       "0              0.0 %  \n",
       "1              0.0 %  \n",
       "2              0.0 %  \n",
       "3              0.0 %  \n",
       "4             0.16 %  \n",
       "5             1.79 %  \n",
       "6             2.98 %  \n",
       "7              0.0 %  "
      ]
     },
     "execution_count": 16,
     "metadata": {},
     "output_type": "execute_result"
    }
   ],
   "source": [
    "my.variable_survey(orders)"
   ]
  },
  {
   "cell_type": "code",
   "execution_count": 17,
   "id": "6ff81094",
   "metadata": {},
   "outputs": [
    {
     "data": {
      "image/png": "[encoded data removed]",
      "text/plain": [
       "<Figure size 1440x432 with 1 Axes>"
      ]
     },
     "metadata": {
      "needs_background": "light"
     },
     "output_type": "display_data"
    }
   ],
   "source": [
    "my.nans_df(orders)"
   ]
  },
  {
   "cell_type": "markdown",
   "id": "bba6d201",
   "metadata": {},
   "source": [
    "Nous allons essayer de comprendre les données manquantes :  \n",
    "- Dans ce dataset, il y a toute information qui concerne la commande.\n",
    "- Il y a plusieurs données sur les dates:  \n",
    "   - order_purchase_timestamp: horodatage de l'achat de la commande\n",
    "   - order_estimated_delivery_date : date estimé pour la livraison\n",
    "   - order_approved_at : indique quand la commande est approuvée. Puisqu'il y a des données manquantes, nous mettons comme hypothèse que la commande est approuvée après peux de temps de la date d'achat. Si cette hypothèse est vérifiée, nous allons remplacer les valeurs manquantes par la order_purchase_timestamp.  \n",
    "   - order_delivered_carrier_date: date de livraison de la commande au partenaire logistique\n",
    "   - order_delivered_customer_date: date actuelle de livraison au client  \n",
    "   \n",
    "Ce qui nous interesse dans ces données, afin d'extraire le RFM, c'est orderID, custumerID, order_purchase_timestamp. "
   ]
  },
  {
   "cell_type": "code",
   "execution_count": 18,
   "id": "36443560",
   "metadata": {
    "scrolled": true
   },
   "outputs": [],
   "source": [
    "#conversion des données date de object vers datetime\n",
    "orders['order_purchase_timestamp'] = pd.to_datetime(orders['order_purchase_timestamp'])\n",
    "orders['order_approved_at'] = pd.to_datetime(orders['order_approved_at'])\n",
    "orders['order_delivered_carrier_date'] = pd.to_datetime(orders['order_delivered_carrier_date'])\n",
    "orders['order_delivered_customer_date'] = pd.to_datetime(orders['order_delivered_customer_date'])\n",
    "orders['order_estimated_delivery_date'] = pd.to_datetime(orders['order_estimated_delivery_date'])"
   ]
  },
  {
   "cell_type": "code",
   "execution_count": 19,
   "id": "fe516ac0",
   "metadata": {},
   "outputs": [
    {
     "data": {
      "text/plain": [
       "array(['delivered', 'invoiced', 'shipped', 'processing', 'unavailable',\n",
       "       'canceled', 'created', 'approved'], dtype=object)"
      ]
     },
     "execution_count": 19,
     "metadata": {},
     "output_type": "execute_result"
    }
   ],
   "source": [
    "#vérifions les différents status des commandes\n",
    "orders['order_status'].unique()"
   ]
  },
  {
   "cell_type": "code",
   "execution_count": 20,
   "id": "425269c7",
   "metadata": {},
   "outputs": [
    {
     "data": {
      "text/plain": [
       "delivered      0.970203\n",
       "shipped        0.011132\n",
       "canceled       0.006285\n",
       "unavailable    0.006124\n",
       "invoiced       0.003158\n",
       "processing     0.003027\n",
       "created        0.000050\n",
       "approved       0.000020\n",
       "Name: order_status, dtype: float64"
      ]
     },
     "execution_count": 20,
     "metadata": {},
     "output_type": "execute_result"
    }
   ],
   "source": [
    "orders['order_status'].value_counts(normalize=True)"
   ]
  },
  {
   "cell_type": "code",
   "execution_count": 21,
   "id": "81eae305",
   "metadata": {},
   "outputs": [
    {
     "data": {
      "text/plain": [
       "<AxesSubplot:ylabel='order_status'>"
      ]
     },
     "execution_count": 21,
     "metadata": {},
     "output_type": "execute_result"
    },
    {
     "data": {
      "image/png": "[encoded data removed]",
      "text/plain": [
       "<Figure size 864x720 with 1 Axes>"
      ]
     },
     "metadata": {},
     "output_type": "display_data"
    }
   ],
   "source": [
    "plt.figure(figsize=(12,10))\n",
    "orders['order_status'].value_counts(normalize=True).plot.pie(autopct=\"%1.1f%%\")"
   ]
  },
  {
   "cell_type": "code",
   "execution_count": 22,
   "id": "479b4f12",
   "metadata": {},
   "outputs": [],
   "source": [
    "#Nous allons supprimer les commandes annulées\n",
    "orders = orders[orders.order_status != 'canceled'] "
   ]
  },
  {
   "cell_type": "code",
   "execution_count": 23,
   "id": "e1c42c7c",
   "metadata": {},
   "outputs": [
    {
     "data": {
      "text/plain": [
       "delivered      0.976340\n",
       "shipped        0.011203\n",
       "unavailable    0.006163\n",
       "invoiced       0.003178\n",
       "processing     0.003046\n",
       "created        0.000051\n",
       "approved       0.000020\n",
       "Name: order_status, dtype: float64"
      ]
     },
     "execution_count": 23,
     "metadata": {},
     "output_type": "execute_result"
    }
   ],
   "source": [
    "#verifier qu'on a bien supprimé les commandes annulées\n",
    "orders['order_status'].value_counts(normalize=True)"
   ]
  },
  {
   "cell_type": "markdown",
   "id": "b1e77fa7",
   "metadata": {},
   "source": [
    "## **Sélection des variables utiles**    \n",
    "Pour ce dataframe, nous allons garder les variables orderID, custumerID, order_purchase_timestamp. Nous allons renommer la variable 'order_purchase_timestamp' afin de simplifier son appel. "
   ]
  },
  {
   "cell_type": "code",
   "execution_count": 24,
   "id": "5b084883",
   "metadata": {},
   "outputs": [
    {
     "data": {
      "text/plain": [
       "Index(['order_id', 'customer_id', 'order_purchase_timestamp'], dtype='object')"
      ]
     },
     "execution_count": 24,
     "metadata": {},
     "output_type": "execute_result"
    }
   ],
   "source": [
    "orders_df = orders[['order_id','customer_id', 'order_purchase_timestamp']]\n",
    "orders_df.columns"
   ]
  },
  {
   "cell_type": "code",
   "execution_count": 25,
   "id": "69dd72e3",
   "metadata": {},
   "outputs": [],
   "source": [
    "#renommer 'order_purchase_timestamp'\n",
    "orders_df = orders_df.rename(columns={\"order_purchase_timestamp\": \"order_date\"})"
   ]
  },
  {
   "cell_type": "markdown",
   "id": "951c6219",
   "metadata": {},
   "source": [
    "## 1.3. products/ produits"
   ]
  },
  {
   "cell_type": "code",
   "execution_count": 26,
   "id": "0bb62c22",
   "metadata": {},
   "outputs": [
    {
     "data": {
      "text/html": [
       "<div>\n",
       "<style scoped>\n",
       "    .dataframe tbody tr th:only-of-type {\n",
       "        vertical-align: middle;\n",
       "    }\n",
       "\n",
       "    .dataframe tbody tr th {\n",
       "        vertical-align: top;\n",
       "    }\n",
       "\n",
       "    .dataframe thead th {\n",
       "        text-align: right;\n",
       "    }\n",
       "</style>\n",
       "<table border=\"1\" class=\"dataframe\">\n",
       "  <thead>\n",
       "    <tr style=\"text-align: right;\">\n",
       "      <th></th>\n",
       "      <th>dataframe</th>\n",
       "      <th>(rows, column)</th>\n",
       "      <th>Total number of nans</th>\n",
       "      <th>percentage of nans</th>\n",
       "      <th>number of duplicated rows</th>\n",
       "      <th>percentage of duplicated rows</th>\n",
       "    </tr>\n",
       "  </thead>\n",
       "  <tbody>\n",
       "    <tr>\n",
       "      <th>0</th>\n",
       "      <td>products</td>\n",
       "      <td>(32951,9)</td>\n",
       "      <td>2448</td>\n",
       "      <td>0.83 %</td>\n",
       "      <td>0</td>\n",
       "      <td>0.0 %</td>\n",
       "    </tr>\n",
       "  </tbody>\n",
       "</table>\n",
       "</div>"
      ],
      "text/plain": [
       "  dataframe (rows, column) Total number of nans percentage of nans  \\\n",
       "0  products      (32951,9)                 2448             0.83 %   \n",
       "\n",
       "  number of duplicated rows percentage of duplicated rows  \n",
       "0                         0                         0.0 %  "
      ]
     },
     "execution_count": 26,
     "metadata": {},
     "output_type": "execute_result"
    }
   ],
   "source": [
    "product_dict = {'products': products}\n",
    "my.dataframe_survey(product_dict)"
   ]
  },
  {
   "cell_type": "markdown",
   "id": "fafaa1a5",
   "metadata": {},
   "source": [
    "--> Nous avons 32951 produits uniques"
   ]
  },
  {
   "cell_type": "code",
   "execution_count": 27,
   "id": "79d4229e",
   "metadata": {},
   "outputs": [
    {
     "data": {
      "text/html": [
       "<div>\n",
       "<style scoped>\n",
       "    .dataframe tbody tr th:only-of-type {\n",
       "        vertical-align: middle;\n",
       "    }\n",
       "\n",
       "    .dataframe tbody tr th {\n",
       "        vertical-align: top;\n",
       "    }\n",
       "\n",
       "    .dataframe thead th {\n",
       "        text-align: right;\n",
       "    }\n",
       "</style>\n",
       "<table border=\"1\" class=\"dataframe\">\n",
       "  <thead>\n",
       "    <tr style=\"text-align: right;\">\n",
       "      <th></th>\n",
       "      <th>variable name</th>\n",
       "      <th>variable type</th>\n",
       "      <th>nbr of distinct values</th>\n",
       "      <th>percentage of NaNs</th>\n",
       "    </tr>\n",
       "  </thead>\n",
       "  <tbody>\n",
       "    <tr>\n",
       "      <th>0</th>\n",
       "      <td>product_id</td>\n",
       "      <td>object</td>\n",
       "      <td>32951</td>\n",
       "      <td>0.0 %</td>\n",
       "    </tr>\n",
       "    <tr>\n",
       "      <th>1</th>\n",
       "      <td>product_category_name</td>\n",
       "      <td>object</td>\n",
       "      <td>73</td>\n",
       "      <td>1.85 %</td>\n",
       "    </tr>\n",
       "    <tr>\n",
       "      <th>2</th>\n",
       "      <td>product_name_lenght</td>\n",
       "      <td>float64</td>\n",
       "      <td>66</td>\n",
       "      <td>1.85 %</td>\n",
       "    </tr>\n",
       "    <tr>\n",
       "      <th>3</th>\n",
       "      <td>product_description_lenght</td>\n",
       "      <td>float64</td>\n",
       "      <td>2960</td>\n",
       "      <td>1.85 %</td>\n",
       "    </tr>\n",
       "    <tr>\n",
       "      <th>4</th>\n",
       "      <td>product_photos_qty</td>\n",
       "      <td>float64</td>\n",
       "      <td>19</td>\n",
       "      <td>1.85 %</td>\n",
       "    </tr>\n",
       "    <tr>\n",
       "      <th>5</th>\n",
       "      <td>product_weight_g</td>\n",
       "      <td>float64</td>\n",
       "      <td>2204</td>\n",
       "      <td>0.01 %</td>\n",
       "    </tr>\n",
       "    <tr>\n",
       "      <th>6</th>\n",
       "      <td>product_length_cm</td>\n",
       "      <td>float64</td>\n",
       "      <td>99</td>\n",
       "      <td>0.01 %</td>\n",
       "    </tr>\n",
       "    <tr>\n",
       "      <th>7</th>\n",
       "      <td>product_height_cm</td>\n",
       "      <td>float64</td>\n",
       "      <td>102</td>\n",
       "      <td>0.01 %</td>\n",
       "    </tr>\n",
       "    <tr>\n",
       "      <th>8</th>\n",
       "      <td>product_width_cm</td>\n",
       "      <td>float64</td>\n",
       "      <td>95</td>\n",
       "      <td>0.01 %</td>\n",
       "    </tr>\n",
       "  </tbody>\n",
       "</table>\n",
       "</div>"
      ],
      "text/plain": [
       "                variable name variable type nbr of distinct values  \\\n",
       "0                  product_id        object                  32951   \n",
       "1       product_category_name        object                     73   \n",
       "2         product_name_lenght       float64                     66   \n",
       "3  product_description_lenght       float64                   2960   \n",
       "4          product_photos_qty       float64                     19   \n",
       "5            product_weight_g       float64                   2204   \n",
       "6           product_length_cm       float64                     99   \n",
       "7           product_height_cm       float64                    102   \n",
       "8            product_width_cm       float64                     95   \n",
       "\n",
       "  percentage of NaNs  \n",
       "0              0.0 %  \n",
       "1             1.85 %  \n",
       "2             1.85 %  \n",
       "3             1.85 %  \n",
       "4             1.85 %  \n",
       "5             0.01 %  \n",
       "6             0.01 %  \n",
       "7             0.01 %  \n",
       "8             0.01 %  "
      ]
     },
     "execution_count": 27,
     "metadata": {},
     "output_type": "execute_result"
    }
   ],
   "source": [
    "my.variable_survey(products)"
   ]
  },
  {
   "cell_type": "code",
   "execution_count": 28,
   "id": "7bb57ff2",
   "metadata": {},
   "outputs": [
    {
     "data": {
      "text/html": [
       "<div>\n",
       "<style scoped>\n",
       "    .dataframe tbody tr th:only-of-type {\n",
       "        vertical-align: middle;\n",
       "    }\n",
       "\n",
       "    .dataframe tbody tr th {\n",
       "        vertical-align: top;\n",
       "    }\n",
       "\n",
       "    .dataframe thead th {\n",
       "        text-align: right;\n",
       "    }\n",
       "</style>\n",
       "<table border=\"1\" class=\"dataframe\">\n",
       "  <thead>\n",
       "    <tr style=\"text-align: right;\">\n",
       "      <th></th>\n",
       "      <th>product_id</th>\n",
       "      <th>product_category_name</th>\n",
       "      <th>product_name_lenght</th>\n",
       "      <th>product_description_lenght</th>\n",
       "      <th>product_photos_qty</th>\n",
       "      <th>product_weight_g</th>\n",
       "      <th>product_length_cm</th>\n",
       "      <th>product_height_cm</th>\n",
       "      <th>product_width_cm</th>\n",
       "    </tr>\n",
       "  </thead>\n",
       "  <tbody>\n",
       "    <tr>\n",
       "      <th>0</th>\n",
       "      <td>1e9e8ef04dbcff4541ed26657ea517e5</td>\n",
       "      <td>perfumaria</td>\n",
       "      <td>40.0</td>\n",
       "      <td>287.0</td>\n",
       "      <td>1.0</td>\n",
       "      <td>225.0</td>\n",
       "      <td>16.0</td>\n",
       "      <td>10.0</td>\n",
       "      <td>14.0</td>\n",
       "    </tr>\n",
       "    <tr>\n",
       "      <th>1</th>\n",
       "      <td>3aa071139cb16b67ca9e5dea641aaa2f</td>\n",
       "      <td>artes</td>\n",
       "      <td>44.0</td>\n",
       "      <td>276.0</td>\n",
       "      <td>1.0</td>\n",
       "      <td>1000.0</td>\n",
       "      <td>30.0</td>\n",
       "      <td>18.0</td>\n",
       "      <td>20.0</td>\n",
       "    </tr>\n",
       "    <tr>\n",
       "      <th>2</th>\n",
       "      <td>96bd76ec8810374ed1b65e291975717f</td>\n",
       "      <td>esporte_lazer</td>\n",
       "      <td>46.0</td>\n",
       "      <td>250.0</td>\n",
       "      <td>1.0</td>\n",
       "      <td>154.0</td>\n",
       "      <td>18.0</td>\n",
       "      <td>9.0</td>\n",
       "      <td>15.0</td>\n",
       "    </tr>\n",
       "    <tr>\n",
       "      <th>3</th>\n",
       "      <td>cef67bcfe19066a932b7673e239eb23d</td>\n",
       "      <td>bebes</td>\n",
       "      <td>27.0</td>\n",
       "      <td>261.0</td>\n",
       "      <td>1.0</td>\n",
       "      <td>371.0</td>\n",
       "      <td>26.0</td>\n",
       "      <td>4.0</td>\n",
       "      <td>26.0</td>\n",
       "    </tr>\n",
       "    <tr>\n",
       "      <th>4</th>\n",
       "      <td>9dc1a7de274444849c219cff195d0b71</td>\n",
       "      <td>utilidades_domesticas</td>\n",
       "      <td>37.0</td>\n",
       "      <td>402.0</td>\n",
       "      <td>4.0</td>\n",
       "      <td>625.0</td>\n",
       "      <td>20.0</td>\n",
       "      <td>17.0</td>\n",
       "      <td>13.0</td>\n",
       "    </tr>\n",
       "  </tbody>\n",
       "</table>\n",
       "</div>"
      ],
      "text/plain": [
       "                         product_id  product_category_name  \\\n",
       "0  1e9e8ef04dbcff4541ed26657ea517e5             perfumaria   \n",
       "1  3aa071139cb16b67ca9e5dea641aaa2f                  artes   \n",
       "2  96bd76ec8810374ed1b65e291975717f          esporte_lazer   \n",
       "3  cef67bcfe19066a932b7673e239eb23d                  bebes   \n",
       "4  9dc1a7de274444849c219cff195d0b71  utilidades_domesticas   \n",
       "\n",
       "   product_name_lenght  product_description_lenght  product_photos_qty  \\\n",
       "0                 40.0                       287.0                 1.0   \n",
       "1                 44.0                       276.0                 1.0   \n",
       "2                 46.0                       250.0                 1.0   \n",
       "3                 27.0                       261.0                 1.0   \n",
       "4                 37.0                       402.0                 4.0   \n",
       "\n",
       "   product_weight_g  product_length_cm  product_height_cm  product_width_cm  \n",
       "0             225.0               16.0               10.0              14.0  \n",
       "1            1000.0               30.0               18.0              20.0  \n",
       "2             154.0               18.0                9.0              15.0  \n",
       "3             371.0               26.0                4.0              26.0  \n",
       "4             625.0               20.0               17.0              13.0  "
      ]
     },
     "execution_count": 28,
     "metadata": {},
     "output_type": "execute_result"
    }
   ],
   "source": [
    "products.head()"
   ]
  },
  {
   "cell_type": "markdown",
   "id": "c8285f9c",
   "metadata": {},
   "source": [
    "La table olist_products_dataset contient les variables suivantes :\n",
    "\n",
    "    product_id: identifiant du produit\n",
    "    product_category_name: nom du categorie du produit\n",
    "    product_name_lenght: nombre de carectères du nom du produit\n",
    "    product_description_lenght: nombre de carectères dans la description du produit\n",
    "    product_photos_qty: nombre de photos publiées décrivant le produit\n",
    "    product_weight_g: le poids du produit en gramme\n",
    "    product_length_cm: longueur du produit en cm\n",
    "    product_height_cm: hauteur du produit en cm\n",
    "    product_width_cm: largeur du produit en cm."
   ]
  },
  {
   "cell_type": "code",
   "execution_count": 29,
   "id": "223aa2ed",
   "metadata": {},
   "outputs": [
    {
     "name": "stdout",
     "output_type": "stream",
     "text": [
      "Le nombre de catégories est : 73\n"
     ]
    }
   ],
   "source": [
    "#Nombre de produits uniques\n",
    "print(\"Le nombre de catégories est : {}\".format(products[\"product_category_name\"].nunique()))"
   ]
  },
  {
   "cell_type": "code",
   "execution_count": 30,
   "id": "992aaa89",
   "metadata": {},
   "outputs": [
    {
     "data": {
      "text/plain": [
       "array(['perfumaria', 'artes', 'esporte_lazer', 'bebes',\n",
       "       'utilidades_domesticas', 'instrumentos_musicais', 'cool_stuff',\n",
       "       'moveis_decoracao', 'eletrodomesticos', 'brinquedos',\n",
       "       'cama_mesa_banho', 'construcao_ferramentas_seguranca',\n",
       "       'informatica_acessorios', 'beleza_saude', 'malas_acessorios',\n",
       "       'ferramentas_jardim', 'moveis_escritorio', 'automotivo',\n",
       "       'eletronicos', 'fashion_calcados', 'telefonia', 'papelaria',\n",
       "       'fashion_bolsas_e_acessorios', 'pcs', 'casa_construcao',\n",
       "       'relogios_presentes', 'construcao_ferramentas_construcao',\n",
       "       'pet_shop', 'eletroportateis', 'agro_industria_e_comercio', nan,\n",
       "       'moveis_sala', 'sinalizacao_e_seguranca', 'climatizacao',\n",
       "       'consoles_games', 'livros_interesse_geral',\n",
       "       'construcao_ferramentas_ferramentas',\n",
       "       'fashion_underwear_e_moda_praia', 'fashion_roupa_masculina',\n",
       "       'moveis_cozinha_area_de_servico_jantar_e_jardim',\n",
       "       'industria_comercio_e_negocios', 'telefonia_fixa',\n",
       "       'construcao_ferramentas_iluminacao', 'livros_tecnicos',\n",
       "       'eletrodomesticos_2', 'artigos_de_festas', 'bebidas',\n",
       "       'market_place', 'la_cuisine', 'construcao_ferramentas_jardim',\n",
       "       'fashion_roupa_feminina', 'casa_conforto', 'audio',\n",
       "       'alimentos_bebidas', 'musica', 'alimentos',\n",
       "       'tablets_impressao_imagem', 'livros_importados',\n",
       "       'portateis_casa_forno_e_cafe', 'fashion_esporte',\n",
       "       'artigos_de_natal', 'fashion_roupa_infanto_juvenil',\n",
       "       'dvds_blu_ray', 'artes_e_artesanato', 'pc_gamer', 'moveis_quarto',\n",
       "       'cine_foto', 'fraldas_higiene', 'flores', 'casa_conforto_2',\n",
       "       'portateis_cozinha_e_preparadores_de_alimentos',\n",
       "       'seguros_e_servicos', 'moveis_colchao_e_estofado',\n",
       "       'cds_dvds_musicais'], dtype=object)"
      ]
     },
     "execution_count": 30,
     "metadata": {},
     "output_type": "execute_result"
    }
   ],
   "source": [
    "products[\"product_category_name\"].unique()"
   ]
  },
  {
   "cell_type": "markdown",
   "id": "a0d82245",
   "metadata": {},
   "source": [
    "Nous remarquons que le nom des catégories est en portugais. Nous allons voir si dans les autres dataframes il est mentionné ces nom en anglais ou en français. Ceci sera interessant afin de mieux les comprendre et créer des superclasses.  \n",
    "\n",
    "## **Sélection des variables utiles**     \n",
    "\n",
    "Pour le moment, nous allons garder, pour ce dataframe, les variables: product_id et product_category_name"
   ]
  },
  {
   "cell_type": "code",
   "execution_count": 31,
   "id": "8a8de9ea",
   "metadata": {},
   "outputs": [],
   "source": [
    "products_df = products[['product_id','product_category_name']]"
   ]
  },
  {
   "cell_type": "markdown",
   "id": "bde93755",
   "metadata": {},
   "source": [
    "## 1.4. Sellers/ les vendeurs"
   ]
  },
  {
   "cell_type": "code",
   "execution_count": 32,
   "id": "a1d3bfe3",
   "metadata": {},
   "outputs": [
    {
     "data": {
      "text/html": [
       "<div>\n",
       "<style scoped>\n",
       "    .dataframe tbody tr th:only-of-type {\n",
       "        vertical-align: middle;\n",
       "    }\n",
       "\n",
       "    .dataframe tbody tr th {\n",
       "        vertical-align: top;\n",
       "    }\n",
       "\n",
       "    .dataframe thead th {\n",
       "        text-align: right;\n",
       "    }\n",
       "</style>\n",
       "<table border=\"1\" class=\"dataframe\">\n",
       "  <thead>\n",
       "    <tr style=\"text-align: right;\">\n",
       "      <th></th>\n",
       "      <th>dataframe</th>\n",
       "      <th>(rows, column)</th>\n",
       "      <th>Total number of nans</th>\n",
       "      <th>percentage of nans</th>\n",
       "      <th>number of duplicated rows</th>\n",
       "      <th>percentage of duplicated rows</th>\n",
       "    </tr>\n",
       "  </thead>\n",
       "  <tbody>\n",
       "    <tr>\n",
       "      <th>0</th>\n",
       "      <td>sellers</td>\n",
       "      <td>(3095,4)</td>\n",
       "      <td>0</td>\n",
       "      <td>0.0 %</td>\n",
       "      <td>0</td>\n",
       "      <td>0.0 %</td>\n",
       "    </tr>\n",
       "  </tbody>\n",
       "</table>\n",
       "</div>"
      ],
      "text/plain": [
       "  dataframe (rows, column) Total number of nans percentage of nans  \\\n",
       "0   sellers       (3095,4)                    0              0.0 %   \n",
       "\n",
       "  number of duplicated rows percentage of duplicated rows  \n",
       "0                         0                         0.0 %  "
      ]
     },
     "execution_count": 32,
     "metadata": {},
     "output_type": "execute_result"
    }
   ],
   "source": [
    "sellers_dict = {'sellers':sellers}\n",
    "my.dataframe_survey(sellers_dict)"
   ]
  },
  {
   "cell_type": "markdown",
   "id": "047aa775",
   "metadata": {},
   "source": [
    "--> Nous avons 3095 vendeurs uniques"
   ]
  },
  {
   "cell_type": "code",
   "execution_count": 33,
   "id": "9eeed4db",
   "metadata": {},
   "outputs": [
    {
     "data": {
      "text/html": [
       "<div>\n",
       "<style scoped>\n",
       "    .dataframe tbody tr th:only-of-type {\n",
       "        vertical-align: middle;\n",
       "    }\n",
       "\n",
       "    .dataframe tbody tr th {\n",
       "        vertical-align: top;\n",
       "    }\n",
       "\n",
       "    .dataframe thead th {\n",
       "        text-align: right;\n",
       "    }\n",
       "</style>\n",
       "<table border=\"1\" class=\"dataframe\">\n",
       "  <thead>\n",
       "    <tr style=\"text-align: right;\">\n",
       "      <th></th>\n",
       "      <th>variable name</th>\n",
       "      <th>variable type</th>\n",
       "      <th>nbr of distinct values</th>\n",
       "      <th>percentage of NaNs</th>\n",
       "    </tr>\n",
       "  </thead>\n",
       "  <tbody>\n",
       "    <tr>\n",
       "      <th>0</th>\n",
       "      <td>seller_id</td>\n",
       "      <td>object</td>\n",
       "      <td>3095</td>\n",
       "      <td>0.0 %</td>\n",
       "    </tr>\n",
       "    <tr>\n",
       "      <th>1</th>\n",
       "      <td>seller_zip_code_prefix</td>\n",
       "      <td>int64</td>\n",
       "      <td>2246</td>\n",
       "      <td>0.0 %</td>\n",
       "    </tr>\n",
       "    <tr>\n",
       "      <th>2</th>\n",
       "      <td>seller_city</td>\n",
       "      <td>object</td>\n",
       "      <td>611</td>\n",
       "      <td>0.0 %</td>\n",
       "    </tr>\n",
       "    <tr>\n",
       "      <th>3</th>\n",
       "      <td>seller_state</td>\n",
       "      <td>object</td>\n",
       "      <td>23</td>\n",
       "      <td>0.0 %</td>\n",
       "    </tr>\n",
       "  </tbody>\n",
       "</table>\n",
       "</div>"
      ],
      "text/plain": [
       "            variable name variable type nbr of distinct values  \\\n",
       "0               seller_id        object                   3095   \n",
       "1  seller_zip_code_prefix         int64                   2246   \n",
       "2             seller_city        object                    611   \n",
       "3            seller_state        object                     23   \n",
       "\n",
       "  percentage of NaNs  \n",
       "0              0.0 %  \n",
       "1              0.0 %  \n",
       "2              0.0 %  \n",
       "3              0.0 %  "
      ]
     },
     "execution_count": 33,
     "metadata": {},
     "output_type": "execute_result"
    }
   ],
   "source": [
    "my.variable_survey(sellers)"
   ]
  },
  {
   "cell_type": "code",
   "execution_count": 34,
   "id": "8c303db7",
   "metadata": {},
   "outputs": [
    {
     "data": {
      "text/html": [
       "<div>\n",
       "<style scoped>\n",
       "    .dataframe tbody tr th:only-of-type {\n",
       "        vertical-align: middle;\n",
       "    }\n",
       "\n",
       "    .dataframe tbody tr th {\n",
       "        vertical-align: top;\n",
       "    }\n",
       "\n",
       "    .dataframe thead th {\n",
       "        text-align: right;\n",
       "    }\n",
       "</style>\n",
       "<table border=\"1\" class=\"dataframe\">\n",
       "  <thead>\n",
       "    <tr style=\"text-align: right;\">\n",
       "      <th></th>\n",
       "      <th>seller_id</th>\n",
       "      <th>seller_zip_code_prefix</th>\n",
       "      <th>seller_city</th>\n",
       "      <th>seller_state</th>\n",
       "    </tr>\n",
       "  </thead>\n",
       "  <tbody>\n",
       "    <tr>\n",
       "      <th>0</th>\n",
       "      <td>3442f8959a84dea7ee197c632cb2df15</td>\n",
       "      <td>13023</td>\n",
       "      <td>campinas</td>\n",
       "      <td>SP</td>\n",
       "    </tr>\n",
       "    <tr>\n",
       "      <th>1</th>\n",
       "      <td>d1b65fc7debc3361ea86b5f14c68d2e2</td>\n",
       "      <td>13844</td>\n",
       "      <td>mogi guacu</td>\n",
       "      <td>SP</td>\n",
       "    </tr>\n",
       "    <tr>\n",
       "      <th>2</th>\n",
       "      <td>ce3ad9de960102d0677a81f5d0bb7b2d</td>\n",
       "      <td>20031</td>\n",
       "      <td>rio de janeiro</td>\n",
       "      <td>RJ</td>\n",
       "    </tr>\n",
       "    <tr>\n",
       "      <th>3</th>\n",
       "      <td>c0f3eea2e14555b6faeea3dd58c1b1c3</td>\n",
       "      <td>4195</td>\n",
       "      <td>sao paulo</td>\n",
       "      <td>SP</td>\n",
       "    </tr>\n",
       "    <tr>\n",
       "      <th>4</th>\n",
       "      <td>51a04a8a6bdcb23deccc82b0b80742cf</td>\n",
       "      <td>12914</td>\n",
       "      <td>braganca paulista</td>\n",
       "      <td>SP</td>\n",
       "    </tr>\n",
       "  </tbody>\n",
       "</table>\n",
       "</div>"
      ],
      "text/plain": [
       "                          seller_id  seller_zip_code_prefix  \\\n",
       "0  3442f8959a84dea7ee197c632cb2df15                   13023   \n",
       "1  d1b65fc7debc3361ea86b5f14c68d2e2                   13844   \n",
       "2  ce3ad9de960102d0677a81f5d0bb7b2d                   20031   \n",
       "3  c0f3eea2e14555b6faeea3dd58c1b1c3                    4195   \n",
       "4  51a04a8a6bdcb23deccc82b0b80742cf                   12914   \n",
       "\n",
       "         seller_city seller_state  \n",
       "0           campinas           SP  \n",
       "1         mogi guacu           SP  \n",
       "2     rio de janeiro           RJ  \n",
       "3          sao paulo           SP  \n",
       "4  braganca paulista           SP  "
      ]
     },
     "execution_count": 34,
     "metadata": {},
     "output_type": "execute_result"
    }
   ],
   "source": [
    "sellers.head()"
   ]
  },
  {
   "cell_type": "markdown",
   "id": "1834cf28",
   "metadata": {},
   "source": [
    "\n",
    "La table olist_sellers_dataset contient les variables suivantes :\n",
    "\n",
    "    seller_id: identifiant unique du vendeur\n",
    "    seller_zip_code_prefix: code postal du vendeur\n",
    "    seller_city: nom du cité du vendeur\n",
    "    seller_state: statut du vendeur\n",
    "\n"
   ]
  },
  {
   "cell_type": "code",
   "execution_count": 35,
   "id": "7e0660ca",
   "metadata": {},
   "outputs": [
    {
     "data": {
      "text/plain": [
       "23"
      ]
     },
     "execution_count": 35,
     "metadata": {},
     "output_type": "execute_result"
    }
   ],
   "source": [
    "sellers['seller_state'].nunique()"
   ]
  },
  {
   "cell_type": "code",
   "execution_count": 36,
   "id": "791b2ef7",
   "metadata": {},
   "outputs": [
    {
     "data": {
      "text/plain": [
       "611"
      ]
     },
     "execution_count": 36,
     "metadata": {},
     "output_type": "execute_result"
    }
   ],
   "source": [
    "sellers['seller_city'].nunique()"
   ]
  },
  {
   "cell_type": "markdown",
   "id": "3bc28f39",
   "metadata": {},
   "source": [
    "### Remarques:  \n",
    "\n",
    "- On a 611 vendeurs ayant 23 status différents.\n",
    "- Après avoir classifier les cités selon l'ordre décroissant de leur fréquence, nous allons afficher les 15 premiers cités où les vendeurs sont citués. Pour ce faire, nous allons automatiser l'affichage des barplots présentant le pourcentage de fréquance de chaque variable."
   ]
  },
  {
   "cell_type": "code",
   "execution_count": 37,
   "id": "b423c5c6",
   "metadata": {},
   "outputs": [],
   "source": [
    "# fonction qui affiche (en tableau et barplots) le pourcentage de fréquence de chaque\\\n",
    "# valeur d'une variable qualitative\n",
    "\n",
    "def barplots_var_frequency(data, variable):\n",
    "    count = pd.DataFrame(data[variable].value_counts())\n",
    "    count['Pourcentage'] = count.apply(lambda row: round(row*100/sum(count[variable]),2))\n",
    "    \n",
    "    NA = data[variable].isna().sum()\n",
    "    pourc_na=round(NA/data.shape[0],2)*100\n",
    "    df = pd.DataFrame([NA, pourc_na]).T\n",
    "    df.rename(columns={0:variable, 1:'Pourcentage'}, index={0:'NaN'}, inplace=True)\n",
    "    \n",
    "    count = pd.concat([count, df])\n",
    "    count = count.iloc[:15]\n",
    "    \n",
    "    #afficher un barplots des pourcentages\n",
    "    plt.figure(figsize=(6, 4))\n",
    "    sns.barplot(x=\"Pourcentage\", y=count.index, data=count, color=\"b\")\n",
    "    plt.ylabel(variable)\n",
    "    plt.xlabel(\"Pourcentage\")\n",
    "    return count"
   ]
  },
  {
   "cell_type": "code",
   "execution_count": 38,
   "id": "1810f836",
   "metadata": {
    "scrolled": true
   },
   "outputs": [
    {
     "data": {
      "text/html": [
       "<div>\n",
       "<style scoped>\n",
       "    .dataframe tbody tr th:only-of-type {\n",
       "        vertical-align: middle;\n",
       "    }\n",
       "\n",
       "    .dataframe tbody tr th {\n",
       "        vertical-align: top;\n",
       "    }\n",
       "\n",
       "    .dataframe thead th {\n",
       "        text-align: right;\n",
       "    }\n",
       "</style>\n",
       "<table border=\"1\" class=\"dataframe\">\n",
       "  <thead>\n",
       "    <tr style=\"text-align: right;\">\n",
       "      <th></th>\n",
       "      <th>seller_city</th>\n",
       "      <th>Pourcentage</th>\n",
       "    </tr>\n",
       "  </thead>\n",
       "  <tbody>\n",
       "    <tr>\n",
       "      <th>sao paulo</th>\n",
       "      <td>694.0</td>\n",
       "      <td>22.42</td>\n",
       "    </tr>\n",
       "    <tr>\n",
       "      <th>curitiba</th>\n",
       "      <td>127.0</td>\n",
       "      <td>4.10</td>\n",
       "    </tr>\n",
       "    <tr>\n",
       "      <th>rio de janeiro</th>\n",
       "      <td>96.0</td>\n",
       "      <td>3.10</td>\n",
       "    </tr>\n",
       "    <tr>\n",
       "      <th>belo horizonte</th>\n",
       "      <td>68.0</td>\n",
       "      <td>2.20</td>\n",
       "    </tr>\n",
       "    <tr>\n",
       "      <th>ribeirao preto</th>\n",
       "      <td>52.0</td>\n",
       "      <td>1.68</td>\n",
       "    </tr>\n",
       "    <tr>\n",
       "      <th>guarulhos</th>\n",
       "      <td>50.0</td>\n",
       "      <td>1.62</td>\n",
       "    </tr>\n",
       "    <tr>\n",
       "      <th>ibitinga</th>\n",
       "      <td>49.0</td>\n",
       "      <td>1.58</td>\n",
       "    </tr>\n",
       "    <tr>\n",
       "      <th>santo andre</th>\n",
       "      <td>45.0</td>\n",
       "      <td>1.45</td>\n",
       "    </tr>\n",
       "    <tr>\n",
       "      <th>campinas</th>\n",
       "      <td>41.0</td>\n",
       "      <td>1.32</td>\n",
       "    </tr>\n",
       "    <tr>\n",
       "      <th>maringa</th>\n",
       "      <td>40.0</td>\n",
       "      <td>1.29</td>\n",
       "    </tr>\n",
       "    <tr>\n",
       "      <th>sao jose do rio preto</th>\n",
       "      <td>33.0</td>\n",
       "      <td>1.07</td>\n",
       "    </tr>\n",
       "    <tr>\n",
       "      <th>sao bernardo do campo</th>\n",
       "      <td>32.0</td>\n",
       "      <td>1.03</td>\n",
       "    </tr>\n",
       "    <tr>\n",
       "      <th>osasco</th>\n",
       "      <td>32.0</td>\n",
       "      <td>1.03</td>\n",
       "    </tr>\n",
       "    <tr>\n",
       "      <th>sorocaba</th>\n",
       "      <td>32.0</td>\n",
       "      <td>1.03</td>\n",
       "    </tr>\n",
       "    <tr>\n",
       "      <th>porto alegre</th>\n",
       "      <td>28.0</td>\n",
       "      <td>0.90</td>\n",
       "    </tr>\n",
       "  </tbody>\n",
       "</table>\n",
       "</div>"
      ],
      "text/plain": [
       "                       seller_city  Pourcentage\n",
       "sao paulo                    694.0        22.42\n",
       "curitiba                     127.0         4.10\n",
       "rio de janeiro                96.0         3.10\n",
       "belo horizonte                68.0         2.20\n",
       "ribeirao preto                52.0         1.68\n",
       "guarulhos                     50.0         1.62\n",
       "ibitinga                      49.0         1.58\n",
       "santo andre                   45.0         1.45\n",
       "campinas                      41.0         1.32\n",
       "maringa                       40.0         1.29\n",
       "sao jose do rio preto         33.0         1.07\n",
       "sao bernardo do campo         32.0         1.03\n",
       "osasco                        32.0         1.03\n",
       "sorocaba                      32.0         1.03\n",
       "porto alegre                  28.0         0.90"
      ]
     },
     "execution_count": 38,
     "metadata": {},
     "output_type": "execute_result"
    },
    {
     "data": {
      "image/png": "[encoded data removed]",
      "text/plain": [
       "<Figure size 432x288 with 1 Axes>"
      ]
     },
     "metadata": {
      "needs_background": "light"
     },
     "output_type": "display_data"
    }
   ],
   "source": [
    "#les cités des vendeurs en pourcentage\n",
    "barplots_var_frequency(sellers, 'seller_city')"
   ]
  },
  {
   "cell_type": "markdown",
   "id": "3b04c31d",
   "metadata": {},
   "source": [
    "--> Nous remarquons que la majorité des vendeurs sont à Sao Paulo (22,4%)"
   ]
  },
  {
   "cell_type": "code",
   "execution_count": 39,
   "id": "b35d4cdc",
   "metadata": {
    "scrolled": false
   },
   "outputs": [
    {
     "data": {
      "text/plain": [
       "Text(0.5, 1.0, 'Classement des 15 produits les plus fréquents')"
      ]
     },
     "execution_count": 39,
     "metadata": {},
     "output_type": "execute_result"
    },
    {
     "data": {
      "image/png": "[encoded data removed]",
      "text/plain": [
       "<Figure size 432x288 with 1 Axes>"
      ]
     },
     "metadata": {
      "needs_background": "light"
     },
     "output_type": "display_data"
    }
   ],
   "source": [
    "plt.figure(figsize=(6, 4))\n",
    "sns.countplot(y=\"seller_city\", data=sellers, order=sellers.value_counts(sellers['seller_city'], normalize=True).iloc[:15].index)\n",
    "plt.ylabel(\"cités des vendeurs\")\n",
    "plt.title(\"Classement des 15 produits les plus fréquents\")"
   ]
  },
  {
   "cell_type": "code",
   "execution_count": 40,
   "id": "eada3d1f",
   "metadata": {},
   "outputs": [
    {
     "data": {
      "text/plain": [
       "Index(['seller_id', 'seller_zip_code_prefix', 'seller_city', 'seller_state'], dtype='object')"
      ]
     },
     "execution_count": 40,
     "metadata": {},
     "output_type": "execute_result"
    }
   ],
   "source": [
    "sellers.columns"
   ]
  },
  {
   "cell_type": "markdown",
   "id": "3efe0635",
   "metadata": {},
   "source": [
    "## **Sélection des variables utiles**     \n",
    "\n",
    "Pour notre projet, nous allons garder les variables : \"seller_id\", 'seller_zip_code_prefix', 'seller_city'. Nous pensons que ces informations sur le vendeur peuvent être utile pour savoir si le vendeur et l'acheteur son de la même cité. Ceci pourra être utile pour savoir si un acheteur préfère acheter des produits locaux ou non. "
   ]
  },
  {
   "cell_type": "code",
   "execution_count": 61,
   "id": "24d7b5f2",
   "metadata": {},
   "outputs": [],
   "source": [
    "sellers_df = sellers[[ 'seller_id', 'seller_zip_code_prefix', 'seller_city']]"
   ]
  },
  {
   "cell_type": "markdown",
   "id": "468ae974",
   "metadata": {},
   "source": [
    "## 1.5. Reviews/ les commentaires  \n",
    "\n",
    "\n",
    "\n",
    "Le dataframe \"reviews\" contient les variables suivantes :\n",
    "\n",
    "    review_id: identifiant du commentaire\n",
    "    order_id: identifiant de la commande\n",
    "    review_score: score de satisfaction donnée par le client par rapport à la commande\n",
    "    review_comment_title: titre du commentaire donné par le client\n",
    "    review_comment_message: commentaire laissé par le client. \n",
    "    review_creation_date: la date à laquelle l'enquête de satisfaction a été envoyée au client.\n",
    "    review_answer_timestamp: Affiche l'horodatage des réponses à l'enquête de satisfaction.\n",
    "\n"
   ]
  },
  {
   "cell_type": "code",
   "execution_count": 41,
   "id": "43bc6185",
   "metadata": {},
   "outputs": [
    {
     "data": {
      "text/html": [
       "<div>\n",
       "<style scoped>\n",
       "    .dataframe tbody tr th:only-of-type {\n",
       "        vertical-align: middle;\n",
       "    }\n",
       "\n",
       "    .dataframe tbody tr th {\n",
       "        vertical-align: top;\n",
       "    }\n",
       "\n",
       "    .dataframe thead th {\n",
       "        text-align: right;\n",
       "    }\n",
       "</style>\n",
       "<table border=\"1\" class=\"dataframe\">\n",
       "  <thead>\n",
       "    <tr style=\"text-align: right;\">\n",
       "      <th></th>\n",
       "      <th>dataframe</th>\n",
       "      <th>(rows, column)</th>\n",
       "      <th>Total number of nans</th>\n",
       "      <th>percentage of nans</th>\n",
       "      <th>number of duplicated rows</th>\n",
       "      <th>percentage of duplicated rows</th>\n",
       "    </tr>\n",
       "  </thead>\n",
       "  <tbody>\n",
       "    <tr>\n",
       "      <th>0</th>\n",
       "      <td>reviews</td>\n",
       "      <td>(99224,7)</td>\n",
       "      <td>145903</td>\n",
       "      <td>21.01 %</td>\n",
       "      <td>0</td>\n",
       "      <td>0.0 %</td>\n",
       "    </tr>\n",
       "  </tbody>\n",
       "</table>\n",
       "</div>"
      ],
      "text/plain": [
       "  dataframe (rows, column) Total number of nans percentage of nans  \\\n",
       "0   reviews      (99224,7)               145903            21.01 %   \n",
       "\n",
       "  number of duplicated rows percentage of duplicated rows  \n",
       "0                         0                         0.0 %  "
      ]
     },
     "execution_count": 41,
     "metadata": {},
     "output_type": "execute_result"
    }
   ],
   "source": [
    "review_dict = {'reviews' : reviews}\n",
    "my.dataframe_survey(review_dict)"
   ]
  },
  {
   "cell_type": "code",
   "execution_count": 42,
   "id": "84ae29de",
   "metadata": {},
   "outputs": [
    {
     "data": {
      "text/html": [
       "<div>\n",
       "<style scoped>\n",
       "    .dataframe tbody tr th:only-of-type {\n",
       "        vertical-align: middle;\n",
       "    }\n",
       "\n",
       "    .dataframe tbody tr th {\n",
       "        vertical-align: top;\n",
       "    }\n",
       "\n",
       "    .dataframe thead th {\n",
       "        text-align: right;\n",
       "    }\n",
       "</style>\n",
       "<table border=\"1\" class=\"dataframe\">\n",
       "  <thead>\n",
       "    <tr style=\"text-align: right;\">\n",
       "      <th></th>\n",
       "      <th>variable name</th>\n",
       "      <th>variable type</th>\n",
       "      <th>nbr of distinct values</th>\n",
       "      <th>percentage of NaNs</th>\n",
       "    </tr>\n",
       "  </thead>\n",
       "  <tbody>\n",
       "    <tr>\n",
       "      <th>0</th>\n",
       "      <td>review_id</td>\n",
       "      <td>object</td>\n",
       "      <td>98410</td>\n",
       "      <td>0.0 %</td>\n",
       "    </tr>\n",
       "    <tr>\n",
       "      <th>1</th>\n",
       "      <td>order_id</td>\n",
       "      <td>object</td>\n",
       "      <td>98673</td>\n",
       "      <td>0.0 %</td>\n",
       "    </tr>\n",
       "    <tr>\n",
       "      <th>2</th>\n",
       "      <td>review_score</td>\n",
       "      <td>int64</td>\n",
       "      <td>5</td>\n",
       "      <td>0.0 %</td>\n",
       "    </tr>\n",
       "    <tr>\n",
       "      <th>3</th>\n",
       "      <td>review_comment_title</td>\n",
       "      <td>object</td>\n",
       "      <td>4527</td>\n",
       "      <td>88.34 %</td>\n",
       "    </tr>\n",
       "    <tr>\n",
       "      <th>4</th>\n",
       "      <td>review_comment_message</td>\n",
       "      <td>object</td>\n",
       "      <td>36159</td>\n",
       "      <td>58.7 %</td>\n",
       "    </tr>\n",
       "    <tr>\n",
       "      <th>5</th>\n",
       "      <td>review_creation_date</td>\n",
       "      <td>object</td>\n",
       "      <td>636</td>\n",
       "      <td>0.0 %</td>\n",
       "    </tr>\n",
       "    <tr>\n",
       "      <th>6</th>\n",
       "      <td>review_answer_timestamp</td>\n",
       "      <td>object</td>\n",
       "      <td>98248</td>\n",
       "      <td>0.0 %</td>\n",
       "    </tr>\n",
       "  </tbody>\n",
       "</table>\n",
       "</div>"
      ],
      "text/plain": [
       "             variable name variable type nbr of distinct values  \\\n",
       "0                review_id        object                  98410   \n",
       "1                 order_id        object                  98673   \n",
       "2             review_score         int64                      5   \n",
       "3     review_comment_title        object                   4527   \n",
       "4   review_comment_message        object                  36159   \n",
       "5     review_creation_date        object                    636   \n",
       "6  review_answer_timestamp        object                  98248   \n",
       "\n",
       "  percentage of NaNs  \n",
       "0              0.0 %  \n",
       "1              0.0 %  \n",
       "2              0.0 %  \n",
       "3            88.34 %  \n",
       "4             58.7 %  \n",
       "5              0.0 %  \n",
       "6              0.0 %  "
      ]
     },
     "execution_count": 42,
     "metadata": {},
     "output_type": "execute_result"
    }
   ],
   "source": [
    "my.variable_survey(reviews)"
   ]
  },
  {
   "cell_type": "code",
   "execution_count": 43,
   "id": "fce202dc",
   "metadata": {},
   "outputs": [
    {
     "data": {
      "text/html": [
       "<div>\n",
       "<style scoped>\n",
       "    .dataframe tbody tr th:only-of-type {\n",
       "        vertical-align: middle;\n",
       "    }\n",
       "\n",
       "    .dataframe tbody tr th {\n",
       "        vertical-align: top;\n",
       "    }\n",
       "\n",
       "    .dataframe thead th {\n",
       "        text-align: right;\n",
       "    }\n",
       "</style>\n",
       "<table border=\"1\" class=\"dataframe\">\n",
       "  <thead>\n",
       "    <tr style=\"text-align: right;\">\n",
       "      <th></th>\n",
       "      <th>review_id</th>\n",
       "      <th>order_id</th>\n",
       "      <th>review_score</th>\n",
       "      <th>review_comment_title</th>\n",
       "      <th>review_comment_message</th>\n",
       "      <th>review_creation_date</th>\n",
       "      <th>review_answer_timestamp</th>\n",
       "    </tr>\n",
       "  </thead>\n",
       "  <tbody>\n",
       "    <tr>\n",
       "      <th>0</th>\n",
       "      <td>7bc2406110b926393aa56f80a40eba40</td>\n",
       "      <td>73fc7af87114b39712e6da79b0a377eb</td>\n",
       "      <td>4</td>\n",
       "      <td>NaN</td>\n",
       "      <td>NaN</td>\n",
       "      <td>2018-01-18 00:00:00</td>\n",
       "      <td>2018-01-18 21:46:59</td>\n",
       "    </tr>\n",
       "    <tr>\n",
       "      <th>1</th>\n",
       "      <td>80e641a11e56f04c1ad469d5645fdfde</td>\n",
       "      <td>a548910a1c6147796b98fdf73dbeba33</td>\n",
       "      <td>5</td>\n",
       "      <td>NaN</td>\n",
       "      <td>NaN</td>\n",
       "      <td>2018-03-10 00:00:00</td>\n",
       "      <td>2018-03-11 03:05:13</td>\n",
       "    </tr>\n",
       "    <tr>\n",
       "      <th>2</th>\n",
       "      <td>228ce5500dc1d8e020d8d1322874b6f0</td>\n",
       "      <td>f9e4b658b201a9f2ecdecbb34bed034b</td>\n",
       "      <td>5</td>\n",
       "      <td>NaN</td>\n",
       "      <td>NaN</td>\n",
       "      <td>2018-02-17 00:00:00</td>\n",
       "      <td>2018-02-18 14:36:24</td>\n",
       "    </tr>\n",
       "    <tr>\n",
       "      <th>3</th>\n",
       "      <td>e64fb393e7b32834bb789ff8bb30750e</td>\n",
       "      <td>658677c97b385a9be170737859d3511b</td>\n",
       "      <td>5</td>\n",
       "      <td>NaN</td>\n",
       "      <td>Recebi bem antes do prazo estipulado.</td>\n",
       "      <td>2017-04-21 00:00:00</td>\n",
       "      <td>2017-04-21 22:02:06</td>\n",
       "    </tr>\n",
       "    <tr>\n",
       "      <th>4</th>\n",
       "      <td>f7c4243c7fe1938f181bec41a392bdeb</td>\n",
       "      <td>8e6bfb81e283fa7e4f11123a3fb894f1</td>\n",
       "      <td>5</td>\n",
       "      <td>NaN</td>\n",
       "      <td>Parabéns lojas lannister adorei comprar pela I...</td>\n",
       "      <td>2018-03-01 00:00:00</td>\n",
       "      <td>2018-03-02 10:26:53</td>\n",
       "    </tr>\n",
       "  </tbody>\n",
       "</table>\n",
       "</div>"
      ],
      "text/plain": [
       "                          review_id                          order_id  \\\n",
       "0  7bc2406110b926393aa56f80a40eba40  73fc7af87114b39712e6da79b0a377eb   \n",
       "1  80e641a11e56f04c1ad469d5645fdfde  a548910a1c6147796b98fdf73dbeba33   \n",
       "2  228ce5500dc1d8e020d8d1322874b6f0  f9e4b658b201a9f2ecdecbb34bed034b   \n",
       "3  e64fb393e7b32834bb789ff8bb30750e  658677c97b385a9be170737859d3511b   \n",
       "4  f7c4243c7fe1938f181bec41a392bdeb  8e6bfb81e283fa7e4f11123a3fb894f1   \n",
       "\n",
       "   review_score review_comment_title  \\\n",
       "0             4                  NaN   \n",
       "1             5                  NaN   \n",
       "2             5                  NaN   \n",
       "3             5                  NaN   \n",
       "4             5                  NaN   \n",
       "\n",
       "                              review_comment_message review_creation_date  \\\n",
       "0                                                NaN  2018-01-18 00:00:00   \n",
       "1                                                NaN  2018-03-10 00:00:00   \n",
       "2                                                NaN  2018-02-17 00:00:00   \n",
       "3              Recebi bem antes do prazo estipulado.  2017-04-21 00:00:00   \n",
       "4  Parabéns lojas lannister adorei comprar pela I...  2018-03-01 00:00:00   \n",
       "\n",
       "  review_answer_timestamp  \n",
       "0     2018-01-18 21:46:59  \n",
       "1     2018-03-11 03:05:13  \n",
       "2     2018-02-18 14:36:24  \n",
       "3     2017-04-21 22:02:06  \n",
       "4     2018-03-02 10:26:53  "
      ]
     },
     "execution_count": 43,
     "metadata": {},
     "output_type": "execute_result"
    }
   ],
   "source": [
    "reviews.head()"
   ]
  },
  {
   "cell_type": "code",
   "execution_count": 44,
   "id": "d881c2ef",
   "metadata": {},
   "outputs": [
    {
     "data": {
      "image/png": "[encoded data removed]",
      "text/plain": [
       "<Figure size 1440x432 with 1 Axes>"
      ]
     },
     "metadata": {
      "needs_background": "light"
     },
     "output_type": "display_data"
    }
   ],
   "source": [
    "my.nans_df(reviews)"
   ]
  },
  {
   "cell_type": "code",
   "execution_count": 45,
   "id": "99b04b93",
   "metadata": {},
   "outputs": [
    {
     "name": "stderr",
     "output_type": "stream",
     "text": [
      "/home/soumaya/anaconda3/envs/openclassrooms/lib/python3.8/site-packages/seaborn/distributions.py:2557: FutureWarning: `distplot` is a deprecated function and will be removed in a future version. Please adapt your code to use either `displot` (a figure-level function with similar flexibility) or `histplot` (an axes-level function for histograms).\n",
      "  warnings.warn(msg, FutureWarning)\n"
     ]
    },
    {
     "data": {
      "text/plain": [
       "<AxesSubplot:xlabel='review_score', ylabel='Density'>"
      ]
     },
     "execution_count": 45,
     "metadata": {},
     "output_type": "execute_result"
    },
    {
     "data": {
      "image/png": "[encoded data removed]",
      "text/plain": [
       "<Figure size 432x288 with 1 Axes>"
      ]
     },
     "metadata": {
      "needs_background": "light"
     },
     "output_type": "display_data"
    }
   ],
   "source": [
    "sns.distplot(reviews['review_score'])"
   ]
  },
  {
   "cell_type": "markdown",
   "id": "19e70ed7",
   "metadata": {},
   "source": [
    "### Remarques:  \n",
    "- Les données dans la variables \"review_comment_title\" sont presque tous manquantes (presque 90% de Nans)  \n",
    "- Le client évalue sa commande passé par un commentaire et un score. Les scores sont entre 1 et 5. Le score le plus attribué dans ces données est 5. "
   ]
  },
  {
   "cell_type": "code",
   "execution_count": 46,
   "id": "fbc92fa1",
   "metadata": {},
   "outputs": [
    {
     "data": {
      "text/plain": [
       "Index(['review_id', 'order_id', 'review_score', 'review_comment_title',\n",
       "       'review_comment_message', 'review_creation_date',\n",
       "       'review_answer_timestamp'],\n",
       "      dtype='object')"
      ]
     },
     "execution_count": 46,
     "metadata": {},
     "output_type": "execute_result"
    }
   ],
   "source": [
    "reviews.columns"
   ]
  },
  {
   "cell_type": "markdown",
   "id": "03bc03de",
   "metadata": {},
   "source": [
    "## Sélection des variables utiles:  \n",
    "Pour notre projet, je pense que savoir si un client est satisfait ou non, ou bien avoir une idée sur son niveau de satisfaction n'est pas très utile pour la segmentation RFM des clients. Mai peut etre qu'on en aura besoin pour tester d'autres approches. Je vais donc garder les variables 'review_id', 'order_id', 'review_score'. "
   ]
  },
  {
   "cell_type": "code",
   "execution_count": 47,
   "id": "9bc22ea4",
   "metadata": {},
   "outputs": [
    {
     "data": {
      "text/plain": [
       "Index(['review_id', 'order_id', 'review_score'], dtype='object')"
      ]
     },
     "execution_count": 47,
     "metadata": {},
     "output_type": "execute_result"
    }
   ],
   "source": [
    "reviews_df = reviews[['review_id', 'order_id', 'review_score']]\n",
    "reviews_df.columns"
   ]
  },
  {
   "cell_type": "markdown",
   "id": "6b6358dd",
   "metadata": {},
   "source": [
    "## 1.6. Items   \n",
    "\n",
    "\n",
    "\n",
    "Le dataframe \"items\" contient les variables suivantes :\n",
    "\n",
    "    - order_id: identifiant de la commande\n",
    "    - order_item_id: numéro séquentiel identifiant le nombre d'articles inclus dans le même ordre.\n",
    "    - product_id: identifiant du produit\n",
    "    - seller_id: identifiant du vendeur\n",
    "    - shipping_limit_date: la date limite dans laquelle le vendeur expédie la commande au partenaire logistique.\n",
    "    - price: le prix de l'article\n",
    "    - freight_value: frais de transport des articles (si une commande a plus d'un article, le frais de transport est répartie entre les articles)\n",
    "\n"
   ]
  },
  {
   "cell_type": "code",
   "execution_count": 48,
   "id": "31ade9ae",
   "metadata": {},
   "outputs": [
    {
     "data": {
      "text/html": [
       "<div>\n",
       "<style scoped>\n",
       "    .dataframe tbody tr th:only-of-type {\n",
       "        vertical-align: middle;\n",
       "    }\n",
       "\n",
       "    .dataframe tbody tr th {\n",
       "        vertical-align: top;\n",
       "    }\n",
       "\n",
       "    .dataframe thead th {\n",
       "        text-align: right;\n",
       "    }\n",
       "</style>\n",
       "<table border=\"1\" class=\"dataframe\">\n",
       "  <thead>\n",
       "    <tr style=\"text-align: right;\">\n",
       "      <th></th>\n",
       "      <th>dataframe</th>\n",
       "      <th>(rows, column)</th>\n",
       "      <th>Total number of nans</th>\n",
       "      <th>percentage of nans</th>\n",
       "      <th>number of duplicated rows</th>\n",
       "      <th>percentage of duplicated rows</th>\n",
       "    </tr>\n",
       "  </thead>\n",
       "  <tbody>\n",
       "    <tr>\n",
       "      <th>0</th>\n",
       "      <td>items</td>\n",
       "      <td>(112650,7)</td>\n",
       "      <td>0</td>\n",
       "      <td>0.0 %</td>\n",
       "      <td>0</td>\n",
       "      <td>0.0 %</td>\n",
       "    </tr>\n",
       "  </tbody>\n",
       "</table>\n",
       "</div>"
      ],
      "text/plain": [
       "  dataframe (rows, column) Total number of nans percentage of nans  \\\n",
       "0     items     (112650,7)                    0              0.0 %   \n",
       "\n",
       "  number of duplicated rows percentage of duplicated rows  \n",
       "0                         0                         0.0 %  "
      ]
     },
     "execution_count": 48,
     "metadata": {},
     "output_type": "execute_result"
    }
   ],
   "source": [
    "items_dict = {'items': items}\n",
    "my.dataframe_survey(items_dict)"
   ]
  },
  {
   "cell_type": "markdown",
   "id": "aa1ed9e2",
   "metadata": {},
   "source": [
    "Dans ce dataframe, il n'y a ni des doublons ni des valeurs manquantes."
   ]
  },
  {
   "cell_type": "code",
   "execution_count": 49,
   "id": "3575fb35",
   "metadata": {},
   "outputs": [
    {
     "data": {
      "text/html": [
       "<div>\n",
       "<style scoped>\n",
       "    .dataframe tbody tr th:only-of-type {\n",
       "        vertical-align: middle;\n",
       "    }\n",
       "\n",
       "    .dataframe tbody tr th {\n",
       "        vertical-align: top;\n",
       "    }\n",
       "\n",
       "    .dataframe thead th {\n",
       "        text-align: right;\n",
       "    }\n",
       "</style>\n",
       "<table border=\"1\" class=\"dataframe\">\n",
       "  <thead>\n",
       "    <tr style=\"text-align: right;\">\n",
       "      <th></th>\n",
       "      <th>variable name</th>\n",
       "      <th>variable type</th>\n",
       "      <th>nbr of distinct values</th>\n",
       "      <th>percentage of NaNs</th>\n",
       "    </tr>\n",
       "  </thead>\n",
       "  <tbody>\n",
       "    <tr>\n",
       "      <th>0</th>\n",
       "      <td>order_id</td>\n",
       "      <td>object</td>\n",
       "      <td>98666</td>\n",
       "      <td>0.0 %</td>\n",
       "    </tr>\n",
       "    <tr>\n",
       "      <th>1</th>\n",
       "      <td>order_item_id</td>\n",
       "      <td>int64</td>\n",
       "      <td>21</td>\n",
       "      <td>0.0 %</td>\n",
       "    </tr>\n",
       "    <tr>\n",
       "      <th>2</th>\n",
       "      <td>product_id</td>\n",
       "      <td>object</td>\n",
       "      <td>32951</td>\n",
       "      <td>0.0 %</td>\n",
       "    </tr>\n",
       "    <tr>\n",
       "      <th>3</th>\n",
       "      <td>seller_id</td>\n",
       "      <td>object</td>\n",
       "      <td>3095</td>\n",
       "      <td>0.0 %</td>\n",
       "    </tr>\n",
       "    <tr>\n",
       "      <th>4</th>\n",
       "      <td>shipping_limit_date</td>\n",
       "      <td>object</td>\n",
       "      <td>93318</td>\n",
       "      <td>0.0 %</td>\n",
       "    </tr>\n",
       "    <tr>\n",
       "      <th>5</th>\n",
       "      <td>price</td>\n",
       "      <td>float64</td>\n",
       "      <td>5968</td>\n",
       "      <td>0.0 %</td>\n",
       "    </tr>\n",
       "    <tr>\n",
       "      <th>6</th>\n",
       "      <td>freight_value</td>\n",
       "      <td>float64</td>\n",
       "      <td>6999</td>\n",
       "      <td>0.0 %</td>\n",
       "    </tr>\n",
       "  </tbody>\n",
       "</table>\n",
       "</div>"
      ],
      "text/plain": [
       "         variable name variable type nbr of distinct values percentage of NaNs\n",
       "0             order_id        object                  98666              0.0 %\n",
       "1        order_item_id         int64                     21              0.0 %\n",
       "2           product_id        object                  32951              0.0 %\n",
       "3            seller_id        object                   3095              0.0 %\n",
       "4  shipping_limit_date        object                  93318              0.0 %\n",
       "5                price       float64                   5968              0.0 %\n",
       "6        freight_value       float64                   6999              0.0 %"
      ]
     },
     "execution_count": 49,
     "metadata": {},
     "output_type": "execute_result"
    }
   ],
   "source": [
    "my.variable_survey(items)"
   ]
  },
  {
   "cell_type": "code",
   "execution_count": 50,
   "id": "d658ee11",
   "metadata": {},
   "outputs": [
    {
     "data": {
      "text/html": [
       "<div>\n",
       "<style scoped>\n",
       "    .dataframe tbody tr th:only-of-type {\n",
       "        vertical-align: middle;\n",
       "    }\n",
       "\n",
       "    .dataframe tbody tr th {\n",
       "        vertical-align: top;\n",
       "    }\n",
       "\n",
       "    .dataframe thead th {\n",
       "        text-align: right;\n",
       "    }\n",
       "</style>\n",
       "<table border=\"1\" class=\"dataframe\">\n",
       "  <thead>\n",
       "    <tr style=\"text-align: right;\">\n",
       "      <th></th>\n",
       "      <th>order_id</th>\n",
       "      <th>order_item_id</th>\n",
       "      <th>product_id</th>\n",
       "      <th>seller_id</th>\n",
       "      <th>shipping_limit_date</th>\n",
       "      <th>price</th>\n",
       "      <th>freight_value</th>\n",
       "    </tr>\n",
       "  </thead>\n",
       "  <tbody>\n",
       "    <tr>\n",
       "      <th>0</th>\n",
       "      <td>00010242fe8c5a6d1ba2dd792cb16214</td>\n",
       "      <td>1</td>\n",
       "      <td>4244733e06e7ecb4970a6e2683c13e61</td>\n",
       "      <td>48436dade18ac8b2bce089ec2a041202</td>\n",
       "      <td>2017-09-19 09:45:35</td>\n",
       "      <td>58.90</td>\n",
       "      <td>13.29</td>\n",
       "    </tr>\n",
       "    <tr>\n",
       "      <th>1</th>\n",
       "      <td>00018f77f2f0320c557190d7a144bdd3</td>\n",
       "      <td>1</td>\n",
       "      <td>e5f2d52b802189ee658865ca93d83a8f</td>\n",
       "      <td>dd7ddc04e1b6c2c614352b383efe2d36</td>\n",
       "      <td>2017-05-03 11:05:13</td>\n",
       "      <td>239.90</td>\n",
       "      <td>19.93</td>\n",
       "    </tr>\n",
       "    <tr>\n",
       "      <th>2</th>\n",
       "      <td>000229ec398224ef6ca0657da4fc703e</td>\n",
       "      <td>1</td>\n",
       "      <td>c777355d18b72b67abbeef9df44fd0fd</td>\n",
       "      <td>5b51032eddd242adc84c38acab88f23d</td>\n",
       "      <td>2018-01-18 14:48:30</td>\n",
       "      <td>199.00</td>\n",
       "      <td>17.87</td>\n",
       "    </tr>\n",
       "    <tr>\n",
       "      <th>3</th>\n",
       "      <td>00024acbcdf0a6daa1e931b038114c75</td>\n",
       "      <td>1</td>\n",
       "      <td>7634da152a4610f1595efa32f14722fc</td>\n",
       "      <td>9d7a1d34a5052409006425275ba1c2b4</td>\n",
       "      <td>2018-08-15 10:10:18</td>\n",
       "      <td>12.99</td>\n",
       "      <td>12.79</td>\n",
       "    </tr>\n",
       "    <tr>\n",
       "      <th>4</th>\n",
       "      <td>00042b26cf59d7ce69dfabb4e55b4fd9</td>\n",
       "      <td>1</td>\n",
       "      <td>ac6c3623068f30de03045865e4e10089</td>\n",
       "      <td>df560393f3a51e74553ab94004ba5c87</td>\n",
       "      <td>2017-02-13 13:57:51</td>\n",
       "      <td>199.90</td>\n",
       "      <td>18.14</td>\n",
       "    </tr>\n",
       "  </tbody>\n",
       "</table>\n",
       "</div>"
      ],
      "text/plain": [
       "                           order_id  order_item_id  \\\n",
       "0  00010242fe8c5a6d1ba2dd792cb16214              1   \n",
       "1  00018f77f2f0320c557190d7a144bdd3              1   \n",
       "2  000229ec398224ef6ca0657da4fc703e              1   \n",
       "3  00024acbcdf0a6daa1e931b038114c75              1   \n",
       "4  00042b26cf59d7ce69dfabb4e55b4fd9              1   \n",
       "\n",
       "                         product_id                         seller_id  \\\n",
       "0  4244733e06e7ecb4970a6e2683c13e61  48436dade18ac8b2bce089ec2a041202   \n",
       "1  e5f2d52b802189ee658865ca93d83a8f  dd7ddc04e1b6c2c614352b383efe2d36   \n",
       "2  c777355d18b72b67abbeef9df44fd0fd  5b51032eddd242adc84c38acab88f23d   \n",
       "3  7634da152a4610f1595efa32f14722fc  9d7a1d34a5052409006425275ba1c2b4   \n",
       "4  ac6c3623068f30de03045865e4e10089  df560393f3a51e74553ab94004ba5c87   \n",
       "\n",
       "   shipping_limit_date   price  freight_value  \n",
       "0  2017-09-19 09:45:35   58.90          13.29  \n",
       "1  2017-05-03 11:05:13  239.90          19.93  \n",
       "2  2018-01-18 14:48:30  199.00          17.87  \n",
       "3  2018-08-15 10:10:18   12.99          12.79  \n",
       "4  2017-02-13 13:57:51  199.90          18.14  "
      ]
     },
     "execution_count": 50,
     "metadata": {},
     "output_type": "execute_result"
    }
   ],
   "source": [
    "items.head()"
   ]
  },
  {
   "cell_type": "code",
   "execution_count": 51,
   "id": "0572db81",
   "metadata": {},
   "outputs": [
    {
     "data": {
      "text/plain": [
       "98666"
      ]
     },
     "execution_count": 51,
     "metadata": {},
     "output_type": "execute_result"
    }
   ],
   "source": [
    "items['order_id'].nunique()"
   ]
  },
  {
   "cell_type": "code",
   "execution_count": 52,
   "id": "b3076150",
   "metadata": {},
   "outputs": [
    {
     "data": {
      "text/plain": [
       "13984"
      ]
     },
     "execution_count": 52,
     "metadata": {},
     "output_type": "execute_result"
    }
   ],
   "source": [
    "sum(items.duplicated('order_id'))"
   ]
  },
  {
   "cell_type": "markdown",
   "id": "cb17de13",
   "metadata": {},
   "source": [
    "--> Dans ce dataframe, il y on a 98666 commandes avec un seul article et 13984 avec plus qu'un article. "
   ]
  },
  {
   "cell_type": "code",
   "execution_count": 53,
   "id": "60848c7d",
   "metadata": {},
   "outputs": [
    {
     "data": {
      "text/html": [
       "<div>\n",
       "<style scoped>\n",
       "    .dataframe tbody tr th:only-of-type {\n",
       "        vertical-align: middle;\n",
       "    }\n",
       "\n",
       "    .dataframe tbody tr th {\n",
       "        vertical-align: top;\n",
       "    }\n",
       "\n",
       "    .dataframe thead th {\n",
       "        text-align: right;\n",
       "    }\n",
       "</style>\n",
       "<table border=\"1\" class=\"dataframe\">\n",
       "  <thead>\n",
       "    <tr style=\"text-align: right;\">\n",
       "      <th></th>\n",
       "      <th>order_item_id</th>\n",
       "      <th>Pourcentage</th>\n",
       "    </tr>\n",
       "  </thead>\n",
       "  <tbody>\n",
       "    <tr>\n",
       "      <th>1</th>\n",
       "      <td>98666.0</td>\n",
       "      <td>87.59</td>\n",
       "    </tr>\n",
       "    <tr>\n",
       "      <th>2</th>\n",
       "      <td>9803.0</td>\n",
       "      <td>8.70</td>\n",
       "    </tr>\n",
       "    <tr>\n",
       "      <th>3</th>\n",
       "      <td>2287.0</td>\n",
       "      <td>2.03</td>\n",
       "    </tr>\n",
       "    <tr>\n",
       "      <th>4</th>\n",
       "      <td>965.0</td>\n",
       "      <td>0.86</td>\n",
       "    </tr>\n",
       "    <tr>\n",
       "      <th>5</th>\n",
       "      <td>460.0</td>\n",
       "      <td>0.41</td>\n",
       "    </tr>\n",
       "    <tr>\n",
       "      <th>6</th>\n",
       "      <td>256.0</td>\n",
       "      <td>0.23</td>\n",
       "    </tr>\n",
       "    <tr>\n",
       "      <th>7</th>\n",
       "      <td>58.0</td>\n",
       "      <td>0.05</td>\n",
       "    </tr>\n",
       "    <tr>\n",
       "      <th>8</th>\n",
       "      <td>36.0</td>\n",
       "      <td>0.03</td>\n",
       "    </tr>\n",
       "    <tr>\n",
       "      <th>9</th>\n",
       "      <td>28.0</td>\n",
       "      <td>0.02</td>\n",
       "    </tr>\n",
       "    <tr>\n",
       "      <th>10</th>\n",
       "      <td>25.0</td>\n",
       "      <td>0.02</td>\n",
       "    </tr>\n",
       "    <tr>\n",
       "      <th>11</th>\n",
       "      <td>17.0</td>\n",
       "      <td>0.02</td>\n",
       "    </tr>\n",
       "    <tr>\n",
       "      <th>12</th>\n",
       "      <td>13.0</td>\n",
       "      <td>0.01</td>\n",
       "    </tr>\n",
       "    <tr>\n",
       "      <th>13</th>\n",
       "      <td>8.0</td>\n",
       "      <td>0.01</td>\n",
       "    </tr>\n",
       "    <tr>\n",
       "      <th>14</th>\n",
       "      <td>7.0</td>\n",
       "      <td>0.01</td>\n",
       "    </tr>\n",
       "    <tr>\n",
       "      <th>15</th>\n",
       "      <td>5.0</td>\n",
       "      <td>0.00</td>\n",
       "    </tr>\n",
       "  </tbody>\n",
       "</table>\n",
       "</div>"
      ],
      "text/plain": [
       "    order_item_id  Pourcentage\n",
       "1         98666.0        87.59\n",
       "2          9803.0         8.70\n",
       "3          2287.0         2.03\n",
       "4           965.0         0.86\n",
       "5           460.0         0.41\n",
       "6           256.0         0.23\n",
       "7            58.0         0.05\n",
       "8            36.0         0.03\n",
       "9            28.0         0.02\n",
       "10           25.0         0.02\n",
       "11           17.0         0.02\n",
       "12           13.0         0.01\n",
       "13            8.0         0.01\n",
       "14            7.0         0.01\n",
       "15            5.0         0.00"
      ]
     },
     "execution_count": 53,
     "metadata": {},
     "output_type": "execute_result"
    },
    {
     "data": {
      "image/png": "[encoded data removed]",
      "text/plain": [
       "<Figure size 432x288 with 1 Axes>"
      ]
     },
     "metadata": {
      "needs_background": "light"
     },
     "output_type": "display_data"
    }
   ],
   "source": [
    "#verifions la fréquence des commandes par rapport aux nombre d'articles commandés\n",
    "barplots_var_frequency(items, 'order_item_id')"
   ]
  },
  {
   "cell_type": "code",
   "execution_count": 54,
   "id": "4ca4b340",
   "metadata": {},
   "outputs": [
    {
     "data": {
      "text/plain": [
       "count    112650.000000\n",
       "mean          1.197834\n",
       "std           0.705124\n",
       "min           1.000000\n",
       "25%           1.000000\n",
       "50%           1.000000\n",
       "75%           1.000000\n",
       "max          21.000000\n",
       "Name: order_item_id, dtype: float64"
      ]
     },
     "execution_count": 54,
     "metadata": {},
     "output_type": "execute_result"
    }
   ],
   "source": [
    "items['order_item_id'].describe()"
   ]
  },
  {
   "cell_type": "markdown",
   "id": "1d5b8ae8",
   "metadata": {},
   "source": [
    "--> Nous remarquons que 87,59% des commandes contiennent 1 seul article. Le nombre maximal d'articles dans une commande est 21. "
   ]
  },
  {
   "cell_type": "code",
   "execution_count": 55,
   "id": "2d7f846a",
   "metadata": {},
   "outputs": [],
   "source": [
    "#nous allons modifier le type de \"shipping_limit_date\" / date maximale d'expédition en date\n",
    "items['shipping_limit_date']= pd.to_datetime(items['shipping_limit_date'])"
   ]
  },
  {
   "cell_type": "code",
   "execution_count": 56,
   "id": "0da3f9ac",
   "metadata": {
    "scrolled": true
   },
   "outputs": [
    {
     "data": {
      "text/plain": [
       "<AxesSubplot:xlabel='price', ylabel='Density'>"
      ]
     },
     "execution_count": 56,
     "metadata": {},
     "output_type": "execute_result"
    },
    {
     "data": {
      "image/png": "[encoded data removed]",
      "text/plain": [
       "<Figure size 432x288 with 1 Axes>"
      ]
     },
     "metadata": {
      "needs_background": "light"
     },
     "output_type": "display_data"
    }
   ],
   "source": [
    "#verifions maintenant la variation des prix des commandes\n",
    "plt.hist(items['price'], alpha=0.3,  bins=200, density=True)\n",
    "sns.kdeplot(items['price'])"
   ]
  },
  {
   "cell_type": "code",
   "execution_count": 57,
   "id": "04bfc580",
   "metadata": {},
   "outputs": [
    {
     "data": {
      "text/plain": [
       "(0.0, 1000.0)"
      ]
     },
     "execution_count": 57,
     "metadata": {},
     "output_type": "execute_result"
    },
    {
     "data": {
      "image/png": "[encoded data removed]",
      "text/plain": [
       "<Figure size 432x288 with 1 Axes>"
      ]
     },
     "metadata": {
      "needs_background": "light"
     },
     "output_type": "display_data"
    }
   ],
   "source": [
    "#nous faisons un zoom sur l'intervalle des prix [0, 1000]\n",
    "plt.hist(items['price'], alpha=0.3, range=(0, 1000),  bins=200, density=True)\n",
    "sns.kdeplot(items['price'])\n",
    "plt.xlim(0, 1000)"
   ]
  },
  {
   "cell_type": "markdown",
   "id": "7a71a80e",
   "metadata": {},
   "source": [
    "--> Nous remarquons que la grande majorité des commandes valent 100 réaux. "
   ]
  },
  {
   "cell_type": "code",
   "execution_count": 58,
   "id": "57f36037",
   "metadata": {},
   "outputs": [
    {
     "data": {
      "text/plain": [
       "Index(['order_id', 'order_item_id', 'product_id', 'seller_id',\n",
       "       'shipping_limit_date', 'price', 'freight_value'],\n",
       "      dtype='object')"
      ]
     },
     "execution_count": 58,
     "metadata": {},
     "output_type": "execute_result"
    }
   ],
   "source": [
    "items.columns"
   ]
  },
  {
   "cell_type": "markdown",
   "id": "0ee5b3d7",
   "metadata": {},
   "source": [
    "## Sélection des variables utiles  \n",
    "\n",
    "Pour notre projet, nous allons sélectionner les variables ['order_id', 'order_item_id', 'product_id', 'seller_id',\n",
    "       'shipping_limit_date', 'price'] "
   ]
  },
  {
   "cell_type": "code",
   "execution_count": 59,
   "id": "b02c37bd",
   "metadata": {},
   "outputs": [],
   "source": [
    "items_df=items[['order_id', 'order_item_id', 'product_id', 'seller_id',\n",
    "       'shipping_limit_date', 'price']]"
   ]
  },
  {
   "cell_type": "code",
   "execution_count": 60,
   "id": "e73e8ece",
   "metadata": {},
   "outputs": [
    {
     "data": {
      "text/plain": [
       "Index(['order_id', 'order_item_id', 'product_id', 'seller_id',\n",
       "       'shipping_limit_date', 'price'],\n",
       "      dtype='object')"
      ]
     },
     "execution_count": 60,
     "metadata": {},
     "output_type": "execute_result"
    }
   ],
   "source": [
    "items_df.columns"
   ]
  },
  {
   "cell_type": "markdown",
   "id": "b2ea6784",
   "metadata": {},
   "source": [
    "## 1.7. Customers / Client   \n",
    "\n",
    "\n",
    "La table customers contient les variables suivantes :\n",
    "\n",
    "    customer_id: identifiant de la commande. Chaque commande a un custumer_id. \n",
    "    customer_unique_id: identifiant du client.\n",
    "    customer_zip_code_prefix: zip code du client\n",
    "    customer_city: nom du cité de l'acheteur\n",
    "    customer_state: état du client\n"
   ]
  },
  {
   "cell_type": "code",
   "execution_count": 64,
   "id": "f8fc11af",
   "metadata": {},
   "outputs": [
    {
     "data": {
      "text/html": [
       "<div>\n",
       "<style scoped>\n",
       "    .dataframe tbody tr th:only-of-type {\n",
       "        vertical-align: middle;\n",
       "    }\n",
       "\n",
       "    .dataframe tbody tr th {\n",
       "        vertical-align: top;\n",
       "    }\n",
       "\n",
       "    .dataframe thead th {\n",
       "        text-align: right;\n",
       "    }\n",
       "</style>\n",
       "<table border=\"1\" class=\"dataframe\">\n",
       "  <thead>\n",
       "    <tr style=\"text-align: right;\">\n",
       "      <th></th>\n",
       "      <th>dataframe</th>\n",
       "      <th>(rows, column)</th>\n",
       "      <th>Total number of nans</th>\n",
       "      <th>percentage of nans</th>\n",
       "      <th>number of duplicated rows</th>\n",
       "      <th>percentage of duplicated rows</th>\n",
       "    </tr>\n",
       "  </thead>\n",
       "  <tbody>\n",
       "    <tr>\n",
       "      <th>0</th>\n",
       "      <td>customers</td>\n",
       "      <td>(99441,5)</td>\n",
       "      <td>0</td>\n",
       "      <td>0.0 %</td>\n",
       "      <td>0</td>\n",
       "      <td>0.0 %</td>\n",
       "    </tr>\n",
       "  </tbody>\n",
       "</table>\n",
       "</div>"
      ],
      "text/plain": [
       "   dataframe (rows, column) Total number of nans percentage of nans  \\\n",
       "0  customers      (99441,5)                    0              0.0 %   \n",
       "\n",
       "  number of duplicated rows percentage of duplicated rows  \n",
       "0                         0                         0.0 %  "
      ]
     },
     "execution_count": 64,
     "metadata": {},
     "output_type": "execute_result"
    }
   ],
   "source": [
    "customers_dict ={'customers': customers}\n",
    "my.dataframe_survey(customers_dict)"
   ]
  },
  {
   "cell_type": "markdown",
   "id": "c9276cd0",
   "metadata": {},
   "source": [
    "Nous remarquons qu'il n'y a pas ni doublons ni valeurs manquantes dans ce dataframe."
   ]
  },
  {
   "cell_type": "code",
   "execution_count": 65,
   "id": "abdcd764",
   "metadata": {},
   "outputs": [
    {
     "data": {
      "text/html": [
       "<div>\n",
       "<style scoped>\n",
       "    .dataframe tbody tr th:only-of-type {\n",
       "        vertical-align: middle;\n",
       "    }\n",
       "\n",
       "    .dataframe tbody tr th {\n",
       "        vertical-align: top;\n",
       "    }\n",
       "\n",
       "    .dataframe thead th {\n",
       "        text-align: right;\n",
       "    }\n",
       "</style>\n",
       "<table border=\"1\" class=\"dataframe\">\n",
       "  <thead>\n",
       "    <tr style=\"text-align: right;\">\n",
       "      <th></th>\n",
       "      <th>variable name</th>\n",
       "      <th>variable type</th>\n",
       "      <th>nbr of distinct values</th>\n",
       "      <th>percentage of NaNs</th>\n",
       "    </tr>\n",
       "  </thead>\n",
       "  <tbody>\n",
       "    <tr>\n",
       "      <th>0</th>\n",
       "      <td>customer_id</td>\n",
       "      <td>object</td>\n",
       "      <td>99441</td>\n",
       "      <td>0.0 %</td>\n",
       "    </tr>\n",
       "    <tr>\n",
       "      <th>1</th>\n",
       "      <td>customer_unique_id</td>\n",
       "      <td>object</td>\n",
       "      <td>96096</td>\n",
       "      <td>0.0 %</td>\n",
       "    </tr>\n",
       "    <tr>\n",
       "      <th>2</th>\n",
       "      <td>customer_zip_code_prefix</td>\n",
       "      <td>int64</td>\n",
       "      <td>14994</td>\n",
       "      <td>0.0 %</td>\n",
       "    </tr>\n",
       "    <tr>\n",
       "      <th>3</th>\n",
       "      <td>customer_city</td>\n",
       "      <td>object</td>\n",
       "      <td>4119</td>\n",
       "      <td>0.0 %</td>\n",
       "    </tr>\n",
       "    <tr>\n",
       "      <th>4</th>\n",
       "      <td>customer_state</td>\n",
       "      <td>object</td>\n",
       "      <td>27</td>\n",
       "      <td>0.0 %</td>\n",
       "    </tr>\n",
       "  </tbody>\n",
       "</table>\n",
       "</div>"
      ],
      "text/plain": [
       "              variable name variable type nbr of distinct values  \\\n",
       "0               customer_id        object                  99441   \n",
       "1        customer_unique_id        object                  96096   \n",
       "2  customer_zip_code_prefix         int64                  14994   \n",
       "3             customer_city        object                   4119   \n",
       "4            customer_state        object                     27   \n",
       "\n",
       "  percentage of NaNs  \n",
       "0              0.0 %  \n",
       "1              0.0 %  \n",
       "2              0.0 %  \n",
       "3              0.0 %  \n",
       "4              0.0 %  "
      ]
     },
     "execution_count": 65,
     "metadata": {},
     "output_type": "execute_result"
    }
   ],
   "source": [
    "my.variable_survey(customers)"
   ]
  },
  {
   "cell_type": "code",
   "execution_count": 66,
   "id": "d59dca72",
   "metadata": {},
   "outputs": [
    {
     "name": "stdout",
     "output_type": "stream",
     "text": [
      "Le nombre de villes est : 4119\n",
      "Le nombre d'états est : 27\n",
      "Le nombre de clients est : 96096\n"
     ]
    }
   ],
   "source": [
    "# Nombre de villes\n",
    "nbre_city = customers[\"customer_city\"].nunique()\n",
    "# Nombre d'Etats\n",
    "nbre_states = customers[\"customer_state\"].nunique()\n",
    "# Nombre de consommateurs\n",
    "nbre_customers = customers[\"customer_unique_id\"].nunique()\n",
    "\n",
    "print(\"Le nombre de villes est : {}\".format(nbre_city))\n",
    "print(\"Le nombre d'états est : {}\".format(nbre_states))\n",
    "print(\"Le nombre de clients est : {}\".format(nbre_customers))\n",
    "\n"
   ]
  },
  {
   "cell_type": "code",
   "execution_count": 68,
   "id": "6c283843",
   "metadata": {},
   "outputs": [
    {
     "data": {
      "text/html": [
       "<div>\n",
       "<style scoped>\n",
       "    .dataframe tbody tr th:only-of-type {\n",
       "        vertical-align: middle;\n",
       "    }\n",
       "\n",
       "    .dataframe tbody tr th {\n",
       "        vertical-align: top;\n",
       "    }\n",
       "\n",
       "    .dataframe thead th {\n",
       "        text-align: right;\n",
       "    }\n",
       "</style>\n",
       "<table border=\"1\" class=\"dataframe\">\n",
       "  <thead>\n",
       "    <tr style=\"text-align: right;\">\n",
       "      <th></th>\n",
       "      <th>customer_city</th>\n",
       "      <th>Pourcentage</th>\n",
       "    </tr>\n",
       "  </thead>\n",
       "  <tbody>\n",
       "    <tr>\n",
       "      <th>sao paulo</th>\n",
       "      <td>15540.0</td>\n",
       "      <td>15.63</td>\n",
       "    </tr>\n",
       "    <tr>\n",
       "      <th>rio de janeiro</th>\n",
       "      <td>6882.0</td>\n",
       "      <td>6.92</td>\n",
       "    </tr>\n",
       "    <tr>\n",
       "      <th>belo horizonte</th>\n",
       "      <td>2773.0</td>\n",
       "      <td>2.79</td>\n",
       "    </tr>\n",
       "    <tr>\n",
       "      <th>brasilia</th>\n",
       "      <td>2131.0</td>\n",
       "      <td>2.14</td>\n",
       "    </tr>\n",
       "    <tr>\n",
       "      <th>curitiba</th>\n",
       "      <td>1521.0</td>\n",
       "      <td>1.53</td>\n",
       "    </tr>\n",
       "    <tr>\n",
       "      <th>campinas</th>\n",
       "      <td>1444.0</td>\n",
       "      <td>1.45</td>\n",
       "    </tr>\n",
       "    <tr>\n",
       "      <th>porto alegre</th>\n",
       "      <td>1379.0</td>\n",
       "      <td>1.39</td>\n",
       "    </tr>\n",
       "    <tr>\n",
       "      <th>salvador</th>\n",
       "      <td>1245.0</td>\n",
       "      <td>1.25</td>\n",
       "    </tr>\n",
       "    <tr>\n",
       "      <th>guarulhos</th>\n",
       "      <td>1189.0</td>\n",
       "      <td>1.20</td>\n",
       "    </tr>\n",
       "    <tr>\n",
       "      <th>sao bernardo do campo</th>\n",
       "      <td>938.0</td>\n",
       "      <td>0.94</td>\n",
       "    </tr>\n",
       "    <tr>\n",
       "      <th>niteroi</th>\n",
       "      <td>849.0</td>\n",
       "      <td>0.85</td>\n",
       "    </tr>\n",
       "    <tr>\n",
       "      <th>santo andre</th>\n",
       "      <td>797.0</td>\n",
       "      <td>0.80</td>\n",
       "    </tr>\n",
       "    <tr>\n",
       "      <th>osasco</th>\n",
       "      <td>746.0</td>\n",
       "      <td>0.75</td>\n",
       "    </tr>\n",
       "    <tr>\n",
       "      <th>santos</th>\n",
       "      <td>713.0</td>\n",
       "      <td>0.72</td>\n",
       "    </tr>\n",
       "    <tr>\n",
       "      <th>goiania</th>\n",
       "      <td>692.0</td>\n",
       "      <td>0.70</td>\n",
       "    </tr>\n",
       "  </tbody>\n",
       "</table>\n",
       "</div>"
      ],
      "text/plain": [
       "                       customer_city  Pourcentage\n",
       "sao paulo                    15540.0        15.63\n",
       "rio de janeiro                6882.0         6.92\n",
       "belo horizonte                2773.0         2.79\n",
       "brasilia                      2131.0         2.14\n",
       "curitiba                      1521.0         1.53\n",
       "campinas                      1444.0         1.45\n",
       "porto alegre                  1379.0         1.39\n",
       "salvador                      1245.0         1.25\n",
       "guarulhos                     1189.0         1.20\n",
       "sao bernardo do campo          938.0         0.94\n",
       "niteroi                        849.0         0.85\n",
       "santo andre                    797.0         0.80\n",
       "osasco                         746.0         0.75\n",
       "santos                         713.0         0.72\n",
       "goiania                        692.0         0.70"
      ]
     },
     "execution_count": 68,
     "metadata": {},
     "output_type": "execute_result"
    },
    {
     "data": {
      "image/png": "[encoded data removed]",
      "text/plain": [
       "<Figure size 432x288 with 1 Axes>"
      ]
     },
     "metadata": {
      "needs_background": "light"
     },
     "output_type": "display_data"
    }
   ],
   "source": [
    "#vérifions la distribution des clients par villes\n",
    "barplots_var_frequency(customers, 'customer_city')"
   ]
  },
  {
   "cell_type": "markdown",
   "id": "4018f2d2",
   "metadata": {},
   "source": [
    "--> on remarque que la majorité des clients (15,63 %) habitent à Sao Paulo. "
   ]
  },
  {
   "cell_type": "code",
   "execution_count": 69,
   "id": "93bcca09",
   "metadata": {},
   "outputs": [
    {
     "data": {
      "text/html": [
       "<div>\n",
       "<style scoped>\n",
       "    .dataframe tbody tr th:only-of-type {\n",
       "        vertical-align: middle;\n",
       "    }\n",
       "\n",
       "    .dataframe tbody tr th {\n",
       "        vertical-align: top;\n",
       "    }\n",
       "\n",
       "    .dataframe thead th {\n",
       "        text-align: right;\n",
       "    }\n",
       "</style>\n",
       "<table border=\"1\" class=\"dataframe\">\n",
       "  <thead>\n",
       "    <tr style=\"text-align: right;\">\n",
       "      <th></th>\n",
       "      <th>customer_state</th>\n",
       "      <th>Pourcentage</th>\n",
       "    </tr>\n",
       "  </thead>\n",
       "  <tbody>\n",
       "    <tr>\n",
       "      <th>SP</th>\n",
       "      <td>41746.0</td>\n",
       "      <td>41.98</td>\n",
       "    </tr>\n",
       "    <tr>\n",
       "      <th>RJ</th>\n",
       "      <td>12852.0</td>\n",
       "      <td>12.92</td>\n",
       "    </tr>\n",
       "    <tr>\n",
       "      <th>MG</th>\n",
       "      <td>11635.0</td>\n",
       "      <td>11.70</td>\n",
       "    </tr>\n",
       "    <tr>\n",
       "      <th>RS</th>\n",
       "      <td>5466.0</td>\n",
       "      <td>5.50</td>\n",
       "    </tr>\n",
       "    <tr>\n",
       "      <th>PR</th>\n",
       "      <td>5045.0</td>\n",
       "      <td>5.07</td>\n",
       "    </tr>\n",
       "    <tr>\n",
       "      <th>SC</th>\n",
       "      <td>3637.0</td>\n",
       "      <td>3.66</td>\n",
       "    </tr>\n",
       "    <tr>\n",
       "      <th>BA</th>\n",
       "      <td>3380.0</td>\n",
       "      <td>3.40</td>\n",
       "    </tr>\n",
       "    <tr>\n",
       "      <th>DF</th>\n",
       "      <td>2140.0</td>\n",
       "      <td>2.15</td>\n",
       "    </tr>\n",
       "    <tr>\n",
       "      <th>ES</th>\n",
       "      <td>2033.0</td>\n",
       "      <td>2.04</td>\n",
       "    </tr>\n",
       "    <tr>\n",
       "      <th>GO</th>\n",
       "      <td>2020.0</td>\n",
       "      <td>2.03</td>\n",
       "    </tr>\n",
       "    <tr>\n",
       "      <th>PE</th>\n",
       "      <td>1652.0</td>\n",
       "      <td>1.66</td>\n",
       "    </tr>\n",
       "    <tr>\n",
       "      <th>CE</th>\n",
       "      <td>1336.0</td>\n",
       "      <td>1.34</td>\n",
       "    </tr>\n",
       "    <tr>\n",
       "      <th>PA</th>\n",
       "      <td>975.0</td>\n",
       "      <td>0.98</td>\n",
       "    </tr>\n",
       "    <tr>\n",
       "      <th>MT</th>\n",
       "      <td>907.0</td>\n",
       "      <td>0.91</td>\n",
       "    </tr>\n",
       "    <tr>\n",
       "      <th>MA</th>\n",
       "      <td>747.0</td>\n",
       "      <td>0.75</td>\n",
       "    </tr>\n",
       "  </tbody>\n",
       "</table>\n",
       "</div>"
      ],
      "text/plain": [
       "    customer_state  Pourcentage\n",
       "SP         41746.0        41.98\n",
       "RJ         12852.0        12.92\n",
       "MG         11635.0        11.70\n",
       "RS          5466.0         5.50\n",
       "PR          5045.0         5.07\n",
       "SC          3637.0         3.66\n",
       "BA          3380.0         3.40\n",
       "DF          2140.0         2.15\n",
       "ES          2033.0         2.04\n",
       "GO          2020.0         2.03\n",
       "PE          1652.0         1.66\n",
       "CE          1336.0         1.34\n",
       "PA           975.0         0.98\n",
       "MT           907.0         0.91\n",
       "MA           747.0         0.75"
      ]
     },
     "execution_count": 69,
     "metadata": {},
     "output_type": "execute_result"
    },
    {
     "data": {
      "image/png": "[encoded data removed]",
      "text/plain": [
       "<Figure size 432x288 with 1 Axes>"
      ]
     },
     "metadata": {
      "needs_background": "light"
     },
     "output_type": "display_data"
    }
   ],
   "source": [
    "barplots_var_frequency(customers, 'customer_state')"
   ]
  },
  {
   "cell_type": "markdown",
   "id": "df8b01b7",
   "metadata": {},
   "source": [
    "--> On remarque que 41.98 % des états présents dans le dataframe sont SP.   \n",
    "### Sélection des variables utiles  \n",
    "\n",
    "Pour ce projet, je vais garder toutes les variables.\n"
   ]
  },
  {
   "cell_type": "markdown",
   "id": "7487286d",
   "metadata": {},
   "source": [
    "## 1.8. Payments /Payement"
   ]
  }
 ],
 "metadata": {
  "kernelspec": {
   "display_name": "Python 3",
   "language": "python",
   "name": "python3"
  },
  "language_info": {
   "codemirror_mode": {
    "name": "ipython",
    "version": 3
   },
   "file_extension": ".py",
   "mimetype": "text/x-python",
   "name": "python",
   "nbconvert_exporter": "python",
   "pygments_lexer": "ipython3",
   "version": "3.8.8"
  }
 },
 "nbformat": 4,
 "nbformat_minor": 5
}
